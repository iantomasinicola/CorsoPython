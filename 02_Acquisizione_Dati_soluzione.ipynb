{
 "cells": [
  {
   "cell_type": "code",
   "execution_count": 1,
   "metadata": {},
   "outputs": [],
   "source": [
    "import pandas as pd\n",
    "import numpy as np"
   ]
  },
  {
   "cell_type": "markdown",
   "metadata": {},
   "source": [
    "# Importare dati da un file .csv"
   ]
  },
  {
   "cell_type": "code",
   "execution_count": 2,
   "metadata": {},
   "outputs": [],
   "source": [
    "clienti = pd.read_csv(filepath_or_buffer = r\"C:\\Users\\ianto\\Desktop\\Corso python\\file\\Clienti.csv\",\n",
    "            sep = \";\",  #separtore del file, la virgola è il default\n",
    "            header = 0, #per indicare quale riga contiene contiene l'intestazione, \n",
    "                      #0 vuol dire che l'intestazione è nella prima riga\n",
    "                      #se non c'è intestazione utilizzare None\n",
    "            #names = [\"NumeroCliente\",\"IsActive\",\"Nome\",\"Cognome\",\"DataNascita\"] \n",
    "            # se non avessi l'intestazione assegnerei i nome con l'attributo names          \n",
    "            usecols = [\"NumeroCliente\",\"Nome\",\"DataNascita\",\"Regione\"],  #colonne che vogliamo importare           \n",
    "            #dtype = {\"NumeroCliente\":np.str}, #tipi delle colonne\n",
    "            #parse_dates=[\"DataNascita\"], #colonne da importare come date\n",
    "            #dayfirst=True, #MOLTO IMPORTANTE, per indicare che nelle date il giorno è indicato prima del mese\n",
    "            #decimal=\".\", #separatore dei decimali, il default è il punto\n",
    "            #index_col = \"NumeroCliente\", #impostare una colonna come indice\n",
    "            #nrows = 10 #numero di righe da importare,\n",
    "            #skiprows = 0, #per saltare alcune righe all'inizio del file\n",
    "            )\n"
   ]
  },
  {
   "cell_type": "code",
   "execution_count": 3,
   "metadata": {},
   "outputs": [
    {
     "data": {
      "text/plain": [
       "'C:\\\\Users\\\\ianto\\\\Desktop\\\\Corso python\\\\file\\\\Clienti.csv'"
      ]
     },
     "execution_count": 3,
     "metadata": {},
     "output_type": "execute_result"
    }
   ],
   "source": [
    "#NOTA INTERESSANTE: altro modo di comporre il percorso del file\n",
    "import os\n",
    "path = r\"C:\\Users\\ianto\\Desktop\\Corso python\\file\"\n",
    "os.path.join(path,\"Clienti.csv\")"
   ]
  },
  {
   "cell_type": "code",
   "execution_count": 4,
   "metadata": {},
   "outputs": [
    {
     "data": {
      "text/html": [
       "<div>\n",
       "<style scoped>\n",
       "    .dataframe tbody tr th:only-of-type {\n",
       "        vertical-align: middle;\n",
       "    }\n",
       "\n",
       "    .dataframe tbody tr th {\n",
       "        vertical-align: top;\n",
       "    }\n",
       "\n",
       "    .dataframe thead th {\n",
       "        text-align: right;\n",
       "    }\n",
       "</style>\n",
       "<table border=\"1\" class=\"dataframe\">\n",
       "  <thead>\n",
       "    <tr style=\"text-align: right;\">\n",
       "      <th></th>\n",
       "      <th>NumeroCliente</th>\n",
       "      <th>Nome</th>\n",
       "      <th>DataNascita</th>\n",
       "      <th>Regione</th>\n",
       "    </tr>\n",
       "  </thead>\n",
       "  <tbody>\n",
       "    <tr>\n",
       "      <th>0</th>\n",
       "      <td>1</td>\n",
       "      <td>Nicoletta</td>\n",
       "      <td>01/01/2010</td>\n",
       "      <td>NaN</td>\n",
       "    </tr>\n",
       "    <tr>\n",
       "      <th>1</th>\n",
       "      <td>2</td>\n",
       "      <td>Giovanni</td>\n",
       "      <td>01/03/1976</td>\n",
       "      <td>Lazio</td>\n",
       "    </tr>\n",
       "    <tr>\n",
       "      <th>2</th>\n",
       "      <td>3</td>\n",
       "      <td>Marco</td>\n",
       "      <td>01/04/1980</td>\n",
       "      <td>Lazio</td>\n",
       "    </tr>\n",
       "    <tr>\n",
       "      <th>3</th>\n",
       "      <td>4</td>\n",
       "      <td>Giovanna</td>\n",
       "      <td>01/05/1977</td>\n",
       "      <td>Lazio</td>\n",
       "    </tr>\n",
       "    <tr>\n",
       "      <th>4</th>\n",
       "      <td>5</td>\n",
       "      <td>Alice</td>\n",
       "      <td>01/06/1969</td>\n",
       "      <td>Sicilia</td>\n",
       "    </tr>\n",
       "  </tbody>\n",
       "</table>\n",
       "</div>"
      ],
      "text/plain": [
       "   NumeroCliente       Nome DataNascita  Regione\n",
       "0              1  Nicoletta  01/01/2010      NaN\n",
       "1              2   Giovanni  01/03/1976    Lazio\n",
       "2              3      Marco  01/04/1980    Lazio\n",
       "3              4   Giovanna  01/05/1977    Lazio\n",
       "4              5      Alice  01/06/1969  Sicilia"
      ]
     },
     "execution_count": 4,
     "metadata": {},
     "output_type": "execute_result"
    }
   ],
   "source": [
    "clienti.head(5)"
   ]
  },
  {
   "cell_type": "code",
   "execution_count": 5,
   "metadata": {},
   "outputs": [],
   "source": [
    "#Per visualizzare tutte le righe e tutte le colonne\n",
    "pd.set_option('display.max_columns', None)\n",
    "pd.set_option('display.max_rows', None)"
   ]
  },
  {
   "cell_type": "code",
   "execution_count": 6,
   "metadata": {},
   "outputs": [
    {
     "data": {
      "text/html": [
       "<div>\n",
       "<style scoped>\n",
       "    .dataframe tbody tr th:only-of-type {\n",
       "        vertical-align: middle;\n",
       "    }\n",
       "\n",
       "    .dataframe tbody tr th {\n",
       "        vertical-align: top;\n",
       "    }\n",
       "\n",
       "    .dataframe thead th {\n",
       "        text-align: right;\n",
       "    }\n",
       "</style>\n",
       "<table border=\"1\" class=\"dataframe\">\n",
       "  <thead>\n",
       "    <tr style=\"text-align: right;\">\n",
       "      <th></th>\n",
       "      <th>NumeroCliente</th>\n",
       "      <th>Nome</th>\n",
       "      <th>DataNascita</th>\n",
       "      <th>Regione</th>\n",
       "    </tr>\n",
       "  </thead>\n",
       "  <tbody>\n",
       "    <tr>\n",
       "      <th>0</th>\n",
       "      <td>1</td>\n",
       "      <td>Nicoletta</td>\n",
       "      <td>01/01/2010</td>\n",
       "      <td>NaN</td>\n",
       "    </tr>\n",
       "    <tr>\n",
       "      <th>1</th>\n",
       "      <td>2</td>\n",
       "      <td>Giovanni</td>\n",
       "      <td>01/03/1976</td>\n",
       "      <td>Lazio</td>\n",
       "    </tr>\n",
       "    <tr>\n",
       "      <th>2</th>\n",
       "      <td>3</td>\n",
       "      <td>Marco</td>\n",
       "      <td>01/04/1980</td>\n",
       "      <td>Lazio</td>\n",
       "    </tr>\n",
       "    <tr>\n",
       "      <th>3</th>\n",
       "      <td>4</td>\n",
       "      <td>Giovanna</td>\n",
       "      <td>01/05/1977</td>\n",
       "      <td>Lazio</td>\n",
       "    </tr>\n",
       "    <tr>\n",
       "      <th>4</th>\n",
       "      <td>5</td>\n",
       "      <td>Alice</td>\n",
       "      <td>01/06/1969</td>\n",
       "      <td>Sicilia</td>\n",
       "    </tr>\n",
       "  </tbody>\n",
       "</table>\n",
       "</div>"
      ],
      "text/plain": [
       "   NumeroCliente       Nome DataNascita  Regione\n",
       "0              1  Nicoletta  01/01/2010      NaN\n",
       "1              2   Giovanni  01/03/1976    Lazio\n",
       "2              3      Marco  01/04/1980    Lazio\n",
       "3              4   Giovanna  01/05/1977    Lazio\n",
       "4              5      Alice  01/06/1969  Sicilia"
      ]
     },
     "execution_count": 6,
     "metadata": {},
     "output_type": "execute_result"
    }
   ],
   "source": [
    "clienti.head(5)"
   ]
  },
  {
   "cell_type": "markdown",
   "metadata": {},
   "source": [
    "## Ricavare informazioni sul dataframe "
   ]
  },
  {
   "cell_type": "code",
   "execution_count": 7,
   "metadata": {},
   "outputs": [
    {
     "data": {
      "text/plain": [
       "pandas.core.frame.DataFrame"
      ]
     },
     "execution_count": 7,
     "metadata": {},
     "output_type": "execute_result"
    }
   ],
   "source": [
    "type(clienti)"
   ]
  },
  {
   "cell_type": "code",
   "execution_count": 8,
   "metadata": {},
   "outputs": [
    {
     "data": {
      "text/plain": [
       "NumeroCliente     int64\n",
       "Nome             object\n",
       "DataNascita      object\n",
       "Regione          object\n",
       "dtype: object"
      ]
     },
     "execution_count": 8,
     "metadata": {},
     "output_type": "execute_result"
    }
   ],
   "source": [
    "clienti.dtypes"
   ]
  },
  {
   "cell_type": "code",
   "execution_count": 9,
   "metadata": {},
   "outputs": [
    {
     "name": "stdout",
     "output_type": "stream",
     "text": [
      "<class 'pandas.core.frame.DataFrame'>\n",
      "RangeIndex: 39 entries, 0 to 38\n",
      "Data columns (total 4 columns):\n",
      " #   Column         Non-Null Count  Dtype \n",
      "---  ------         --------------  ----- \n",
      " 0   NumeroCliente  39 non-null     int64 \n",
      " 1   Nome           39 non-null     object\n",
      " 2   DataNascita    39 non-null     object\n",
      " 3   Regione        38 non-null     object\n",
      "dtypes: int64(1), object(3)\n",
      "memory usage: 1.3+ KB\n"
     ]
    }
   ],
   "source": [
    "clienti.info()  "
   ]
  },
  {
   "cell_type": "code",
   "execution_count": 10,
   "metadata": {},
   "outputs": [
    {
     "data": {
      "text/plain": [
       "Index(['NumeroCliente', 'Nome', 'DataNascita', 'Regione'], dtype='object')"
      ]
     },
     "execution_count": 10,
     "metadata": {},
     "output_type": "execute_result"
    }
   ],
   "source": [
    "clienti.columns"
   ]
  },
  {
   "cell_type": "code",
   "execution_count": 11,
   "metadata": {},
   "outputs": [
    {
     "data": {
      "text/plain": [
       "(39, 4)"
      ]
     },
     "execution_count": 11,
     "metadata": {},
     "output_type": "execute_result"
    }
   ],
   "source": [
    "clienti.shape"
   ]
  },
  {
   "cell_type": "code",
   "execution_count": 12,
   "metadata": {},
   "outputs": [
    {
     "data": {
      "text/plain": [
       "RangeIndex(start=0, stop=39, step=1)"
      ]
     },
     "execution_count": 12,
     "metadata": {},
     "output_type": "execute_result"
    }
   ],
   "source": [
    "clienti.index"
   ]
  },
  {
   "cell_type": "markdown",
   "metadata": {},
   "source": [
    "## Perché i type sono importanti"
   ]
  },
  {
   "cell_type": "markdown",
   "metadata": {},
   "source": [
    "La prossima istruzione genera un errore perché il metodo year può essere applicato solo a colonne di tipo datetime "
   ]
  },
  {
   "cell_type": "code",
   "execution_count": 13,
   "metadata": {},
   "outputs": [
    {
     "ename": "AttributeError",
     "evalue": "Can only use .dt accessor with datetimelike values",
     "output_type": "error",
     "traceback": [
      "\u001b[1;31m---------------------------------------------------------------------------\u001b[0m",
      "\u001b[1;31mAttributeError\u001b[0m                            Traceback (most recent call last)",
      "Cell \u001b[1;32mIn[13], line 1\u001b[0m\n\u001b[1;32m----> 1\u001b[0m \u001b[43mclienti\u001b[49m\u001b[43m[\u001b[49m\u001b[38;5;124;43m\"\u001b[39;49m\u001b[38;5;124;43mDataNascita\u001b[39;49m\u001b[38;5;124;43m\"\u001b[39;49m\u001b[43m]\u001b[49m\u001b[38;5;241;43m.\u001b[39;49m\u001b[43mdt\u001b[49m\u001b[38;5;241m.\u001b[39myear\n",
      "File \u001b[1;32m~\\AppData\\Local\\Programs\\Python\\Python313\\Lib\\site-packages\\pandas\\core\\generic.py:6299\u001b[0m, in \u001b[0;36mNDFrame.__getattr__\u001b[1;34m(self, name)\u001b[0m\n\u001b[0;32m   6292\u001b[0m \u001b[38;5;28;01mif\u001b[39;00m (\n\u001b[0;32m   6293\u001b[0m     name \u001b[38;5;129;01mnot\u001b[39;00m \u001b[38;5;129;01min\u001b[39;00m \u001b[38;5;28mself\u001b[39m\u001b[38;5;241m.\u001b[39m_internal_names_set\n\u001b[0;32m   6294\u001b[0m     \u001b[38;5;129;01mand\u001b[39;00m name \u001b[38;5;129;01mnot\u001b[39;00m \u001b[38;5;129;01min\u001b[39;00m \u001b[38;5;28mself\u001b[39m\u001b[38;5;241m.\u001b[39m_metadata\n\u001b[0;32m   6295\u001b[0m     \u001b[38;5;129;01mand\u001b[39;00m name \u001b[38;5;129;01mnot\u001b[39;00m \u001b[38;5;129;01min\u001b[39;00m \u001b[38;5;28mself\u001b[39m\u001b[38;5;241m.\u001b[39m_accessors\n\u001b[0;32m   6296\u001b[0m     \u001b[38;5;129;01mand\u001b[39;00m \u001b[38;5;28mself\u001b[39m\u001b[38;5;241m.\u001b[39m_info_axis\u001b[38;5;241m.\u001b[39m_can_hold_identifiers_and_holds_name(name)\n\u001b[0;32m   6297\u001b[0m ):\n\u001b[0;32m   6298\u001b[0m     \u001b[38;5;28;01mreturn\u001b[39;00m \u001b[38;5;28mself\u001b[39m[name]\n\u001b[1;32m-> 6299\u001b[0m \u001b[38;5;28;01mreturn\u001b[39;00m \u001b[38;5;28;43mobject\u001b[39;49m\u001b[38;5;241;43m.\u001b[39;49m\u001b[38;5;21;43m__getattribute__\u001b[39;49m\u001b[43m(\u001b[49m\u001b[38;5;28;43mself\u001b[39;49m\u001b[43m,\u001b[49m\u001b[43m \u001b[49m\u001b[43mname\u001b[49m\u001b[43m)\u001b[49m\n",
      "File \u001b[1;32m~\\AppData\\Local\\Programs\\Python\\Python313\\Lib\\site-packages\\pandas\\core\\accessor.py:224\u001b[0m, in \u001b[0;36mCachedAccessor.__get__\u001b[1;34m(self, obj, cls)\u001b[0m\n\u001b[0;32m    221\u001b[0m \u001b[38;5;28;01mif\u001b[39;00m obj \u001b[38;5;129;01mis\u001b[39;00m \u001b[38;5;28;01mNone\u001b[39;00m:\n\u001b[0;32m    222\u001b[0m     \u001b[38;5;66;03m# we're accessing the attribute of the class, i.e., Dataset.geo\u001b[39;00m\n\u001b[0;32m    223\u001b[0m     \u001b[38;5;28;01mreturn\u001b[39;00m \u001b[38;5;28mself\u001b[39m\u001b[38;5;241m.\u001b[39m_accessor\n\u001b[1;32m--> 224\u001b[0m accessor_obj \u001b[38;5;241m=\u001b[39m \u001b[38;5;28;43mself\u001b[39;49m\u001b[38;5;241;43m.\u001b[39;49m\u001b[43m_accessor\u001b[49m\u001b[43m(\u001b[49m\u001b[43mobj\u001b[49m\u001b[43m)\u001b[49m\n\u001b[0;32m    225\u001b[0m \u001b[38;5;66;03m# Replace the property with the accessor object. Inspired by:\u001b[39;00m\n\u001b[0;32m    226\u001b[0m \u001b[38;5;66;03m# https://www.pydanny.com/cached-property.html\u001b[39;00m\n\u001b[0;32m    227\u001b[0m \u001b[38;5;66;03m# We need to use object.__setattr__ because we overwrite __setattr__ on\u001b[39;00m\n\u001b[0;32m    228\u001b[0m \u001b[38;5;66;03m# NDFrame\u001b[39;00m\n\u001b[0;32m    229\u001b[0m \u001b[38;5;28mobject\u001b[39m\u001b[38;5;241m.\u001b[39m\u001b[38;5;21m__setattr__\u001b[39m(obj, \u001b[38;5;28mself\u001b[39m\u001b[38;5;241m.\u001b[39m_name, accessor_obj)\n",
      "File \u001b[1;32m~\\AppData\\Local\\Programs\\Python\\Python313\\Lib\\site-packages\\pandas\\core\\indexes\\accessors.py:643\u001b[0m, in \u001b[0;36mCombinedDatetimelikeProperties.__new__\u001b[1;34m(cls, data)\u001b[0m\n\u001b[0;32m    640\u001b[0m \u001b[38;5;28;01melif\u001b[39;00m \u001b[38;5;28misinstance\u001b[39m(data\u001b[38;5;241m.\u001b[39mdtype, PeriodDtype):\n\u001b[0;32m    641\u001b[0m     \u001b[38;5;28;01mreturn\u001b[39;00m PeriodProperties(data, orig)\n\u001b[1;32m--> 643\u001b[0m \u001b[38;5;28;01mraise\u001b[39;00m \u001b[38;5;167;01mAttributeError\u001b[39;00m(\u001b[38;5;124m\"\u001b[39m\u001b[38;5;124mCan only use .dt accessor with datetimelike values\u001b[39m\u001b[38;5;124m\"\u001b[39m)\n",
      "\u001b[1;31mAttributeError\u001b[0m: Can only use .dt accessor with datetimelike values"
     ]
    }
   ],
   "source": [
    "clienti[\"DataNascita\"].dt.year"
   ]
  },
  {
   "cell_type": "markdown",
   "metadata": {},
   "source": [
    "Occorre prima convertira la colonna nel tipo date"
   ]
  },
  {
   "cell_type": "code",
   "execution_count": null,
   "metadata": {},
   "outputs": [],
   "source": [
    "clienti['DataNascita'] =  clienti['DataNascita'].astype(\"datetime64[ns]\")"
   ]
  },
  {
   "cell_type": "code",
   "execution_count": null,
   "metadata": {},
   "outputs": [],
   "source": [
    "clienti.head(5)"
   ]
  },
  {
   "cell_type": "code",
   "execution_count": null,
   "metadata": {},
   "outputs": [],
   "source": [
    "clienti.dtypes"
   ]
  },
  {
   "cell_type": "code",
   "execution_count": 14,
   "metadata": {},
   "outputs": [
    {
     "data": {
      "text/html": [
       "<div>\n",
       "<style scoped>\n",
       "    .dataframe tbody tr th:only-of-type {\n",
       "        vertical-align: middle;\n",
       "    }\n",
       "\n",
       "    .dataframe tbody tr th {\n",
       "        vertical-align: top;\n",
       "    }\n",
       "\n",
       "    .dataframe thead th {\n",
       "        text-align: right;\n",
       "    }\n",
       "</style>\n",
       "<table border=\"1\" class=\"dataframe\">\n",
       "  <thead>\n",
       "    <tr style=\"text-align: right;\">\n",
       "      <th></th>\n",
       "      <th>NumeroCliente</th>\n",
       "      <th>Nome</th>\n",
       "      <th>DataNascita</th>\n",
       "      <th>Regione</th>\n",
       "    </tr>\n",
       "  </thead>\n",
       "  <tbody>\n",
       "    <tr>\n",
       "      <th>0</th>\n",
       "      <td>1</td>\n",
       "      <td>Nicoletta</td>\n",
       "      <td>01/01/2010</td>\n",
       "      <td>NaN</td>\n",
       "    </tr>\n",
       "    <tr>\n",
       "      <th>1</th>\n",
       "      <td>2</td>\n",
       "      <td>Giovanni</td>\n",
       "      <td>01/03/1976</td>\n",
       "      <td>Lazio</td>\n",
       "    </tr>\n",
       "    <tr>\n",
       "      <th>2</th>\n",
       "      <td>3</td>\n",
       "      <td>Marco</td>\n",
       "      <td>01/04/1980</td>\n",
       "      <td>Lazio</td>\n",
       "    </tr>\n",
       "    <tr>\n",
       "      <th>3</th>\n",
       "      <td>4</td>\n",
       "      <td>Giovanna</td>\n",
       "      <td>01/05/1977</td>\n",
       "      <td>Lazio</td>\n",
       "    </tr>\n",
       "    <tr>\n",
       "      <th>4</th>\n",
       "      <td>5</td>\n",
       "      <td>Alice</td>\n",
       "      <td>01/06/1969</td>\n",
       "      <td>Sicilia</td>\n",
       "    </tr>\n",
       "    <tr>\n",
       "      <th>5</th>\n",
       "      <td>6</td>\n",
       "      <td>Fabrizio</td>\n",
       "      <td>01/07/1996</td>\n",
       "      <td>Sicilia</td>\n",
       "    </tr>\n",
       "    <tr>\n",
       "      <th>6</th>\n",
       "      <td>7</td>\n",
       "      <td>Irene</td>\n",
       "      <td>01/08/1990</td>\n",
       "      <td>Sicilia</td>\n",
       "    </tr>\n",
       "    <tr>\n",
       "      <th>7</th>\n",
       "      <td>8</td>\n",
       "      <td>Maria</td>\n",
       "      <td>01/09/1999</td>\n",
       "      <td>Sicilia</td>\n",
       "    </tr>\n",
       "    <tr>\n",
       "      <th>8</th>\n",
       "      <td>9</td>\n",
       "      <td>Grazie</td>\n",
       "      <td>01/10/1990</td>\n",
       "      <td>Sicilia</td>\n",
       "    </tr>\n",
       "    <tr>\n",
       "      <th>9</th>\n",
       "      <td>10</td>\n",
       "      <td>Giovanni</td>\n",
       "      <td>01/11/1971</td>\n",
       "      <td>Toscana</td>\n",
       "    </tr>\n",
       "  </tbody>\n",
       "</table>\n",
       "</div>"
      ],
      "text/plain": [
       "   NumeroCliente       Nome DataNascita  Regione\n",
       "0              1  Nicoletta  01/01/2010      NaN\n",
       "1              2   Giovanni  01/03/1976    Lazio\n",
       "2              3      Marco  01/04/1980    Lazio\n",
       "3              4   Giovanna  01/05/1977    Lazio\n",
       "4              5      Alice  01/06/1969  Sicilia\n",
       "5              6   Fabrizio  01/07/1996  Sicilia\n",
       "6              7      Irene  01/08/1990  Sicilia\n",
       "7              8      Maria  01/09/1999  Sicilia\n",
       "8              9     Grazie  01/10/1990  Sicilia\n",
       "9             10   Giovanni  01/11/1971  Toscana"
      ]
     },
     "execution_count": 14,
     "metadata": {},
     "output_type": "execute_result"
    }
   ],
   "source": [
    "clienti.head(10)"
   ]
  },
  {
   "cell_type": "code",
   "execution_count": 15,
   "metadata": {},
   "outputs": [
    {
     "ename": "AttributeError",
     "evalue": "Can only use .dt accessor with datetimelike values",
     "output_type": "error",
     "traceback": [
      "\u001b[1;31m---------------------------------------------------------------------------\u001b[0m",
      "\u001b[1;31mAttributeError\u001b[0m                            Traceback (most recent call last)",
      "Cell \u001b[1;32mIn[15], line 1\u001b[0m\n\u001b[1;32m----> 1\u001b[0m \u001b[43mclienti\u001b[49m\u001b[43m[\u001b[49m\u001b[38;5;124;43m\"\u001b[39;49m\u001b[38;5;124;43mDataNascita\u001b[39;49m\u001b[38;5;124;43m\"\u001b[39;49m\u001b[43m]\u001b[49m\u001b[38;5;241;43m.\u001b[39;49m\u001b[43mdt\u001b[49m\u001b[38;5;241m.\u001b[39myear[\u001b[38;5;241m0\u001b[39m:\u001b[38;5;241m5\u001b[39m]\n",
      "File \u001b[1;32m~\\AppData\\Local\\Programs\\Python\\Python313\\Lib\\site-packages\\pandas\\core\\generic.py:6299\u001b[0m, in \u001b[0;36mNDFrame.__getattr__\u001b[1;34m(self, name)\u001b[0m\n\u001b[0;32m   6292\u001b[0m \u001b[38;5;28;01mif\u001b[39;00m (\n\u001b[0;32m   6293\u001b[0m     name \u001b[38;5;129;01mnot\u001b[39;00m \u001b[38;5;129;01min\u001b[39;00m \u001b[38;5;28mself\u001b[39m\u001b[38;5;241m.\u001b[39m_internal_names_set\n\u001b[0;32m   6294\u001b[0m     \u001b[38;5;129;01mand\u001b[39;00m name \u001b[38;5;129;01mnot\u001b[39;00m \u001b[38;5;129;01min\u001b[39;00m \u001b[38;5;28mself\u001b[39m\u001b[38;5;241m.\u001b[39m_metadata\n\u001b[0;32m   6295\u001b[0m     \u001b[38;5;129;01mand\u001b[39;00m name \u001b[38;5;129;01mnot\u001b[39;00m \u001b[38;5;129;01min\u001b[39;00m \u001b[38;5;28mself\u001b[39m\u001b[38;5;241m.\u001b[39m_accessors\n\u001b[0;32m   6296\u001b[0m     \u001b[38;5;129;01mand\u001b[39;00m \u001b[38;5;28mself\u001b[39m\u001b[38;5;241m.\u001b[39m_info_axis\u001b[38;5;241m.\u001b[39m_can_hold_identifiers_and_holds_name(name)\n\u001b[0;32m   6297\u001b[0m ):\n\u001b[0;32m   6298\u001b[0m     \u001b[38;5;28;01mreturn\u001b[39;00m \u001b[38;5;28mself\u001b[39m[name]\n\u001b[1;32m-> 6299\u001b[0m \u001b[38;5;28;01mreturn\u001b[39;00m \u001b[38;5;28;43mobject\u001b[39;49m\u001b[38;5;241;43m.\u001b[39;49m\u001b[38;5;21;43m__getattribute__\u001b[39;49m\u001b[43m(\u001b[49m\u001b[38;5;28;43mself\u001b[39;49m\u001b[43m,\u001b[49m\u001b[43m \u001b[49m\u001b[43mname\u001b[49m\u001b[43m)\u001b[49m\n",
      "File \u001b[1;32m~\\AppData\\Local\\Programs\\Python\\Python313\\Lib\\site-packages\\pandas\\core\\accessor.py:224\u001b[0m, in \u001b[0;36mCachedAccessor.__get__\u001b[1;34m(self, obj, cls)\u001b[0m\n\u001b[0;32m    221\u001b[0m \u001b[38;5;28;01mif\u001b[39;00m obj \u001b[38;5;129;01mis\u001b[39;00m \u001b[38;5;28;01mNone\u001b[39;00m:\n\u001b[0;32m    222\u001b[0m     \u001b[38;5;66;03m# we're accessing the attribute of the class, i.e., Dataset.geo\u001b[39;00m\n\u001b[0;32m    223\u001b[0m     \u001b[38;5;28;01mreturn\u001b[39;00m \u001b[38;5;28mself\u001b[39m\u001b[38;5;241m.\u001b[39m_accessor\n\u001b[1;32m--> 224\u001b[0m accessor_obj \u001b[38;5;241m=\u001b[39m \u001b[38;5;28;43mself\u001b[39;49m\u001b[38;5;241;43m.\u001b[39;49m\u001b[43m_accessor\u001b[49m\u001b[43m(\u001b[49m\u001b[43mobj\u001b[49m\u001b[43m)\u001b[49m\n\u001b[0;32m    225\u001b[0m \u001b[38;5;66;03m# Replace the property with the accessor object. Inspired by:\u001b[39;00m\n\u001b[0;32m    226\u001b[0m \u001b[38;5;66;03m# https://www.pydanny.com/cached-property.html\u001b[39;00m\n\u001b[0;32m    227\u001b[0m \u001b[38;5;66;03m# We need to use object.__setattr__ because we overwrite __setattr__ on\u001b[39;00m\n\u001b[0;32m    228\u001b[0m \u001b[38;5;66;03m# NDFrame\u001b[39;00m\n\u001b[0;32m    229\u001b[0m \u001b[38;5;28mobject\u001b[39m\u001b[38;5;241m.\u001b[39m\u001b[38;5;21m__setattr__\u001b[39m(obj, \u001b[38;5;28mself\u001b[39m\u001b[38;5;241m.\u001b[39m_name, accessor_obj)\n",
      "File \u001b[1;32m~\\AppData\\Local\\Programs\\Python\\Python313\\Lib\\site-packages\\pandas\\core\\indexes\\accessors.py:643\u001b[0m, in \u001b[0;36mCombinedDatetimelikeProperties.__new__\u001b[1;34m(cls, data)\u001b[0m\n\u001b[0;32m    640\u001b[0m \u001b[38;5;28;01melif\u001b[39;00m \u001b[38;5;28misinstance\u001b[39m(data\u001b[38;5;241m.\u001b[39mdtype, PeriodDtype):\n\u001b[0;32m    641\u001b[0m     \u001b[38;5;28;01mreturn\u001b[39;00m PeriodProperties(data, orig)\n\u001b[1;32m--> 643\u001b[0m \u001b[38;5;28;01mraise\u001b[39;00m \u001b[38;5;167;01mAttributeError\u001b[39;00m(\u001b[38;5;124m\"\u001b[39m\u001b[38;5;124mCan only use .dt accessor with datetimelike values\u001b[39m\u001b[38;5;124m\"\u001b[39m)\n",
      "\u001b[1;31mAttributeError\u001b[0m: Can only use .dt accessor with datetimelike values"
     ]
    }
   ],
   "source": [
    "clienti[\"DataNascita\"].dt.year[0:5]"
   ]
  },
  {
   "cell_type": "markdown",
   "metadata": {},
   "source": [
    "# Importare file da excel"
   ]
  },
  {
   "cell_type": "code",
   "execution_count": 16,
   "metadata": {},
   "outputs": [],
   "source": [
    "from_excel = pd.read_excel(io = r\"C:\\Users\\ianto\\Desktop\\Corso python\\file\\FattureDettaglio.xlsx\",\n",
    "                          sheet_name = 'Tabelle1',\n",
    "                           usecols = 'A:D,F',\n",
    "                           header = 0\n",
    "                          )"
   ]
  },
  {
   "cell_type": "code",
   "execution_count": 17,
   "metadata": {},
   "outputs": [
    {
     "data": {
      "text/plain": [
       "pandas.core.frame.DataFrame"
      ]
     },
     "execution_count": 17,
     "metadata": {},
     "output_type": "execute_result"
    }
   ],
   "source": [
    "type(from_excel)"
   ]
  },
  {
   "cell_type": "code",
   "execution_count": 18,
   "metadata": {},
   "outputs": [
    {
     "data": {
      "text/html": [
       "<div>\n",
       "<style scoped>\n",
       "    .dataframe tbody tr th:only-of-type {\n",
       "        vertical-align: middle;\n",
       "    }\n",
       "\n",
       "    .dataframe tbody tr th {\n",
       "        vertical-align: top;\n",
       "    }\n",
       "\n",
       "    .dataframe thead th {\n",
       "        text-align: right;\n",
       "    }\n",
       "</style>\n",
       "<table border=\"1\" class=\"dataframe\">\n",
       "  <thead>\n",
       "    <tr style=\"text-align: right;\">\n",
       "      <th></th>\n",
       "      <th>IdFattura</th>\n",
       "      <th>IdProdotto</th>\n",
       "      <th>PrezzoUnitario</th>\n",
       "      <th>Quantita</th>\n",
       "      <th>Omaggio</th>\n",
       "    </tr>\n",
       "  </thead>\n",
       "  <tbody>\n",
       "    <tr>\n",
       "      <th>0</th>\n",
       "      <td>1</td>\n",
       "      <td>4</td>\n",
       "      <td>28.8</td>\n",
       "      <td>28</td>\n",
       "      <td>0.0</td>\n",
       "    </tr>\n",
       "    <tr>\n",
       "      <th>1</th>\n",
       "      <td>1</td>\n",
       "      <td>13</td>\n",
       "      <td>38.0</td>\n",
       "      <td>24</td>\n",
       "      <td>0.0</td>\n",
       "    </tr>\n",
       "    <tr>\n",
       "      <th>2</th>\n",
       "      <td>2</td>\n",
       "      <td>1</td>\n",
       "      <td>7.3</td>\n",
       "      <td>18</td>\n",
       "      <td>0.0</td>\n",
       "    </tr>\n",
       "    <tr>\n",
       "      <th>3</th>\n",
       "      <td>2</td>\n",
       "      <td>3</td>\n",
       "      <td>14.4</td>\n",
       "      <td>4</td>\n",
       "      <td>0.0</td>\n",
       "    </tr>\n",
       "    <tr>\n",
       "      <th>4</th>\n",
       "      <td>2</td>\n",
       "      <td>9</td>\n",
       "      <td>12.0</td>\n",
       "      <td>43</td>\n",
       "      <td>0.0</td>\n",
       "    </tr>\n",
       "  </tbody>\n",
       "</table>\n",
       "</div>"
      ],
      "text/plain": [
       "   IdFattura  IdProdotto  PrezzoUnitario  Quantita  Omaggio\n",
       "0          1           4            28.8        28      0.0\n",
       "1          1          13            38.0        24      0.0\n",
       "2          2           1             7.3        18      0.0\n",
       "3          2           3            14.4         4      0.0\n",
       "4          2           9            12.0        43      0.0"
      ]
     },
     "execution_count": 18,
     "metadata": {},
     "output_type": "execute_result"
    }
   ],
   "source": [
    "from_excel.head(5)"
   ]
  },
  {
   "cell_type": "code",
   "execution_count": 19,
   "metadata": {},
   "outputs": [
    {
     "name": "stdout",
     "output_type": "stream",
     "text": [
      "<class 'pandas.core.frame.DataFrame'>\n",
      "RangeIndex: 904 entries, 0 to 903\n",
      "Data columns (total 5 columns):\n",
      " #   Column          Non-Null Count  Dtype  \n",
      "---  ------          --------------  -----  \n",
      " 0   IdFattura       904 non-null    int64  \n",
      " 1   IdProdotto      904 non-null    int64  \n",
      " 2   PrezzoUnitario  904 non-null    float64\n",
      " 3   Quantita        904 non-null    int64  \n",
      " 4   Omaggio         903 non-null    float64\n",
      "dtypes: float64(2), int64(3)\n",
      "memory usage: 35.4 KB\n"
     ]
    }
   ],
   "source": [
    "from_excel.info()"
   ]
  },
  {
   "cell_type": "markdown",
   "metadata": {},
   "source": [
    "# Importare file JSON"
   ]
  },
  {
   "cell_type": "code",
   "execution_count": 20,
   "metadata": {},
   "outputs": [
    {
     "data": {
      "text/html": [
       "<div>\n",
       "<style scoped>\n",
       "    .dataframe tbody tr th:only-of-type {\n",
       "        vertical-align: middle;\n",
       "    }\n",
       "\n",
       "    .dataframe tbody tr th {\n",
       "        vertical-align: top;\n",
       "    }\n",
       "\n",
       "    .dataframe thead th {\n",
       "        text-align: right;\n",
       "    }\n",
       "</style>\n",
       "<table border=\"1\" class=\"dataframe\">\n",
       "  <thead>\n",
       "    <tr style=\"text-align: right;\">\n",
       "      <th></th>\n",
       "      <th>IdCliente</th>\n",
       "      <th>IsActive</th>\n",
       "      <th>Nome</th>\n",
       "      <th>Cognome</th>\n",
       "      <th>DataNascita</th>\n",
       "      <th>Nazione</th>\n",
       "      <th>Cap</th>\n",
       "      <th>Telefono</th>\n",
       "      <th>Email</th>\n",
       "      <th>Regione</th>\n",
       "      <th>Fax</th>\n",
       "    </tr>\n",
       "  </thead>\n",
       "  <tbody>\n",
       "    <tr>\n",
       "      <th>0</th>\n",
       "      <td>1</td>\n",
       "      <td>True</td>\n",
       "      <td>Nicola</td>\n",
       "      <td>5CF71</td>\n",
       "      <td>2010-01-01</td>\n",
       "      <td>Francia</td>\n",
       "      <td>81622</td>\n",
       "      <td>39 320 3231</td>\n",
       "      <td>Nicola.5CF71@gmail.com</td>\n",
       "      <td>NaN</td>\n",
       "      <td>NaN</td>\n",
       "    </tr>\n",
       "    <tr>\n",
       "      <th>1</th>\n",
       "      <td>2</td>\n",
       "      <td>True</td>\n",
       "      <td>Giovanni</td>\n",
       "      <td>A83C2</td>\n",
       "      <td>1976-03-01</td>\n",
       "      <td>Italia</td>\n",
       "      <td>82786</td>\n",
       "      <td>328 32312</td>\n",
       "      <td>Giovanni.A83C2tiscali.com</td>\n",
       "      <td>Lazio</td>\n",
       "      <td>328 32312</td>\n",
       "    </tr>\n",
       "    <tr>\n",
       "      <th>2</th>\n",
       "      <td>3</td>\n",
       "      <td>True</td>\n",
       "      <td>Marco</td>\n",
       "      <td>7929A</td>\n",
       "      <td>1980-04-01</td>\n",
       "      <td>Italia</td>\n",
       "      <td>19341</td>\n",
       "      <td>+(39) 327 38312</td>\n",
       "      <td>Marco.7929A@gmail.com</td>\n",
       "      <td>Lazio</td>\n",
       "      <td>+(39) 327 38312</td>\n",
       "    </tr>\n",
       "    <tr>\n",
       "      <th>3</th>\n",
       "      <td>4</td>\n",
       "      <td>True</td>\n",
       "      <td>Giovanna</td>\n",
       "      <td>270BC</td>\n",
       "      <td>1977-05-01</td>\n",
       "      <td>Italia</td>\n",
       "      <td>64791</td>\n",
       "      <td>39 320 22312</td>\n",
       "      <td>Giovanna.270BCtiscali.com</td>\n",
       "      <td>Lazio</td>\n",
       "      <td>NaN</td>\n",
       "    </tr>\n",
       "    <tr>\n",
       "      <th>4</th>\n",
       "      <td>5</td>\n",
       "      <td>True</td>\n",
       "      <td>Alice</td>\n",
       "      <td>C5B4D</td>\n",
       "      <td>1969-06-01</td>\n",
       "      <td>Italia</td>\n",
       "      <td>99172</td>\n",
       "      <td>320 7231</td>\n",
       "      <td>Alice.C5B4D@gmail.com</td>\n",
       "      <td>Sicilia</td>\n",
       "      <td>320 7231</td>\n",
       "    </tr>\n",
       "  </tbody>\n",
       "</table>\n",
       "</div>"
      ],
      "text/plain": [
       "   IdCliente  IsActive      Nome Cognome DataNascita  Nazione    Cap  \\\n",
       "0          1      True    Nicola   5CF71  2010-01-01  Francia  81622   \n",
       "1          2      True  Giovanni   A83C2  1976-03-01   Italia  82786   \n",
       "2          3      True     Marco   7929A  1980-04-01   Italia  19341   \n",
       "3          4      True  Giovanna   270BC  1977-05-01   Italia  64791   \n",
       "4          5      True     Alice   C5B4D  1969-06-01   Italia  99172   \n",
       "\n",
       "          Telefono                      Email  Regione              Fax  \n",
       "0      39 320 3231     Nicola.5CF71@gmail.com      NaN              NaN  \n",
       "1        328 32312  Giovanni.A83C2tiscali.com    Lazio        328 32312  \n",
       "2  +(39) 327 38312      Marco.7929A@gmail.com    Lazio  +(39) 327 38312  \n",
       "3     39 320 22312  Giovanna.270BCtiscali.com    Lazio              NaN  \n",
       "4         320 7231      Alice.C5B4D@gmail.com  Sicilia         320 7231  "
      ]
     },
     "execution_count": 20,
     "metadata": {},
     "output_type": "execute_result"
    }
   ],
   "source": [
    "clienti_j = pd.read_json(path_or_buf = r\"C:\\Users\\ianto\\Desktop\\Corso python\\file\\Clienti.json\")\n",
    "clienti_j.head(5)"
   ]
  },
  {
   "cell_type": "code",
   "execution_count": 21,
   "metadata": {},
   "outputs": [
    {
     "data": {
      "text/html": [
       "<div>\n",
       "<style scoped>\n",
       "    .dataframe tbody tr th:only-of-type {\n",
       "        vertical-align: middle;\n",
       "    }\n",
       "\n",
       "    .dataframe tbody tr th {\n",
       "        vertical-align: top;\n",
       "    }\n",
       "\n",
       "    .dataframe thead th {\n",
       "        text-align: right;\n",
       "    }\n",
       "</style>\n",
       "<table border=\"1\" class=\"dataframe\">\n",
       "  <thead>\n",
       "    <tr style=\"text-align: right;\">\n",
       "      <th></th>\n",
       "      <th>Cognome</th>\n",
       "      <th>DataNascita</th>\n",
       "      <th>IdCliente</th>\n",
       "      <th>IsActive</th>\n",
       "      <th>Residenza</th>\n",
       "      <th>Contatti</th>\n",
       "      <th>Nome</th>\n",
       "    </tr>\n",
       "  </thead>\n",
       "  <tbody>\n",
       "    <tr>\n",
       "      <th>0</th>\n",
       "      <td>Rossi</td>\n",
       "      <td>1972-05-01</td>\n",
       "      <td>40</td>\n",
       "      <td>true</td>\n",
       "      <td>{'Nazione': 'Italia', 'Regione': 'Molise'}</td>\n",
       "      <td>[39 320 3231, 39 320 1123]</td>\n",
       "      <td>NaN</td>\n",
       "    </tr>\n",
       "    <tr>\n",
       "      <th>1</th>\n",
       "      <td>NaN</td>\n",
       "      <td>1980-05-01</td>\n",
       "      <td>41</td>\n",
       "      <td>true</td>\n",
       "      <td>{'Nazione': 'Italia', 'Regione': 'Lombardia'}</td>\n",
       "      <td>[39 320 3199, 39 320 8833]</td>\n",
       "      <td>Nicola</td>\n",
       "    </tr>\n",
       "  </tbody>\n",
       "</table>\n",
       "</div>"
      ],
      "text/plain": [
       "  Cognome DataNascita  IdCliente IsActive  \\\n",
       "0   Rossi  1972-05-01         40     true   \n",
       "1     NaN  1980-05-01         41     true   \n",
       "\n",
       "                                       Residenza                    Contatti  \\\n",
       "0     {'Nazione': 'Italia', 'Regione': 'Molise'}  [39 320 3231, 39 320 1123]   \n",
       "1  {'Nazione': 'Italia', 'Regione': 'Lombardia'}  [39 320 3199, 39 320 8833]   \n",
       "\n",
       "     Nome  \n",
       "0     NaN  \n",
       "1  Nicola  "
      ]
     },
     "execution_count": 21,
     "metadata": {},
     "output_type": "execute_result"
    }
   ],
   "source": [
    "clienti2_j = pd.read_json(path_or_buf = r\"C:\\Users\\ianto\\Desktop\\Corso python\\file\\Clienti2.json\")\n",
    "clienti2_j.head(5)"
   ]
  },
  {
   "cell_type": "code",
   "execution_count": 22,
   "metadata": {},
   "outputs": [
    {
     "data": {
      "text/plain": [
       "Cognome        object\n",
       "DataNascita    object\n",
       "IdCliente       int64\n",
       "IsActive       object\n",
       "Residenza      object\n",
       "Contatti       object\n",
       "Nome           object\n",
       "dtype: object"
      ]
     },
     "execution_count": 22,
     "metadata": {},
     "output_type": "execute_result"
    }
   ],
   "source": [
    "clienti2_j.dtypes"
   ]
  },
  {
   "cell_type": "code",
   "execution_count": 23,
   "metadata": {},
   "outputs": [],
   "source": [
    "import json\n",
    "\n",
    "with open(path + \"/Clienti2.json\", \"r\") as f:\n",
    "    data_json = json.load(f)\n",
    "clienti2_j = pd.json_normalize(data_json)"
   ]
  },
  {
   "cell_type": "code",
   "execution_count": 24,
   "metadata": {},
   "outputs": [
    {
     "data": {
      "text/html": [
       "<div>\n",
       "<style scoped>\n",
       "    .dataframe tbody tr th:only-of-type {\n",
       "        vertical-align: middle;\n",
       "    }\n",
       "\n",
       "    .dataframe tbody tr th {\n",
       "        vertical-align: top;\n",
       "    }\n",
       "\n",
       "    .dataframe thead th {\n",
       "        text-align: right;\n",
       "    }\n",
       "</style>\n",
       "<table border=\"1\" class=\"dataframe\">\n",
       "  <thead>\n",
       "    <tr style=\"text-align: right;\">\n",
       "      <th></th>\n",
       "      <th>Cognome</th>\n",
       "      <th>DataNascita</th>\n",
       "      <th>IdCliente</th>\n",
       "      <th>IsActive</th>\n",
       "      <th>Contatti</th>\n",
       "      <th>Residenza.Nazione</th>\n",
       "      <th>Residenza.Regione</th>\n",
       "      <th>Nome</th>\n",
       "    </tr>\n",
       "  </thead>\n",
       "  <tbody>\n",
       "    <tr>\n",
       "      <th>0</th>\n",
       "      <td>Rossi</td>\n",
       "      <td>1972-05-01</td>\n",
       "      <td>40</td>\n",
       "      <td>true</td>\n",
       "      <td>[39 320 3231, 39 320 1123]</td>\n",
       "      <td>Italia</td>\n",
       "      <td>Molise</td>\n",
       "      <td>NaN</td>\n",
       "    </tr>\n",
       "    <tr>\n",
       "      <th>1</th>\n",
       "      <td>NaN</td>\n",
       "      <td>1980-05-01</td>\n",
       "      <td>41</td>\n",
       "      <td>true</td>\n",
       "      <td>[39 320 3199, 39 320 8833]</td>\n",
       "      <td>Italia</td>\n",
       "      <td>Lombardia</td>\n",
       "      <td>Nicola</td>\n",
       "    </tr>\n",
       "  </tbody>\n",
       "</table>\n",
       "</div>"
      ],
      "text/plain": [
       "  Cognome DataNascita  IdCliente IsActive                    Contatti  \\\n",
       "0   Rossi  1972-05-01         40     true  [39 320 3231, 39 320 1123]   \n",
       "1     NaN  1980-05-01         41     true  [39 320 3199, 39 320 8833]   \n",
       "\n",
       "  Residenza.Nazione Residenza.Regione    Nome  \n",
       "0            Italia            Molise     NaN  \n",
       "1            Italia         Lombardia  Nicola  "
      ]
     },
     "execution_count": 24,
     "metadata": {},
     "output_type": "execute_result"
    }
   ],
   "source": [
    "clienti2_j.head(5)"
   ]
  },
  {
   "cell_type": "markdown",
   "metadata": {},
   "source": [
    "OSSERVAZIONE: con Python potremmo anche lavorare direttamente data_json"
   ]
  },
  {
   "cell_type": "code",
   "execution_count": 25,
   "metadata": {},
   "outputs": [
    {
     "data": {
      "text/plain": [
       "[{'Cognome': 'Rossi',\n",
       "  'DataNascita': '1972-05-01',\n",
       "  'IdCliente': 40,\n",
       "  'IsActive': 'true',\n",
       "  'Residenza': {'Nazione': 'Italia', 'Regione': 'Molise'},\n",
       "  'Contatti': ['39 320 3231', '39 320 1123']},\n",
       " {'Nome': 'Nicola',\n",
       "  'DataNascita': '1980-05-01',\n",
       "  'IdCliente': 41,\n",
       "  'IsActive': 'true',\n",
       "  'Residenza': {'Nazione': 'Italia', 'Regione': 'Lombardia'},\n",
       "  'Contatti': ['39 320 3199', '39 320 8833']}]"
      ]
     },
     "execution_count": 25,
     "metadata": {},
     "output_type": "execute_result"
    }
   ],
   "source": [
    "data_json"
   ]
  },
  {
   "cell_type": "code",
   "execution_count": 26,
   "metadata": {},
   "outputs": [
    {
     "data": {
      "text/plain": [
       "dict"
      ]
     },
     "execution_count": 26,
     "metadata": {},
     "output_type": "execute_result"
    }
   ],
   "source": [
    "type(data_json[0])"
   ]
  },
  {
   "cell_type": "markdown",
   "metadata": {},
   "source": [
    "# Importiamo un altro file csv più complesso"
   ]
  },
  {
   "cell_type": "code",
   "execution_count": 27,
   "metadata": {},
   "outputs": [],
   "source": [
    "fatture = pd.read_csv(filepath_or_buffer = r\"C:\\Users\\ianto\\Desktop\\Corso python\\file\\Fatture.csv\",\n",
    "            sep = \";\",  #separtore del file\n",
    "            header = None,\n",
    "            names = [\"NumeroFattura\",\"Tipologia\",\"Importo\",\"Iva\",\"IdCliente\",\"ResidenzaCliente\",\"DataFattura\",\"NumeroFornitore\"],\n",
    "            decimal = \",\"\n",
    "            )"
   ]
  },
  {
   "cell_type": "code",
   "execution_count": 28,
   "metadata": {},
   "outputs": [
    {
     "name": "stdout",
     "output_type": "stream",
     "text": [
      "<class 'pandas.core.frame.DataFrame'>\n",
      "RangeIndex: 18 entries, 0 to 17\n",
      "Data columns (total 8 columns):\n",
      " #   Column            Non-Null Count  Dtype  \n",
      "---  ------            --------------  -----  \n",
      " 0   NumeroFattura     18 non-null     int64  \n",
      " 1   Tipologia         18 non-null     object \n",
      " 2   Importo           18 non-null     float64\n",
      " 3   Iva               17 non-null     float64\n",
      " 4   IdCliente         18 non-null     int64  \n",
      " 5   ResidenzaCliente  18 non-null     object \n",
      " 6   DataFattura       18 non-null     object \n",
      " 7   NumeroFornitore   16 non-null     float64\n",
      "dtypes: float64(3), int64(2), object(3)\n",
      "memory usage: 1.3+ KB\n"
     ]
    }
   ],
   "source": [
    "fatture.info()"
   ]
  },
  {
   "cell_type": "markdown",
   "metadata": {},
   "source": [
    "Creiamo una nuova colonna DataFattura2 convertendo DataFattura con il metodo astype"
   ]
  },
  {
   "cell_type": "code",
   "execution_count": 29,
   "metadata": {
    "scrolled": true
   },
   "outputs": [],
   "source": [
    "fatture['DataFattura2'] =  fatture['DataFattura'].astype(\"datetime64[ns]\")"
   ]
  },
  {
   "cell_type": "markdown",
   "metadata": {},
   "source": [
    "La conversione è errata, la data 01/03/2017 è diventata 2017-01-03"
   ]
  },
  {
   "cell_type": "code",
   "execution_count": 30,
   "metadata": {},
   "outputs": [
    {
     "data": {
      "text/html": [
       "<div>\n",
       "<style scoped>\n",
       "    .dataframe tbody tr th:only-of-type {\n",
       "        vertical-align: middle;\n",
       "    }\n",
       "\n",
       "    .dataframe tbody tr th {\n",
       "        vertical-align: top;\n",
       "    }\n",
       "\n",
       "    .dataframe thead th {\n",
       "        text-align: right;\n",
       "    }\n",
       "</style>\n",
       "<table border=\"1\" class=\"dataframe\">\n",
       "  <thead>\n",
       "    <tr style=\"text-align: right;\">\n",
       "      <th></th>\n",
       "      <th>NumeroFattura</th>\n",
       "      <th>Tipologia</th>\n",
       "      <th>Importo</th>\n",
       "      <th>Iva</th>\n",
       "      <th>IdCliente</th>\n",
       "      <th>ResidenzaCliente</th>\n",
       "      <th>DataFattura</th>\n",
       "      <th>NumeroFornitore</th>\n",
       "      <th>DataFattura2</th>\n",
       "    </tr>\n",
       "  </thead>\n",
       "  <tbody>\n",
       "    <tr>\n",
       "      <th>0</th>\n",
       "      <td>1</td>\n",
       "      <td>A</td>\n",
       "      <td>1120.0</td>\n",
       "      <td>20.0</td>\n",
       "      <td>1</td>\n",
       "      <td>Molise</td>\n",
       "      <td>01/01/2018</td>\n",
       "      <td>1.0</td>\n",
       "      <td>2018-01-01</td>\n",
       "    </tr>\n",
       "    <tr>\n",
       "      <th>1</th>\n",
       "      <td>2</td>\n",
       "      <td>V</td>\n",
       "      <td>32.0</td>\n",
       "      <td>20.0</td>\n",
       "      <td>2</td>\n",
       "      <td>Puglia</td>\n",
       "      <td>01/03/2017</td>\n",
       "      <td>1.0</td>\n",
       "      <td>2017-01-03</td>\n",
       "    </tr>\n",
       "    <tr>\n",
       "      <th>2</th>\n",
       "      <td>3</td>\n",
       "      <td>A</td>\n",
       "      <td>45.0</td>\n",
       "      <td>20.0</td>\n",
       "      <td>3</td>\n",
       "      <td>Lombardia</td>\n",
       "      <td>01/06/2017</td>\n",
       "      <td>1.0</td>\n",
       "      <td>2017-01-06</td>\n",
       "    </tr>\n",
       "    <tr>\n",
       "      <th>3</th>\n",
       "      <td>4</td>\n",
       "      <td>V</td>\n",
       "      <td>64.0</td>\n",
       "      <td>20.0</td>\n",
       "      <td>3</td>\n",
       "      <td>Lombardia</td>\n",
       "      <td>30/01/2019</td>\n",
       "      <td>1.0</td>\n",
       "      <td>2019-01-30</td>\n",
       "    </tr>\n",
       "    <tr>\n",
       "      <th>4</th>\n",
       "      <td>5</td>\n",
       "      <td>A</td>\n",
       "      <td>12.0</td>\n",
       "      <td>20.0</td>\n",
       "      <td>5</td>\n",
       "      <td>Umbria</td>\n",
       "      <td>01/01/2018</td>\n",
       "      <td>1.0</td>\n",
       "      <td>2018-01-01</td>\n",
       "    </tr>\n",
       "  </tbody>\n",
       "</table>\n",
       "</div>"
      ],
      "text/plain": [
       "   NumeroFattura Tipologia  Importo   Iva  IdCliente ResidenzaCliente  \\\n",
       "0              1         A   1120.0  20.0          1           Molise   \n",
       "1              2         V     32.0  20.0          2           Puglia   \n",
       "2              3         A     45.0  20.0          3        Lombardia   \n",
       "3              4         V     64.0  20.0          3        Lombardia   \n",
       "4              5         A     12.0  20.0          5           Umbria   \n",
       "\n",
       "  DataFattura  NumeroFornitore DataFattura2  \n",
       "0  01/01/2018              1.0   2018-01-01  \n",
       "1  01/03/2017              1.0   2017-01-03  \n",
       "2  01/06/2017              1.0   2017-01-06  \n",
       "3  30/01/2019              1.0   2019-01-30  \n",
       "4  01/01/2018              1.0   2018-01-01  "
      ]
     },
     "execution_count": 30,
     "metadata": {},
     "output_type": "execute_result"
    }
   ],
   "source": [
    "fatture.head(5)"
   ]
  },
  {
   "cell_type": "markdown",
   "metadata": {},
   "source": [
    "Dobbiamo specificare il formato di partenza tramite l'argomento format del metodo di pandas to_datetime"
   ]
  },
  {
   "cell_type": "code",
   "execution_count": 31,
   "metadata": {},
   "outputs": [],
   "source": [
    "fatture['DataFattura2'] =  pd.to_datetime(fatture['DataFattura'],\n",
    "                                format=\"%d/%m/%Y\",\n",
    "                                )"
   ]
  },
  {
   "cell_type": "code",
   "execution_count": 32,
   "metadata": {},
   "outputs": [
    {
     "data": {
      "text/html": [
       "<div>\n",
       "<style scoped>\n",
       "    .dataframe tbody tr th:only-of-type {\n",
       "        vertical-align: middle;\n",
       "    }\n",
       "\n",
       "    .dataframe tbody tr th {\n",
       "        vertical-align: top;\n",
       "    }\n",
       "\n",
       "    .dataframe thead th {\n",
       "        text-align: right;\n",
       "    }\n",
       "</style>\n",
       "<table border=\"1\" class=\"dataframe\">\n",
       "  <thead>\n",
       "    <tr style=\"text-align: right;\">\n",
       "      <th></th>\n",
       "      <th>NumeroFattura</th>\n",
       "      <th>Tipologia</th>\n",
       "      <th>Importo</th>\n",
       "      <th>Iva</th>\n",
       "      <th>IdCliente</th>\n",
       "      <th>ResidenzaCliente</th>\n",
       "      <th>DataFattura</th>\n",
       "      <th>NumeroFornitore</th>\n",
       "      <th>DataFattura2</th>\n",
       "    </tr>\n",
       "  </thead>\n",
       "  <tbody>\n",
       "    <tr>\n",
       "      <th>0</th>\n",
       "      <td>1</td>\n",
       "      <td>A</td>\n",
       "      <td>1120.0</td>\n",
       "      <td>20.0</td>\n",
       "      <td>1</td>\n",
       "      <td>Molise</td>\n",
       "      <td>01/01/2018</td>\n",
       "      <td>1.0</td>\n",
       "      <td>2018-01-01</td>\n",
       "    </tr>\n",
       "    <tr>\n",
       "      <th>1</th>\n",
       "      <td>2</td>\n",
       "      <td>V</td>\n",
       "      <td>32.0</td>\n",
       "      <td>20.0</td>\n",
       "      <td>2</td>\n",
       "      <td>Puglia</td>\n",
       "      <td>01/03/2017</td>\n",
       "      <td>1.0</td>\n",
       "      <td>2017-03-01</td>\n",
       "    </tr>\n",
       "    <tr>\n",
       "      <th>2</th>\n",
       "      <td>3</td>\n",
       "      <td>A</td>\n",
       "      <td>45.0</td>\n",
       "      <td>20.0</td>\n",
       "      <td>3</td>\n",
       "      <td>Lombardia</td>\n",
       "      <td>01/06/2017</td>\n",
       "      <td>1.0</td>\n",
       "      <td>2017-06-01</td>\n",
       "    </tr>\n",
       "    <tr>\n",
       "      <th>3</th>\n",
       "      <td>4</td>\n",
       "      <td>V</td>\n",
       "      <td>64.0</td>\n",
       "      <td>20.0</td>\n",
       "      <td>3</td>\n",
       "      <td>Lombardia</td>\n",
       "      <td>30/01/2019</td>\n",
       "      <td>1.0</td>\n",
       "      <td>2019-01-30</td>\n",
       "    </tr>\n",
       "    <tr>\n",
       "      <th>4</th>\n",
       "      <td>5</td>\n",
       "      <td>A</td>\n",
       "      <td>12.0</td>\n",
       "      <td>20.0</td>\n",
       "      <td>5</td>\n",
       "      <td>Umbria</td>\n",
       "      <td>01/01/2018</td>\n",
       "      <td>1.0</td>\n",
       "      <td>2018-01-01</td>\n",
       "    </tr>\n",
       "  </tbody>\n",
       "</table>\n",
       "</div>"
      ],
      "text/plain": [
       "   NumeroFattura Tipologia  Importo   Iva  IdCliente ResidenzaCliente  \\\n",
       "0              1         A   1120.0  20.0          1           Molise   \n",
       "1              2         V     32.0  20.0          2           Puglia   \n",
       "2              3         A     45.0  20.0          3        Lombardia   \n",
       "3              4         V     64.0  20.0          3        Lombardia   \n",
       "4              5         A     12.0  20.0          5           Umbria   \n",
       "\n",
       "  DataFattura  NumeroFornitore DataFattura2  \n",
       "0  01/01/2018              1.0   2018-01-01  \n",
       "1  01/03/2017              1.0   2017-03-01  \n",
       "2  01/06/2017              1.0   2017-06-01  \n",
       "3  30/01/2019              1.0   2019-01-30  \n",
       "4  01/01/2018              1.0   2018-01-01  "
      ]
     },
     "execution_count": 32,
     "metadata": {},
     "output_type": "execute_result"
    }
   ],
   "source": [
    "fatture.head(5)"
   ]
  },
  {
   "cell_type": "markdown",
   "metadata": {},
   "source": [
    "ATTENZIONE! Il prossimo blocco di codice importa le date in modo errato"
   ]
  },
  {
   "cell_type": "code",
   "execution_count": 33,
   "metadata": {},
   "outputs": [
    {
     "data": {
      "text/html": [
       "<div>\n",
       "<style scoped>\n",
       "    .dataframe tbody tr th:only-of-type {\n",
       "        vertical-align: middle;\n",
       "    }\n",
       "\n",
       "    .dataframe tbody tr th {\n",
       "        vertical-align: top;\n",
       "    }\n",
       "\n",
       "    .dataframe thead th {\n",
       "        text-align: right;\n",
       "    }\n",
       "</style>\n",
       "<table border=\"1\" class=\"dataframe\">\n",
       "  <thead>\n",
       "    <tr style=\"text-align: right;\">\n",
       "      <th></th>\n",
       "      <th>NumeroFattura</th>\n",
       "      <th>Tipologia</th>\n",
       "      <th>Importo</th>\n",
       "      <th>Iva</th>\n",
       "      <th>IdCliente</th>\n",
       "      <th>ResidenzaCliente</th>\n",
       "      <th>DataFattura</th>\n",
       "      <th>NumeroFornitore</th>\n",
       "    </tr>\n",
       "  </thead>\n",
       "  <tbody>\n",
       "    <tr>\n",
       "      <th>0</th>\n",
       "      <td>1</td>\n",
       "      <td>A</td>\n",
       "      <td>1120.0</td>\n",
       "      <td>20.0</td>\n",
       "      <td>1</td>\n",
       "      <td>Molise</td>\n",
       "      <td>01/01/2018</td>\n",
       "      <td>1.0</td>\n",
       "    </tr>\n",
       "    <tr>\n",
       "      <th>1</th>\n",
       "      <td>2</td>\n",
       "      <td>V</td>\n",
       "      <td>32.0</td>\n",
       "      <td>20.0</td>\n",
       "      <td>2</td>\n",
       "      <td>Puglia</td>\n",
       "      <td>01/03/2017</td>\n",
       "      <td>1.0</td>\n",
       "    </tr>\n",
       "    <tr>\n",
       "      <th>2</th>\n",
       "      <td>3</td>\n",
       "      <td>A</td>\n",
       "      <td>45.0</td>\n",
       "      <td>20.0</td>\n",
       "      <td>3</td>\n",
       "      <td>Lombardia</td>\n",
       "      <td>01/06/2017</td>\n",
       "      <td>1.0</td>\n",
       "    </tr>\n",
       "    <tr>\n",
       "      <th>3</th>\n",
       "      <td>4</td>\n",
       "      <td>V</td>\n",
       "      <td>64.0</td>\n",
       "      <td>20.0</td>\n",
       "      <td>3</td>\n",
       "      <td>Lombardia</td>\n",
       "      <td>30/01/2019</td>\n",
       "      <td>1.0</td>\n",
       "    </tr>\n",
       "    <tr>\n",
       "      <th>4</th>\n",
       "      <td>5</td>\n",
       "      <td>A</td>\n",
       "      <td>12.0</td>\n",
       "      <td>20.0</td>\n",
       "      <td>5</td>\n",
       "      <td>Umbria</td>\n",
       "      <td>01/01/2018</td>\n",
       "      <td>1.0</td>\n",
       "    </tr>\n",
       "  </tbody>\n",
       "</table>\n",
       "</div>"
      ],
      "text/plain": [
       "   NumeroFattura Tipologia  Importo   Iva  IdCliente ResidenzaCliente  \\\n",
       "0              1         A   1120.0  20.0          1           Molise   \n",
       "1              2         V     32.0  20.0          2           Puglia   \n",
       "2              3         A     45.0  20.0          3        Lombardia   \n",
       "3              4         V     64.0  20.0          3        Lombardia   \n",
       "4              5         A     12.0  20.0          5           Umbria   \n",
       "\n",
       "  DataFattura  NumeroFornitore  \n",
       "0  01/01/2018              1.0  \n",
       "1  01/03/2017              1.0  \n",
       "2  01/06/2017              1.0  \n",
       "3  30/01/2019              1.0  \n",
       "4  01/01/2018              1.0  "
      ]
     },
     "execution_count": 33,
     "metadata": {},
     "output_type": "execute_result"
    }
   ],
   "source": [
    "fatture2 = pd.read_csv(filepath_or_buffer = r\"C:\\Users\\ianto\\Desktop\\Corso python\\file\\Fatture.csv\",\n",
    "            sep = \";\",  #separtore del file\n",
    "            header = None,\n",
    "            names = [\"NumeroFattura\",\"Tipologia\",\"Importo\",\"Iva\",\"IdCliente\",\"ResidenzaCliente\",\"DataFattura\",\"NumeroFornitore\"],\n",
    "            decimal = \",\",\n",
    "            parse_dates = [\"DataFattura\"]\n",
    "            )\n",
    "fatture2.head(5)"
   ]
  },
  {
   "cell_type": "markdown",
   "metadata": {},
   "source": [
    "La prossima conversione fallisce perché non posso convertire in int64 una colonna che contiene dei null"
   ]
  },
  {
   "cell_type": "code",
   "execution_count": 34,
   "metadata": {},
   "outputs": [],
   "source": [
    "fatture['NumeroFornitore'] = fatture['NumeroFornitore'].fillna(-1).astype('int64')"
   ]
  },
  {
   "cell_type": "markdown",
   "metadata": {},
   "source": [
    "Per acquisire i null come intero devo usare il tipo Int64"
   ]
  },
  {
   "cell_type": "code",
   "execution_count": 35,
   "metadata": {},
   "outputs": [],
   "source": [
    "fatture['NumeroFornitore'] = fatture['NumeroFornitore'].astype('Int64')"
   ]
  },
  {
   "cell_type": "markdown",
   "metadata": {},
   "source": [
    "Oppure sostituire prima i null con un altro valore"
   ]
  },
  {
   "cell_type": "code",
   "execution_count": 36,
   "metadata": {},
   "outputs": [],
   "source": [
    "fatture['Iva'] = fatture['Iva'].fillna(0).astype(np.int64)"
   ]
  },
  {
   "cell_type": "code",
   "execution_count": 37,
   "metadata": {},
   "outputs": [
    {
     "name": "stdout",
     "output_type": "stream",
     "text": [
      "<class 'pandas.core.frame.DataFrame'>\n",
      "RangeIndex: 18 entries, 0 to 17\n",
      "Data columns (total 9 columns):\n",
      " #   Column            Non-Null Count  Dtype         \n",
      "---  ------            --------------  -----         \n",
      " 0   NumeroFattura     18 non-null     int64         \n",
      " 1   Tipologia         18 non-null     object        \n",
      " 2   Importo           18 non-null     float64       \n",
      " 3   Iva               18 non-null     int64         \n",
      " 4   IdCliente         18 non-null     int64         \n",
      " 5   ResidenzaCliente  18 non-null     object        \n",
      " 6   DataFattura       18 non-null     object        \n",
      " 7   NumeroFornitore   18 non-null     Int64         \n",
      " 8   DataFattura2      18 non-null     datetime64[ns]\n",
      "dtypes: Int64(1), datetime64[ns](1), float64(1), int64(3), object(3)\n",
      "memory usage: 1.4+ KB\n"
     ]
    }
   ],
   "source": [
    "fatture.info()"
   ]
  },
  {
   "cell_type": "code",
   "execution_count": 38,
   "metadata": {},
   "outputs": [
    {
     "data": {
      "text/html": [
       "<div>\n",
       "<style scoped>\n",
       "    .dataframe tbody tr th:only-of-type {\n",
       "        vertical-align: middle;\n",
       "    }\n",
       "\n",
       "    .dataframe tbody tr th {\n",
       "        vertical-align: top;\n",
       "    }\n",
       "\n",
       "    .dataframe thead th {\n",
       "        text-align: right;\n",
       "    }\n",
       "</style>\n",
       "<table border=\"1\" class=\"dataframe\">\n",
       "  <thead>\n",
       "    <tr style=\"text-align: right;\">\n",
       "      <th></th>\n",
       "      <th>NumeroFattura</th>\n",
       "      <th>Tipologia</th>\n",
       "      <th>Importo</th>\n",
       "      <th>Iva</th>\n",
       "      <th>IdCliente</th>\n",
       "      <th>ResidenzaCliente</th>\n",
       "      <th>DataFattura</th>\n",
       "      <th>NumeroFornitore</th>\n",
       "      <th>DataFattura2</th>\n",
       "    </tr>\n",
       "  </thead>\n",
       "  <tbody>\n",
       "    <tr>\n",
       "      <th>0</th>\n",
       "      <td>1</td>\n",
       "      <td>A</td>\n",
       "      <td>1120.0</td>\n",
       "      <td>20</td>\n",
       "      <td>1</td>\n",
       "      <td>Molise</td>\n",
       "      <td>01/01/2018</td>\n",
       "      <td>1</td>\n",
       "      <td>2018-01-01</td>\n",
       "    </tr>\n",
       "    <tr>\n",
       "      <th>1</th>\n",
       "      <td>2</td>\n",
       "      <td>V</td>\n",
       "      <td>32.0</td>\n",
       "      <td>20</td>\n",
       "      <td>2</td>\n",
       "      <td>Puglia</td>\n",
       "      <td>01/03/2017</td>\n",
       "      <td>1</td>\n",
       "      <td>2017-03-01</td>\n",
       "    </tr>\n",
       "    <tr>\n",
       "      <th>2</th>\n",
       "      <td>3</td>\n",
       "      <td>A</td>\n",
       "      <td>45.0</td>\n",
       "      <td>20</td>\n",
       "      <td>3</td>\n",
       "      <td>Lombardia</td>\n",
       "      <td>01/06/2017</td>\n",
       "      <td>1</td>\n",
       "      <td>2017-06-01</td>\n",
       "    </tr>\n",
       "    <tr>\n",
       "      <th>3</th>\n",
       "      <td>4</td>\n",
       "      <td>V</td>\n",
       "      <td>64.0</td>\n",
       "      <td>20</td>\n",
       "      <td>3</td>\n",
       "      <td>Lombardia</td>\n",
       "      <td>30/01/2019</td>\n",
       "      <td>1</td>\n",
       "      <td>2019-01-30</td>\n",
       "    </tr>\n",
       "    <tr>\n",
       "      <th>4</th>\n",
       "      <td>5</td>\n",
       "      <td>A</td>\n",
       "      <td>12.0</td>\n",
       "      <td>20</td>\n",
       "      <td>5</td>\n",
       "      <td>Umbria</td>\n",
       "      <td>01/01/2018</td>\n",
       "      <td>1</td>\n",
       "      <td>2018-01-01</td>\n",
       "    </tr>\n",
       "  </tbody>\n",
       "</table>\n",
       "</div>"
      ],
      "text/plain": [
       "   NumeroFattura Tipologia  Importo  Iva  IdCliente ResidenzaCliente  \\\n",
       "0              1         A   1120.0   20          1           Molise   \n",
       "1              2         V     32.0   20          2           Puglia   \n",
       "2              3         A     45.0   20          3        Lombardia   \n",
       "3              4         V     64.0   20          3        Lombardia   \n",
       "4              5         A     12.0   20          5           Umbria   \n",
       "\n",
       "  DataFattura  NumeroFornitore DataFattura2  \n",
       "0  01/01/2018                1   2018-01-01  \n",
       "1  01/03/2017                1   2017-03-01  \n",
       "2  01/06/2017                1   2017-06-01  \n",
       "3  30/01/2019                1   2019-01-30  \n",
       "4  01/01/2018                1   2018-01-01  "
      ]
     },
     "execution_count": 38,
     "metadata": {},
     "output_type": "execute_result"
    }
   ],
   "source": [
    "fatture.head(5)"
   ]
  },
  {
   "cell_type": "markdown",
   "metadata": {},
   "source": [
    "## Attenzione alla conversione in stringa"
   ]
  },
  {
   "cell_type": "code",
   "execution_count": 39,
   "metadata": {},
   "outputs": [],
   "source": [
    "fatture2 = fatture"
   ]
  },
  {
   "cell_type": "code",
   "execution_count": 40,
   "metadata": {},
   "outputs": [
    {
     "name": "stdout",
     "output_type": "stream",
     "text": [
      "<class 'pandas.core.frame.DataFrame'>\n",
      "RangeIndex: 18 entries, 0 to 17\n",
      "Data columns (total 9 columns):\n",
      " #   Column            Non-Null Count  Dtype         \n",
      "---  ------            --------------  -----         \n",
      " 0   NumeroFattura     18 non-null     int64         \n",
      " 1   Tipologia         18 non-null     object        \n",
      " 2   Importo           18 non-null     float64       \n",
      " 3   Iva               18 non-null     int64         \n",
      " 4   IdCliente         18 non-null     int64         \n",
      " 5   ResidenzaCliente  18 non-null     object        \n",
      " 6   DataFattura       18 non-null     object        \n",
      " 7   NumeroFornitore   18 non-null     Int64         \n",
      " 8   DataFattura2      18 non-null     datetime64[ns]\n",
      "dtypes: Int64(1), datetime64[ns](1), float64(1), int64(3), object(3)\n",
      "memory usage: 1.4+ KB\n"
     ]
    }
   ],
   "source": [
    "fatture2.info()"
   ]
  },
  {
   "cell_type": "code",
   "execution_count": 41,
   "metadata": {},
   "outputs": [
    {
     "data": {
      "text/html": [
       "<div>\n",
       "<style scoped>\n",
       "    .dataframe tbody tr th:only-of-type {\n",
       "        vertical-align: middle;\n",
       "    }\n",
       "\n",
       "    .dataframe tbody tr th {\n",
       "        vertical-align: top;\n",
       "    }\n",
       "\n",
       "    .dataframe thead th {\n",
       "        text-align: right;\n",
       "    }\n",
       "</style>\n",
       "<table border=\"1\" class=\"dataframe\">\n",
       "  <thead>\n",
       "    <tr style=\"text-align: right;\">\n",
       "      <th></th>\n",
       "      <th>NumeroFattura</th>\n",
       "      <th>Tipologia</th>\n",
       "      <th>Importo</th>\n",
       "      <th>Iva</th>\n",
       "      <th>IdCliente</th>\n",
       "      <th>ResidenzaCliente</th>\n",
       "      <th>DataFattura</th>\n",
       "      <th>NumeroFornitore</th>\n",
       "      <th>DataFattura2</th>\n",
       "    </tr>\n",
       "  </thead>\n",
       "  <tbody>\n",
       "    <tr>\n",
       "      <th>0</th>\n",
       "      <td>1</td>\n",
       "      <td>A</td>\n",
       "      <td>1120.0</td>\n",
       "      <td>20</td>\n",
       "      <td>1</td>\n",
       "      <td>Molise</td>\n",
       "      <td>01/01/2018</td>\n",
       "      <td>1</td>\n",
       "      <td>2018-01-01</td>\n",
       "    </tr>\n",
       "    <tr>\n",
       "      <th>1</th>\n",
       "      <td>2</td>\n",
       "      <td>V</td>\n",
       "      <td>32.0</td>\n",
       "      <td>20</td>\n",
       "      <td>2</td>\n",
       "      <td>Puglia</td>\n",
       "      <td>01/03/2017</td>\n",
       "      <td>1</td>\n",
       "      <td>2017-03-01</td>\n",
       "    </tr>\n",
       "    <tr>\n",
       "      <th>2</th>\n",
       "      <td>3</td>\n",
       "      <td>A</td>\n",
       "      <td>45.0</td>\n",
       "      <td>20</td>\n",
       "      <td>3</td>\n",
       "      <td>Lombardia</td>\n",
       "      <td>01/06/2017</td>\n",
       "      <td>1</td>\n",
       "      <td>2017-06-01</td>\n",
       "    </tr>\n",
       "    <tr>\n",
       "      <th>3</th>\n",
       "      <td>4</td>\n",
       "      <td>V</td>\n",
       "      <td>64.0</td>\n",
       "      <td>20</td>\n",
       "      <td>3</td>\n",
       "      <td>Lombardia</td>\n",
       "      <td>30/01/2019</td>\n",
       "      <td>1</td>\n",
       "      <td>2019-01-30</td>\n",
       "    </tr>\n",
       "    <tr>\n",
       "      <th>4</th>\n",
       "      <td>5</td>\n",
       "      <td>A</td>\n",
       "      <td>12.0</td>\n",
       "      <td>20</td>\n",
       "      <td>5</td>\n",
       "      <td>Umbria</td>\n",
       "      <td>01/01/2018</td>\n",
       "      <td>1</td>\n",
       "      <td>2018-01-01</td>\n",
       "    </tr>\n",
       "  </tbody>\n",
       "</table>\n",
       "</div>"
      ],
      "text/plain": [
       "   NumeroFattura Tipologia  Importo  Iva  IdCliente ResidenzaCliente  \\\n",
       "0              1         A   1120.0   20          1           Molise   \n",
       "1              2         V     32.0   20          2           Puglia   \n",
       "2              3         A     45.0   20          3        Lombardia   \n",
       "3              4         V     64.0   20          3        Lombardia   \n",
       "4              5         A     12.0   20          5           Umbria   \n",
       "\n",
       "  DataFattura  NumeroFornitore DataFattura2  \n",
       "0  01/01/2018                1   2018-01-01  \n",
       "1  01/03/2017                1   2017-03-01  \n",
       "2  01/06/2017                1   2017-06-01  \n",
       "3  30/01/2019                1   2019-01-30  \n",
       "4  01/01/2018                1   2018-01-01  "
      ]
     },
     "execution_count": 41,
     "metadata": {},
     "output_type": "execute_result"
    }
   ],
   "source": [
    "fatture2.head(5)"
   ]
  },
  {
   "cell_type": "code",
   "execution_count": 42,
   "metadata": {},
   "outputs": [],
   "source": [
    "fatture2['NumeroFornitore'] = fatture2['NumeroFornitore'].astype('str')"
   ]
  },
  {
   "cell_type": "code",
   "execution_count": 43,
   "metadata": {},
   "outputs": [
    {
     "name": "stdout",
     "output_type": "stream",
     "text": [
      "<class 'pandas.core.frame.DataFrame'>\n",
      "RangeIndex: 18 entries, 0 to 17\n",
      "Data columns (total 9 columns):\n",
      " #   Column            Non-Null Count  Dtype         \n",
      "---  ------            --------------  -----         \n",
      " 0   NumeroFattura     18 non-null     int64         \n",
      " 1   Tipologia         18 non-null     object        \n",
      " 2   Importo           18 non-null     float64       \n",
      " 3   Iva               18 non-null     int64         \n",
      " 4   IdCliente         18 non-null     int64         \n",
      " 5   ResidenzaCliente  18 non-null     object        \n",
      " 6   DataFattura       18 non-null     object        \n",
      " 7   NumeroFornitore   18 non-null     object        \n",
      " 8   DataFattura2      18 non-null     datetime64[ns]\n",
      "dtypes: datetime64[ns](1), float64(1), int64(3), object(4)\n",
      "memory usage: 1.4+ KB\n"
     ]
    }
   ],
   "source": [
    "fatture2.info()"
   ]
  },
  {
   "cell_type": "markdown",
   "metadata": {},
   "source": [
    "Il null è diventato una stringa "
   ]
  },
  {
   "cell_type": "code",
   "execution_count": 44,
   "metadata": {},
   "outputs": [
    {
     "data": {
      "text/html": [
       "<div>\n",
       "<style scoped>\n",
       "    .dataframe tbody tr th:only-of-type {\n",
       "        vertical-align: middle;\n",
       "    }\n",
       "\n",
       "    .dataframe tbody tr th {\n",
       "        vertical-align: top;\n",
       "    }\n",
       "\n",
       "    .dataframe thead th {\n",
       "        text-align: right;\n",
       "    }\n",
       "</style>\n",
       "<table border=\"1\" class=\"dataframe\">\n",
       "  <thead>\n",
       "    <tr style=\"text-align: right;\">\n",
       "      <th></th>\n",
       "      <th>NumeroFattura</th>\n",
       "      <th>Tipologia</th>\n",
       "      <th>Importo</th>\n",
       "      <th>Iva</th>\n",
       "      <th>IdCliente</th>\n",
       "      <th>ResidenzaCliente</th>\n",
       "      <th>DataFattura</th>\n",
       "      <th>NumeroFornitore</th>\n",
       "      <th>DataFattura2</th>\n",
       "    </tr>\n",
       "  </thead>\n",
       "  <tbody>\n",
       "    <tr>\n",
       "      <th>0</th>\n",
       "      <td>1</td>\n",
       "      <td>A</td>\n",
       "      <td>1120.0</td>\n",
       "      <td>20</td>\n",
       "      <td>1</td>\n",
       "      <td>Molise</td>\n",
       "      <td>01/01/2018</td>\n",
       "      <td>1</td>\n",
       "      <td>2018-01-01</td>\n",
       "    </tr>\n",
       "    <tr>\n",
       "      <th>1</th>\n",
       "      <td>2</td>\n",
       "      <td>V</td>\n",
       "      <td>32.0</td>\n",
       "      <td>20</td>\n",
       "      <td>2</td>\n",
       "      <td>Puglia</td>\n",
       "      <td>01/03/2017</td>\n",
       "      <td>1</td>\n",
       "      <td>2017-03-01</td>\n",
       "    </tr>\n",
       "    <tr>\n",
       "      <th>2</th>\n",
       "      <td>3</td>\n",
       "      <td>A</td>\n",
       "      <td>45.0</td>\n",
       "      <td>20</td>\n",
       "      <td>3</td>\n",
       "      <td>Lombardia</td>\n",
       "      <td>01/06/2017</td>\n",
       "      <td>1</td>\n",
       "      <td>2017-06-01</td>\n",
       "    </tr>\n",
       "    <tr>\n",
       "      <th>3</th>\n",
       "      <td>4</td>\n",
       "      <td>V</td>\n",
       "      <td>64.0</td>\n",
       "      <td>20</td>\n",
       "      <td>3</td>\n",
       "      <td>Lombardia</td>\n",
       "      <td>30/01/2019</td>\n",
       "      <td>1</td>\n",
       "      <td>2019-01-30</td>\n",
       "    </tr>\n",
       "    <tr>\n",
       "      <th>4</th>\n",
       "      <td>5</td>\n",
       "      <td>A</td>\n",
       "      <td>12.0</td>\n",
       "      <td>20</td>\n",
       "      <td>5</td>\n",
       "      <td>Umbria</td>\n",
       "      <td>01/01/2018</td>\n",
       "      <td>1</td>\n",
       "      <td>2018-01-01</td>\n",
       "    </tr>\n",
       "  </tbody>\n",
       "</table>\n",
       "</div>"
      ],
      "text/plain": [
       "   NumeroFattura Tipologia  Importo  Iva  IdCliente ResidenzaCliente  \\\n",
       "0              1         A   1120.0   20          1           Molise   \n",
       "1              2         V     32.0   20          2           Puglia   \n",
       "2              3         A     45.0   20          3        Lombardia   \n",
       "3              4         V     64.0   20          3        Lombardia   \n",
       "4              5         A     12.0   20          5           Umbria   \n",
       "\n",
       "  DataFattura NumeroFornitore DataFattura2  \n",
       "0  01/01/2018               1   2018-01-01  \n",
       "1  01/03/2017               1   2017-03-01  \n",
       "2  01/06/2017               1   2017-06-01  \n",
       "3  30/01/2019               1   2019-01-30  \n",
       "4  01/01/2018               1   2018-01-01  "
      ]
     },
     "execution_count": 44,
     "metadata": {},
     "output_type": "execute_result"
    }
   ],
   "source": [
    "fatture2.head(5)"
   ]
  },
  {
   "cell_type": "markdown",
   "metadata": {},
   "source": [
    "Riconverto la stringa in null. Facciamo comunque sempre dei test perché su Pandas potrei varie tipologie di null"
   ]
  },
  {
   "cell_type": "code",
   "execution_count": 45,
   "metadata": {},
   "outputs": [],
   "source": [
    "fatture2['NumeroFornitore'] = fatture2['NumeroFornitore'].astype('str').replace('nan',  pd.NA).fillna(0)\n"
   ]
  },
  {
   "cell_type": "code",
   "execution_count": 46,
   "metadata": {},
   "outputs": [
    {
     "name": "stdout",
     "output_type": "stream",
     "text": [
      "<class 'pandas.core.frame.DataFrame'>\n",
      "RangeIndex: 18 entries, 0 to 17\n",
      "Data columns (total 9 columns):\n",
      " #   Column            Non-Null Count  Dtype         \n",
      "---  ------            --------------  -----         \n",
      " 0   NumeroFattura     18 non-null     int64         \n",
      " 1   Tipologia         18 non-null     object        \n",
      " 2   Importo           18 non-null     float64       \n",
      " 3   Iva               18 non-null     int64         \n",
      " 4   IdCliente         18 non-null     int64         \n",
      " 5   ResidenzaCliente  18 non-null     object        \n",
      " 6   DataFattura       18 non-null     object        \n",
      " 7   NumeroFornitore   18 non-null     object        \n",
      " 8   DataFattura2      18 non-null     datetime64[ns]\n",
      "dtypes: datetime64[ns](1), float64(1), int64(3), object(4)\n",
      "memory usage: 1.4+ KB\n"
     ]
    }
   ],
   "source": [
    "fatture2.info()"
   ]
  },
  {
   "cell_type": "code",
   "execution_count": 47,
   "metadata": {},
   "outputs": [
    {
     "data": {
      "text/html": [
       "<div>\n",
       "<style scoped>\n",
       "    .dataframe tbody tr th:only-of-type {\n",
       "        vertical-align: middle;\n",
       "    }\n",
       "\n",
       "    .dataframe tbody tr th {\n",
       "        vertical-align: top;\n",
       "    }\n",
       "\n",
       "    .dataframe thead th {\n",
       "        text-align: right;\n",
       "    }\n",
       "</style>\n",
       "<table border=\"1\" class=\"dataframe\">\n",
       "  <thead>\n",
       "    <tr style=\"text-align: right;\">\n",
       "      <th></th>\n",
       "      <th>NumeroFattura</th>\n",
       "      <th>Tipologia</th>\n",
       "      <th>Importo</th>\n",
       "      <th>Iva</th>\n",
       "      <th>IdCliente</th>\n",
       "      <th>ResidenzaCliente</th>\n",
       "      <th>DataFattura</th>\n",
       "      <th>NumeroFornitore</th>\n",
       "      <th>DataFattura2</th>\n",
       "    </tr>\n",
       "  </thead>\n",
       "  <tbody>\n",
       "    <tr>\n",
       "      <th>0</th>\n",
       "      <td>1</td>\n",
       "      <td>A</td>\n",
       "      <td>1120.0</td>\n",
       "      <td>20</td>\n",
       "      <td>1</td>\n",
       "      <td>Molise</td>\n",
       "      <td>01/01/2018</td>\n",
       "      <td>1</td>\n",
       "      <td>2018-01-01</td>\n",
       "    </tr>\n",
       "    <tr>\n",
       "      <th>1</th>\n",
       "      <td>2</td>\n",
       "      <td>V</td>\n",
       "      <td>32.0</td>\n",
       "      <td>20</td>\n",
       "      <td>2</td>\n",
       "      <td>Puglia</td>\n",
       "      <td>01/03/2017</td>\n",
       "      <td>1</td>\n",
       "      <td>2017-03-01</td>\n",
       "    </tr>\n",
       "    <tr>\n",
       "      <th>2</th>\n",
       "      <td>3</td>\n",
       "      <td>A</td>\n",
       "      <td>45.0</td>\n",
       "      <td>20</td>\n",
       "      <td>3</td>\n",
       "      <td>Lombardia</td>\n",
       "      <td>01/06/2017</td>\n",
       "      <td>1</td>\n",
       "      <td>2017-06-01</td>\n",
       "    </tr>\n",
       "    <tr>\n",
       "      <th>3</th>\n",
       "      <td>4</td>\n",
       "      <td>V</td>\n",
       "      <td>64.0</td>\n",
       "      <td>20</td>\n",
       "      <td>3</td>\n",
       "      <td>Lombardia</td>\n",
       "      <td>30/01/2019</td>\n",
       "      <td>1</td>\n",
       "      <td>2019-01-30</td>\n",
       "    </tr>\n",
       "    <tr>\n",
       "      <th>4</th>\n",
       "      <td>5</td>\n",
       "      <td>A</td>\n",
       "      <td>12.0</td>\n",
       "      <td>20</td>\n",
       "      <td>5</td>\n",
       "      <td>Umbria</td>\n",
       "      <td>01/01/2018</td>\n",
       "      <td>1</td>\n",
       "      <td>2018-01-01</td>\n",
       "    </tr>\n",
       "  </tbody>\n",
       "</table>\n",
       "</div>"
      ],
      "text/plain": [
       "   NumeroFattura Tipologia  Importo  Iva  IdCliente ResidenzaCliente  \\\n",
       "0              1         A   1120.0   20          1           Molise   \n",
       "1              2         V     32.0   20          2           Puglia   \n",
       "2              3         A     45.0   20          3        Lombardia   \n",
       "3              4         V     64.0   20          3        Lombardia   \n",
       "4              5         A     12.0   20          5           Umbria   \n",
       "\n",
       "  DataFattura NumeroFornitore DataFattura2  \n",
       "0  01/01/2018               1   2018-01-01  \n",
       "1  01/03/2017               1   2017-03-01  \n",
       "2  01/06/2017               1   2017-06-01  \n",
       "3  30/01/2019               1   2019-01-30  \n",
       "4  01/01/2018               1   2018-01-01  "
      ]
     },
     "execution_count": 47,
     "metadata": {},
     "output_type": "execute_result"
    }
   ],
   "source": [
    "fatture2.head(5)"
   ]
  },
  {
   "cell_type": "markdown",
   "metadata": {},
   "source": [
    "## Attenzione a non dimenticare .copy()"
   ]
  },
  {
   "cell_type": "code",
   "execution_count": 48,
   "metadata": {},
   "outputs": [],
   "source": [
    "fatture_new = fatture\n",
    "fatture_new[\"NumeroFattura\"]=2"
   ]
  },
  {
   "cell_type": "code",
   "execution_count": 49,
   "metadata": {},
   "outputs": [
    {
     "data": {
      "text/html": [
       "<div>\n",
       "<style scoped>\n",
       "    .dataframe tbody tr th:only-of-type {\n",
       "        vertical-align: middle;\n",
       "    }\n",
       "\n",
       "    .dataframe tbody tr th {\n",
       "        vertical-align: top;\n",
       "    }\n",
       "\n",
       "    .dataframe thead th {\n",
       "        text-align: right;\n",
       "    }\n",
       "</style>\n",
       "<table border=\"1\" class=\"dataframe\">\n",
       "  <thead>\n",
       "    <tr style=\"text-align: right;\">\n",
       "      <th></th>\n",
       "      <th>NumeroFattura</th>\n",
       "      <th>Tipologia</th>\n",
       "      <th>Importo</th>\n",
       "      <th>Iva</th>\n",
       "      <th>IdCliente</th>\n",
       "      <th>ResidenzaCliente</th>\n",
       "      <th>DataFattura</th>\n",
       "      <th>NumeroFornitore</th>\n",
       "      <th>DataFattura2</th>\n",
       "    </tr>\n",
       "  </thead>\n",
       "  <tbody>\n",
       "    <tr>\n",
       "      <th>0</th>\n",
       "      <td>2</td>\n",
       "      <td>A</td>\n",
       "      <td>1120.0</td>\n",
       "      <td>20</td>\n",
       "      <td>1</td>\n",
       "      <td>Molise</td>\n",
       "      <td>01/01/2018</td>\n",
       "      <td>1</td>\n",
       "      <td>2018-01-01</td>\n",
       "    </tr>\n",
       "    <tr>\n",
       "      <th>1</th>\n",
       "      <td>2</td>\n",
       "      <td>V</td>\n",
       "      <td>32.0</td>\n",
       "      <td>20</td>\n",
       "      <td>2</td>\n",
       "      <td>Puglia</td>\n",
       "      <td>01/03/2017</td>\n",
       "      <td>1</td>\n",
       "      <td>2017-03-01</td>\n",
       "    </tr>\n",
       "    <tr>\n",
       "      <th>2</th>\n",
       "      <td>2</td>\n",
       "      <td>A</td>\n",
       "      <td>45.0</td>\n",
       "      <td>20</td>\n",
       "      <td>3</td>\n",
       "      <td>Lombardia</td>\n",
       "      <td>01/06/2017</td>\n",
       "      <td>1</td>\n",
       "      <td>2017-06-01</td>\n",
       "    </tr>\n",
       "    <tr>\n",
       "      <th>3</th>\n",
       "      <td>2</td>\n",
       "      <td>V</td>\n",
       "      <td>64.0</td>\n",
       "      <td>20</td>\n",
       "      <td>3</td>\n",
       "      <td>Lombardia</td>\n",
       "      <td>30/01/2019</td>\n",
       "      <td>1</td>\n",
       "      <td>2019-01-30</td>\n",
       "    </tr>\n",
       "    <tr>\n",
       "      <th>4</th>\n",
       "      <td>2</td>\n",
       "      <td>A</td>\n",
       "      <td>12.0</td>\n",
       "      <td>20</td>\n",
       "      <td>5</td>\n",
       "      <td>Umbria</td>\n",
       "      <td>01/01/2018</td>\n",
       "      <td>1</td>\n",
       "      <td>2018-01-01</td>\n",
       "    </tr>\n",
       "  </tbody>\n",
       "</table>\n",
       "</div>"
      ],
      "text/plain": [
       "   NumeroFattura Tipologia  Importo  Iva  IdCliente ResidenzaCliente  \\\n",
       "0              2         A   1120.0   20          1           Molise   \n",
       "1              2         V     32.0   20          2           Puglia   \n",
       "2              2         A     45.0   20          3        Lombardia   \n",
       "3              2         V     64.0   20          3        Lombardia   \n",
       "4              2         A     12.0   20          5           Umbria   \n",
       "\n",
       "  DataFattura NumeroFornitore DataFattura2  \n",
       "0  01/01/2018               1   2018-01-01  \n",
       "1  01/03/2017               1   2017-03-01  \n",
       "2  01/06/2017               1   2017-06-01  \n",
       "3  30/01/2019               1   2019-01-30  \n",
       "4  01/01/2018               1   2018-01-01  "
      ]
     },
     "execution_count": 49,
     "metadata": {},
     "output_type": "execute_result"
    }
   ],
   "source": [
    "fatture_new.head(5)"
   ]
  },
  {
   "cell_type": "markdown",
   "metadata": {},
   "source": [
    "Anche la colonna NumeroFattura del dataframe fatture è stata modificata!"
   ]
  },
  {
   "cell_type": "code",
   "execution_count": 50,
   "metadata": {
    "scrolled": true
   },
   "outputs": [
    {
     "data": {
      "text/html": [
       "<div>\n",
       "<style scoped>\n",
       "    .dataframe tbody tr th:only-of-type {\n",
       "        vertical-align: middle;\n",
       "    }\n",
       "\n",
       "    .dataframe tbody tr th {\n",
       "        vertical-align: top;\n",
       "    }\n",
       "\n",
       "    .dataframe thead th {\n",
       "        text-align: right;\n",
       "    }\n",
       "</style>\n",
       "<table border=\"1\" class=\"dataframe\">\n",
       "  <thead>\n",
       "    <tr style=\"text-align: right;\">\n",
       "      <th></th>\n",
       "      <th>NumeroFattura</th>\n",
       "      <th>Tipologia</th>\n",
       "      <th>Importo</th>\n",
       "      <th>Iva</th>\n",
       "      <th>IdCliente</th>\n",
       "      <th>ResidenzaCliente</th>\n",
       "      <th>DataFattura</th>\n",
       "      <th>NumeroFornitore</th>\n",
       "      <th>DataFattura2</th>\n",
       "    </tr>\n",
       "  </thead>\n",
       "  <tbody>\n",
       "    <tr>\n",
       "      <th>0</th>\n",
       "      <td>2</td>\n",
       "      <td>A</td>\n",
       "      <td>1120.0</td>\n",
       "      <td>20</td>\n",
       "      <td>1</td>\n",
       "      <td>Molise</td>\n",
       "      <td>01/01/2018</td>\n",
       "      <td>1</td>\n",
       "      <td>2018-01-01</td>\n",
       "    </tr>\n",
       "    <tr>\n",
       "      <th>1</th>\n",
       "      <td>2</td>\n",
       "      <td>V</td>\n",
       "      <td>32.0</td>\n",
       "      <td>20</td>\n",
       "      <td>2</td>\n",
       "      <td>Puglia</td>\n",
       "      <td>01/03/2017</td>\n",
       "      <td>1</td>\n",
       "      <td>2017-03-01</td>\n",
       "    </tr>\n",
       "    <tr>\n",
       "      <th>2</th>\n",
       "      <td>2</td>\n",
       "      <td>A</td>\n",
       "      <td>45.0</td>\n",
       "      <td>20</td>\n",
       "      <td>3</td>\n",
       "      <td>Lombardia</td>\n",
       "      <td>01/06/2017</td>\n",
       "      <td>1</td>\n",
       "      <td>2017-06-01</td>\n",
       "    </tr>\n",
       "    <tr>\n",
       "      <th>3</th>\n",
       "      <td>2</td>\n",
       "      <td>V</td>\n",
       "      <td>64.0</td>\n",
       "      <td>20</td>\n",
       "      <td>3</td>\n",
       "      <td>Lombardia</td>\n",
       "      <td>30/01/2019</td>\n",
       "      <td>1</td>\n",
       "      <td>2019-01-30</td>\n",
       "    </tr>\n",
       "    <tr>\n",
       "      <th>4</th>\n",
       "      <td>2</td>\n",
       "      <td>A</td>\n",
       "      <td>12.0</td>\n",
       "      <td>20</td>\n",
       "      <td>5</td>\n",
       "      <td>Umbria</td>\n",
       "      <td>01/01/2018</td>\n",
       "      <td>1</td>\n",
       "      <td>2018-01-01</td>\n",
       "    </tr>\n",
       "  </tbody>\n",
       "</table>\n",
       "</div>"
      ],
      "text/plain": [
       "   NumeroFattura Tipologia  Importo  Iva  IdCliente ResidenzaCliente  \\\n",
       "0              2         A   1120.0   20          1           Molise   \n",
       "1              2         V     32.0   20          2           Puglia   \n",
       "2              2         A     45.0   20          3        Lombardia   \n",
       "3              2         V     64.0   20          3        Lombardia   \n",
       "4              2         A     12.0   20          5           Umbria   \n",
       "\n",
       "  DataFattura NumeroFornitore DataFattura2  \n",
       "0  01/01/2018               1   2018-01-01  \n",
       "1  01/03/2017               1   2017-03-01  \n",
       "2  01/06/2017               1   2017-06-01  \n",
       "3  30/01/2019               1   2019-01-30  \n",
       "4  01/01/2018               1   2018-01-01  "
      ]
     },
     "execution_count": 50,
     "metadata": {},
     "output_type": "execute_result"
    }
   ],
   "source": [
    "fatture.head(5)"
   ]
  },
  {
   "cell_type": "markdown",
   "metadata": {},
   "source": [
    "# Esercizio: importiamo un file excel contenente più fogli"
   ]
  },
  {
   "cell_type": "markdown",
   "metadata": {},
   "source": [
    "valorizziamo l'argomento sheet_name con None"
   ]
  },
  {
   "cell_type": "code",
   "execution_count": 51,
   "metadata": {},
   "outputs": [],
   "source": [
    "data = pd.read_excel(r\"C:\\Users\\ianto\\Desktop\\Corso python\\file\\Dati_su_piu_fogli.xlsx\",\n",
    "                    sheet_name=[\"Fatture\",\"Clienti\"])"
   ]
  },
  {
   "cell_type": "code",
   "execution_count": 52,
   "metadata": {},
   "outputs": [
    {
     "data": {
      "text/plain": [
       "dict"
      ]
     },
     "execution_count": 52,
     "metadata": {},
     "output_type": "execute_result"
    }
   ],
   "source": [
    "type(data)"
   ]
  },
  {
   "cell_type": "code",
   "execution_count": 53,
   "metadata": {},
   "outputs": [
    {
     "data": {
      "text/plain": [
       "dict_keys(['Fatture', 'Clienti'])"
      ]
     },
     "execution_count": 53,
     "metadata": {},
     "output_type": "execute_result"
    }
   ],
   "source": [
    "data.keys()"
   ]
  },
  {
   "cell_type": "code",
   "execution_count": 54,
   "metadata": {},
   "outputs": [
    {
     "data": {
      "text/html": [
       "<div>\n",
       "<style scoped>\n",
       "    .dataframe tbody tr th:only-of-type {\n",
       "        vertical-align: middle;\n",
       "    }\n",
       "\n",
       "    .dataframe tbody tr th {\n",
       "        vertical-align: top;\n",
       "    }\n",
       "\n",
       "    .dataframe thead th {\n",
       "        text-align: right;\n",
       "    }\n",
       "</style>\n",
       "<table border=\"1\" class=\"dataframe\">\n",
       "  <thead>\n",
       "    <tr style=\"text-align: right;\">\n",
       "      <th></th>\n",
       "      <th>IdFattura</th>\n",
       "      <th>Tipologia</th>\n",
       "      <th>Importo</th>\n",
       "      <th>Iva</th>\n",
       "      <th>IdCliente</th>\n",
       "      <th>IdFornitore</th>\n",
       "    </tr>\n",
       "  </thead>\n",
       "  <tbody>\n",
       "    <tr>\n",
       "      <th>0</th>\n",
       "      <td>1</td>\n",
       "      <td>A</td>\n",
       "      <td>40</td>\n",
       "      <td>20.0</td>\n",
       "      <td>1</td>\n",
       "      <td>1.0</td>\n",
       "    </tr>\n",
       "    <tr>\n",
       "      <th>1</th>\n",
       "      <td>2</td>\n",
       "      <td>V</td>\n",
       "      <td>32</td>\n",
       "      <td>20.0</td>\n",
       "      <td>2</td>\n",
       "      <td>1.0</td>\n",
       "    </tr>\n",
       "    <tr>\n",
       "      <th>2</th>\n",
       "      <td>3</td>\n",
       "      <td>A</td>\n",
       "      <td>45</td>\n",
       "      <td>20.0</td>\n",
       "      <td>3</td>\n",
       "      <td>1.0</td>\n",
       "    </tr>\n",
       "    <tr>\n",
       "      <th>3</th>\n",
       "      <td>4</td>\n",
       "      <td>V</td>\n",
       "      <td>64</td>\n",
       "      <td>20.0</td>\n",
       "      <td>3</td>\n",
       "      <td>1.0</td>\n",
       "    </tr>\n",
       "    <tr>\n",
       "      <th>4</th>\n",
       "      <td>5</td>\n",
       "      <td>A</td>\n",
       "      <td>12</td>\n",
       "      <td>20.0</td>\n",
       "      <td>5</td>\n",
       "      <td>1.0</td>\n",
       "    </tr>\n",
       "  </tbody>\n",
       "</table>\n",
       "</div>"
      ],
      "text/plain": [
       "   IdFattura Tipologia  Importo   Iva  IdCliente  IdFornitore\n",
       "0          1         A       40  20.0          1          1.0\n",
       "1          2         V       32  20.0          2          1.0\n",
       "2          3         A       45  20.0          3          1.0\n",
       "3          4         V       64  20.0          3          1.0\n",
       "4          5         A       12  20.0          5          1.0"
      ]
     },
     "execution_count": 54,
     "metadata": {},
     "output_type": "execute_result"
    }
   ],
   "source": [
    "data[\"Fatture\"].head(5)"
   ]
  },
  {
   "cell_type": "markdown",
   "metadata": {},
   "source": [
    "Un dizionario è un insieme di coppie chiave-valore. Visualizziamo l'elenco delle chiavi"
   ]
  },
  {
   "cell_type": "markdown",
   "metadata": {},
   "source": [
    "Visualizziamo il valore della chiave Fatture"
   ]
  },
  {
   "cell_type": "code",
   "execution_count": 55,
   "metadata": {},
   "outputs": [
    {
     "data": {
      "text/html": [
       "<div>\n",
       "<style scoped>\n",
       "    .dataframe tbody tr th:only-of-type {\n",
       "        vertical-align: middle;\n",
       "    }\n",
       "\n",
       "    .dataframe tbody tr th {\n",
       "        vertical-align: top;\n",
       "    }\n",
       "\n",
       "    .dataframe thead th {\n",
       "        text-align: right;\n",
       "    }\n",
       "</style>\n",
       "<table border=\"1\" class=\"dataframe\">\n",
       "  <thead>\n",
       "    <tr style=\"text-align: right;\">\n",
       "      <th></th>\n",
       "      <th>NumeroCliente</th>\n",
       "      <th>IsActive</th>\n",
       "      <th>Nome</th>\n",
       "      <th>Cognome</th>\n",
       "      <th>DataNascita</th>\n",
       "      <th>Nazione</th>\n",
       "      <th>Regione</th>\n",
       "    </tr>\n",
       "  </thead>\n",
       "  <tbody>\n",
       "    <tr>\n",
       "      <th>0</th>\n",
       "      <td>1</td>\n",
       "      <td>True</td>\n",
       "      <td>Nicoletta</td>\n",
       "      <td>5CF71</td>\n",
       "      <td>2010-01-01</td>\n",
       "      <td>Francia</td>\n",
       "      <td>NaN</td>\n",
       "    </tr>\n",
       "    <tr>\n",
       "      <th>1</th>\n",
       "      <td>2</td>\n",
       "      <td>True</td>\n",
       "      <td>Giovanni</td>\n",
       "      <td>A83C2</td>\n",
       "      <td>1976-03-01</td>\n",
       "      <td>Italia</td>\n",
       "      <td>Lazio</td>\n",
       "    </tr>\n",
       "    <tr>\n",
       "      <th>2</th>\n",
       "      <td>3</td>\n",
       "      <td>True</td>\n",
       "      <td>Marco</td>\n",
       "      <td>7929A</td>\n",
       "      <td>1980-04-01</td>\n",
       "      <td>Italia</td>\n",
       "      <td>Lazio</td>\n",
       "    </tr>\n",
       "    <tr>\n",
       "      <th>3</th>\n",
       "      <td>4</td>\n",
       "      <td>True</td>\n",
       "      <td>Giovanna</td>\n",
       "      <td>270BC</td>\n",
       "      <td>1977-05-01</td>\n",
       "      <td>Italia</td>\n",
       "      <td>Lazio</td>\n",
       "    </tr>\n",
       "    <tr>\n",
       "      <th>4</th>\n",
       "      <td>5</td>\n",
       "      <td>True</td>\n",
       "      <td>Alice</td>\n",
       "      <td>C5B4D</td>\n",
       "      <td>1969-06-01</td>\n",
       "      <td>Italia</td>\n",
       "      <td>Sicilia</td>\n",
       "    </tr>\n",
       "  </tbody>\n",
       "</table>\n",
       "</div>"
      ],
      "text/plain": [
       "   NumeroCliente  IsActive       Nome Cognome DataNascita  Nazione  Regione\n",
       "0              1      True  Nicoletta   5CF71  2010-01-01  Francia      NaN\n",
       "1              2      True   Giovanni   A83C2  1976-03-01   Italia    Lazio\n",
       "2              3      True      Marco   7929A  1980-04-01   Italia    Lazio\n",
       "3              4      True   Giovanna   270BC  1977-05-01   Italia    Lazio\n",
       "4              5      True      Alice   C5B4D  1969-06-01   Italia  Sicilia"
      ]
     },
     "execution_count": 55,
     "metadata": {},
     "output_type": "execute_result"
    }
   ],
   "source": [
    "data[\"Clienti\"].head(5)"
   ]
  },
  {
   "cell_type": "markdown",
   "metadata": {},
   "source": [
    "posso fare un ciclo sulle chiavi"
   ]
  },
  {
   "cell_type": "code",
   "execution_count": 56,
   "metadata": {},
   "outputs": [
    {
     "name": "stdout",
     "output_type": "stream",
     "text": [
      "il foglio Fatture ha 18 righe\n",
      "il foglio Clienti ha 39 righe\n"
     ]
    }
   ],
   "source": [
    "for chiave in data.keys():\n",
    "    numero_righe = len(data[chiave])\n",
    "    print(f'il foglio {chiave} ha {numero_righe} righe')"
   ]
  },
  {
   "cell_type": "markdown",
   "metadata": {},
   "source": [
    "Posso rimuovere chiavi da un dizionario"
   ]
  },
  {
   "cell_type": "markdown",
   "metadata": {},
   "source": [
    "# Api: application programming interface"
   ]
  },
  {
   "cell_type": "code",
   "execution_count": 57,
   "metadata": {},
   "outputs": [],
   "source": [
    "import requests"
   ]
  },
  {
   "cell_type": "markdown",
   "metadata": {},
   "source": [
    "Creiamo una variabile con l'url per la chiamata api"
   ]
  },
  {
   "cell_type": "code",
   "execution_count": 58,
   "metadata": {},
   "outputs": [],
   "source": [
    "url = \"https://api.github.com/repos/iantomasinicola/PortfolioDataAnalyst\""
   ]
  },
  {
   "cell_type": "markdown",
   "metadata": {},
   "source": [
    "Utilizziamo il metodo get della libreria requests"
   ]
  },
  {
   "cell_type": "code",
   "execution_count": 59,
   "metadata": {},
   "outputs": [
    {
     "data": {
      "text/plain": [
       "<Response [200]>"
      ]
     },
     "execution_count": 59,
     "metadata": {},
     "output_type": "execute_result"
    }
   ],
   "source": [
    "res = requests.get(\"https://api.github.com/repos/iantomasinicola/PortfolioDataAnalyst\")\n",
    "res"
   ]
  },
  {
   "cell_type": "markdown",
   "metadata": {},
   "source": [
    "Controlliamo che lo status_code sia 200"
   ]
  },
  {
   "cell_type": "code",
   "execution_count": 60,
   "metadata": {},
   "outputs": [
    {
     "data": {
      "text/plain": [
       "200"
      ]
     },
     "execution_count": 60,
     "metadata": {},
     "output_type": "execute_result"
    }
   ],
   "source": [
    "res.status_code"
   ]
  },
  {
   "cell_type": "markdown",
   "metadata": {},
   "source": [
    "Visualizziamo il contenuto della risposta: i dati sono difficilmente lavorabili"
   ]
  },
  {
   "cell_type": "code",
   "execution_count": 61,
   "metadata": {},
   "outputs": [
    {
     "data": {
      "text/plain": [
       "b'{\"id\":451192837,\"node_id\":\"R_kgDOGuSoBQ\",\"name\":\"PortfolioDataAnalyst\",\"full_name\":\"iantomasinicola/PortfolioDataAnalyst\",\"private\":false,\"owner\":{\"login\":\"iantomasinicola\",\"id\":59792312,\"node_id\":\"MDQ6VXNlcjU5NzkyMzEy\",\"avatar_url\":\"https://avatars.githubusercontent.com/u/59792312?v=4\",\"gravatar_id\":\"\",\"url\":\"https://api.github.com/users/iantomasinicola\",\"html_url\":\"https://github.com/iantomasinicola\",\"followers_url\":\"https://api.github.com/users/iantomasinicola/followers\",\"following_url\":\"http'"
      ]
     },
     "execution_count": 61,
     "metadata": {},
     "output_type": "execute_result"
    }
   ],
   "source": [
    "res.content[0:500]"
   ]
  },
  {
   "cell_type": "markdown",
   "metadata": {},
   "source": [
    "Anche in formato testo la situazione è difficilmente gestibile"
   ]
  },
  {
   "cell_type": "code",
   "execution_count": 62,
   "metadata": {},
   "outputs": [
    {
     "data": {
      "text/plain": [
       "'{\"id\":451192837,\"node_id\":\"R_kgDOGuSoBQ\",\"name\":\"PortfolioDataAnalyst\",\"full_name\":\"iantomasinicola/PortfolioDataAnalyst\",\"private\":false,\"owner\":{\"login\":\"iantomasinicola\",\"id\":59792312,\"node_id\":\"MDQ6VXNlcjU5NzkyMzEy\",\"avatar_url\":\"https://avatars.githubusercontent.com/u/59792312?v=4\",\"gravatar_id\":\"\",\"url\":\"https://api.github.com/users/iantomasinicola\",\"html_url\":\"https://github.com/iantomasinicola\",\"followers_url\":\"https://api.github.com/users/iantomasinicola/followers\",\"following_url\":\"http'"
      ]
     },
     "execution_count": 62,
     "metadata": {},
     "output_type": "execute_result"
    }
   ],
   "source": [
    "res.text[0:500]"
   ]
  },
  {
   "cell_type": "markdown",
   "metadata": {},
   "source": [
    "Invece convertendo i dati in json, posso utilizzare le funzionalità dei dizionari di Python!"
   ]
  },
  {
   "cell_type": "code",
   "execution_count": 63,
   "metadata": {},
   "outputs": [
    {
     "data": {
      "text/plain": [
       "{'id': 451192837,\n",
       " 'node_id': 'R_kgDOGuSoBQ',\n",
       " 'name': 'PortfolioDataAnalyst',\n",
       " 'full_name': 'iantomasinicola/PortfolioDataAnalyst',\n",
       " 'private': False,\n",
       " 'owner': {'login': 'iantomasinicola',\n",
       "  'id': 59792312,\n",
       "  'node_id': 'MDQ6VXNlcjU5NzkyMzEy',\n",
       "  'avatar_url': 'https://avatars.githubusercontent.com/u/59792312?v=4',\n",
       "  'gravatar_id': '',\n",
       "  'url': 'https://api.github.com/users/iantomasinicola',\n",
       "  'html_url': 'https://github.com/iantomasinicola',\n",
       "  'followers_url': 'https://api.github.com/users/iantomasinicola/followers',\n",
       "  'following_url': 'https://api.github.com/users/iantomasinicola/following{/other_user}',\n",
       "  'gists_url': 'https://api.github.com/users/iantomasinicola/gists{/gist_id}',\n",
       "  'starred_url': 'https://api.github.com/users/iantomasinicola/starred{/owner}{/repo}',\n",
       "  'subscriptions_url': 'https://api.github.com/users/iantomasinicola/subscriptions',\n",
       "  'organizations_url': 'https://api.github.com/users/iantomasinicola/orgs',\n",
       "  'repos_url': 'https://api.github.com/users/iantomasinicola/repos',\n",
       "  'events_url': 'https://api.github.com/users/iantomasinicola/events{/privacy}',\n",
       "  'received_events_url': 'https://api.github.com/users/iantomasinicola/received_events',\n",
       "  'type': 'User',\n",
       "  'user_view_type': 'public',\n",
       "  'site_admin': False},\n",
       " 'html_url': 'https://github.com/iantomasinicola/PortfolioDataAnalyst',\n",
       " 'description': 'Progetto di Data analysis con Python, Microsoft Sql Server e Excel',\n",
       " 'fork': False,\n",
       " 'url': 'https://api.github.com/repos/iantomasinicola/PortfolioDataAnalyst',\n",
       " 'forks_url': 'https://api.github.com/repos/iantomasinicola/PortfolioDataAnalyst/forks',\n",
       " 'keys_url': 'https://api.github.com/repos/iantomasinicola/PortfolioDataAnalyst/keys{/key_id}',\n",
       " 'collaborators_url': 'https://api.github.com/repos/iantomasinicola/PortfolioDataAnalyst/collaborators{/collaborator}',\n",
       " 'teams_url': 'https://api.github.com/repos/iantomasinicola/PortfolioDataAnalyst/teams',\n",
       " 'hooks_url': 'https://api.github.com/repos/iantomasinicola/PortfolioDataAnalyst/hooks',\n",
       " 'issue_events_url': 'https://api.github.com/repos/iantomasinicola/PortfolioDataAnalyst/issues/events{/number}',\n",
       " 'events_url': 'https://api.github.com/repos/iantomasinicola/PortfolioDataAnalyst/events',\n",
       " 'assignees_url': 'https://api.github.com/repos/iantomasinicola/PortfolioDataAnalyst/assignees{/user}',\n",
       " 'branches_url': 'https://api.github.com/repos/iantomasinicola/PortfolioDataAnalyst/branches{/branch}',\n",
       " 'tags_url': 'https://api.github.com/repos/iantomasinicola/PortfolioDataAnalyst/tags',\n",
       " 'blobs_url': 'https://api.github.com/repos/iantomasinicola/PortfolioDataAnalyst/git/blobs{/sha}',\n",
       " 'git_tags_url': 'https://api.github.com/repos/iantomasinicola/PortfolioDataAnalyst/git/tags{/sha}',\n",
       " 'git_refs_url': 'https://api.github.com/repos/iantomasinicola/PortfolioDataAnalyst/git/refs{/sha}',\n",
       " 'trees_url': 'https://api.github.com/repos/iantomasinicola/PortfolioDataAnalyst/git/trees{/sha}',\n",
       " 'statuses_url': 'https://api.github.com/repos/iantomasinicola/PortfolioDataAnalyst/statuses/{sha}',\n",
       " 'languages_url': 'https://api.github.com/repos/iantomasinicola/PortfolioDataAnalyst/languages',\n",
       " 'stargazers_url': 'https://api.github.com/repos/iantomasinicola/PortfolioDataAnalyst/stargazers',\n",
       " 'contributors_url': 'https://api.github.com/repos/iantomasinicola/PortfolioDataAnalyst/contributors',\n",
       " 'subscribers_url': 'https://api.github.com/repos/iantomasinicola/PortfolioDataAnalyst/subscribers',\n",
       " 'subscription_url': 'https://api.github.com/repos/iantomasinicola/PortfolioDataAnalyst/subscription',\n",
       " 'commits_url': 'https://api.github.com/repos/iantomasinicola/PortfolioDataAnalyst/commits{/sha}',\n",
       " 'git_commits_url': 'https://api.github.com/repos/iantomasinicola/PortfolioDataAnalyst/git/commits{/sha}',\n",
       " 'comments_url': 'https://api.github.com/repos/iantomasinicola/PortfolioDataAnalyst/comments{/number}',\n",
       " 'issue_comment_url': 'https://api.github.com/repos/iantomasinicola/PortfolioDataAnalyst/issues/comments{/number}',\n",
       " 'contents_url': 'https://api.github.com/repos/iantomasinicola/PortfolioDataAnalyst/contents/{+path}',\n",
       " 'compare_url': 'https://api.github.com/repos/iantomasinicola/PortfolioDataAnalyst/compare/{base}...{head}',\n",
       " 'merges_url': 'https://api.github.com/repos/iantomasinicola/PortfolioDataAnalyst/merges',\n",
       " 'archive_url': 'https://api.github.com/repos/iantomasinicola/PortfolioDataAnalyst/{archive_format}{/ref}',\n",
       " 'downloads_url': 'https://api.github.com/repos/iantomasinicola/PortfolioDataAnalyst/downloads',\n",
       " 'issues_url': 'https://api.github.com/repos/iantomasinicola/PortfolioDataAnalyst/issues{/number}',\n",
       " 'pulls_url': 'https://api.github.com/repos/iantomasinicola/PortfolioDataAnalyst/pulls{/number}',\n",
       " 'milestones_url': 'https://api.github.com/repos/iantomasinicola/PortfolioDataAnalyst/milestones{/number}',\n",
       " 'notifications_url': 'https://api.github.com/repos/iantomasinicola/PortfolioDataAnalyst/notifications{?since,all,participating}',\n",
       " 'labels_url': 'https://api.github.com/repos/iantomasinicola/PortfolioDataAnalyst/labels{/name}',\n",
       " 'releases_url': 'https://api.github.com/repos/iantomasinicola/PortfolioDataAnalyst/releases{/id}',\n",
       " 'deployments_url': 'https://api.github.com/repos/iantomasinicola/PortfolioDataAnalyst/deployments',\n",
       " 'created_at': '2022-01-23T18:22:31Z',\n",
       " 'updated_at': '2024-09-09T22:28:16Z',\n",
       " 'pushed_at': '2022-03-29T07:47:12Z',\n",
       " 'git_url': 'git://github.com/iantomasinicola/PortfolioDataAnalyst.git',\n",
       " 'ssh_url': 'git@github.com:iantomasinicola/PortfolioDataAnalyst.git',\n",
       " 'clone_url': 'https://github.com/iantomasinicola/PortfolioDataAnalyst.git',\n",
       " 'svn_url': 'https://github.com/iantomasinicola/PortfolioDataAnalyst',\n",
       " 'homepage': 'https://www.yimp.it/portfolio-data-analyst/',\n",
       " 'size': 161,\n",
       " 'stargazers_count': 2,\n",
       " 'watchers_count': 2,\n",
       " 'language': 'TSQL',\n",
       " 'has_issues': True,\n",
       " 'has_projects': True,\n",
       " 'has_downloads': True,\n",
       " 'has_wiki': True,\n",
       " 'has_pages': False,\n",
       " 'has_discussions': False,\n",
       " 'forks_count': 0,\n",
       " 'mirror_url': None,\n",
       " 'archived': False,\n",
       " 'disabled': False,\n",
       " 'open_issues_count': 0,\n",
       " 'license': None,\n",
       " 'allow_forking': True,\n",
       " 'is_template': False,\n",
       " 'web_commit_signoff_required': False,\n",
       " 'topics': ['data-analysis', 'excel', 'python', 'sql'],\n",
       " 'visibility': 'public',\n",
       " 'forks': 0,\n",
       " 'open_issues': 0,\n",
       " 'watchers': 2,\n",
       " 'default_branch': 'main',\n",
       " 'temp_clone_token': None,\n",
       " 'network_count': 0,\n",
       " 'subscribers_count': 1}"
      ]
     },
     "execution_count": 63,
     "metadata": {},
     "output_type": "execute_result"
    }
   ],
   "source": [
    "res.json()"
   ]
  },
  {
   "cell_type": "code",
   "execution_count": 64,
   "metadata": {},
   "outputs": [],
   "source": [
    "json_res = res.json()"
   ]
  },
  {
   "cell_type": "code",
   "execution_count": 65,
   "metadata": {},
   "outputs": [
    {
     "data": {
      "text/plain": [
       "dict"
      ]
     },
     "execution_count": 65,
     "metadata": {},
     "output_type": "execute_result"
    }
   ],
   "source": [
    "type(json_res)"
   ]
  },
  {
   "cell_type": "markdown",
   "metadata": {},
   "source": [
    "Accedo a dei valori specifici del dizionario"
   ]
  },
  {
   "cell_type": "code",
   "execution_count": 66,
   "metadata": {},
   "outputs": [
    {
     "data": {
      "text/plain": [
       "'https://avatars.githubusercontent.com/u/59792312?v=4'"
      ]
     },
     "execution_count": 66,
     "metadata": {},
     "output_type": "execute_result"
    }
   ],
   "source": [
    "owner = json_res[\"owner\"][\"avatar_url\"]\n",
    "owner"
   ]
  },
  {
   "cell_type": "code",
   "execution_count": 67,
   "metadata": {},
   "outputs": [
    {
     "data": {
      "text/plain": [
       "'https://github.com/iantomasinicola'"
      ]
     },
     "execution_count": 67,
     "metadata": {},
     "output_type": "execute_result"
    }
   ],
   "source": [
    "url_home = json_res[\"owner\"][\"html_url\"]\n",
    "url_home"
   ]
  },
  {
   "cell_type": "code",
   "execution_count": 68,
   "metadata": {},
   "outputs": [
    {
     "data": {
      "text/plain": [
       "['data-analysis', 'excel', 'python', 'sql']"
      ]
     },
     "execution_count": 68,
     "metadata": {},
     "output_type": "execute_result"
    }
   ],
   "source": [
    "topics = json_res[\"topics\"]\n",
    "topics"
   ]
  },
  {
   "cell_type": "code",
   "execution_count": 69,
   "metadata": {},
   "outputs": [
    {
     "data": {
      "text/plain": [
       "list"
      ]
     },
     "execution_count": 69,
     "metadata": {},
     "output_type": "execute_result"
    }
   ],
   "source": [
    "type(topics)"
   ]
  },
  {
   "cell_type": "code",
   "execution_count": 70,
   "metadata": {},
   "outputs": [
    {
     "name": "stdout",
     "output_type": "stream",
     "text": [
      "Progetto di Data analysis con Python, Microsoft Sql Server e Excel\n"
     ]
    }
   ],
   "source": [
    "print(json_res[\"description\"])"
   ]
  },
  {
   "cell_type": "code",
   "execution_count": 71,
   "metadata": {},
   "outputs": [],
   "source": [
    "lista = [[json_res[\"name\"], json_res[\"owner\"][\"html_url\"],json_res[\"topics\"]]]"
   ]
  },
  {
   "cell_type": "code",
   "execution_count": 72,
   "metadata": {},
   "outputs": [
    {
     "data": {
      "text/plain": [
       "[['PortfolioDataAnalyst',\n",
       "  'https://github.com/iantomasinicola',\n",
       "  ['data-analysis', 'excel', 'python', 'sql']]]"
      ]
     },
     "execution_count": 72,
     "metadata": {},
     "output_type": "execute_result"
    }
   ],
   "source": [
    "lista"
   ]
  },
  {
   "cell_type": "code",
   "execution_count": 73,
   "metadata": {},
   "outputs": [
    {
     "data": {
      "text/html": [
       "<div>\n",
       "<style scoped>\n",
       "    .dataframe tbody tr th:only-of-type {\n",
       "        vertical-align: middle;\n",
       "    }\n",
       "\n",
       "    .dataframe tbody tr th {\n",
       "        vertical-align: top;\n",
       "    }\n",
       "\n",
       "    .dataframe thead th {\n",
       "        text-align: right;\n",
       "    }\n",
       "</style>\n",
       "<table border=\"1\" class=\"dataframe\">\n",
       "  <thead>\n",
       "    <tr style=\"text-align: right;\">\n",
       "      <th></th>\n",
       "      <th>name</th>\n",
       "      <th>owner</th>\n",
       "      <th>topics</th>\n",
       "    </tr>\n",
       "  </thead>\n",
       "  <tbody>\n",
       "    <tr>\n",
       "      <th>0</th>\n",
       "      <td>PortfolioDataAnalyst</td>\n",
       "      <td>https://github.com/iantomasinicola</td>\n",
       "      <td>[data-analysis, excel, python, sql]</td>\n",
       "    </tr>\n",
       "  </tbody>\n",
       "</table>\n",
       "</div>"
      ],
      "text/plain": [
       "                   name                               owner  \\\n",
       "0  PortfolioDataAnalyst  https://github.com/iantomasinicola   \n",
       "\n",
       "                                topics  \n",
       "0  [data-analysis, excel, python, sql]  "
      ]
     },
     "execution_count": 73,
     "metadata": {},
     "output_type": "execute_result"
    }
   ],
   "source": [
    "pd.DataFrame(columns=[\"name\",\"owner\",\"topics\"], data= lista)"
   ]
  },
  {
   "cell_type": "markdown",
   "metadata": {},
   "source": [
    "Vediamo come possiamo creare un DataFrame"
   ]
  },
  {
   "cell_type": "code",
   "execution_count": 74,
   "metadata": {},
   "outputs": [],
   "source": [
    "nuovo_dict = {\"name\": json_res[\"name\"],\n",
    "              \"stato\": json_res[\"owner\"][\"html_url\"],\n",
    "              \"topics\":json_res[\"topics\"]}"
   ]
  },
  {
   "cell_type": "code",
   "execution_count": 75,
   "metadata": {},
   "outputs": [
    {
     "data": {
      "text/plain": [
       "{'name': 'PortfolioDataAnalyst',\n",
       " 'stato': 'https://github.com/iantomasinicola',\n",
       " 'topics': ['data-analysis', 'excel', 'python', 'sql']}"
      ]
     },
     "execution_count": 75,
     "metadata": {},
     "output_type": "execute_result"
    }
   ],
   "source": [
    "nuovo_dict"
   ]
  },
  {
   "cell_type": "code",
   "execution_count": 76,
   "metadata": {},
   "outputs": [
    {
     "data": {
      "text/html": [
       "<div>\n",
       "<style scoped>\n",
       "    .dataframe tbody tr th:only-of-type {\n",
       "        vertical-align: middle;\n",
       "    }\n",
       "\n",
       "    .dataframe tbody tr th {\n",
       "        vertical-align: top;\n",
       "    }\n",
       "\n",
       "    .dataframe thead th {\n",
       "        text-align: right;\n",
       "    }\n",
       "</style>\n",
       "<table border=\"1\" class=\"dataframe\">\n",
       "  <thead>\n",
       "    <tr style=\"text-align: right;\">\n",
       "      <th></th>\n",
       "      <th>name</th>\n",
       "      <th>stato</th>\n",
       "      <th>topics</th>\n",
       "    </tr>\n",
       "  </thead>\n",
       "  <tbody>\n",
       "    <tr>\n",
       "      <th>0</th>\n",
       "      <td>PortfolioDataAnalyst</td>\n",
       "      <td>https://github.com/iantomasinicola</td>\n",
       "      <td>data-analysis</td>\n",
       "    </tr>\n",
       "    <tr>\n",
       "      <th>1</th>\n",
       "      <td>PortfolioDataAnalyst</td>\n",
       "      <td>https://github.com/iantomasinicola</td>\n",
       "      <td>excel</td>\n",
       "    </tr>\n",
       "    <tr>\n",
       "      <th>2</th>\n",
       "      <td>PortfolioDataAnalyst</td>\n",
       "      <td>https://github.com/iantomasinicola</td>\n",
       "      <td>python</td>\n",
       "    </tr>\n",
       "    <tr>\n",
       "      <th>3</th>\n",
       "      <td>PortfolioDataAnalyst</td>\n",
       "      <td>https://github.com/iantomasinicola</td>\n",
       "      <td>sql</td>\n",
       "    </tr>\n",
       "  </tbody>\n",
       "</table>\n",
       "</div>"
      ],
      "text/plain": [
       "                   name                               stato         topics\n",
       "0  PortfolioDataAnalyst  https://github.com/iantomasinicola  data-analysis\n",
       "1  PortfolioDataAnalyst  https://github.com/iantomasinicola          excel\n",
       "2  PortfolioDataAnalyst  https://github.com/iantomasinicola         python\n",
       "3  PortfolioDataAnalyst  https://github.com/iantomasinicola            sql"
      ]
     },
     "execution_count": 76,
     "metadata": {},
     "output_type": "execute_result"
    }
   ],
   "source": [
    "pd.DataFrame(nuovo_dict)"
   ]
  },
  {
   "cell_type": "markdown",
   "metadata": {},
   "source": [
    "# Esercizio 2: fare degli esperimenti con l'url per ottenere una lista di repository"
   ]
  },
  {
   "cell_type": "code",
   "execution_count": 77,
   "metadata": {},
   "outputs": [],
   "source": [
    "url = \"https://api.github.com/users/iantomasinicola/repos\""
   ]
  },
  {
   "cell_type": "code",
   "execution_count": 78,
   "metadata": {},
   "outputs": [],
   "source": [
    "progetti = requests.get(url).json()"
   ]
  },
  {
   "cell_type": "code",
   "execution_count": 79,
   "metadata": {},
   "outputs": [
    {
     "data": {
      "text/plain": [
       "[['corso-performance-sql-server', ['sqlserver', 'tsql']],\n",
       " ['CorsoPython', []],\n",
       " ['DatabaseYimp', ['creare-database', 'database', 'sql']],\n",
       " ['eBook', ['database', 'mysql', 'mysql-database', 'sql', 'sql-server']],\n",
       " ['Esercizi', []],\n",
       " ['Esercizi_excel', []],\n",
       " ['fantacalcio-e-intelligenza-artificiale',\n",
       "  ['fantacalcio', 'intelligenza-artificiale', 'python']],\n",
       " ['iantomasinicola', []],\n",
       " ['indici-sql-server', ['database', 'indexdb', 'sql', 'sql-server']],\n",
       " ['lavorare-sui-dataframe-di-pandas',\n",
       "  ['data-analyst', 'data-science', 'python']],\n",
       " ['LezioniPython', ['machine-learning', 'machine-learning-python', 'python']],\n",
       " ['Machine-Learning-con-SQL', []],\n",
       " ['PortfolioDataAnalyst', ['data-analysis', 'excel', 'python', 'sql']],\n",
       " ['progetto-sql', ['sql']]]"
      ]
     },
     "execution_count": 79,
     "metadata": {},
     "output_type": "execute_result"
    }
   ],
   "source": [
    "lista = []\n",
    "for el in progetti:\n",
    "    url = \"https://api.github.com/repos/iantomasinicola/\" + el[\"name\"]\n",
    "    lista.append([ el[\"name\"], requests.get(url).json()[\"topics\"] ])\n",
    "lista"
   ]
  },
  {
   "cell_type": "code",
   "execution_count": 80,
   "metadata": {},
   "outputs": [
    {
     "data": {
      "text/plain": [
       "[['corso-performance-sql-server', ['sql']],\n",
       " ['CorsoPython', ['sql']],\n",
       " ['DatabaseYimp', ['sql']],\n",
       " ['eBook', ['sql']],\n",
       " ['Esercizi', ['sql']],\n",
       " ['Esercizi_excel', ['sql']],\n",
       " ['fantacalcio-e-intelligenza-artificiale', ['sql']],\n",
       " ['iantomasinicola', ['sql']],\n",
       " ['indici-sql-server', ['sql']],\n",
       " ['lavorare-sui-dataframe-di-pandas', ['sql']],\n",
       " ['LezioniPython', ['sql']],\n",
       " ['Machine-Learning-con-SQL', ['sql']],\n",
       " ['PortfolioDataAnalyst', ['sql']],\n",
       " ['progetto-sql', ['sql']]]"
      ]
     },
     "execution_count": 80,
     "metadata": {},
     "output_type": "execute_result"
    }
   ],
   "source": [
    "lista = []\n",
    "for el in progetti:\n",
    "    lista.append([ el[\"name\"], requests.get(url).json()[\"topics\"] ])\n",
    "lista"
   ]
  },
  {
   "cell_type": "code",
   "execution_count": 81,
   "metadata": {},
   "outputs": [
    {
     "data": {
      "text/html": [
       "<div>\n",
       "<style scoped>\n",
       "    .dataframe tbody tr th:only-of-type {\n",
       "        vertical-align: middle;\n",
       "    }\n",
       "\n",
       "    .dataframe tbody tr th {\n",
       "        vertical-align: top;\n",
       "    }\n",
       "\n",
       "    .dataframe thead th {\n",
       "        text-align: right;\n",
       "    }\n",
       "</style>\n",
       "<table border=\"1\" class=\"dataframe\">\n",
       "  <thead>\n",
       "    <tr style=\"text-align: right;\">\n",
       "      <th></th>\n",
       "      <th>NomeProgetto</th>\n",
       "      <th>Argomento</th>\n",
       "    </tr>\n",
       "  </thead>\n",
       "  <tbody>\n",
       "    <tr>\n",
       "      <th>0</th>\n",
       "      <td>corso-performance-sql-server</td>\n",
       "      <td>[sql]</td>\n",
       "    </tr>\n",
       "    <tr>\n",
       "      <th>1</th>\n",
       "      <td>CorsoPython</td>\n",
       "      <td>[sql]</td>\n",
       "    </tr>\n",
       "    <tr>\n",
       "      <th>2</th>\n",
       "      <td>DatabaseYimp</td>\n",
       "      <td>[sql]</td>\n",
       "    </tr>\n",
       "    <tr>\n",
       "      <th>3</th>\n",
       "      <td>eBook</td>\n",
       "      <td>[sql]</td>\n",
       "    </tr>\n",
       "    <tr>\n",
       "      <th>4</th>\n",
       "      <td>Esercizi</td>\n",
       "      <td>[sql]</td>\n",
       "    </tr>\n",
       "    <tr>\n",
       "      <th>5</th>\n",
       "      <td>Esercizi_excel</td>\n",
       "      <td>[sql]</td>\n",
       "    </tr>\n",
       "    <tr>\n",
       "      <th>6</th>\n",
       "      <td>fantacalcio-e-intelligenza-artificiale</td>\n",
       "      <td>[sql]</td>\n",
       "    </tr>\n",
       "    <tr>\n",
       "      <th>7</th>\n",
       "      <td>iantomasinicola</td>\n",
       "      <td>[sql]</td>\n",
       "    </tr>\n",
       "    <tr>\n",
       "      <th>8</th>\n",
       "      <td>indici-sql-server</td>\n",
       "      <td>[sql]</td>\n",
       "    </tr>\n",
       "    <tr>\n",
       "      <th>9</th>\n",
       "      <td>lavorare-sui-dataframe-di-pandas</td>\n",
       "      <td>[sql]</td>\n",
       "    </tr>\n",
       "    <tr>\n",
       "      <th>10</th>\n",
       "      <td>LezioniPython</td>\n",
       "      <td>[sql]</td>\n",
       "    </tr>\n",
       "    <tr>\n",
       "      <th>11</th>\n",
       "      <td>Machine-Learning-con-SQL</td>\n",
       "      <td>[sql]</td>\n",
       "    </tr>\n",
       "    <tr>\n",
       "      <th>12</th>\n",
       "      <td>PortfolioDataAnalyst</td>\n",
       "      <td>[sql]</td>\n",
       "    </tr>\n",
       "    <tr>\n",
       "      <th>13</th>\n",
       "      <td>progetto-sql</td>\n",
       "      <td>[sql]</td>\n",
       "    </tr>\n",
       "  </tbody>\n",
       "</table>\n",
       "</div>"
      ],
      "text/plain": [
       "                              NomeProgetto Argomento\n",
       "0             corso-performance-sql-server     [sql]\n",
       "1                              CorsoPython     [sql]\n",
       "2                             DatabaseYimp     [sql]\n",
       "3                                    eBook     [sql]\n",
       "4                                 Esercizi     [sql]\n",
       "5                           Esercizi_excel     [sql]\n",
       "6   fantacalcio-e-intelligenza-artificiale     [sql]\n",
       "7                          iantomasinicola     [sql]\n",
       "8                        indici-sql-server     [sql]\n",
       "9         lavorare-sui-dataframe-di-pandas     [sql]\n",
       "10                           LezioniPython     [sql]\n",
       "11                Machine-Learning-con-SQL     [sql]\n",
       "12                    PortfolioDataAnalyst     [sql]\n",
       "13                            progetto-sql     [sql]"
      ]
     },
     "execution_count": 81,
     "metadata": {},
     "output_type": "execute_result"
    }
   ],
   "source": [
    "pd.DataFrame(columns=[\"NomeProgetto\",\"Argomento\"],data=lista)"
   ]
  }
 ],
 "metadata": {
  "kernelspec": {
   "display_name": "Python 3 (ipykernel)",
   "language": "python",
   "name": "python3"
  },
  "language_info": {
   "codemirror_mode": {
    "name": "ipython",
    "version": 3
   },
   "file_extension": ".py",
   "mimetype": "text/x-python",
   "name": "python",
   "nbconvert_exporter": "python",
   "pygments_lexer": "ipython3",
   "version": "3.13.0"
  }
 },
 "nbformat": 4,
 "nbformat_minor": 4
}
