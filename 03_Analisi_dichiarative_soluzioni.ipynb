{
 "cells": [
  {
   "cell_type": "markdown",
   "metadata": {},
   "source": [
    "# Analisi dichiarative"
   ]
  },
  {
   "cell_type": "code",
   "execution_count": 2,
   "metadata": {},
   "outputs": [],
   "source": [
    "import pandas as pd\n",
    "import numpy as np\n",
    "import datetime"
   ]
  },
  {
   "cell_type": "markdown",
   "metadata": {},
   "source": [
    "Creiamo una funzione per importare due dei file studiati nella lezione precedente"
   ]
  },
  {
   "cell_type": "code",
   "execution_count": 3,
   "metadata": {},
   "outputs": [],
   "source": [
    "def ImportFile():\n",
    "            \n",
    "    clienti = pd.read_csv(filepath_or_buffer = r\"C:\\Users\\ianto\\Desktop\\Corso python\\file\\Clienti.csv\",\n",
    "            sep = \";\", \n",
    "            header = 0\n",
    "            )  \n",
    "\n",
    "    clienti[\"DataNascita\"] =  pd.to_datetime(clienti[\"DataNascita\"])\n",
    "    \n",
    "    fatture = pd.read_csv(filepath_or_buffer = r\"C:\\Users\\ianto\\Desktop\\Corso python\\file\\Fatture.csv\",\n",
    "            sep = \";\",  #separtore del file\n",
    "            header = None,\n",
    "            names = [\"NumeroFattura\",\"Tipologia\",\"Importo\",\"Iva\",\"IdCliente\",\"Regione\",\"DataFattura\",\"NumeroFornitore\"],\n",
    "            decimal = \",\",\n",
    "            )\n",
    "    \n",
    "    fatture['DataFattura'] =  pd.to_datetime(fatture['DataFattura'],\n",
    "                                             format=\"%d/%m/%Y\"\n",
    "                                            )  \n",
    "    \n",
    "    fatture['NumeroFornitore'] = fatture['NumeroFornitore'].astype('Int64')\n",
    "\n",
    "    return clienti,fatture"
   ]
  },
  {
   "cell_type": "code",
   "execution_count": 4,
   "metadata": {},
   "outputs": [],
   "source": [
    "clienti,fatture = ImportFile()"
   ]
  },
  {
   "cell_type": "code",
   "execution_count": 5,
   "metadata": {},
   "outputs": [
    {
     "data": {
      "text/html": [
       "<div>\n",
       "<style scoped>\n",
       "    .dataframe tbody tr th:only-of-type {\n",
       "        vertical-align: middle;\n",
       "    }\n",
       "\n",
       "    .dataframe tbody tr th {\n",
       "        vertical-align: top;\n",
       "    }\n",
       "\n",
       "    .dataframe thead th {\n",
       "        text-align: right;\n",
       "    }\n",
       "</style>\n",
       "<table border=\"1\" class=\"dataframe\">\n",
       "  <thead>\n",
       "    <tr style=\"text-align: right;\">\n",
       "      <th></th>\n",
       "      <th>NumeroFattura</th>\n",
       "      <th>Tipologia</th>\n",
       "      <th>Importo</th>\n",
       "      <th>Iva</th>\n",
       "      <th>IdCliente</th>\n",
       "      <th>Regione</th>\n",
       "      <th>DataFattura</th>\n",
       "      <th>NumeroFornitore</th>\n",
       "    </tr>\n",
       "  </thead>\n",
       "  <tbody>\n",
       "    <tr>\n",
       "      <th>0</th>\n",
       "      <td>1</td>\n",
       "      <td>A</td>\n",
       "      <td>1120.0</td>\n",
       "      <td>20.0</td>\n",
       "      <td>1</td>\n",
       "      <td>Molise</td>\n",
       "      <td>2018-01-01</td>\n",
       "      <td>1</td>\n",
       "    </tr>\n",
       "    <tr>\n",
       "      <th>1</th>\n",
       "      <td>2</td>\n",
       "      <td>V</td>\n",
       "      <td>32.0</td>\n",
       "      <td>20.0</td>\n",
       "      <td>2</td>\n",
       "      <td>Puglia</td>\n",
       "      <td>2017-03-01</td>\n",
       "      <td>1</td>\n",
       "    </tr>\n",
       "    <tr>\n",
       "      <th>2</th>\n",
       "      <td>3</td>\n",
       "      <td>A</td>\n",
       "      <td>45.0</td>\n",
       "      <td>20.0</td>\n",
       "      <td>3</td>\n",
       "      <td>Lombardia</td>\n",
       "      <td>2017-06-01</td>\n",
       "      <td>1</td>\n",
       "    </tr>\n",
       "    <tr>\n",
       "      <th>3</th>\n",
       "      <td>4</td>\n",
       "      <td>V</td>\n",
       "      <td>64.0</td>\n",
       "      <td>20.0</td>\n",
       "      <td>3</td>\n",
       "      <td>Lombardia</td>\n",
       "      <td>2019-01-30</td>\n",
       "      <td>1</td>\n",
       "    </tr>\n",
       "    <tr>\n",
       "      <th>4</th>\n",
       "      <td>5</td>\n",
       "      <td>A</td>\n",
       "      <td>12.0</td>\n",
       "      <td>20.0</td>\n",
       "      <td>5</td>\n",
       "      <td>Umbria</td>\n",
       "      <td>2018-01-01</td>\n",
       "      <td>1</td>\n",
       "    </tr>\n",
       "  </tbody>\n",
       "</table>\n",
       "</div>"
      ],
      "text/plain": [
       "   NumeroFattura Tipologia  Importo   Iva  IdCliente    Regione DataFattura  \\\n",
       "0              1         A   1120.0  20.0          1     Molise  2018-01-01   \n",
       "1              2         V     32.0  20.0          2     Puglia  2017-03-01   \n",
       "2              3         A     45.0  20.0          3  Lombardia  2017-06-01   \n",
       "3              4         V     64.0  20.0          3  Lombardia  2019-01-30   \n",
       "4              5         A     12.0  20.0          5     Umbria  2018-01-01   \n",
       "\n",
       "   NumeroFornitore  \n",
       "0                1  \n",
       "1                1  \n",
       "2                1  \n",
       "3                1  \n",
       "4                1  "
      ]
     },
     "execution_count": 5,
     "metadata": {},
     "output_type": "execute_result"
    }
   ],
   "source": [
    "fatture.head(5)"
   ]
  },
  {
   "cell_type": "code",
   "execution_count": 6,
   "metadata": {},
   "outputs": [],
   "source": [
    "#Per visualizzare tutte le righe e tutte le colonne\n",
    "pd.set_option('display.max_columns', None)\n",
    "pd.set_option('display.max_rows',None)"
   ]
  },
  {
   "cell_type": "markdown",
   "metadata": {},
   "source": [
    "# Selezionare e filtrare i dati"
   ]
  },
  {
   "cell_type": "markdown",
   "metadata": {},
   "source": [
    "Estrarre le colonne NumeroClienti, Nome e regione dal dataframe Clienti. Visualizzare solo 5 righe\n"
   ]
  },
  {
   "cell_type": "code",
   "execution_count": 7,
   "metadata": {},
   "outputs": [
    {
     "data": {
      "text/html": [
       "<div>\n",
       "<style scoped>\n",
       "    .dataframe tbody tr th:only-of-type {\n",
       "        vertical-align: middle;\n",
       "    }\n",
       "\n",
       "    .dataframe tbody tr th {\n",
       "        vertical-align: top;\n",
       "    }\n",
       "\n",
       "    .dataframe thead th {\n",
       "        text-align: right;\n",
       "    }\n",
       "</style>\n",
       "<table border=\"1\" class=\"dataframe\">\n",
       "  <thead>\n",
       "    <tr style=\"text-align: right;\">\n",
       "      <th></th>\n",
       "      <th>NumeroCliente</th>\n",
       "      <th>Nome</th>\n",
       "      <th>Regione</th>\n",
       "    </tr>\n",
       "  </thead>\n",
       "  <tbody>\n",
       "    <tr>\n",
       "      <th>0</th>\n",
       "      <td>1</td>\n",
       "      <td>Nicoletta</td>\n",
       "      <td>NaN</td>\n",
       "    </tr>\n",
       "    <tr>\n",
       "      <th>1</th>\n",
       "      <td>2</td>\n",
       "      <td>Giovanni</td>\n",
       "      <td>Lazio</td>\n",
       "    </tr>\n",
       "    <tr>\n",
       "      <th>2</th>\n",
       "      <td>3</td>\n",
       "      <td>Marco</td>\n",
       "      <td>Lazio</td>\n",
       "    </tr>\n",
       "    <tr>\n",
       "      <th>3</th>\n",
       "      <td>4</td>\n",
       "      <td>Giovanna</td>\n",
       "      <td>Lazio</td>\n",
       "    </tr>\n",
       "    <tr>\n",
       "      <th>4</th>\n",
       "      <td>5</td>\n",
       "      <td>Alice</td>\n",
       "      <td>Sicilia</td>\n",
       "    </tr>\n",
       "  </tbody>\n",
       "</table>\n",
       "</div>"
      ],
      "text/plain": [
       "   NumeroCliente       Nome  Regione\n",
       "0              1  Nicoletta      NaN\n",
       "1              2   Giovanni    Lazio\n",
       "2              3      Marco    Lazio\n",
       "3              4   Giovanna    Lazio\n",
       "4              5      Alice  Sicilia"
      ]
     },
     "execution_count": 7,
     "metadata": {},
     "output_type": "execute_result"
    }
   ],
   "source": [
    "#SELECT TOP 5 NumeroCliente, Nome, Regione \n",
    "#FROM   Clienti\n",
    "\n",
    "clienti[[\"NumeroCliente\", \"Nome\", \"Regione\"]].head(5)"
   ]
  },
  {
   "cell_type": "markdown",
   "metadata": {},
   "source": [
    "Indicando solo il nome del dataframe vedrò tutte le colonne"
   ]
  },
  {
   "cell_type": "code",
   "execution_count": 8,
   "metadata": {},
   "outputs": [
    {
     "data": {
      "text/html": [
       "<div>\n",
       "<style scoped>\n",
       "    .dataframe tbody tr th:only-of-type {\n",
       "        vertical-align: middle;\n",
       "    }\n",
       "\n",
       "    .dataframe tbody tr th {\n",
       "        vertical-align: top;\n",
       "    }\n",
       "\n",
       "    .dataframe thead th {\n",
       "        text-align: right;\n",
       "    }\n",
       "</style>\n",
       "<table border=\"1\" class=\"dataframe\">\n",
       "  <thead>\n",
       "    <tr style=\"text-align: right;\">\n",
       "      <th></th>\n",
       "      <th>NumeroCliente</th>\n",
       "      <th>Nome</th>\n",
       "      <th>DataNascita</th>\n",
       "      <th>Nazione</th>\n",
       "      <th>Regione</th>\n",
       "    </tr>\n",
       "  </thead>\n",
       "  <tbody>\n",
       "    <tr>\n",
       "      <th>0</th>\n",
       "      <td>1</td>\n",
       "      <td>Nicoletta</td>\n",
       "      <td>2010-01-01</td>\n",
       "      <td>Francia</td>\n",
       "      <td>NaN</td>\n",
       "    </tr>\n",
       "    <tr>\n",
       "      <th>1</th>\n",
       "      <td>2</td>\n",
       "      <td>Giovanni</td>\n",
       "      <td>1976-03-01</td>\n",
       "      <td>Italia</td>\n",
       "      <td>Lazio</td>\n",
       "    </tr>\n",
       "    <tr>\n",
       "      <th>2</th>\n",
       "      <td>3</td>\n",
       "      <td>Marco</td>\n",
       "      <td>1980-04-01</td>\n",
       "      <td>Italia</td>\n",
       "      <td>Lazio</td>\n",
       "    </tr>\n",
       "    <tr>\n",
       "      <th>3</th>\n",
       "      <td>4</td>\n",
       "      <td>Giovanna</td>\n",
       "      <td>1977-05-01</td>\n",
       "      <td>Italia</td>\n",
       "      <td>Lazio</td>\n",
       "    </tr>\n",
       "    <tr>\n",
       "      <th>4</th>\n",
       "      <td>5</td>\n",
       "      <td>Alice</td>\n",
       "      <td>1969-06-01</td>\n",
       "      <td>Italia</td>\n",
       "      <td>Sicilia</td>\n",
       "    </tr>\n",
       "  </tbody>\n",
       "</table>\n",
       "</div>"
      ],
      "text/plain": [
       "   NumeroCliente       Nome DataNascita  Nazione  Regione\n",
       "0              1  Nicoletta  2010-01-01  Francia      NaN\n",
       "1              2   Giovanni  1976-03-01   Italia    Lazio\n",
       "2              3      Marco  1980-04-01   Italia    Lazio\n",
       "3              4   Giovanna  1977-05-01   Italia    Lazio\n",
       "4              5      Alice  1969-06-01   Italia  Sicilia"
      ]
     },
     "execution_count": 8,
     "metadata": {},
     "output_type": "execute_result"
    }
   ],
   "source": [
    "#SELECT TOP 5 * \n",
    "#FROM   Clienti\n",
    "\n",
    "clienti.head(5)"
   ]
  },
  {
   "cell_type": "markdown",
   "metadata": {},
   "source": [
    "Estrarre tutte le informazioni dei clienti della regione Lazio"
   ]
  },
  {
   "cell_type": "code",
   "execution_count": 9,
   "metadata": {},
   "outputs": [
    {
     "data": {
      "text/html": [
       "<div>\n",
       "<style scoped>\n",
       "    .dataframe tbody tr th:only-of-type {\n",
       "        vertical-align: middle;\n",
       "    }\n",
       "\n",
       "    .dataframe tbody tr th {\n",
       "        vertical-align: top;\n",
       "    }\n",
       "\n",
       "    .dataframe thead th {\n",
       "        text-align: right;\n",
       "    }\n",
       "</style>\n",
       "<table border=\"1\" class=\"dataframe\">\n",
       "  <thead>\n",
       "    <tr style=\"text-align: right;\">\n",
       "      <th></th>\n",
       "      <th>NumeroCliente</th>\n",
       "      <th>Nome</th>\n",
       "      <th>DataNascita</th>\n",
       "      <th>Nazione</th>\n",
       "      <th>Regione</th>\n",
       "    </tr>\n",
       "  </thead>\n",
       "  <tbody>\n",
       "    <tr>\n",
       "      <th>1</th>\n",
       "      <td>2</td>\n",
       "      <td>Giovanni</td>\n",
       "      <td>1976-03-01</td>\n",
       "      <td>Italia</td>\n",
       "      <td>Lazio</td>\n",
       "    </tr>\n",
       "    <tr>\n",
       "      <th>2</th>\n",
       "      <td>3</td>\n",
       "      <td>Marco</td>\n",
       "      <td>1980-04-01</td>\n",
       "      <td>Italia</td>\n",
       "      <td>Lazio</td>\n",
       "    </tr>\n",
       "    <tr>\n",
       "      <th>3</th>\n",
       "      <td>4</td>\n",
       "      <td>Giovanna</td>\n",
       "      <td>1977-05-01</td>\n",
       "      <td>Italia</td>\n",
       "      <td>Lazio</td>\n",
       "    </tr>\n",
       "  </tbody>\n",
       "</table>\n",
       "</div>"
      ],
      "text/plain": [
       "   NumeroCliente      Nome DataNascita Nazione Regione\n",
       "1              2  Giovanni  1976-03-01  Italia   Lazio\n",
       "2              3     Marco  1980-04-01  Italia   Lazio\n",
       "3              4  Giovanna  1977-05-01  Italia   Lazio"
      ]
     },
     "execution_count": 9,
     "metadata": {},
     "output_type": "execute_result"
    }
   ],
   "source": [
    "#SELECT * \n",
    "#FROM   Clienti \n",
    "#WHERE  Regione='Lazio'\n",
    "\n",
    "clienti[clienti[\"Regione\"] == \"Lazio\"]"
   ]
  },
  {
   "cell_type": "code",
   "execution_count": 10,
   "metadata": {},
   "outputs": [
    {
     "data": {
      "text/html": [
       "<div>\n",
       "<style scoped>\n",
       "    .dataframe tbody tr th:only-of-type {\n",
       "        vertical-align: middle;\n",
       "    }\n",
       "\n",
       "    .dataframe tbody tr th {\n",
       "        vertical-align: top;\n",
       "    }\n",
       "\n",
       "    .dataframe thead th {\n",
       "        text-align: right;\n",
       "    }\n",
       "</style>\n",
       "<table border=\"1\" class=\"dataframe\">\n",
       "  <thead>\n",
       "    <tr style=\"text-align: right;\">\n",
       "      <th></th>\n",
       "      <th>NumeroCliente</th>\n",
       "      <th>Nome</th>\n",
       "      <th>DataNascita</th>\n",
       "      <th>Nazione</th>\n",
       "      <th>Regione</th>\n",
       "    </tr>\n",
       "  </thead>\n",
       "  <tbody>\n",
       "    <tr>\n",
       "      <th>1</th>\n",
       "      <td>2</td>\n",
       "      <td>Giovanni</td>\n",
       "      <td>1976-03-01</td>\n",
       "      <td>Italia</td>\n",
       "      <td>Lazio</td>\n",
       "    </tr>\n",
       "    <tr>\n",
       "      <th>2</th>\n",
       "      <td>3</td>\n",
       "      <td>Marco</td>\n",
       "      <td>1980-04-01</td>\n",
       "      <td>Italia</td>\n",
       "      <td>Lazio</td>\n",
       "    </tr>\n",
       "    <tr>\n",
       "      <th>3</th>\n",
       "      <td>4</td>\n",
       "      <td>Giovanna</td>\n",
       "      <td>1977-05-01</td>\n",
       "      <td>Italia</td>\n",
       "      <td>Lazio</td>\n",
       "    </tr>\n",
       "  </tbody>\n",
       "</table>\n",
       "</div>"
      ],
      "text/plain": [
       "   NumeroCliente      Nome DataNascita Nazione Regione\n",
       "1              2  Giovanni  1976-03-01  Italia   Lazio\n",
       "2              3     Marco  1980-04-01  Italia   Lazio\n",
       "3              4  Giovanna  1977-05-01  Italia   Lazio"
      ]
     },
     "execution_count": 10,
     "metadata": {},
     "output_type": "execute_result"
    }
   ],
   "source": [
    "clienti.query('Regione == \"Lazio\"')"
   ]
  },
  {
   "cell_type": "markdown",
   "metadata": {},
   "source": [
    "## Filtri con AND"
   ]
  },
  {
   "cell_type": "markdown",
   "metadata": {},
   "source": [
    "Estrarre NumeroCliente e Nome dei clienti della regione Lazio che si chiamano Giovanni"
   ]
  },
  {
   "cell_type": "code",
   "execution_count": 11,
   "metadata": {},
   "outputs": [
    {
     "data": {
      "text/html": [
       "<div>\n",
       "<style scoped>\n",
       "    .dataframe tbody tr th:only-of-type {\n",
       "        vertical-align: middle;\n",
       "    }\n",
       "\n",
       "    .dataframe tbody tr th {\n",
       "        vertical-align: top;\n",
       "    }\n",
       "\n",
       "    .dataframe thead th {\n",
       "        text-align: right;\n",
       "    }\n",
       "</style>\n",
       "<table border=\"1\" class=\"dataframe\">\n",
       "  <thead>\n",
       "    <tr style=\"text-align: right;\">\n",
       "      <th></th>\n",
       "      <th>NumeroCliente</th>\n",
       "      <th>Nome</th>\n",
       "    </tr>\n",
       "  </thead>\n",
       "  <tbody>\n",
       "    <tr>\n",
       "      <th>1</th>\n",
       "      <td>2</td>\n",
       "      <td>Giovanni</td>\n",
       "    </tr>\n",
       "  </tbody>\n",
       "</table>\n",
       "</div>"
      ],
      "text/plain": [
       "   NumeroCliente      Nome\n",
       "1              2  Giovanni"
      ]
     },
     "execution_count": 11,
     "metadata": {},
     "output_type": "execute_result"
    }
   ],
   "source": [
    "#SELECT NumeroCliente, \n",
    "#       Nome \n",
    "#FROM   Clienti \n",
    "#WHERE  Regione='Lazio'\n",
    "#   AND Nome='Giovanni\n",
    "\n",
    "clienti[(clienti[\"Regione\"] == \"Lazio\") & (clienti[\"Nome\"] == \"Giovanni\")] \\\n",
    "       [[\"NumeroCliente\", \"Nome\"]]"
   ]
  },
  {
   "cell_type": "code",
   "execution_count": 12,
   "metadata": {},
   "outputs": [
    {
     "data": {
      "text/html": [
       "<div>\n",
       "<style scoped>\n",
       "    .dataframe tbody tr th:only-of-type {\n",
       "        vertical-align: middle;\n",
       "    }\n",
       "\n",
       "    .dataframe tbody tr th {\n",
       "        vertical-align: top;\n",
       "    }\n",
       "\n",
       "    .dataframe thead th {\n",
       "        text-align: right;\n",
       "    }\n",
       "</style>\n",
       "<table border=\"1\" class=\"dataframe\">\n",
       "  <thead>\n",
       "    <tr style=\"text-align: right;\">\n",
       "      <th></th>\n",
       "      <th>NumeroCliente</th>\n",
       "      <th>Nome</th>\n",
       "    </tr>\n",
       "  </thead>\n",
       "  <tbody>\n",
       "    <tr>\n",
       "      <th>1</th>\n",
       "      <td>2</td>\n",
       "      <td>Giovanni</td>\n",
       "    </tr>\n",
       "  </tbody>\n",
       "</table>\n",
       "</div>"
      ],
      "text/plain": [
       "   NumeroCliente      Nome\n",
       "1              2  Giovanni"
      ]
     },
     "execution_count": 12,
     "metadata": {},
     "output_type": "execute_result"
    }
   ],
   "source": [
    "clienti.query('Regione == \"Lazio\" and Nome == \"Giovanni\"') [[\"NumeroCliente\", \"Nome\"]]"
   ]
  },
  {
   "cell_type": "markdown",
   "metadata": {},
   "source": [
    "Possiamo anche dichiarare prima il valore da cercare"
   ]
  },
  {
   "cell_type": "code",
   "execution_count": 13,
   "metadata": {},
   "outputs": [],
   "source": [
    "x = \"Lazio\"\n",
    "y = \"Giovanni\""
   ]
  },
  {
   "cell_type": "code",
   "execution_count": 14,
   "metadata": {},
   "outputs": [
    {
     "data": {
      "text/html": [
       "<div>\n",
       "<style scoped>\n",
       "    .dataframe tbody tr th:only-of-type {\n",
       "        vertical-align: middle;\n",
       "    }\n",
       "\n",
       "    .dataframe tbody tr th {\n",
       "        vertical-align: top;\n",
       "    }\n",
       "\n",
       "    .dataframe thead th {\n",
       "        text-align: right;\n",
       "    }\n",
       "</style>\n",
       "<table border=\"1\" class=\"dataframe\">\n",
       "  <thead>\n",
       "    <tr style=\"text-align: right;\">\n",
       "      <th></th>\n",
       "      <th>NumeroCliente</th>\n",
       "      <th>Nome</th>\n",
       "    </tr>\n",
       "  </thead>\n",
       "  <tbody>\n",
       "    <tr>\n",
       "      <th>1</th>\n",
       "      <td>2</td>\n",
       "      <td>Giovanni</td>\n",
       "    </tr>\n",
       "  </tbody>\n",
       "</table>\n",
       "</div>"
      ],
      "text/plain": [
       "   NumeroCliente      Nome\n",
       "1              2  Giovanni"
      ]
     },
     "execution_count": 14,
     "metadata": {},
     "output_type": "execute_result"
    }
   ],
   "source": [
    "clienti.query('Regione == @x and Nome == @y') [[\"NumeroCliente\", \"Nome\"]]"
   ]
  },
  {
   "cell_type": "markdown",
   "metadata": {},
   "source": [
    "## Filtri con OR"
   ]
  },
  {
   "cell_type": "markdown",
   "metadata": {},
   "source": [
    "Estrarre NumeroCliente, Nome e regione dei clienti che soddisfano almeno\n",
    "una delle seguenti proprietà:\n",
    "1) sono della regione Lazio\n",
    "\n",
    "2) si chiamano Giovanni"
   ]
  },
  {
   "cell_type": "code",
   "execution_count": 15,
   "metadata": {},
   "outputs": [
    {
     "data": {
      "text/html": [
       "<div>\n",
       "<style scoped>\n",
       "    .dataframe tbody tr th:only-of-type {\n",
       "        vertical-align: middle;\n",
       "    }\n",
       "\n",
       "    .dataframe tbody tr th {\n",
       "        vertical-align: top;\n",
       "    }\n",
       "\n",
       "    .dataframe thead th {\n",
       "        text-align: right;\n",
       "    }\n",
       "</style>\n",
       "<table border=\"1\" class=\"dataframe\">\n",
       "  <thead>\n",
       "    <tr style=\"text-align: right;\">\n",
       "      <th></th>\n",
       "      <th>NumeroCliente</th>\n",
       "      <th>Nome</th>\n",
       "      <th>Regione</th>\n",
       "    </tr>\n",
       "  </thead>\n",
       "  <tbody>\n",
       "    <tr>\n",
       "      <th>1</th>\n",
       "      <td>2</td>\n",
       "      <td>Giovanni</td>\n",
       "      <td>Lazio</td>\n",
       "    </tr>\n",
       "    <tr>\n",
       "      <th>2</th>\n",
       "      <td>3</td>\n",
       "      <td>Marco</td>\n",
       "      <td>Lazio</td>\n",
       "    </tr>\n",
       "    <tr>\n",
       "      <th>3</th>\n",
       "      <td>4</td>\n",
       "      <td>Giovanna</td>\n",
       "      <td>Lazio</td>\n",
       "    </tr>\n",
       "    <tr>\n",
       "      <th>9</th>\n",
       "      <td>10</td>\n",
       "      <td>Giovanni</td>\n",
       "      <td>Toscana</td>\n",
       "    </tr>\n",
       "    <tr>\n",
       "      <th>14</th>\n",
       "      <td>15</td>\n",
       "      <td>Giovanni</td>\n",
       "      <td>Toscana</td>\n",
       "    </tr>\n",
       "  </tbody>\n",
       "</table>\n",
       "</div>"
      ],
      "text/plain": [
       "    NumeroCliente      Nome  Regione\n",
       "1               2  Giovanni    Lazio\n",
       "2               3     Marco    Lazio\n",
       "3               4  Giovanna    Lazio\n",
       "9              10  Giovanni  Toscana\n",
       "14             15  Giovanni  Toscana"
      ]
     },
     "execution_count": 15,
     "metadata": {},
     "output_type": "execute_result"
    }
   ],
   "source": [
    "#SELECT TOP 5 NumeroCliente,\n",
    "#       Nome,\n",
    "#       Regione\n",
    "#FROM   Clienti \n",
    "#WHERE  Regione='Lazio'\n",
    "#    OR Nome='Giovanni\n",
    "\n",
    "clienti.query('Regione == \"Lazio\" or Nome == \"Giovanni\"') [[\"NumeroCliente\", \"Nome\", \"Regione\"]].head(5)"
   ]
  },
  {
   "cell_type": "markdown",
   "metadata": {},
   "source": [
    "## Filtri con isin"
   ]
  },
  {
   "cell_type": "markdown",
   "metadata": {},
   "source": [
    "Estrarre  NumeroCliente, Nome e regione dei clienti residenti nel Lazio\n",
    "o nel Piemonte"
   ]
  },
  {
   "cell_type": "code",
   "execution_count": 16,
   "metadata": {},
   "outputs": [
    {
     "data": {
      "text/html": [
       "<div>\n",
       "<style scoped>\n",
       "    .dataframe tbody tr th:only-of-type {\n",
       "        vertical-align: middle;\n",
       "    }\n",
       "\n",
       "    .dataframe tbody tr th {\n",
       "        vertical-align: top;\n",
       "    }\n",
       "\n",
       "    .dataframe thead th {\n",
       "        text-align: right;\n",
       "    }\n",
       "</style>\n",
       "<table border=\"1\" class=\"dataframe\">\n",
       "  <thead>\n",
       "    <tr style=\"text-align: right;\">\n",
       "      <th></th>\n",
       "      <th>NumeroCliente</th>\n",
       "      <th>Nome</th>\n",
       "      <th>Regione</th>\n",
       "    </tr>\n",
       "  </thead>\n",
       "  <tbody>\n",
       "    <tr>\n",
       "      <th>1</th>\n",
       "      <td>2</td>\n",
       "      <td>Giovanni</td>\n",
       "      <td>Lazio</td>\n",
       "    </tr>\n",
       "    <tr>\n",
       "      <th>2</th>\n",
       "      <td>3</td>\n",
       "      <td>Marco</td>\n",
       "      <td>Lazio</td>\n",
       "    </tr>\n",
       "    <tr>\n",
       "      <th>3</th>\n",
       "      <td>4</td>\n",
       "      <td>Giovanna</td>\n",
       "      <td>Lazio</td>\n",
       "    </tr>\n",
       "    <tr>\n",
       "      <th>19</th>\n",
       "      <td>20</td>\n",
       "      <td>Giovanni</td>\n",
       "      <td>Piemonte</td>\n",
       "    </tr>\n",
       "    <tr>\n",
       "      <th>20</th>\n",
       "      <td>22</td>\n",
       "      <td>Franca</td>\n",
       "      <td>Piemonte</td>\n",
       "    </tr>\n",
       "    <tr>\n",
       "      <th>21</th>\n",
       "      <td>23</td>\n",
       "      <td>Maria</td>\n",
       "      <td>Piemonte</td>\n",
       "    </tr>\n",
       "    <tr>\n",
       "      <th>22</th>\n",
       "      <td>24</td>\n",
       "      <td>Marina</td>\n",
       "      <td>Piemonte</td>\n",
       "    </tr>\n",
       "  </tbody>\n",
       "</table>\n",
       "</div>"
      ],
      "text/plain": [
       "    NumeroCliente      Nome   Regione\n",
       "1               2  Giovanni     Lazio\n",
       "2               3     Marco     Lazio\n",
       "3               4  Giovanna     Lazio\n",
       "19             20  Giovanni  Piemonte\n",
       "20             22    Franca  Piemonte\n",
       "21             23     Maria  Piemonte\n",
       "22             24    Marina  Piemonte"
      ]
     },
     "execution_count": 16,
     "metadata": {},
     "output_type": "execute_result"
    }
   ],
   "source": [
    "#SELECT NumeroCliente, \n",
    "#       Nome, \n",
    "#       Regione\n",
    "#FROM   Clienti \n",
    "#WHERE  Regione = 'Piemonte'\n",
    "#    OR Regione='Lazio'\n",
    "#oppure\n",
    "#SELECT NumeroCliente, \n",
    "#       Nome, \n",
    "#       Regione\n",
    "#FROM   Clienti \n",
    "#WHERE  Regione IN ('Piemonte', 'Lazio')\n",
    "\n",
    "clienti.query('Regione in [\"Piemonte\",\"Lazio\"]')[[\"NumeroCliente\", \"Nome\",\"Regione\"]]"
   ]
  },
  {
   "cell_type": "markdown",
   "metadata": {},
   "source": [
    "## Attenzione ai tipi!"
   ]
  },
  {
   "cell_type": "markdown",
   "metadata": {},
   "source": [
    "Se cerco una parola in una colonna di tipo intero, non otterrò risultati"
   ]
  },
  {
   "cell_type": "code",
   "execution_count": 17,
   "metadata": {},
   "outputs": [
    {
     "name": "stdout",
     "output_type": "stream",
     "text": [
      "<class 'pandas.core.frame.DataFrame'>\n",
      "RangeIndex: 40 entries, 0 to 39\n",
      "Data columns (total 5 columns):\n",
      " #   Column         Non-Null Count  Dtype         \n",
      "---  ------         --------------  -----         \n",
      " 0   NumeroCliente  40 non-null     int64         \n",
      " 1   Nome           40 non-null     object        \n",
      " 2   DataNascita    40 non-null     datetime64[ns]\n",
      " 3   Nazione        40 non-null     object        \n",
      " 4   Regione        39 non-null     object        \n",
      "dtypes: datetime64[ns](1), int64(1), object(3)\n",
      "memory usage: 1.7+ KB\n"
     ]
    }
   ],
   "source": [
    "clienti.info()"
   ]
  },
  {
   "cell_type": "code",
   "execution_count": 18,
   "metadata": {},
   "outputs": [
    {
     "data": {
      "text/html": [
       "<div>\n",
       "<style scoped>\n",
       "    .dataframe tbody tr th:only-of-type {\n",
       "        vertical-align: middle;\n",
       "    }\n",
       "\n",
       "    .dataframe tbody tr th {\n",
       "        vertical-align: top;\n",
       "    }\n",
       "\n",
       "    .dataframe thead th {\n",
       "        text-align: right;\n",
       "    }\n",
       "</style>\n",
       "<table border=\"1\" class=\"dataframe\">\n",
       "  <thead>\n",
       "    <tr style=\"text-align: right;\">\n",
       "      <th></th>\n",
       "      <th>NumeroCliente</th>\n",
       "      <th>Nome</th>\n",
       "      <th>DataNascita</th>\n",
       "      <th>Nazione</th>\n",
       "      <th>Regione</th>\n",
       "    </tr>\n",
       "  </thead>\n",
       "  <tbody>\n",
       "  </tbody>\n",
       "</table>\n",
       "</div>"
      ],
      "text/plain": [
       "Empty DataFrame\n",
       "Columns: [NumeroCliente, Nome, DataNascita, Nazione, Regione]\n",
       "Index: []"
      ]
     },
     "execution_count": 18,
     "metadata": {},
     "output_type": "execute_result"
    }
   ],
   "source": [
    "clienti.query(\"NumeroCliente == '3'\")"
   ]
  },
  {
   "cell_type": "markdown",
   "metadata": {},
   "source": [
    "Proviamo a convertire la colonna in stringa in un nuovo DataFrame"
   ]
  },
  {
   "cell_type": "code",
   "execution_count": 19,
   "metadata": {},
   "outputs": [],
   "source": [
    "clienti2 = clienti.copy()\n",
    "clienti2[\"NumeroCliente\"] = clienti2[\"NumeroCliente\"].astype(str)"
   ]
  },
  {
   "cell_type": "code",
   "execution_count": 20,
   "metadata": {},
   "outputs": [
    {
     "data": {
      "text/html": [
       "<div>\n",
       "<style scoped>\n",
       "    .dataframe tbody tr th:only-of-type {\n",
       "        vertical-align: middle;\n",
       "    }\n",
       "\n",
       "    .dataframe tbody tr th {\n",
       "        vertical-align: top;\n",
       "    }\n",
       "\n",
       "    .dataframe thead th {\n",
       "        text-align: right;\n",
       "    }\n",
       "</style>\n",
       "<table border=\"1\" class=\"dataframe\">\n",
       "  <thead>\n",
       "    <tr style=\"text-align: right;\">\n",
       "      <th></th>\n",
       "      <th>NumeroCliente</th>\n",
       "      <th>Nome</th>\n",
       "      <th>DataNascita</th>\n",
       "      <th>Nazione</th>\n",
       "      <th>Regione</th>\n",
       "    </tr>\n",
       "  </thead>\n",
       "  <tbody>\n",
       "    <tr>\n",
       "      <th>2</th>\n",
       "      <td>3</td>\n",
       "      <td>Marco</td>\n",
       "      <td>1980-04-01</td>\n",
       "      <td>Italia</td>\n",
       "      <td>Lazio</td>\n",
       "    </tr>\n",
       "  </tbody>\n",
       "</table>\n",
       "</div>"
      ],
      "text/plain": [
       "  NumeroCliente   Nome DataNascita Nazione Regione\n",
       "2             3  Marco  1980-04-01  Italia   Lazio"
      ]
     },
     "execution_count": 20,
     "metadata": {},
     "output_type": "execute_result"
    }
   ],
   "source": [
    "clienti2.query(\"NumeroCliente == '3'\")"
   ]
  },
  {
   "cell_type": "markdown",
   "metadata": {},
   "source": [
    "Viceversa non otterrò risultati con la prossima query"
   ]
  },
  {
   "cell_type": "code",
   "execution_count": 21,
   "metadata": {},
   "outputs": [
    {
     "data": {
      "text/html": [
       "<div>\n",
       "<style scoped>\n",
       "    .dataframe tbody tr th:only-of-type {\n",
       "        vertical-align: middle;\n",
       "    }\n",
       "\n",
       "    .dataframe tbody tr th {\n",
       "        vertical-align: top;\n",
       "    }\n",
       "\n",
       "    .dataframe thead th {\n",
       "        text-align: right;\n",
       "    }\n",
       "</style>\n",
       "<table border=\"1\" class=\"dataframe\">\n",
       "  <thead>\n",
       "    <tr style=\"text-align: right;\">\n",
       "      <th></th>\n",
       "      <th>NumeroCliente</th>\n",
       "      <th>Nome</th>\n",
       "      <th>DataNascita</th>\n",
       "      <th>Nazione</th>\n",
       "      <th>Regione</th>\n",
       "    </tr>\n",
       "  </thead>\n",
       "  <tbody>\n",
       "  </tbody>\n",
       "</table>\n",
       "</div>"
      ],
      "text/plain": [
       "Empty DataFrame\n",
       "Columns: [NumeroCliente, Nome, DataNascita, Nazione, Regione]\n",
       "Index: []"
      ]
     },
     "execution_count": 21,
     "metadata": {},
     "output_type": "execute_result"
    }
   ],
   "source": [
    "clienti2.query(\"NumeroCliente == 3 \")"
   ]
  },
  {
   "cell_type": "markdown",
   "metadata": {},
   "source": [
    "## Attenzione ai null! "
   ]
  },
  {
   "cell_type": "markdown",
   "metadata": {},
   "source": [
    "Null risulta diverso da Lazio (non accade lo stesso con l'SQL)"
   ]
  },
  {
   "cell_type": "code",
   "execution_count": 22,
   "metadata": {},
   "outputs": [
    {
     "data": {
      "text/html": [
       "<div>\n",
       "<style scoped>\n",
       "    .dataframe tbody tr th:only-of-type {\n",
       "        vertical-align: middle;\n",
       "    }\n",
       "\n",
       "    .dataframe tbody tr th {\n",
       "        vertical-align: top;\n",
       "    }\n",
       "\n",
       "    .dataframe thead th {\n",
       "        text-align: right;\n",
       "    }\n",
       "</style>\n",
       "<table border=\"1\" class=\"dataframe\">\n",
       "  <thead>\n",
       "    <tr style=\"text-align: right;\">\n",
       "      <th></th>\n",
       "      <th>NumeroCliente</th>\n",
       "      <th>Nome</th>\n",
       "      <th>DataNascita</th>\n",
       "      <th>Nazione</th>\n",
       "      <th>Regione</th>\n",
       "    </tr>\n",
       "  </thead>\n",
       "  <tbody>\n",
       "    <tr>\n",
       "      <th>0</th>\n",
       "      <td>1</td>\n",
       "      <td>Nicoletta</td>\n",
       "      <td>2010-01-01</td>\n",
       "      <td>Francia</td>\n",
       "      <td>NaN</td>\n",
       "    </tr>\n",
       "    <tr>\n",
       "      <th>4</th>\n",
       "      <td>5</td>\n",
       "      <td>Alice</td>\n",
       "      <td>1969-06-01</td>\n",
       "      <td>Italia</td>\n",
       "      <td>Sicilia</td>\n",
       "    </tr>\n",
       "    <tr>\n",
       "      <th>5</th>\n",
       "      <td>6</td>\n",
       "      <td>Fabrizio</td>\n",
       "      <td>1996-07-01</td>\n",
       "      <td>Italia</td>\n",
       "      <td>Sicilia</td>\n",
       "    </tr>\n",
       "    <tr>\n",
       "      <th>6</th>\n",
       "      <td>7</td>\n",
       "      <td>Irene</td>\n",
       "      <td>1990-08-01</td>\n",
       "      <td>Italia</td>\n",
       "      <td>Sicilia</td>\n",
       "    </tr>\n",
       "    <tr>\n",
       "      <th>7</th>\n",
       "      <td>8</td>\n",
       "      <td>Maria</td>\n",
       "      <td>1999-09-01</td>\n",
       "      <td>Italia</td>\n",
       "      <td>Sicilia</td>\n",
       "    </tr>\n",
       "  </tbody>\n",
       "</table>\n",
       "</div>"
      ],
      "text/plain": [
       "   NumeroCliente       Nome DataNascita  Nazione  Regione\n",
       "0              1  Nicoletta  2010-01-01  Francia      NaN\n",
       "4              5      Alice  1969-06-01   Italia  Sicilia\n",
       "5              6   Fabrizio  1996-07-01   Italia  Sicilia\n",
       "6              7      Irene  1990-08-01   Italia  Sicilia\n",
       "7              8      Maria  1999-09-01   Italia  Sicilia"
      ]
     },
     "execution_count": 22,
     "metadata": {},
     "output_type": "execute_result"
    }
   ],
   "source": [
    "clienti.query(\"Regione != 'Lazio'\").head(5)"
   ]
  },
  {
   "cell_type": "markdown",
   "metadata": {},
   "source": [
    "estrarre tutte le righe dove la regione è null"
   ]
  },
  {
   "cell_type": "code",
   "execution_count": 23,
   "metadata": {},
   "outputs": [
    {
     "data": {
      "text/html": [
       "<div>\n",
       "<style scoped>\n",
       "    .dataframe tbody tr th:only-of-type {\n",
       "        vertical-align: middle;\n",
       "    }\n",
       "\n",
       "    .dataframe tbody tr th {\n",
       "        vertical-align: top;\n",
       "    }\n",
       "\n",
       "    .dataframe thead th {\n",
       "        text-align: right;\n",
       "    }\n",
       "</style>\n",
       "<table border=\"1\" class=\"dataframe\">\n",
       "  <thead>\n",
       "    <tr style=\"text-align: right;\">\n",
       "      <th></th>\n",
       "      <th>NumeroCliente</th>\n",
       "      <th>Nome</th>\n",
       "      <th>DataNascita</th>\n",
       "      <th>Nazione</th>\n",
       "      <th>Regione</th>\n",
       "    </tr>\n",
       "  </thead>\n",
       "  <tbody>\n",
       "    <tr>\n",
       "      <th>0</th>\n",
       "      <td>1</td>\n",
       "      <td>Nicoletta</td>\n",
       "      <td>2010-01-01</td>\n",
       "      <td>Francia</td>\n",
       "      <td>NaN</td>\n",
       "    </tr>\n",
       "  </tbody>\n",
       "</table>\n",
       "</div>"
      ],
      "text/plain": [
       "   NumeroCliente       Nome DataNascita  Nazione Regione\n",
       "0              1  Nicoletta  2010-01-01  Francia     NaN"
      ]
     },
     "execution_count": 23,
     "metadata": {},
     "output_type": "execute_result"
    }
   ],
   "source": [
    "#SELECT *\n",
    "#FROM   Clienti \n",
    "#WHERE  Regione IS NULL\n",
    "\n",
    "clienti.query(\"Regione.isna()\")"
   ]
  },
  {
   "cell_type": "markdown",
   "metadata": {},
   "source": [
    "Estrarre 5 righe dove la regione non è null"
   ]
  },
  {
   "cell_type": "code",
   "execution_count": 24,
   "metadata": {},
   "outputs": [
    {
     "data": {
      "text/html": [
       "<div>\n",
       "<style scoped>\n",
       "    .dataframe tbody tr th:only-of-type {\n",
       "        vertical-align: middle;\n",
       "    }\n",
       "\n",
       "    .dataframe tbody tr th {\n",
       "        vertical-align: top;\n",
       "    }\n",
       "\n",
       "    .dataframe thead th {\n",
       "        text-align: right;\n",
       "    }\n",
       "</style>\n",
       "<table border=\"1\" class=\"dataframe\">\n",
       "  <thead>\n",
       "    <tr style=\"text-align: right;\">\n",
       "      <th></th>\n",
       "      <th>NumeroCliente</th>\n",
       "      <th>Nome</th>\n",
       "      <th>DataNascita</th>\n",
       "      <th>Nazione</th>\n",
       "      <th>Regione</th>\n",
       "    </tr>\n",
       "  </thead>\n",
       "  <tbody>\n",
       "    <tr>\n",
       "      <th>1</th>\n",
       "      <td>2</td>\n",
       "      <td>Giovanni</td>\n",
       "      <td>1976-03-01</td>\n",
       "      <td>Italia</td>\n",
       "      <td>Lazio</td>\n",
       "    </tr>\n",
       "    <tr>\n",
       "      <th>2</th>\n",
       "      <td>3</td>\n",
       "      <td>Marco</td>\n",
       "      <td>1980-04-01</td>\n",
       "      <td>Italia</td>\n",
       "      <td>Lazio</td>\n",
       "    </tr>\n",
       "    <tr>\n",
       "      <th>3</th>\n",
       "      <td>4</td>\n",
       "      <td>Giovanna</td>\n",
       "      <td>1977-05-01</td>\n",
       "      <td>Italia</td>\n",
       "      <td>Lazio</td>\n",
       "    </tr>\n",
       "    <tr>\n",
       "      <th>4</th>\n",
       "      <td>5</td>\n",
       "      <td>Alice</td>\n",
       "      <td>1969-06-01</td>\n",
       "      <td>Italia</td>\n",
       "      <td>Sicilia</td>\n",
       "    </tr>\n",
       "    <tr>\n",
       "      <th>5</th>\n",
       "      <td>6</td>\n",
       "      <td>Fabrizio</td>\n",
       "      <td>1996-07-01</td>\n",
       "      <td>Italia</td>\n",
       "      <td>Sicilia</td>\n",
       "    </tr>\n",
       "  </tbody>\n",
       "</table>\n",
       "</div>"
      ],
      "text/plain": [
       "   NumeroCliente      Nome DataNascita Nazione  Regione\n",
       "1              2  Giovanni  1976-03-01  Italia    Lazio\n",
       "2              3     Marco  1980-04-01  Italia    Lazio\n",
       "3              4  Giovanna  1977-05-01  Italia    Lazio\n",
       "4              5     Alice  1969-06-01  Italia  Sicilia\n",
       "5              6  Fabrizio  1996-07-01  Italia  Sicilia"
      ]
     },
     "execution_count": 24,
     "metadata": {},
     "output_type": "execute_result"
    }
   ],
   "source": [
    "#SELECT TOP 5 *\n",
    "#FROM   Clienti \n",
    "#WHERE  Regione IS NOT NULL\n",
    "\n",
    "clienti.query(\"Regione.notna()\").head(5)"
   ]
  },
  {
   "cell_type": "markdown",
   "metadata": {},
   "source": [
    "## Filtri su colonne di tipo datetime"
   ]
  },
  {
   "cell_type": "markdown",
   "metadata": {},
   "source": [
    "Estrarre tutte le fatture emesse dopo il 3 marzo 2018"
   ]
  },
  {
   "cell_type": "code",
   "execution_count": 25,
   "metadata": {},
   "outputs": [
    {
     "data": {
      "text/plain": [
       "NumeroFattura               int64\n",
       "Tipologia                  object\n",
       "Importo                   float64\n",
       "Iva                       float64\n",
       "IdCliente                   int64\n",
       "Regione                    object\n",
       "DataFattura        datetime64[ns]\n",
       "NumeroFornitore             Int64\n",
       "dtype: object"
      ]
     },
     "execution_count": 25,
     "metadata": {},
     "output_type": "execute_result"
    }
   ],
   "source": [
    "fatture.dtypes"
   ]
  },
  {
   "cell_type": "code",
   "execution_count": 26,
   "metadata": {},
   "outputs": [
    {
     "data": {
      "text/html": [
       "<div>\n",
       "<style scoped>\n",
       "    .dataframe tbody tr th:only-of-type {\n",
       "        vertical-align: middle;\n",
       "    }\n",
       "\n",
       "    .dataframe tbody tr th {\n",
       "        vertical-align: top;\n",
       "    }\n",
       "\n",
       "    .dataframe thead th {\n",
       "        text-align: right;\n",
       "    }\n",
       "</style>\n",
       "<table border=\"1\" class=\"dataframe\">\n",
       "  <thead>\n",
       "    <tr style=\"text-align: right;\">\n",
       "      <th></th>\n",
       "      <th>NumeroFattura</th>\n",
       "      <th>Tipologia</th>\n",
       "      <th>Importo</th>\n",
       "      <th>Iva</th>\n",
       "      <th>IdCliente</th>\n",
       "      <th>Regione</th>\n",
       "      <th>DataFattura</th>\n",
       "      <th>NumeroFornitore</th>\n",
       "    </tr>\n",
       "  </thead>\n",
       "  <tbody>\n",
       "    <tr>\n",
       "      <th>3</th>\n",
       "      <td>4</td>\n",
       "      <td>V</td>\n",
       "      <td>64.0</td>\n",
       "      <td>20.0</td>\n",
       "      <td>3</td>\n",
       "      <td>Lombardia</td>\n",
       "      <td>2019-01-30</td>\n",
       "      <td>1</td>\n",
       "    </tr>\n",
       "    <tr>\n",
       "      <th>7</th>\n",
       "      <td>8</td>\n",
       "      <td>V</td>\n",
       "      <td>54.0</td>\n",
       "      <td>20.0</td>\n",
       "      <td>8</td>\n",
       "      <td>Abruzzo</td>\n",
       "      <td>2019-01-30</td>\n",
       "      <td>2</td>\n",
       "    </tr>\n",
       "    <tr>\n",
       "      <th>11</th>\n",
       "      <td>12</td>\n",
       "      <td>A</td>\n",
       "      <td>57.0</td>\n",
       "      <td>20.0</td>\n",
       "      <td>7</td>\n",
       "      <td>Marche</td>\n",
       "      <td>2019-01-30</td>\n",
       "      <td>&lt;NA&gt;</td>\n",
       "    </tr>\n",
       "    <tr>\n",
       "      <th>15</th>\n",
       "      <td>16</td>\n",
       "      <td>V</td>\n",
       "      <td>21.0</td>\n",
       "      <td>20.0</td>\n",
       "      <td>1</td>\n",
       "      <td>Molise</td>\n",
       "      <td>2019-02-05</td>\n",
       "      <td>3</td>\n",
       "    </tr>\n",
       "    <tr>\n",
       "      <th>16</th>\n",
       "      <td>17</td>\n",
       "      <td>V</td>\n",
       "      <td>1.0</td>\n",
       "      <td>20.0</td>\n",
       "      <td>5</td>\n",
       "      <td>Umbria</td>\n",
       "      <td>2019-01-05</td>\n",
       "      <td>4</td>\n",
       "    </tr>\n",
       "  </tbody>\n",
       "</table>\n",
       "</div>"
      ],
      "text/plain": [
       "    NumeroFattura Tipologia  Importo   Iva  IdCliente    Regione DataFattura  \\\n",
       "3               4         V     64.0  20.0          3  Lombardia  2019-01-30   \n",
       "7               8         V     54.0  20.0          8    Abruzzo  2019-01-30   \n",
       "11             12         A     57.0  20.0          7     Marche  2019-01-30   \n",
       "15             16         V     21.0  20.0          1     Molise  2019-02-05   \n",
       "16             17         V      1.0  20.0          5     Umbria  2019-01-05   \n",
       "\n",
       "    NumeroFornitore  \n",
       "3                 1  \n",
       "7                 2  \n",
       "11             <NA>  \n",
       "15                3  \n",
       "16                4  "
      ]
     },
     "execution_count": 26,
     "metadata": {},
     "output_type": "execute_result"
    }
   ],
   "source": [
    "#SQL\n",
    "#SELECT *\n",
    "#FROM   Fatture\n",
    "#WHERE  DataFattura > '2018-03-01'\n",
    "\n",
    "fatture.query(\"DataFattura > '2018-03-01'\")"
   ]
  },
  {
   "cell_type": "code",
   "execution_count": 27,
   "metadata": {},
   "outputs": [
    {
     "data": {
      "text/html": [
       "<div>\n",
       "<style scoped>\n",
       "    .dataframe tbody tr th:only-of-type {\n",
       "        vertical-align: middle;\n",
       "    }\n",
       "\n",
       "    .dataframe tbody tr th {\n",
       "        vertical-align: top;\n",
       "    }\n",
       "\n",
       "    .dataframe thead th {\n",
       "        text-align: right;\n",
       "    }\n",
       "</style>\n",
       "<table border=\"1\" class=\"dataframe\">\n",
       "  <thead>\n",
       "    <tr style=\"text-align: right;\">\n",
       "      <th></th>\n",
       "      <th>NumeroFattura</th>\n",
       "      <th>Tipologia</th>\n",
       "      <th>Importo</th>\n",
       "      <th>Iva</th>\n",
       "      <th>IdCliente</th>\n",
       "      <th>Regione</th>\n",
       "      <th>DataFattura</th>\n",
       "      <th>NumeroFornitore</th>\n",
       "    </tr>\n",
       "  </thead>\n",
       "  <tbody>\n",
       "    <tr>\n",
       "      <th>3</th>\n",
       "      <td>4</td>\n",
       "      <td>V</td>\n",
       "      <td>64.0</td>\n",
       "      <td>20.0</td>\n",
       "      <td>3</td>\n",
       "      <td>Lombardia</td>\n",
       "      <td>2019-01-30</td>\n",
       "      <td>1</td>\n",
       "    </tr>\n",
       "    <tr>\n",
       "      <th>7</th>\n",
       "      <td>8</td>\n",
       "      <td>V</td>\n",
       "      <td>54.0</td>\n",
       "      <td>20.0</td>\n",
       "      <td>8</td>\n",
       "      <td>Abruzzo</td>\n",
       "      <td>2019-01-30</td>\n",
       "      <td>2</td>\n",
       "    </tr>\n",
       "    <tr>\n",
       "      <th>11</th>\n",
       "      <td>12</td>\n",
       "      <td>A</td>\n",
       "      <td>57.0</td>\n",
       "      <td>20.0</td>\n",
       "      <td>7</td>\n",
       "      <td>Marche</td>\n",
       "      <td>2019-01-30</td>\n",
       "      <td>&lt;NA&gt;</td>\n",
       "    </tr>\n",
       "    <tr>\n",
       "      <th>15</th>\n",
       "      <td>16</td>\n",
       "      <td>V</td>\n",
       "      <td>21.0</td>\n",
       "      <td>20.0</td>\n",
       "      <td>1</td>\n",
       "      <td>Molise</td>\n",
       "      <td>2019-02-05</td>\n",
       "      <td>3</td>\n",
       "    </tr>\n",
       "    <tr>\n",
       "      <th>16</th>\n",
       "      <td>17</td>\n",
       "      <td>V</td>\n",
       "      <td>1.0</td>\n",
       "      <td>20.0</td>\n",
       "      <td>5</td>\n",
       "      <td>Umbria</td>\n",
       "      <td>2019-01-05</td>\n",
       "      <td>4</td>\n",
       "    </tr>\n",
       "  </tbody>\n",
       "</table>\n",
       "</div>"
      ],
      "text/plain": [
       "    NumeroFattura Tipologia  Importo   Iva  IdCliente    Regione DataFattura  \\\n",
       "3               4         V     64.0  20.0          3  Lombardia  2019-01-30   \n",
       "7               8         V     54.0  20.0          8    Abruzzo  2019-01-30   \n",
       "11             12         A     57.0  20.0          7     Marche  2019-01-30   \n",
       "15             16         V     21.0  20.0          1     Molise  2019-02-05   \n",
       "16             17         V      1.0  20.0          5     Umbria  2019-01-05   \n",
       "\n",
       "    NumeroFornitore  \n",
       "3                 1  \n",
       "7                 2  \n",
       "11             <NA>  \n",
       "15                3  \n",
       "16                4  "
      ]
     },
     "execution_count": 27,
     "metadata": {},
     "output_type": "execute_result"
    }
   ],
   "source": [
    "from datetime import datetime\n",
    "data = datetime(2018,3,1)\n",
    "fatture.query(\"DataFattura > @data\")"
   ]
  },
  {
   "cell_type": "markdown",
   "metadata": {},
   "source": [
    "## Filtri su funzioni applicate a colonne"
   ]
  },
  {
   "cell_type": "markdown",
   "metadata": {},
   "source": [
    "Estrarre tutte le fatture del 2018"
   ]
  },
  {
   "cell_type": "code",
   "execution_count": 28,
   "metadata": {},
   "outputs": [
    {
     "data": {
      "text/html": [
       "<div>\n",
       "<style scoped>\n",
       "    .dataframe tbody tr th:only-of-type {\n",
       "        vertical-align: middle;\n",
       "    }\n",
       "\n",
       "    .dataframe tbody tr th {\n",
       "        vertical-align: top;\n",
       "    }\n",
       "\n",
       "    .dataframe thead th {\n",
       "        text-align: right;\n",
       "    }\n",
       "</style>\n",
       "<table border=\"1\" class=\"dataframe\">\n",
       "  <thead>\n",
       "    <tr style=\"text-align: right;\">\n",
       "      <th></th>\n",
       "      <th>NumeroFattura</th>\n",
       "      <th>Tipologia</th>\n",
       "      <th>Importo</th>\n",
       "      <th>Iva</th>\n",
       "      <th>IdCliente</th>\n",
       "      <th>Regione</th>\n",
       "      <th>DataFattura</th>\n",
       "      <th>NumeroFornitore</th>\n",
       "    </tr>\n",
       "  </thead>\n",
       "  <tbody>\n",
       "    <tr>\n",
       "      <th>0</th>\n",
       "      <td>1</td>\n",
       "      <td>A</td>\n",
       "      <td>1120.0</td>\n",
       "      <td>20.0</td>\n",
       "      <td>1</td>\n",
       "      <td>Molise</td>\n",
       "      <td>2018-01-01</td>\n",
       "      <td>1</td>\n",
       "    </tr>\n",
       "    <tr>\n",
       "      <th>4</th>\n",
       "      <td>5</td>\n",
       "      <td>A</td>\n",
       "      <td>12.0</td>\n",
       "      <td>20.0</td>\n",
       "      <td>5</td>\n",
       "      <td>Umbria</td>\n",
       "      <td>2018-01-01</td>\n",
       "      <td>1</td>\n",
       "    </tr>\n",
       "    <tr>\n",
       "      <th>8</th>\n",
       "      <td>9</td>\n",
       "      <td>A</td>\n",
       "      <td>67.0</td>\n",
       "      <td>20.0</td>\n",
       "      <td>3</td>\n",
       "      <td>Lombardia</td>\n",
       "      <td>2018-01-01</td>\n",
       "      <td>2</td>\n",
       "    </tr>\n",
       "    <tr>\n",
       "      <th>17</th>\n",
       "      <td>18</td>\n",
       "      <td>V</td>\n",
       "      <td>2.0</td>\n",
       "      <td>20.0</td>\n",
       "      <td>4</td>\n",
       "      <td>Piemonte</td>\n",
       "      <td>2018-03-01</td>\n",
       "      <td>5</td>\n",
       "    </tr>\n",
       "  </tbody>\n",
       "</table>\n",
       "</div>"
      ],
      "text/plain": [
       "    NumeroFattura Tipologia  Importo   Iva  IdCliente    Regione DataFattura  \\\n",
       "0               1         A   1120.0  20.0          1     Molise  2018-01-01   \n",
       "4               5         A     12.0  20.0          5     Umbria  2018-01-01   \n",
       "8               9         A     67.0  20.0          3  Lombardia  2018-01-01   \n",
       "17             18         V      2.0  20.0          4   Piemonte  2018-03-01   \n",
       "\n",
       "    NumeroFornitore  \n",
       "0                 1  \n",
       "4                 1  \n",
       "8                 2  \n",
       "17                5  "
      ]
     },
     "execution_count": 28,
     "metadata": {},
     "output_type": "execute_result"
    }
   ],
   "source": [
    "#SELECT *\n",
    "#FROM   Fatture\n",
    "#WHERE  YEAR(DataFattura) = 2018\n",
    "\n",
    "fatture.query(\"DataFattura.dt.year == 2018\")"
   ]
  },
  {
   "cell_type": "code",
   "execution_count": 29,
   "metadata": {},
   "outputs": [
    {
     "data": {
      "text/html": [
       "<div>\n",
       "<style scoped>\n",
       "    .dataframe tbody tr th:only-of-type {\n",
       "        vertical-align: middle;\n",
       "    }\n",
       "\n",
       "    .dataframe tbody tr th {\n",
       "        vertical-align: top;\n",
       "    }\n",
       "\n",
       "    .dataframe thead th {\n",
       "        text-align: right;\n",
       "    }\n",
       "</style>\n",
       "<table border=\"1\" class=\"dataframe\">\n",
       "  <thead>\n",
       "    <tr style=\"text-align: right;\">\n",
       "      <th></th>\n",
       "      <th>NumeroCliente</th>\n",
       "      <th>Nome</th>\n",
       "      <th>DataNascita</th>\n",
       "      <th>Nazione</th>\n",
       "      <th>Regione</th>\n",
       "    </tr>\n",
       "  </thead>\n",
       "  <tbody>\n",
       "    <tr>\n",
       "      <th>16</th>\n",
       "      <td>17</td>\n",
       "      <td>Nicola</td>\n",
       "      <td>1982-06-01</td>\n",
       "      <td>Italia</td>\n",
       "      <td>Toscana</td>\n",
       "    </tr>\n",
       "  </tbody>\n",
       "</table>\n",
       "</div>"
      ],
      "text/plain": [
       "    NumeroCliente    Nome DataNascita Nazione  Regione\n",
       "16             17  Nicola  1982-06-01  Italia  Toscana"
      ]
     },
     "execution_count": 29,
     "metadata": {},
     "output_type": "execute_result"
    }
   ],
   "source": [
    "clienti.query(\"Nome.str.upper() == 'NICOLA'\")"
   ]
  },
  {
   "cell_type": "markdown",
   "metadata": {},
   "source": [
    "# Aggregare i dati"
   ]
  },
  {
   "cell_type": "markdown",
   "metadata": {},
   "source": [
    "## Contare il numero di righe"
   ]
  },
  {
   "cell_type": "markdown",
   "metadata": {},
   "source": [
    "Contare il numero di righe del dataframe Fatture"
   ]
  },
  {
   "cell_type": "code",
   "execution_count": 30,
   "metadata": {},
   "outputs": [
    {
     "data": {
      "text/plain": [
       "18"
      ]
     },
     "execution_count": 30,
     "metadata": {},
     "output_type": "execute_result"
    }
   ],
   "source": [
    "#SELECT COUNT(*)\n",
    "#FROM   Fatture\n",
    "\n",
    "len(fatture)"
   ]
  },
  {
   "cell_type": "code",
   "execution_count": 31,
   "metadata": {},
   "outputs": [
    {
     "data": {
      "text/plain": [
       "18"
      ]
     },
     "execution_count": 31,
     "metadata": {},
     "output_type": "execute_result"
    }
   ],
   "source": [
    "#oppure\n",
    "fatture.shape[0]"
   ]
  },
  {
   "cell_type": "markdown",
   "metadata": {},
   "source": [
    "## Calcolare indici statistici di una colonna"
   ]
  },
  {
   "cell_type": "markdown",
   "metadata": {},
   "source": [
    "Calcolare la somma della colonna Importo del dataframe Fatture"
   ]
  },
  {
   "cell_type": "code",
   "execution_count": 32,
   "metadata": {},
   "outputs": [
    {
     "data": {
      "text/plain": [
       "Importo    1723.0\n",
       "dtype: float64"
      ]
     },
     "execution_count": 32,
     "metadata": {},
     "output_type": "execute_result"
    }
   ],
   "source": [
    "#SELECT SUM(Importo)\n",
    "#FROM   Fatture\n",
    "\n",
    "fatture[[\"Importo\"]].sum()"
   ]
  },
  {
   "cell_type": "markdown",
   "metadata": {},
   "source": [
    "Calcolare la media della colonna Importo"
   ]
  },
  {
   "cell_type": "code",
   "execution_count": 33,
   "metadata": {},
   "outputs": [
    {
     "data": {
      "text/plain": [
       "np.float64(95.72222222222223)"
      ]
     },
     "execution_count": 33,
     "metadata": {},
     "output_type": "execute_result"
    }
   ],
   "source": [
    "fatture[\"Importo\"].mean()"
   ]
  },
  {
   "cell_type": "markdown",
   "metadata": {},
   "source": [
    "## Calcolare indici statistici su tutte le colonne"
   ]
  },
  {
   "cell_type": "markdown",
   "metadata": {},
   "source": [
    "Calcolare la somma di tutte le colonne"
   ]
  },
  {
   "cell_type": "code",
   "execution_count": 34,
   "metadata": {},
   "outputs": [
    {
     "data": {
      "text/plain": [
       "NumeroFattura        18.0\n",
       "Importo            1120.0\n",
       "Iva                  22.0\n",
       "IdCliente             8.0\n",
       "NumeroFornitore       5.0\n",
       "dtype: Float64"
      ]
     },
     "execution_count": 34,
     "metadata": {},
     "output_type": "execute_result"
    }
   ],
   "source": [
    "fatture.max(numeric_only=True)"
   ]
  },
  {
   "cell_type": "markdown",
   "metadata": {},
   "source": [
    "Calcolare i principali indici statistici di tutte le colonne"
   ]
  },
  {
   "cell_type": "code",
   "execution_count": 35,
   "metadata": {},
   "outputs": [
    {
     "data": {
      "text/html": [
       "<div>\n",
       "<style scoped>\n",
       "    .dataframe tbody tr th:only-of-type {\n",
       "        vertical-align: middle;\n",
       "    }\n",
       "\n",
       "    .dataframe tbody tr th {\n",
       "        vertical-align: top;\n",
       "    }\n",
       "\n",
       "    .dataframe thead th {\n",
       "        text-align: right;\n",
       "    }\n",
       "</style>\n",
       "<table border=\"1\" class=\"dataframe\">\n",
       "  <thead>\n",
       "    <tr style=\"text-align: right;\">\n",
       "      <th></th>\n",
       "      <th>NumeroFattura</th>\n",
       "      <th>Importo</th>\n",
       "      <th>Iva</th>\n",
       "      <th>IdCliente</th>\n",
       "      <th>DataFattura</th>\n",
       "      <th>NumeroFornitore</th>\n",
       "    </tr>\n",
       "  </thead>\n",
       "  <tbody>\n",
       "    <tr>\n",
       "      <th>count</th>\n",
       "      <td>18.000000</td>\n",
       "      <td>18.000000</td>\n",
       "      <td>17.000000</td>\n",
       "      <td>18.000000</td>\n",
       "      <td>18</td>\n",
       "      <td>16.0</td>\n",
       "    </tr>\n",
       "    <tr>\n",
       "      <th>mean</th>\n",
       "      <td>9.500000</td>\n",
       "      <td>95.722222</td>\n",
       "      <td>20.117647</td>\n",
       "      <td>3.777778</td>\n",
       "      <td>2017-11-28 21:20:00</td>\n",
       "      <td>2.1875</td>\n",
       "    </tr>\n",
       "    <tr>\n",
       "      <th>min</th>\n",
       "      <td>1.000000</td>\n",
       "      <td>1.000000</td>\n",
       "      <td>20.000000</td>\n",
       "      <td>1.000000</td>\n",
       "      <td>2016-01-03 00:00:00</td>\n",
       "      <td>1.0</td>\n",
       "    </tr>\n",
       "    <tr>\n",
       "      <th>25%</th>\n",
       "      <td>5.250000</td>\n",
       "      <td>14.250000</td>\n",
       "      <td>20.000000</td>\n",
       "      <td>2.000000</td>\n",
       "      <td>2017-06-01 00:00:00</td>\n",
       "      <td>1.0</td>\n",
       "    </tr>\n",
       "    <tr>\n",
       "      <th>50%</th>\n",
       "      <td>9.500000</td>\n",
       "      <td>33.000000</td>\n",
       "      <td>20.000000</td>\n",
       "      <td>3.000000</td>\n",
       "      <td>2017-11-10 12:00:00</td>\n",
       "      <td>2.0</td>\n",
       "    </tr>\n",
       "    <tr>\n",
       "      <th>75%</th>\n",
       "      <td>13.750000</td>\n",
       "      <td>56.250000</td>\n",
       "      <td>20.000000</td>\n",
       "      <td>5.000000</td>\n",
       "      <td>2018-10-19 12:00:00</td>\n",
       "      <td>3.0</td>\n",
       "    </tr>\n",
       "    <tr>\n",
       "      <th>max</th>\n",
       "      <td>18.000000</td>\n",
       "      <td>1120.000000</td>\n",
       "      <td>22.000000</td>\n",
       "      <td>8.000000</td>\n",
       "      <td>2019-02-05 00:00:00</td>\n",
       "      <td>5.0</td>\n",
       "    </tr>\n",
       "    <tr>\n",
       "      <th>std</th>\n",
       "      <td>5.338539</td>\n",
       "      <td>256.775893</td>\n",
       "      <td>0.485071</td>\n",
       "      <td>2.289504</td>\n",
       "      <td>NaN</td>\n",
       "      <td>1.167262</td>\n",
       "    </tr>\n",
       "  </tbody>\n",
       "</table>\n",
       "</div>"
      ],
      "text/plain": [
       "       NumeroFattura      Importo        Iva  IdCliente          DataFattura  \\\n",
       "count      18.000000    18.000000  17.000000  18.000000                   18   \n",
       "mean        9.500000    95.722222  20.117647   3.777778  2017-11-28 21:20:00   \n",
       "min         1.000000     1.000000  20.000000   1.000000  2016-01-03 00:00:00   \n",
       "25%         5.250000    14.250000  20.000000   2.000000  2017-06-01 00:00:00   \n",
       "50%         9.500000    33.000000  20.000000   3.000000  2017-11-10 12:00:00   \n",
       "75%        13.750000    56.250000  20.000000   5.000000  2018-10-19 12:00:00   \n",
       "max        18.000000  1120.000000  22.000000   8.000000  2019-02-05 00:00:00   \n",
       "std         5.338539   256.775893   0.485071   2.289504                  NaN   \n",
       "\n",
       "       NumeroFornitore  \n",
       "count             16.0  \n",
       "mean            2.1875  \n",
       "min                1.0  \n",
       "25%                1.0  \n",
       "50%                2.0  \n",
       "75%                3.0  \n",
       "max                5.0  \n",
       "std           1.167262  "
      ]
     },
     "execution_count": 35,
     "metadata": {},
     "output_type": "execute_result"
    }
   ],
   "source": [
    "fatture.describe()"
   ]
  },
  {
   "cell_type": "markdown",
   "metadata": {},
   "source": [
    "Calcolare correlazioni tra colonne numeriche di un DataFrame"
   ]
  },
  {
   "cell_type": "code",
   "execution_count": 36,
   "metadata": {},
   "outputs": [
    {
     "data": {
      "text/html": [
       "<div>\n",
       "<style scoped>\n",
       "    .dataframe tbody tr th:only-of-type {\n",
       "        vertical-align: middle;\n",
       "    }\n",
       "\n",
       "    .dataframe tbody tr th {\n",
       "        vertical-align: top;\n",
       "    }\n",
       "\n",
       "    .dataframe thead th {\n",
       "        text-align: right;\n",
       "    }\n",
       "</style>\n",
       "<table border=\"1\" class=\"dataframe\">\n",
       "  <thead>\n",
       "    <tr style=\"text-align: right;\">\n",
       "      <th></th>\n",
       "      <th>NumeroFattura</th>\n",
       "      <th>Importo</th>\n",
       "      <th>Iva</th>\n",
       "      <th>IdCliente</th>\n",
       "      <th>NumeroFornitore</th>\n",
       "    </tr>\n",
       "  </thead>\n",
       "  <tbody>\n",
       "    <tr>\n",
       "      <th>NumeroFattura</th>\n",
       "      <td>1.000000</td>\n",
       "      <td>-0.420769</td>\n",
       "      <td>0.233741</td>\n",
       "      <td>0.043314</td>\n",
       "      <td>0.930877</td>\n",
       "    </tr>\n",
       "    <tr>\n",
       "      <th>Importo</th>\n",
       "      <td>-0.420769</td>\n",
       "      <td>1.000000</td>\n",
       "      <td>-0.085201</td>\n",
       "      <td>-0.294584</td>\n",
       "      <td>-0.312398</td>\n",
       "    </tr>\n",
       "    <tr>\n",
       "      <th>Iva</th>\n",
       "      <td>0.233741</td>\n",
       "      <td>-0.085201</td>\n",
       "      <td>1.000000</td>\n",
       "      <td>0.006740</td>\n",
       "      <td>0.201945</td>\n",
       "    </tr>\n",
       "    <tr>\n",
       "      <th>IdCliente</th>\n",
       "      <td>0.043314</td>\n",
       "      <td>-0.294584</td>\n",
       "      <td>0.006740</td>\n",
       "      <td>1.000000</td>\n",
       "      <td>0.074812</td>\n",
       "    </tr>\n",
       "    <tr>\n",
       "      <th>NumeroFornitore</th>\n",
       "      <td>0.930877</td>\n",
       "      <td>-0.312398</td>\n",
       "      <td>0.201945</td>\n",
       "      <td>0.074812</td>\n",
       "      <td>1.000000</td>\n",
       "    </tr>\n",
       "  </tbody>\n",
       "</table>\n",
       "</div>"
      ],
      "text/plain": [
       "                 NumeroFattura   Importo       Iva  IdCliente  NumeroFornitore\n",
       "NumeroFattura         1.000000 -0.420769  0.233741   0.043314         0.930877\n",
       "Importo              -0.420769  1.000000 -0.085201  -0.294584        -0.312398\n",
       "Iva                   0.233741 -0.085201  1.000000   0.006740         0.201945\n",
       "IdCliente             0.043314 -0.294584  0.006740   1.000000         0.074812\n",
       "NumeroFornitore       0.930877 -0.312398  0.201945   0.074812         1.000000"
      ]
     },
     "execution_count": 36,
     "metadata": {},
     "output_type": "execute_result"
    }
   ],
   "source": [
    "fatture.corr(numeric_only=True)"
   ]
  },
  {
   "cell_type": "markdown",
   "metadata": {},
   "source": [
    "## Aggregare su una colonna"
   ]
  },
  {
   "cell_type": "markdown",
   "metadata": {},
   "source": [
    "Calcolare il numero di Fatture per ogni fornitore "
   ]
  },
  {
   "cell_type": "code",
   "execution_count": 37,
   "metadata": {},
   "outputs": [
    {
     "data": {
      "text/html": [
       "<div>\n",
       "<style scoped>\n",
       "    .dataframe tbody tr th:only-of-type {\n",
       "        vertical-align: middle;\n",
       "    }\n",
       "\n",
       "    .dataframe tbody tr th {\n",
       "        vertical-align: top;\n",
       "    }\n",
       "\n",
       "    .dataframe thead th {\n",
       "        text-align: right;\n",
       "    }\n",
       "</style>\n",
       "<table border=\"1\" class=\"dataframe\">\n",
       "  <thead>\n",
       "    <tr style=\"text-align: right;\">\n",
       "      <th></th>\n",
       "      <th>NumeroFornitore</th>\n",
       "      <th>size</th>\n",
       "    </tr>\n",
       "  </thead>\n",
       "  <tbody>\n",
       "    <tr>\n",
       "      <th>0</th>\n",
       "      <td>1</td>\n",
       "      <td>5</td>\n",
       "    </tr>\n",
       "    <tr>\n",
       "      <th>1</th>\n",
       "      <td>2</td>\n",
       "      <td>6</td>\n",
       "    </tr>\n",
       "    <tr>\n",
       "      <th>2</th>\n",
       "      <td>3</td>\n",
       "      <td>3</td>\n",
       "    </tr>\n",
       "    <tr>\n",
       "      <th>3</th>\n",
       "      <td>4</td>\n",
       "      <td>1</td>\n",
       "    </tr>\n",
       "    <tr>\n",
       "      <th>4</th>\n",
       "      <td>5</td>\n",
       "      <td>1</td>\n",
       "    </tr>\n",
       "    <tr>\n",
       "      <th>5</th>\n",
       "      <td>&lt;NA&gt;</td>\n",
       "      <td>2</td>\n",
       "    </tr>\n",
       "  </tbody>\n",
       "</table>\n",
       "</div>"
      ],
      "text/plain": [
       "   NumeroFornitore  size\n",
       "0                1     5\n",
       "1                2     6\n",
       "2                3     3\n",
       "3                4     1\n",
       "4                5     1\n",
       "5             <NA>     2"
      ]
     },
     "execution_count": 37,
     "metadata": {},
     "output_type": "execute_result"
    }
   ],
   "source": [
    "#SELECT   NumeroFornitore, count(*)\n",
    "#FROM     Fatture\n",
    "#GROUP BY NumeroFornitore;\n",
    "\n",
    "fatture.groupby(by=\"NumeroFornitore\",\n",
    "                as_index=False, \n",
    "                dropna=False\n",
    "               )[\"NumeroFattura\"].size()"
   ]
  },
  {
   "cell_type": "markdown",
   "metadata": {},
   "source": [
    "Se eventualmente voglio cambiare il nome della colonna con il conteggio posso usare il metodo rename"
   ]
  },
  {
   "cell_type": "code",
   "execution_count": 38,
   "metadata": {},
   "outputs": [
    {
     "data": {
      "text/html": [
       "<div>\n",
       "<style scoped>\n",
       "    .dataframe tbody tr th:only-of-type {\n",
       "        vertical-align: middle;\n",
       "    }\n",
       "\n",
       "    .dataframe tbody tr th {\n",
       "        vertical-align: top;\n",
       "    }\n",
       "\n",
       "    .dataframe thead th {\n",
       "        text-align: right;\n",
       "    }\n",
       "</style>\n",
       "<table border=\"1\" class=\"dataframe\">\n",
       "  <thead>\n",
       "    <tr style=\"text-align: right;\">\n",
       "      <th></th>\n",
       "      <th>NumeroFornitore</th>\n",
       "      <th>numero_totale</th>\n",
       "    </tr>\n",
       "  </thead>\n",
       "  <tbody>\n",
       "    <tr>\n",
       "      <th>0</th>\n",
       "      <td>1</td>\n",
       "      <td>5</td>\n",
       "    </tr>\n",
       "    <tr>\n",
       "      <th>1</th>\n",
       "      <td>2</td>\n",
       "      <td>6</td>\n",
       "    </tr>\n",
       "    <tr>\n",
       "      <th>2</th>\n",
       "      <td>3</td>\n",
       "      <td>3</td>\n",
       "    </tr>\n",
       "    <tr>\n",
       "      <th>3</th>\n",
       "      <td>4</td>\n",
       "      <td>1</td>\n",
       "    </tr>\n",
       "    <tr>\n",
       "      <th>4</th>\n",
       "      <td>5</td>\n",
       "      <td>1</td>\n",
       "    </tr>\n",
       "    <tr>\n",
       "      <th>5</th>\n",
       "      <td>&lt;NA&gt;</td>\n",
       "      <td>2</td>\n",
       "    </tr>\n",
       "  </tbody>\n",
       "</table>\n",
       "</div>"
      ],
      "text/plain": [
       "   NumeroFornitore  numero_totale\n",
       "0                1              5\n",
       "1                2              6\n",
       "2                3              3\n",
       "3                4              1\n",
       "4                5              1\n",
       "5             <NA>              2"
      ]
     },
     "execution_count": 38,
     "metadata": {},
     "output_type": "execute_result"
    }
   ],
   "source": [
    "fatture.groupby(by=\"NumeroFornitore\",\n",
    "                as_index=False, \n",
    "                dropna=False)[\"NumeroFattura\"].size().rename(columns={\"size\":\"numero_totale\"})"
   ]
  },
  {
   "cell_type": "markdown",
   "metadata": {},
   "source": [
    "Altro metodo"
   ]
  },
  {
   "cell_type": "code",
   "execution_count": 39,
   "metadata": {},
   "outputs": [
    {
     "data": {
      "text/html": [
       "<div>\n",
       "<style scoped>\n",
       "    .dataframe tbody tr th:only-of-type {\n",
       "        vertical-align: middle;\n",
       "    }\n",
       "\n",
       "    .dataframe tbody tr th {\n",
       "        vertical-align: top;\n",
       "    }\n",
       "\n",
       "    .dataframe thead th {\n",
       "        text-align: right;\n",
       "    }\n",
       "</style>\n",
       "<table border=\"1\" class=\"dataframe\">\n",
       "  <thead>\n",
       "    <tr style=\"text-align: right;\">\n",
       "      <th></th>\n",
       "      <th>NumeroFornitore</th>\n",
       "      <th>conteggio</th>\n",
       "    </tr>\n",
       "  </thead>\n",
       "  <tbody>\n",
       "    <tr>\n",
       "      <th>0</th>\n",
       "      <td>1</td>\n",
       "      <td>5</td>\n",
       "    </tr>\n",
       "    <tr>\n",
       "      <th>1</th>\n",
       "      <td>2</td>\n",
       "      <td>6</td>\n",
       "    </tr>\n",
       "    <tr>\n",
       "      <th>2</th>\n",
       "      <td>3</td>\n",
       "      <td>3</td>\n",
       "    </tr>\n",
       "    <tr>\n",
       "      <th>3</th>\n",
       "      <td>4</td>\n",
       "      <td>1</td>\n",
       "    </tr>\n",
       "    <tr>\n",
       "      <th>4</th>\n",
       "      <td>5</td>\n",
       "      <td>1</td>\n",
       "    </tr>\n",
       "    <tr>\n",
       "      <th>5</th>\n",
       "      <td>&lt;NA&gt;</td>\n",
       "      <td>2</td>\n",
       "    </tr>\n",
       "  </tbody>\n",
       "</table>\n",
       "</div>"
      ],
      "text/plain": [
       "   NumeroFornitore  conteggio\n",
       "0                1          5\n",
       "1                2          6\n",
       "2                3          3\n",
       "3                4          1\n",
       "4                5          1\n",
       "5             <NA>          2"
      ]
     },
     "execution_count": 39,
     "metadata": {},
     "output_type": "execute_result"
    }
   ],
   "source": [
    "#SELECT   NumeroFornitore, count(*)\n",
    "#FROM     Fatture\n",
    "#GROUP BY NumeroFornitore;\n",
    "\n",
    "fatture.groupby(by=\"NumeroFornitore\",\n",
    "                as_index=False, \n",
    "                dropna=False) \\\n",
    "       .agg(conteggio   = (\"NumeroFattura\",\n",
    "                           np.size)\n",
    "            )"
   ]
  },
  {
   "cell_type": "markdown",
   "metadata": {},
   "source": [
    "I dati raggruppati si presentano ad essere rappresentati graficamente"
   ]
  },
  {
   "cell_type": "code",
   "execution_count": 40,
   "metadata": {},
   "outputs": [
    {
     "data": {
      "text/html": [
       "<div>\n",
       "<style scoped>\n",
       "    .dataframe tbody tr th:only-of-type {\n",
       "        vertical-align: middle;\n",
       "    }\n",
       "\n",
       "    .dataframe tbody tr th {\n",
       "        vertical-align: top;\n",
       "    }\n",
       "\n",
       "    .dataframe thead th {\n",
       "        text-align: right;\n",
       "    }\n",
       "</style>\n",
       "<table border=\"1\" class=\"dataframe\">\n",
       "  <thead>\n",
       "    <tr style=\"text-align: right;\">\n",
       "      <th></th>\n",
       "      <th>NumeroFornitore</th>\n",
       "      <th>size</th>\n",
       "    </tr>\n",
       "  </thead>\n",
       "  <tbody>\n",
       "    <tr>\n",
       "      <th>0</th>\n",
       "      <td>1</td>\n",
       "      <td>5</td>\n",
       "    </tr>\n",
       "    <tr>\n",
       "      <th>1</th>\n",
       "      <td>2</td>\n",
       "      <td>6</td>\n",
       "    </tr>\n",
       "    <tr>\n",
       "      <th>2</th>\n",
       "      <td>3</td>\n",
       "      <td>3</td>\n",
       "    </tr>\n",
       "    <tr>\n",
       "      <th>3</th>\n",
       "      <td>4</td>\n",
       "      <td>1</td>\n",
       "    </tr>\n",
       "    <tr>\n",
       "      <th>4</th>\n",
       "      <td>5</td>\n",
       "      <td>1</td>\n",
       "    </tr>\n",
       "    <tr>\n",
       "      <th>5</th>\n",
       "      <td>&lt;NA&gt;</td>\n",
       "      <td>2</td>\n",
       "    </tr>\n",
       "  </tbody>\n",
       "</table>\n",
       "</div>"
      ],
      "text/plain": [
       "   NumeroFornitore  size\n",
       "0                1     5\n",
       "1                2     6\n",
       "2                3     3\n",
       "3                4     1\n",
       "4                5     1\n",
       "5             <NA>     2"
      ]
     },
     "execution_count": 40,
     "metadata": {},
     "output_type": "execute_result"
    }
   ],
   "source": [
    "fatture.groupby(by=\"NumeroFornitore\",\n",
    "                          as_index=False, \n",
    "                          dropna=False).size() "
   ]
  },
  {
   "cell_type": "code",
   "execution_count": 41,
   "metadata": {},
   "outputs": [
    {
     "data": {
      "text/plain": [
       "<Axes: xlabel='NumeroFornitore'>"
      ]
     },
     "execution_count": 41,
     "metadata": {},
     "output_type": "execute_result"
    },
    {
     "data": {
      "image/png": "[encoded data removed]",
      "text/plain": [
       "<Figure size 640x480 with 1 Axes>"
      ]
     },
     "metadata": {},
     "output_type": "display_data"
    }
   ],
   "source": [
    "grafico = fatture.groupby(by=\"NumeroFornitore\",\n",
    "                          as_index=False, \n",
    "                          dropna=False).size() \n",
    "\n",
    "grafico.plot(x = 'NumeroFornitore',\n",
    "             y = 'size',\n",
    "             kind = 'bar')"
   ]
  },
  {
   "cell_type": "markdown",
   "metadata": {},
   "source": [
    "## Altri esempi di aggregazione"
   ]
  },
  {
   "cell_type": "markdown",
   "metadata": {},
   "source": [
    "Somma degli importi per ogni fornitore"
   ]
  },
  {
   "cell_type": "code",
   "execution_count": 42,
   "metadata": {},
   "outputs": [
    {
     "data": {
      "text/html": [
       "<div>\n",
       "<style scoped>\n",
       "    .dataframe tbody tr th:only-of-type {\n",
       "        vertical-align: middle;\n",
       "    }\n",
       "\n",
       "    .dataframe tbody tr th {\n",
       "        vertical-align: top;\n",
       "    }\n",
       "\n",
       "    .dataframe thead th {\n",
       "        text-align: right;\n",
       "    }\n",
       "</style>\n",
       "<table border=\"1\" class=\"dataframe\">\n",
       "  <thead>\n",
       "    <tr style=\"text-align: right;\">\n",
       "      <th></th>\n",
       "      <th>NumeroFornitore</th>\n",
       "      <th>Importo</th>\n",
       "    </tr>\n",
       "  </thead>\n",
       "  <tbody>\n",
       "    <tr>\n",
       "      <th>0</th>\n",
       "      <td>1</td>\n",
       "      <td>1273.0</td>\n",
       "    </tr>\n",
       "    <tr>\n",
       "      <th>1</th>\n",
       "      <td>2</td>\n",
       "      <td>236.0</td>\n",
       "    </tr>\n",
       "    <tr>\n",
       "      <th>2</th>\n",
       "      <td>3</td>\n",
       "      <td>67.0</td>\n",
       "    </tr>\n",
       "    <tr>\n",
       "      <th>3</th>\n",
       "      <td>4</td>\n",
       "      <td>1.0</td>\n",
       "    </tr>\n",
       "    <tr>\n",
       "      <th>4</th>\n",
       "      <td>5</td>\n",
       "      <td>2.0</td>\n",
       "    </tr>\n",
       "    <tr>\n",
       "      <th>5</th>\n",
       "      <td>&lt;NA&gt;</td>\n",
       "      <td>144.0</td>\n",
       "    </tr>\n",
       "  </tbody>\n",
       "</table>\n",
       "</div>"
      ],
      "text/plain": [
       "   NumeroFornitore  Importo\n",
       "0                1   1273.0\n",
       "1                2    236.0\n",
       "2                3     67.0\n",
       "3                4      1.0\n",
       "4                5      2.0\n",
       "5             <NA>    144.0"
      ]
     },
     "execution_count": 42,
     "metadata": {},
     "output_type": "execute_result"
    }
   ],
   "source": [
    "fatture.groupby(by=[\"NumeroFornitore\"], \n",
    "                as_index=False,\n",
    "                dropna=False)[[\"Importo\"]].sum()"
   ]
  },
  {
   "cell_type": "markdown",
   "metadata": {},
   "source": [
    "Media di importi e iva per ogni fornitore"
   ]
  },
  {
   "cell_type": "code",
   "execution_count": 43,
   "metadata": {},
   "outputs": [
    {
     "data": {
      "text/html": [
       "<div>\n",
       "<style scoped>\n",
       "    .dataframe tbody tr th:only-of-type {\n",
       "        vertical-align: middle;\n",
       "    }\n",
       "\n",
       "    .dataframe tbody tr th {\n",
       "        vertical-align: top;\n",
       "    }\n",
       "\n",
       "    .dataframe thead th {\n",
       "        text-align: right;\n",
       "    }\n",
       "</style>\n",
       "<table border=\"1\" class=\"dataframe\">\n",
       "  <thead>\n",
       "    <tr style=\"text-align: right;\">\n",
       "      <th></th>\n",
       "      <th>NumeroFornitore</th>\n",
       "      <th>Importo_medio</th>\n",
       "      <th>Iva</th>\n",
       "    </tr>\n",
       "  </thead>\n",
       "  <tbody>\n",
       "    <tr>\n",
       "      <th>0</th>\n",
       "      <td>1</td>\n",
       "      <td>254.600000</td>\n",
       "      <td>20.0</td>\n",
       "    </tr>\n",
       "    <tr>\n",
       "      <th>1</th>\n",
       "      <td>2</td>\n",
       "      <td>39.333333</td>\n",
       "      <td>20.0</td>\n",
       "    </tr>\n",
       "    <tr>\n",
       "      <th>2</th>\n",
       "      <td>3</td>\n",
       "      <td>22.333333</td>\n",
       "      <td>21.0</td>\n",
       "    </tr>\n",
       "    <tr>\n",
       "      <th>3</th>\n",
       "      <td>4</td>\n",
       "      <td>1.000000</td>\n",
       "      <td>20.0</td>\n",
       "    </tr>\n",
       "    <tr>\n",
       "      <th>4</th>\n",
       "      <td>5</td>\n",
       "      <td>2.000000</td>\n",
       "      <td>20.0</td>\n",
       "    </tr>\n",
       "    <tr>\n",
       "      <th>5</th>\n",
       "      <td>&lt;NA&gt;</td>\n",
       "      <td>72.000000</td>\n",
       "      <td>20.0</td>\n",
       "    </tr>\n",
       "  </tbody>\n",
       "</table>\n",
       "</div>"
      ],
      "text/plain": [
       "   NumeroFornitore  Importo_medio   Iva\n",
       "0                1     254.600000  20.0\n",
       "1                2      39.333333  20.0\n",
       "2                3      22.333333  21.0\n",
       "3                4       1.000000  20.0\n",
       "4                5       2.000000  20.0\n",
       "5             <NA>      72.000000  20.0"
      ]
     },
     "execution_count": 43,
     "metadata": {},
     "output_type": "execute_result"
    }
   ],
   "source": [
    "fatture.groupby(by=[\"NumeroFornitore\"], \n",
    "                as_index=False, \n",
    "                dropna=False)[[\"Importo\",\"Iva\"]].mean().rename(columns={\"Importo\":\"Importo_medio\"})"
   ]
  },
  {
   "cell_type": "markdown",
   "metadata": {},
   "source": [
    "Somma di importo e media di iva per ogni fornitore e cliente"
   ]
  },
  {
   "cell_type": "code",
   "execution_count": 44,
   "metadata": {
    "scrolled": true
   },
   "outputs": [
    {
     "data": {
      "text/html": [
       "<div>\n",
       "<style scoped>\n",
       "    .dataframe tbody tr th:only-of-type {\n",
       "        vertical-align: middle;\n",
       "    }\n",
       "\n",
       "    .dataframe tbody tr th {\n",
       "        vertical-align: top;\n",
       "    }\n",
       "\n",
       "    .dataframe thead th {\n",
       "        text-align: right;\n",
       "    }\n",
       "</style>\n",
       "<table border=\"1\" class=\"dataframe\">\n",
       "  <thead>\n",
       "    <tr style=\"text-align: right;\">\n",
       "      <th></th>\n",
       "      <th>NumeroFornitore</th>\n",
       "      <th>IdCliente</th>\n",
       "      <th>Somma importo</th>\n",
       "      <th>Media iva</th>\n",
       "    </tr>\n",
       "  </thead>\n",
       "  <tbody>\n",
       "    <tr>\n",
       "      <th>0</th>\n",
       "      <td>1</td>\n",
       "      <td>1</td>\n",
       "      <td>1120.0</td>\n",
       "      <td>20.0</td>\n",
       "    </tr>\n",
       "    <tr>\n",
       "      <th>1</th>\n",
       "      <td>1</td>\n",
       "      <td>2</td>\n",
       "      <td>32.0</td>\n",
       "      <td>20.0</td>\n",
       "    </tr>\n",
       "    <tr>\n",
       "      <th>2</th>\n",
       "      <td>1</td>\n",
       "      <td>3</td>\n",
       "      <td>109.0</td>\n",
       "      <td>20.0</td>\n",
       "    </tr>\n",
       "    <tr>\n",
       "      <th>3</th>\n",
       "      <td>1</td>\n",
       "      <td>5</td>\n",
       "      <td>12.0</td>\n",
       "      <td>20.0</td>\n",
       "    </tr>\n",
       "    <tr>\n",
       "      <th>4</th>\n",
       "      <td>2</td>\n",
       "      <td>2</td>\n",
       "      <td>21.0</td>\n",
       "      <td>20.0</td>\n",
       "    </tr>\n",
       "    <tr>\n",
       "      <th>5</th>\n",
       "      <td>2</td>\n",
       "      <td>3</td>\n",
       "      <td>79.0</td>\n",
       "      <td>20.0</td>\n",
       "    </tr>\n",
       "    <tr>\n",
       "      <th>6</th>\n",
       "      <td>2</td>\n",
       "      <td>6</td>\n",
       "      <td>31.0</td>\n",
       "      <td>20.0</td>\n",
       "    </tr>\n",
       "    <tr>\n",
       "      <th>7</th>\n",
       "      <td>2</td>\n",
       "      <td>8</td>\n",
       "      <td>105.0</td>\n",
       "      <td>20.0</td>\n",
       "    </tr>\n",
       "    <tr>\n",
       "      <th>8</th>\n",
       "      <td>3</td>\n",
       "      <td>1</td>\n",
       "      <td>55.0</td>\n",
       "      <td>20.0</td>\n",
       "    </tr>\n",
       "    <tr>\n",
       "      <th>9</th>\n",
       "      <td>3</td>\n",
       "      <td>4</td>\n",
       "      <td>12.0</td>\n",
       "      <td>22.0</td>\n",
       "    </tr>\n",
       "  </tbody>\n",
       "</table>\n",
       "</div>"
      ],
      "text/plain": [
       "   NumeroFornitore  IdCliente  Somma importo  Media iva\n",
       "0                1          1         1120.0       20.0\n",
       "1                1          2           32.0       20.0\n",
       "2                1          3          109.0       20.0\n",
       "3                1          5           12.0       20.0\n",
       "4                2          2           21.0       20.0\n",
       "5                2          3           79.0       20.0\n",
       "6                2          6           31.0       20.0\n",
       "7                2          8          105.0       20.0\n",
       "8                3          1           55.0       20.0\n",
       "9                3          4           12.0       22.0"
      ]
     },
     "execution_count": 44,
     "metadata": {},
     "output_type": "execute_result"
    }
   ],
   "source": [
    "fatture.groupby(by=[\"NumeroFornitore\",\"IdCliente\"], as_index=False, dropna=False).\\\n",
    "        agg({\"Importo\":\"sum\",\"Iva\":\"mean\"}).\\\n",
    "        rename(columns={\"Importo\":\"Somma importo\", \"Iva\":\"Media iva\"}).head(10)"
   ]
  },
  {
   "cell_type": "markdown",
   "metadata": {},
   "source": [
    "Numero di clienti univoci"
   ]
  },
  {
   "cell_type": "code",
   "execution_count": 45,
   "metadata": {},
   "outputs": [
    {
     "data": {
      "text/plain": [
       "8"
      ]
     },
     "execution_count": 45,
     "metadata": {},
     "output_type": "execute_result"
    }
   ],
   "source": [
    "fatture[\"IdCliente\"].nunique()"
   ]
  },
  {
   "cell_type": "markdown",
   "metadata": {},
   "source": [
    "Numero di clienti univoci al variare del fornitore"
   ]
  },
  {
   "cell_type": "code",
   "execution_count": 46,
   "metadata": {},
   "outputs": [
    {
     "data": {
      "text/html": [
       "<div>\n",
       "<style scoped>\n",
       "    .dataframe tbody tr th:only-of-type {\n",
       "        vertical-align: middle;\n",
       "    }\n",
       "\n",
       "    .dataframe tbody tr th {\n",
       "        vertical-align: top;\n",
       "    }\n",
       "\n",
       "    .dataframe thead th {\n",
       "        text-align: right;\n",
       "    }\n",
       "</style>\n",
       "<table border=\"1\" class=\"dataframe\">\n",
       "  <thead>\n",
       "    <tr style=\"text-align: right;\">\n",
       "      <th></th>\n",
       "      <th>NumeroFornitore</th>\n",
       "      <th>IdCliente</th>\n",
       "    </tr>\n",
       "  </thead>\n",
       "  <tbody>\n",
       "    <tr>\n",
       "      <th>0</th>\n",
       "      <td>1</td>\n",
       "      <td>4</td>\n",
       "    </tr>\n",
       "    <tr>\n",
       "      <th>1</th>\n",
       "      <td>2</td>\n",
       "      <td>4</td>\n",
       "    </tr>\n",
       "    <tr>\n",
       "      <th>2</th>\n",
       "      <td>3</td>\n",
       "      <td>2</td>\n",
       "    </tr>\n",
       "    <tr>\n",
       "      <th>3</th>\n",
       "      <td>4</td>\n",
       "      <td>1</td>\n",
       "    </tr>\n",
       "    <tr>\n",
       "      <th>4</th>\n",
       "      <td>5</td>\n",
       "      <td>1</td>\n",
       "    </tr>\n",
       "    <tr>\n",
       "      <th>5</th>\n",
       "      <td>&lt;NA&gt;</td>\n",
       "      <td>2</td>\n",
       "    </tr>\n",
       "  </tbody>\n",
       "</table>\n",
       "</div>"
      ],
      "text/plain": [
       "   NumeroFornitore  IdCliente\n",
       "0                1          4\n",
       "1                2          4\n",
       "2                3          2\n",
       "3                4          1\n",
       "4                5          1\n",
       "5             <NA>          2"
      ]
     },
     "execution_count": 46,
     "metadata": {},
     "output_type": "execute_result"
    }
   ],
   "source": [
    "fatture.groupby(by=[\"NumeroFornitore\"], \n",
    "                as_index=False, dropna=False)[\"IdCliente\"].nunique()"
   ]
  },
  {
   "cell_type": "markdown",
   "metadata": {},
   "source": [
    "Numero di regioni presenti nel Dataframe dei clienti"
   ]
  },
  {
   "cell_type": "code",
   "execution_count": 47,
   "metadata": {},
   "outputs": [
    {
     "data": {
      "text/plain": [
       "7"
      ]
     },
     "execution_count": 47,
     "metadata": {},
     "output_type": "execute_result"
    }
   ],
   "source": [
    "clienti[\"Regione\"].nunique()"
   ]
  },
  {
   "cell_type": "markdown",
   "metadata": {},
   "source": [
    "Elenco di regioni univoche"
   ]
  },
  {
   "cell_type": "code",
   "execution_count": 48,
   "metadata": {},
   "outputs": [
    {
     "data": {
      "text/html": [
       "<div>\n",
       "<style scoped>\n",
       "    .dataframe tbody tr th:only-of-type {\n",
       "        vertical-align: middle;\n",
       "    }\n",
       "\n",
       "    .dataframe tbody tr th {\n",
       "        vertical-align: top;\n",
       "    }\n",
       "\n",
       "    .dataframe thead th {\n",
       "        text-align: right;\n",
       "    }\n",
       "</style>\n",
       "<table border=\"1\" class=\"dataframe\">\n",
       "  <thead>\n",
       "    <tr style=\"text-align: right;\">\n",
       "      <th></th>\n",
       "      <th>Regione</th>\n",
       "    </tr>\n",
       "  </thead>\n",
       "  <tbody>\n",
       "    <tr>\n",
       "      <th>0</th>\n",
       "      <td>NaN</td>\n",
       "    </tr>\n",
       "    <tr>\n",
       "      <th>1</th>\n",
       "      <td>Lazio</td>\n",
       "    </tr>\n",
       "    <tr>\n",
       "      <th>4</th>\n",
       "      <td>Sicilia</td>\n",
       "    </tr>\n",
       "    <tr>\n",
       "      <th>9</th>\n",
       "      <td>Toscana</td>\n",
       "    </tr>\n",
       "    <tr>\n",
       "      <th>19</th>\n",
       "      <td>Piemonte</td>\n",
       "    </tr>\n",
       "    <tr>\n",
       "      <th>23</th>\n",
       "      <td>Lombardia</td>\n",
       "    </tr>\n",
       "    <tr>\n",
       "      <th>28</th>\n",
       "      <td>Puglia</td>\n",
       "    </tr>\n",
       "    <tr>\n",
       "      <th>33</th>\n",
       "      <td>Molise</td>\n",
       "    </tr>\n",
       "  </tbody>\n",
       "</table>\n",
       "</div>"
      ],
      "text/plain": [
       "      Regione\n",
       "0         NaN\n",
       "1       Lazio\n",
       "4     Sicilia\n",
       "9     Toscana\n",
       "19   Piemonte\n",
       "23  Lombardia\n",
       "28     Puglia\n",
       "33     Molise"
      ]
     },
     "execution_count": 48,
     "metadata": {},
     "output_type": "execute_result"
    }
   ],
   "source": [
    "clienti[[\"Regione\"]].drop_duplicates()"
   ]
  },
  {
   "cell_type": "markdown",
   "metadata": {},
   "source": [
    "# Combinare dataframe differenti"
   ]
  },
  {
   "cell_type": "markdown",
   "metadata": {},
   "source": [
    "Riportare in un solo dataframe tutte le colonne dei dataframe Fatture e Clienti."
   ]
  },
  {
   "cell_type": "code",
   "execution_count": 49,
   "metadata": {},
   "outputs": [
    {
     "data": {
      "text/html": [
       "<div>\n",
       "<style scoped>\n",
       "    .dataframe tbody tr th:only-of-type {\n",
       "        vertical-align: middle;\n",
       "    }\n",
       "\n",
       "    .dataframe tbody tr th {\n",
       "        vertical-align: top;\n",
       "    }\n",
       "\n",
       "    .dataframe thead th {\n",
       "        text-align: right;\n",
       "    }\n",
       "</style>\n",
       "<table border=\"1\" class=\"dataframe\">\n",
       "  <thead>\n",
       "    <tr style=\"text-align: right;\">\n",
       "      <th></th>\n",
       "      <th>NumeroFattura</th>\n",
       "      <th>Tipologia</th>\n",
       "      <th>Importo</th>\n",
       "      <th>Iva</th>\n",
       "      <th>IdCliente</th>\n",
       "      <th>Regione</th>\n",
       "      <th>DataFattura</th>\n",
       "      <th>NumeroFornitore</th>\n",
       "    </tr>\n",
       "  </thead>\n",
       "  <tbody>\n",
       "    <tr>\n",
       "      <th>0</th>\n",
       "      <td>1</td>\n",
       "      <td>A</td>\n",
       "      <td>1120.0</td>\n",
       "      <td>20.0</td>\n",
       "      <td>1</td>\n",
       "      <td>Molise</td>\n",
       "      <td>2018-01-01</td>\n",
       "      <td>1</td>\n",
       "    </tr>\n",
       "  </tbody>\n",
       "</table>\n",
       "</div>"
      ],
      "text/plain": [
       "   NumeroFattura Tipologia  Importo   Iva  IdCliente Regione DataFattura  \\\n",
       "0              1         A   1120.0  20.0          1  Molise  2018-01-01   \n",
       "\n",
       "   NumeroFornitore  \n",
       "0                1  "
      ]
     },
     "execution_count": 49,
     "metadata": {},
     "output_type": "execute_result"
    }
   ],
   "source": [
    "fatture.head(1)"
   ]
  },
  {
   "cell_type": "code",
   "execution_count": 50,
   "metadata": {},
   "outputs": [],
   "source": [
    "#SELECT     TOP 5 *\n",
    "#FROM       Fatture\n",
    "#INNER JOIN Clienti\n",
    "# ON Fatture.IdCliente = Clienti.NumeroCliente\n",
    "\n",
    "f2 = pd.merge(fatture, \n",
    "         clienti, \n",
    "         how = 'inner',\n",
    "         left_on = \"IdCliente\", \n",
    "         right_on = \"NumeroCliente\",\n",
    "         suffixes = ('_fatture', '_clienti'))"
   ]
  },
  {
   "cell_type": "code",
   "execution_count": 51,
   "metadata": {},
   "outputs": [
    {
     "data": {
      "text/html": [
       "<div>\n",
       "<style scoped>\n",
       "    .dataframe tbody tr th:only-of-type {\n",
       "        vertical-align: middle;\n",
       "    }\n",
       "\n",
       "    .dataframe tbody tr th {\n",
       "        vertical-align: top;\n",
       "    }\n",
       "\n",
       "    .dataframe thead th {\n",
       "        text-align: right;\n",
       "    }\n",
       "</style>\n",
       "<table border=\"1\" class=\"dataframe\">\n",
       "  <thead>\n",
       "    <tr style=\"text-align: right;\">\n",
       "      <th></th>\n",
       "      <th>NumeroFattura</th>\n",
       "      <th>Tipologia</th>\n",
       "      <th>Importo</th>\n",
       "      <th>Iva</th>\n",
       "      <th>IdCliente</th>\n",
       "      <th>Regione_fatture</th>\n",
       "      <th>DataFattura</th>\n",
       "      <th>NumeroFornitore</th>\n",
       "      <th>NumeroCliente</th>\n",
       "      <th>Nome</th>\n",
       "      <th>DataNascita</th>\n",
       "      <th>Nazione</th>\n",
       "      <th>Regione_clienti</th>\n",
       "    </tr>\n",
       "  </thead>\n",
       "  <tbody>\n",
       "    <tr>\n",
       "      <th>0</th>\n",
       "      <td>1</td>\n",
       "      <td>A</td>\n",
       "      <td>1120.0</td>\n",
       "      <td>20.0</td>\n",
       "      <td>1</td>\n",
       "      <td>Molise</td>\n",
       "      <td>2018-01-01</td>\n",
       "      <td>1</td>\n",
       "      <td>1</td>\n",
       "      <td>Nicoletta</td>\n",
       "      <td>2010-01-01</td>\n",
       "      <td>Francia</td>\n",
       "      <td>NaN</td>\n",
       "    </tr>\n",
       "  </tbody>\n",
       "</table>\n",
       "</div>"
      ],
      "text/plain": [
       "   NumeroFattura Tipologia  Importo   Iva  IdCliente Regione_fatture  \\\n",
       "0              1         A   1120.0  20.0          1          Molise   \n",
       "\n",
       "  DataFattura  NumeroFornitore  NumeroCliente       Nome DataNascita  Nazione  \\\n",
       "0  2018-01-01                1              1  Nicoletta  2010-01-01  Francia   \n",
       "\n",
       "  Regione_clienti  \n",
       "0             NaN  "
      ]
     },
     "execution_count": 51,
     "metadata": {},
     "output_type": "execute_result"
    }
   ],
   "source": [
    "f2.head(1)"
   ]
  },
  {
   "cell_type": "markdown",
   "metadata": {},
   "source": [
    "Esercizio: estrarre NumeroCliente e nome dei clienti senza fatture"
   ]
  },
  {
   "cell_type": "code",
   "execution_count": 52,
   "metadata": {},
   "outputs": [
    {
     "data": {
      "text/html": [
       "<div>\n",
       "<style scoped>\n",
       "    .dataframe tbody tr th:only-of-type {\n",
       "        vertical-align: middle;\n",
       "    }\n",
       "\n",
       "    .dataframe tbody tr th {\n",
       "        vertical-align: top;\n",
       "    }\n",
       "\n",
       "    .dataframe thead th {\n",
       "        text-align: right;\n",
       "    }\n",
       "</style>\n",
       "<table border=\"1\" class=\"dataframe\">\n",
       "  <thead>\n",
       "    <tr style=\"text-align: right;\">\n",
       "      <th></th>\n",
       "      <th>NumeroCliente</th>\n",
       "      <th>Nome</th>\n",
       "    </tr>\n",
       "  </thead>\n",
       "  <tbody>\n",
       "    <tr>\n",
       "      <th>18</th>\n",
       "      <td>9</td>\n",
       "      <td>Grazie</td>\n",
       "    </tr>\n",
       "    <tr>\n",
       "      <th>19</th>\n",
       "      <td>10</td>\n",
       "      <td>Giovanni</td>\n",
       "    </tr>\n",
       "    <tr>\n",
       "      <th>20</th>\n",
       "      <td>11</td>\n",
       "      <td>Maria</td>\n",
       "    </tr>\n",
       "    <tr>\n",
       "      <th>21</th>\n",
       "      <td>12</td>\n",
       "      <td>Giuseppe</td>\n",
       "    </tr>\n",
       "    <tr>\n",
       "      <th>22</th>\n",
       "      <td>13</td>\n",
       "      <td>Francesco</td>\n",
       "    </tr>\n",
       "  </tbody>\n",
       "</table>\n",
       "</div>"
      ],
      "text/plain": [
       "    NumeroCliente       Nome\n",
       "18              9     Grazie\n",
       "19             10   Giovanni\n",
       "20             11      Maria\n",
       "21             12   Giuseppe\n",
       "22             13  Francesco"
      ]
     },
     "execution_count": 52,
     "metadata": {},
     "output_type": "execute_result"
    }
   ],
   "source": [
    "#SQL\n",
    "#SELECT    TOP 5 Clienti.NumeroCliente, Clienti.Nome\n",
    "#FROM      Clienti\n",
    "#LEFT JOIN Fatture\n",
    "#       ON Clienti.NumeroCliente = Fatture.IdCliente\n",
    "#WHERE F.IdCliente IS NULL\n",
    "\n",
    "pd.merge(clienti,\n",
    "         fatture,\n",
    "         how = 'left',\n",
    "         left_on = \"NumeroCliente\",\n",
    "         right_on = \"IdCliente\").query(\"IdCliente.isna()\")[[\"NumeroCliente\",\"Nome\"]].head(5)\n"
   ]
  },
  {
   "cell_type": "markdown",
   "metadata": {},
   "source": [
    "# Ordinare un dataframe"
   ]
  },
  {
   "cell_type": "markdown",
   "metadata": {},
   "source": [
    "## Ordinare un dataframe per una colonna"
   ]
  },
  {
   "cell_type": "markdown",
   "metadata": {},
   "source": [
    "Visualizzare le fatture dalla più recente alla meno recente"
   ]
  },
  {
   "cell_type": "code",
   "execution_count": 53,
   "metadata": {},
   "outputs": [
    {
     "data": {
      "text/html": [
       "<div>\n",
       "<style scoped>\n",
       "    .dataframe tbody tr th:only-of-type {\n",
       "        vertical-align: middle;\n",
       "    }\n",
       "\n",
       "    .dataframe tbody tr th {\n",
       "        vertical-align: top;\n",
       "    }\n",
       "\n",
       "    .dataframe thead th {\n",
       "        text-align: right;\n",
       "    }\n",
       "</style>\n",
       "<table border=\"1\" class=\"dataframe\">\n",
       "  <thead>\n",
       "    <tr style=\"text-align: right;\">\n",
       "      <th></th>\n",
       "      <th>NumeroFattura</th>\n",
       "      <th>Tipologia</th>\n",
       "      <th>Importo</th>\n",
       "      <th>Iva</th>\n",
       "      <th>IdCliente</th>\n",
       "      <th>Regione</th>\n",
       "      <th>DataFattura</th>\n",
       "      <th>NumeroFornitore</th>\n",
       "    </tr>\n",
       "  </thead>\n",
       "  <tbody>\n",
       "    <tr>\n",
       "      <th>0</th>\n",
       "      <td>1</td>\n",
       "      <td>A</td>\n",
       "      <td>1120.0</td>\n",
       "      <td>20.0</td>\n",
       "      <td>1</td>\n",
       "      <td>Molise</td>\n",
       "      <td>2018-01-01</td>\n",
       "      <td>1</td>\n",
       "    </tr>\n",
       "    <tr>\n",
       "      <th>12</th>\n",
       "      <td>13</td>\n",
       "      <td>V</td>\n",
       "      <td>87.0</td>\n",
       "      <td>20.0</td>\n",
       "      <td>2</td>\n",
       "      <td>Puglia</td>\n",
       "      <td>2016-01-03</td>\n",
       "      <td>&lt;NA&gt;</td>\n",
       "    </tr>\n",
       "    <tr>\n",
       "      <th>8</th>\n",
       "      <td>9</td>\n",
       "      <td>A</td>\n",
       "      <td>67.0</td>\n",
       "      <td>20.0</td>\n",
       "      <td>3</td>\n",
       "      <td>Lombardia</td>\n",
       "      <td>2018-01-01</td>\n",
       "      <td>2</td>\n",
       "    </tr>\n",
       "    <tr>\n",
       "      <th>3</th>\n",
       "      <td>4</td>\n",
       "      <td>V</td>\n",
       "      <td>64.0</td>\n",
       "      <td>20.0</td>\n",
       "      <td>3</td>\n",
       "      <td>Lombardia</td>\n",
       "      <td>2019-01-30</td>\n",
       "      <td>1</td>\n",
       "    </tr>\n",
       "    <tr>\n",
       "      <th>11</th>\n",
       "      <td>12</td>\n",
       "      <td>A</td>\n",
       "      <td>57.0</td>\n",
       "      <td>20.0</td>\n",
       "      <td>7</td>\n",
       "      <td>Marche</td>\n",
       "      <td>2019-01-30</td>\n",
       "      <td>&lt;NA&gt;</td>\n",
       "    </tr>\n",
       "  </tbody>\n",
       "</table>\n",
       "</div>"
      ],
      "text/plain": [
       "    NumeroFattura Tipologia  Importo   Iva  IdCliente    Regione DataFattura  \\\n",
       "0               1         A   1120.0  20.0          1     Molise  2018-01-01   \n",
       "12             13         V     87.0  20.0          2     Puglia  2016-01-03   \n",
       "8               9         A     67.0  20.0          3  Lombardia  2018-01-01   \n",
       "3               4         V     64.0  20.0          3  Lombardia  2019-01-30   \n",
       "11             12         A     57.0  20.0          7     Marche  2019-01-30   \n",
       "\n",
       "    NumeroFornitore  \n",
       "0                 1  \n",
       "12             <NA>  \n",
       "8                 2  \n",
       "3                 1  \n",
       "11             <NA>  "
      ]
     },
     "execution_count": 53,
     "metadata": {},
     "output_type": "execute_result"
    }
   ],
   "source": [
    "#SQL\n",
    "#SELECT TOP 5 *\n",
    "#FROM   Fatture\n",
    "#ORDER BY DataFattura DESC\n",
    "\n",
    "fatture.sort_values(by=['Importo'], ascending=False).head(5)"
   ]
  },
  {
   "cell_type": "markdown",
   "metadata": {},
   "source": [
    "Creare un nuovo dataframe con il nuovo ordine"
   ]
  },
  {
   "cell_type": "code",
   "execution_count": 54,
   "metadata": {},
   "outputs": [
    {
     "data": {
      "text/html": [
       "<div>\n",
       "<style scoped>\n",
       "    .dataframe tbody tr th:only-of-type {\n",
       "        vertical-align: middle;\n",
       "    }\n",
       "\n",
       "    .dataframe tbody tr th {\n",
       "        vertical-align: top;\n",
       "    }\n",
       "\n",
       "    .dataframe thead th {\n",
       "        text-align: right;\n",
       "    }\n",
       "</style>\n",
       "<table border=\"1\" class=\"dataframe\">\n",
       "  <thead>\n",
       "    <tr style=\"text-align: right;\">\n",
       "      <th></th>\n",
       "      <th>NumeroFattura</th>\n",
       "      <th>Tipologia</th>\n",
       "      <th>Importo</th>\n",
       "      <th>Iva</th>\n",
       "      <th>IdCliente</th>\n",
       "      <th>Regione</th>\n",
       "      <th>DataFattura</th>\n",
       "      <th>NumeroFornitore</th>\n",
       "    </tr>\n",
       "  </thead>\n",
       "  <tbody>\n",
       "    <tr>\n",
       "      <th>15</th>\n",
       "      <td>16</td>\n",
       "      <td>V</td>\n",
       "      <td>21.0</td>\n",
       "      <td>20.0</td>\n",
       "      <td>1</td>\n",
       "      <td>Molise</td>\n",
       "      <td>2019-02-05</td>\n",
       "      <td>3</td>\n",
       "    </tr>\n",
       "    <tr>\n",
       "      <th>7</th>\n",
       "      <td>8</td>\n",
       "      <td>V</td>\n",
       "      <td>54.0</td>\n",
       "      <td>20.0</td>\n",
       "      <td>8</td>\n",
       "      <td>Abruzzo</td>\n",
       "      <td>2019-01-30</td>\n",
       "      <td>2</td>\n",
       "    </tr>\n",
       "    <tr>\n",
       "      <th>3</th>\n",
       "      <td>4</td>\n",
       "      <td>V</td>\n",
       "      <td>64.0</td>\n",
       "      <td>20.0</td>\n",
       "      <td>3</td>\n",
       "      <td>Lombardia</td>\n",
       "      <td>2019-01-30</td>\n",
       "      <td>1</td>\n",
       "    </tr>\n",
       "    <tr>\n",
       "      <th>11</th>\n",
       "      <td>12</td>\n",
       "      <td>A</td>\n",
       "      <td>57.0</td>\n",
       "      <td>20.0</td>\n",
       "      <td>7</td>\n",
       "      <td>Marche</td>\n",
       "      <td>2019-01-30</td>\n",
       "      <td>&lt;NA&gt;</td>\n",
       "    </tr>\n",
       "    <tr>\n",
       "      <th>16</th>\n",
       "      <td>17</td>\n",
       "      <td>V</td>\n",
       "      <td>1.0</td>\n",
       "      <td>20.0</td>\n",
       "      <td>5</td>\n",
       "      <td>Umbria</td>\n",
       "      <td>2019-01-05</td>\n",
       "      <td>4</td>\n",
       "    </tr>\n",
       "  </tbody>\n",
       "</table>\n",
       "</div>"
      ],
      "text/plain": [
       "    NumeroFattura Tipologia  Importo   Iva  IdCliente    Regione DataFattura  \\\n",
       "15             16         V     21.0  20.0          1     Molise  2019-02-05   \n",
       "7               8         V     54.0  20.0          8    Abruzzo  2019-01-30   \n",
       "3               4         V     64.0  20.0          3  Lombardia  2019-01-30   \n",
       "11             12         A     57.0  20.0          7     Marche  2019-01-30   \n",
       "16             17         V      1.0  20.0          5     Umbria  2019-01-05   \n",
       "\n",
       "    NumeroFornitore  \n",
       "15                3  \n",
       "7                 2  \n",
       "3                 1  \n",
       "11             <NA>  \n",
       "16                4  "
      ]
     },
     "execution_count": 54,
     "metadata": {},
     "output_type": "execute_result"
    }
   ],
   "source": [
    "fatture_new = fatture.sort_values(by=['DataFattura'], ascending=False).copy()\n",
    "fatture_new.head(5)"
   ]
  },
  {
   "cell_type": "markdown",
   "metadata": {},
   "source": [
    "Resettiamo l'indice di FattureNew"
   ]
  },
  {
   "cell_type": "code",
   "execution_count": 55,
   "metadata": {},
   "outputs": [
    {
     "data": {
      "text/html": [
       "<div>\n",
       "<style scoped>\n",
       "    .dataframe tbody tr th:only-of-type {\n",
       "        vertical-align: middle;\n",
       "    }\n",
       "\n",
       "    .dataframe tbody tr th {\n",
       "        vertical-align: top;\n",
       "    }\n",
       "\n",
       "    .dataframe thead th {\n",
       "        text-align: right;\n",
       "    }\n",
       "</style>\n",
       "<table border=\"1\" class=\"dataframe\">\n",
       "  <thead>\n",
       "    <tr style=\"text-align: right;\">\n",
       "      <th></th>\n",
       "      <th>NumeroFattura</th>\n",
       "      <th>Tipologia</th>\n",
       "      <th>Importo</th>\n",
       "      <th>Iva</th>\n",
       "      <th>IdCliente</th>\n",
       "      <th>Regione</th>\n",
       "      <th>DataFattura</th>\n",
       "      <th>NumeroFornitore</th>\n",
       "    </tr>\n",
       "  </thead>\n",
       "  <tbody>\n",
       "    <tr>\n",
       "      <th>0</th>\n",
       "      <td>16</td>\n",
       "      <td>V</td>\n",
       "      <td>21.0</td>\n",
       "      <td>20.0</td>\n",
       "      <td>1</td>\n",
       "      <td>Molise</td>\n",
       "      <td>2019-02-05</td>\n",
       "      <td>3</td>\n",
       "    </tr>\n",
       "    <tr>\n",
       "      <th>1</th>\n",
       "      <td>8</td>\n",
       "      <td>V</td>\n",
       "      <td>54.0</td>\n",
       "      <td>20.0</td>\n",
       "      <td>8</td>\n",
       "      <td>Abruzzo</td>\n",
       "      <td>2019-01-30</td>\n",
       "      <td>2</td>\n",
       "    </tr>\n",
       "    <tr>\n",
       "      <th>2</th>\n",
       "      <td>4</td>\n",
       "      <td>V</td>\n",
       "      <td>64.0</td>\n",
       "      <td>20.0</td>\n",
       "      <td>3</td>\n",
       "      <td>Lombardia</td>\n",
       "      <td>2019-01-30</td>\n",
       "      <td>1</td>\n",
       "    </tr>\n",
       "    <tr>\n",
       "      <th>3</th>\n",
       "      <td>12</td>\n",
       "      <td>A</td>\n",
       "      <td>57.0</td>\n",
       "      <td>20.0</td>\n",
       "      <td>7</td>\n",
       "      <td>Marche</td>\n",
       "      <td>2019-01-30</td>\n",
       "      <td>&lt;NA&gt;</td>\n",
       "    </tr>\n",
       "    <tr>\n",
       "      <th>4</th>\n",
       "      <td>17</td>\n",
       "      <td>V</td>\n",
       "      <td>1.0</td>\n",
       "      <td>20.0</td>\n",
       "      <td>5</td>\n",
       "      <td>Umbria</td>\n",
       "      <td>2019-01-05</td>\n",
       "      <td>4</td>\n",
       "    </tr>\n",
       "  </tbody>\n",
       "</table>\n",
       "</div>"
      ],
      "text/plain": [
       "   NumeroFattura Tipologia  Importo   Iva  IdCliente    Regione DataFattura  \\\n",
       "0             16         V     21.0  20.0          1     Molise  2019-02-05   \n",
       "1              8         V     54.0  20.0          8    Abruzzo  2019-01-30   \n",
       "2              4         V     64.0  20.0          3  Lombardia  2019-01-30   \n",
       "3             12         A     57.0  20.0          7     Marche  2019-01-30   \n",
       "4             17         V      1.0  20.0          5     Umbria  2019-01-05   \n",
       "\n",
       "   NumeroFornitore  \n",
       "0                3  \n",
       "1                2  \n",
       "2                1  \n",
       "3             <NA>  \n",
       "4                4  "
      ]
     },
     "execution_count": 55,
     "metadata": {},
     "output_type": "execute_result"
    }
   ],
   "source": [
    "fatture_new = fatture_new.reset_index(drop=True)\n",
    "fatture_new.head(5)"
   ]
  },
  {
   "cell_type": "markdown",
   "metadata": {},
   "source": [
    "## Ordinare un dataframe in maniera randomica "
   ]
  },
  {
   "cell_type": "markdown",
   "metadata": {},
   "source": [
    "Visualizzare il dataframe Fatture con un ordinamento randomico"
   ]
  },
  {
   "cell_type": "code",
   "execution_count": 56,
   "metadata": {},
   "outputs": [
    {
     "data": {
      "text/html": [
       "<div>\n",
       "<style scoped>\n",
       "    .dataframe tbody tr th:only-of-type {\n",
       "        vertical-align: middle;\n",
       "    }\n",
       "\n",
       "    .dataframe tbody tr th {\n",
       "        vertical-align: top;\n",
       "    }\n",
       "\n",
       "    .dataframe thead th {\n",
       "        text-align: right;\n",
       "    }\n",
       "</style>\n",
       "<table border=\"1\" class=\"dataframe\">\n",
       "  <thead>\n",
       "    <tr style=\"text-align: right;\">\n",
       "      <th></th>\n",
       "      <th>NumeroFattura</th>\n",
       "      <th>Tipologia</th>\n",
       "      <th>Importo</th>\n",
       "      <th>Iva</th>\n",
       "      <th>IdCliente</th>\n",
       "      <th>Regione</th>\n",
       "      <th>DataFattura</th>\n",
       "      <th>NumeroFornitore</th>\n",
       "    </tr>\n",
       "  </thead>\n",
       "  <tbody>\n",
       "    <tr>\n",
       "      <th>1</th>\n",
       "      <td>2</td>\n",
       "      <td>V</td>\n",
       "      <td>32.0</td>\n",
       "      <td>20.0</td>\n",
       "      <td>2</td>\n",
       "      <td>Puglia</td>\n",
       "      <td>2017-03-01</td>\n",
       "      <td>1</td>\n",
       "    </tr>\n",
       "    <tr>\n",
       "      <th>6</th>\n",
       "      <td>7</td>\n",
       "      <td>A</td>\n",
       "      <td>12.0</td>\n",
       "      <td>20.0</td>\n",
       "      <td>3</td>\n",
       "      <td>Lombardia</td>\n",
       "      <td>2017-06-01</td>\n",
       "      <td>2</td>\n",
       "    </tr>\n",
       "    <tr>\n",
       "      <th>8</th>\n",
       "      <td>9</td>\n",
       "      <td>A</td>\n",
       "      <td>67.0</td>\n",
       "      <td>20.0</td>\n",
       "      <td>3</td>\n",
       "      <td>Lombardia</td>\n",
       "      <td>2018-01-01</td>\n",
       "      <td>2</td>\n",
       "    </tr>\n",
       "    <tr>\n",
       "      <th>10</th>\n",
       "      <td>11</td>\n",
       "      <td>A</td>\n",
       "      <td>21.0</td>\n",
       "      <td>20.0</td>\n",
       "      <td>2</td>\n",
       "      <td>Puglia</td>\n",
       "      <td>2017-06-01</td>\n",
       "      <td>2</td>\n",
       "    </tr>\n",
       "    <tr>\n",
       "      <th>14</th>\n",
       "      <td>15</td>\n",
       "      <td>A</td>\n",
       "      <td>34.0</td>\n",
       "      <td>NaN</td>\n",
       "      <td>1</td>\n",
       "      <td>Molise</td>\n",
       "      <td>2017-06-01</td>\n",
       "      <td>3</td>\n",
       "    </tr>\n",
       "  </tbody>\n",
       "</table>\n",
       "</div>"
      ],
      "text/plain": [
       "    NumeroFattura Tipologia  Importo   Iva  IdCliente    Regione DataFattura  \\\n",
       "1               2         V     32.0  20.0          2     Puglia  2017-03-01   \n",
       "6               7         A     12.0  20.0          3  Lombardia  2017-06-01   \n",
       "8               9         A     67.0  20.0          3  Lombardia  2018-01-01   \n",
       "10             11         A     21.0  20.0          2     Puglia  2017-06-01   \n",
       "14             15         A     34.0   NaN          1     Molise  2017-06-01   \n",
       "\n",
       "    NumeroFornitore  \n",
       "1                 1  \n",
       "6                 2  \n",
       "8                 2  \n",
       "10                2  \n",
       "14                3  "
      ]
     },
     "execution_count": 56,
     "metadata": {},
     "output_type": "execute_result"
    }
   ],
   "source": [
    "fatture.sample(frac=1,\n",
    "               random_state=0 #per rendere l'ordinamento ripetibile)\n",
    "              ).head(5)"
   ]
  },
  {
   "cell_type": "markdown",
   "metadata": {},
   "source": [
    "# Modificare un dataframe"
   ]
  },
  {
   "cell_type": "markdown",
   "metadata": {},
   "source": [
    "## Copiare un dataframe"
   ]
  },
  {
   "cell_type": "markdown",
   "metadata": {},
   "source": [
    "Copiare il dataframe Clienti in ClientiBis"
   ]
  },
  {
   "cell_type": "code",
   "execution_count": 57,
   "metadata": {},
   "outputs": [],
   "source": [
    "#SQL\n",
    "#SELECT *\n",
    "#INTO   ClientiBis\n",
    "#FROM   Clienti\n",
    "\n",
    "clienti_bis = clienti.copy()"
   ]
  },
  {
   "cell_type": "markdown",
   "metadata": {},
   "source": [
    "## Convertire un dataframe in una lista di liste"
   ]
  },
  {
   "cell_type": "markdown",
   "metadata": {},
   "source": [
    "Convertire il dataframe Clienti in una lista"
   ]
  },
  {
   "cell_type": "code",
   "execution_count": 58,
   "metadata": {},
   "outputs": [],
   "source": [
    "lista_clienti = clienti.values.tolist()"
   ]
  },
  {
   "cell_type": "code",
   "execution_count": 59,
   "metadata": {},
   "outputs": [
    {
     "data": {
      "text/plain": [
       "list"
      ]
     },
     "execution_count": 59,
     "metadata": {},
     "output_type": "execute_result"
    }
   ],
   "source": [
    "type(lista_clienti)"
   ]
  },
  {
   "cell_type": "code",
   "execution_count": 60,
   "metadata": {},
   "outputs": [
    {
     "data": {
      "text/plain": [
       "[[1, 'Nicoletta', Timestamp('2010-01-01 00:00:00'), 'Francia', nan],\n",
       " [2, 'Giovanni', Timestamp('1976-03-01 00:00:00'), 'Italia', 'Lazio'],\n",
       " [3, 'Marco', Timestamp('1980-04-01 00:00:00'), 'Italia', 'Lazio'],\n",
       " [4, 'Giovanna', Timestamp('1977-05-01 00:00:00'), 'Italia', 'Lazio']]"
      ]
     },
     "execution_count": 60,
     "metadata": {},
     "output_type": "execute_result"
    }
   ],
   "source": [
    "lista_clienti[0:4]"
   ]
  },
  {
   "cell_type": "markdown",
   "metadata": {},
   "source": [
    "## Convertire un dataframe in un array di numpy"
   ]
  },
  {
   "cell_type": "markdown",
   "metadata": {},
   "source": [
    "Creare un array di numpy a partire dal dataframe clienti"
   ]
  },
  {
   "cell_type": "code",
   "execution_count": 61,
   "metadata": {},
   "outputs": [],
   "source": [
    "array = clienti.values"
   ]
  },
  {
   "cell_type": "code",
   "execution_count": 62,
   "metadata": {},
   "outputs": [
    {
     "data": {
      "text/plain": [
       "numpy.ndarray"
      ]
     },
     "execution_count": 62,
     "metadata": {},
     "output_type": "execute_result"
    }
   ],
   "source": [
    "type(array)"
   ]
  },
  {
   "cell_type": "code",
   "execution_count": 63,
   "metadata": {},
   "outputs": [
    {
     "data": {
      "text/plain": [
       "array([[1, 'Nicoletta', Timestamp('2010-01-01 00:00:00'), 'Francia', nan],\n",
       "       [2, 'Giovanni', Timestamp('1976-03-01 00:00:00'), 'Italia',\n",
       "        'Lazio'],\n",
       "       [3, 'Marco', Timestamp('1980-04-01 00:00:00'), 'Italia', 'Lazio'],\n",
       "       [4, 'Giovanna', Timestamp('1977-05-01 00:00:00'), 'Italia',\n",
       "        'Lazio']], dtype=object)"
      ]
     },
     "execution_count": 63,
     "metadata": {},
     "output_type": "execute_result"
    }
   ],
   "source": [
    "array[0:4]"
   ]
  },
  {
   "cell_type": "markdown",
   "metadata": {},
   "source": [
    "## Creare un dataframe a partire da una lista"
   ]
  },
  {
   "cell_type": "markdown",
   "metadata": {},
   "source": [
    "Creare un dataframe a partire da una lista, assegnando i nomi alle colonne"
   ]
  },
  {
   "cell_type": "code",
   "execution_count": 64,
   "metadata": {},
   "outputs": [],
   "source": [
    "new_df = pd.DataFrame(data = lista_clienti, \n",
    "                     columns = ['NumeroCliente', 'Nome', 'Cognome', 'DataNascita', 'Regione'] )"
   ]
  },
  {
   "cell_type": "code",
   "execution_count": 65,
   "metadata": {},
   "outputs": [
    {
     "data": {
      "text/plain": [
       "NumeroCliente             int64\n",
       "Nome                     object\n",
       "Cognome          datetime64[ns]\n",
       "DataNascita              object\n",
       "Regione                  object\n",
       "dtype: object"
      ]
     },
     "execution_count": 65,
     "metadata": {},
     "output_type": "execute_result"
    }
   ],
   "source": [
    "new_df.dtypes"
   ]
  },
  {
   "cell_type": "markdown",
   "metadata": {},
   "source": [
    "## Rinominare una colonna "
   ]
  },
  {
   "cell_type": "markdown",
   "metadata": {},
   "source": [
    "Rinominare la colonna Iva del dataframe Fatture in Tax"
   ]
  },
  {
   "cell_type": "code",
   "execution_count": 66,
   "metadata": {},
   "outputs": [
    {
     "data": {
      "text/html": [
       "<div>\n",
       "<style scoped>\n",
       "    .dataframe tbody tr th:only-of-type {\n",
       "        vertical-align: middle;\n",
       "    }\n",
       "\n",
       "    .dataframe tbody tr th {\n",
       "        vertical-align: top;\n",
       "    }\n",
       "\n",
       "    .dataframe thead th {\n",
       "        text-align: right;\n",
       "    }\n",
       "</style>\n",
       "<table border=\"1\" class=\"dataframe\">\n",
       "  <thead>\n",
       "    <tr style=\"text-align: right;\">\n",
       "      <th></th>\n",
       "      <th>NumeroFattura</th>\n",
       "      <th>Tipologia</th>\n",
       "      <th>Importo</th>\n",
       "      <th>Tax</th>\n",
       "      <th>IdCliente</th>\n",
       "      <th>Regione</th>\n",
       "      <th>DataFattura</th>\n",
       "      <th>NumeroFornitore</th>\n",
       "    </tr>\n",
       "  </thead>\n",
       "  <tbody>\n",
       "    <tr>\n",
       "      <th>0</th>\n",
       "      <td>1</td>\n",
       "      <td>A</td>\n",
       "      <td>1120.0</td>\n",
       "      <td>20.0</td>\n",
       "      <td>1</td>\n",
       "      <td>Molise</td>\n",
       "      <td>2018-01-01</td>\n",
       "      <td>1</td>\n",
       "    </tr>\n",
       "    <tr>\n",
       "      <th>1</th>\n",
       "      <td>2</td>\n",
       "      <td>V</td>\n",
       "      <td>32.0</td>\n",
       "      <td>20.0</td>\n",
       "      <td>2</td>\n",
       "      <td>Puglia</td>\n",
       "      <td>2017-03-01</td>\n",
       "      <td>1</td>\n",
       "    </tr>\n",
       "    <tr>\n",
       "      <th>2</th>\n",
       "      <td>3</td>\n",
       "      <td>A</td>\n",
       "      <td>45.0</td>\n",
       "      <td>20.0</td>\n",
       "      <td>3</td>\n",
       "      <td>Lombardia</td>\n",
       "      <td>2017-06-01</td>\n",
       "      <td>1</td>\n",
       "    </tr>\n",
       "  </tbody>\n",
       "</table>\n",
       "</div>"
      ],
      "text/plain": [
       "   NumeroFattura Tipologia  Importo   Tax  IdCliente    Regione DataFattura  \\\n",
       "0              1         A   1120.0  20.0          1     Molise  2018-01-01   \n",
       "1              2         V     32.0  20.0          2     Puglia  2017-03-01   \n",
       "2              3         A     45.0  20.0          3  Lombardia  2017-06-01   \n",
       "\n",
       "   NumeroFornitore  \n",
       "0                1  \n",
       "1                1  \n",
       "2                1  "
      ]
     },
     "execution_count": 66,
     "metadata": {},
     "output_type": "execute_result"
    }
   ],
   "source": [
    "fatture = fatture.rename(columns={\"Iva\": \"Tax\"})\n",
    "fatture.head(3)"
   ]
  },
  {
   "cell_type": "markdown",
   "metadata": {},
   "source": [
    "## Eliminare una colonna "
   ]
  },
  {
   "cell_type": "markdown",
   "metadata": {},
   "source": [
    "Eliminare la colonna NumeroFornitore dal dataframe Fatture"
   ]
  },
  {
   "cell_type": "code",
   "execution_count": 67,
   "metadata": {},
   "outputs": [
    {
     "data": {
      "text/plain": [
       "Index(['NumeroFattura', 'Tipologia', 'Importo', 'Tax', 'IdCliente', 'Regione',\n",
       "       'DataFattura', 'NumeroFornitore'],\n",
       "      dtype='object')"
      ]
     },
     "execution_count": 67,
     "metadata": {},
     "output_type": "execute_result"
    }
   ],
   "source": [
    "fatture.columns"
   ]
  },
  {
   "cell_type": "code",
   "execution_count": 68,
   "metadata": {},
   "outputs": [],
   "source": [
    "#SQL\n",
    "#ALTER TABLE Fatture\n",
    "#DROP COLUMN NumeroFornitore\n",
    "\n",
    "fatture = fatture.drop([\"NumeroFornitore\"], axis=1)\n",
    "#fatture.head(3)"
   ]
  },
  {
   "cell_type": "markdown",
   "metadata": {},
   "source": [
    "## Aggiornare una colonna"
   ]
  },
  {
   "cell_type": "markdown",
   "metadata": {},
   "source": [
    "Guardiamo i clienti della regione Lazio"
   ]
  },
  {
   "cell_type": "code",
   "execution_count": 69,
   "metadata": {},
   "outputs": [
    {
     "data": {
      "text/html": [
       "<div>\n",
       "<style scoped>\n",
       "    .dataframe tbody tr th:only-of-type {\n",
       "        vertical-align: middle;\n",
       "    }\n",
       "\n",
       "    .dataframe tbody tr th {\n",
       "        vertical-align: top;\n",
       "    }\n",
       "\n",
       "    .dataframe thead th {\n",
       "        text-align: right;\n",
       "    }\n",
       "</style>\n",
       "<table border=\"1\" class=\"dataframe\">\n",
       "  <thead>\n",
       "    <tr style=\"text-align: right;\">\n",
       "      <th></th>\n",
       "      <th>NumeroCliente</th>\n",
       "      <th>Nome</th>\n",
       "      <th>DataNascita</th>\n",
       "      <th>Nazione</th>\n",
       "      <th>Regione</th>\n",
       "    </tr>\n",
       "  </thead>\n",
       "  <tbody>\n",
       "    <tr>\n",
       "      <th>1</th>\n",
       "      <td>2</td>\n",
       "      <td>Giovanni</td>\n",
       "      <td>1976-03-01</td>\n",
       "      <td>Italia</td>\n",
       "      <td>Lazio</td>\n",
       "    </tr>\n",
       "    <tr>\n",
       "      <th>2</th>\n",
       "      <td>3</td>\n",
       "      <td>Marco</td>\n",
       "      <td>1980-04-01</td>\n",
       "      <td>Italia</td>\n",
       "      <td>Lazio</td>\n",
       "    </tr>\n",
       "    <tr>\n",
       "      <th>3</th>\n",
       "      <td>4</td>\n",
       "      <td>Giovanna</td>\n",
       "      <td>1977-05-01</td>\n",
       "      <td>Italia</td>\n",
       "      <td>Lazio</td>\n",
       "    </tr>\n",
       "  </tbody>\n",
       "</table>\n",
       "</div>"
      ],
      "text/plain": [
       "   NumeroCliente      Nome DataNascita Nazione Regione\n",
       "1              2  Giovanni  1976-03-01  Italia   Lazio\n",
       "2              3     Marco  1980-04-01  Italia   Lazio\n",
       "3              4  Giovanna  1977-05-01  Italia   Lazio"
      ]
     },
     "execution_count": 69,
     "metadata": {},
     "output_type": "execute_result"
    }
   ],
   "source": [
    "clienti.query(\"Regione == 'Lazio'\")"
   ]
  },
  {
   "cell_type": "markdown",
   "metadata": {},
   "source": [
    "Modificare il nome di tutti i clienti della regione Lazio valorizzandolo con \"Nicola\""
   ]
  },
  {
   "cell_type": "code",
   "execution_count": 70,
   "metadata": {},
   "outputs": [],
   "source": [
    "#SQL\n",
    "#UPDATE Clienti\n",
    "#SET    Nome = 'Nicola'\n",
    "#WHERE  Regione = 'Lazio'\n",
    "\n",
    "clienti.loc[clienti[\"Regione\"] == \"Lazio\", \"Nome\"] = 'Nicola'"
   ]
  },
  {
   "cell_type": "code",
   "execution_count": 71,
   "metadata": {},
   "outputs": [
    {
     "data": {
      "text/html": [
       "<div>\n",
       "<style scoped>\n",
       "    .dataframe tbody tr th:only-of-type {\n",
       "        vertical-align: middle;\n",
       "    }\n",
       "\n",
       "    .dataframe tbody tr th {\n",
       "        vertical-align: top;\n",
       "    }\n",
       "\n",
       "    .dataframe thead th {\n",
       "        text-align: right;\n",
       "    }\n",
       "</style>\n",
       "<table border=\"1\" class=\"dataframe\">\n",
       "  <thead>\n",
       "    <tr style=\"text-align: right;\">\n",
       "      <th></th>\n",
       "      <th>NumeroCliente</th>\n",
       "      <th>Nome</th>\n",
       "      <th>DataNascita</th>\n",
       "      <th>Nazione</th>\n",
       "      <th>Regione</th>\n",
       "    </tr>\n",
       "  </thead>\n",
       "  <tbody>\n",
       "    <tr>\n",
       "      <th>1</th>\n",
       "      <td>2</td>\n",
       "      <td>Nicola</td>\n",
       "      <td>1976-03-01</td>\n",
       "      <td>Italia</td>\n",
       "      <td>Lazio</td>\n",
       "    </tr>\n",
       "    <tr>\n",
       "      <th>2</th>\n",
       "      <td>3</td>\n",
       "      <td>Nicola</td>\n",
       "      <td>1980-04-01</td>\n",
       "      <td>Italia</td>\n",
       "      <td>Lazio</td>\n",
       "    </tr>\n",
       "    <tr>\n",
       "      <th>3</th>\n",
       "      <td>4</td>\n",
       "      <td>Nicola</td>\n",
       "      <td>1977-05-01</td>\n",
       "      <td>Italia</td>\n",
       "      <td>Lazio</td>\n",
       "    </tr>\n",
       "  </tbody>\n",
       "</table>\n",
       "</div>"
      ],
      "text/plain": [
       "   NumeroCliente    Nome DataNascita Nazione Regione\n",
       "1              2  Nicola  1976-03-01  Italia   Lazio\n",
       "2              3  Nicola  1980-04-01  Italia   Lazio\n",
       "3              4  Nicola  1977-05-01  Italia   Lazio"
      ]
     },
     "execution_count": 71,
     "metadata": {},
     "output_type": "execute_result"
    }
   ],
   "source": [
    "clienti.query(\"Regione == 'Lazio'\")"
   ]
  },
  {
   "cell_type": "code",
   "execution_count": 72,
   "metadata": {},
   "outputs": [],
   "source": [
    "#oppure\n",
    "\n",
    "clienti[\"Nome\"] = np.where(clienti[\"Regione\"] == \"Lazio\", \n",
    "                           \"Nicola\", \n",
    "                           clienti[\"Nome\"]  )"
   ]
  },
  {
   "cell_type": "markdown",
   "metadata": {},
   "source": [
    "## Aggiornare una colonna sostituendo i null con un valore"
   ]
  },
  {
   "cell_type": "markdown",
   "metadata": {},
   "source": [
    "Sostituire i null presenti nella colonna Regione del dataframe Cliente con la stringa \"Non conosciuta\""
   ]
  },
  {
   "cell_type": "code",
   "execution_count": 73,
   "metadata": {},
   "outputs": [],
   "source": [
    "#SQL\n",
    "#UPDATE Clienti\n",
    "#SET    Regione = COALESCE(Regione,'Non conosciuta')\n",
    "#WHERE  Regione IS NULL\n",
    "\n",
    "clienti[\"Regione\"] = clienti[\"Regione\"].fillna(\"Non conosciuta\")"
   ]
  },
  {
   "cell_type": "code",
   "execution_count": 74,
   "metadata": {},
   "outputs": [
    {
     "data": {
      "text/html": [
       "<div>\n",
       "<style scoped>\n",
       "    .dataframe tbody tr th:only-of-type {\n",
       "        vertical-align: middle;\n",
       "    }\n",
       "\n",
       "    .dataframe tbody tr th {\n",
       "        vertical-align: top;\n",
       "    }\n",
       "\n",
       "    .dataframe thead th {\n",
       "        text-align: right;\n",
       "    }\n",
       "</style>\n",
       "<table border=\"1\" class=\"dataframe\">\n",
       "  <thead>\n",
       "    <tr style=\"text-align: right;\">\n",
       "      <th></th>\n",
       "      <th>NumeroCliente</th>\n",
       "      <th>Nome</th>\n",
       "      <th>DataNascita</th>\n",
       "      <th>Nazione</th>\n",
       "      <th>Regione</th>\n",
       "    </tr>\n",
       "  </thead>\n",
       "  <tbody>\n",
       "    <tr>\n",
       "      <th>0</th>\n",
       "      <td>1</td>\n",
       "      <td>Nicoletta</td>\n",
       "      <td>2010-01-01</td>\n",
       "      <td>Francia</td>\n",
       "      <td>Non conosciuta</td>\n",
       "    </tr>\n",
       "    <tr>\n",
       "      <th>1</th>\n",
       "      <td>2</td>\n",
       "      <td>Nicola</td>\n",
       "      <td>1976-03-01</td>\n",
       "      <td>Italia</td>\n",
       "      <td>Lazio</td>\n",
       "    </tr>\n",
       "    <tr>\n",
       "      <th>2</th>\n",
       "      <td>3</td>\n",
       "      <td>Nicola</td>\n",
       "      <td>1980-04-01</td>\n",
       "      <td>Italia</td>\n",
       "      <td>Lazio</td>\n",
       "    </tr>\n",
       "  </tbody>\n",
       "</table>\n",
       "</div>"
      ],
      "text/plain": [
       "   NumeroCliente       Nome DataNascita  Nazione         Regione\n",
       "0              1  Nicoletta  2010-01-01  Francia  Non conosciuta\n",
       "1              2     Nicola  1976-03-01   Italia           Lazio\n",
       "2              3     Nicola  1980-04-01   Italia           Lazio"
      ]
     },
     "execution_count": 74,
     "metadata": {},
     "output_type": "execute_result"
    }
   ],
   "source": [
    "clienti.head(3)"
   ]
  },
  {
   "cell_type": "markdown",
   "metadata": {},
   "source": [
    "## Concatenare una colonna"
   ]
  },
  {
   "cell_type": "markdown",
   "metadata": {},
   "source": [
    "Concatenare le colonne Nazione e Regione del dataframe clienti.\n",
    "\n",
    "Attenzione, in presenza di un null il risultato della concatenazione sarà null. Per evitare che ciò accada, il metodo fillna può essere usato per sostituire i null con ''."
   ]
  },
  {
   "cell_type": "code",
   "execution_count": 75,
   "metadata": {},
   "outputs": [
    {
     "data": {
      "text/html": [
       "<div>\n",
       "<style scoped>\n",
       "    .dataframe tbody tr th:only-of-type {\n",
       "        vertical-align: middle;\n",
       "    }\n",
       "\n",
       "    .dataframe tbody tr th {\n",
       "        vertical-align: top;\n",
       "    }\n",
       "\n",
       "    .dataframe thead th {\n",
       "        text-align: right;\n",
       "    }\n",
       "</style>\n",
       "<table border=\"1\" class=\"dataframe\">\n",
       "  <thead>\n",
       "    <tr style=\"text-align: right;\">\n",
       "      <th></th>\n",
       "      <th>NumeroCliente</th>\n",
       "      <th>Nome</th>\n",
       "      <th>DataNascita</th>\n",
       "      <th>Nazione</th>\n",
       "      <th>Regione</th>\n",
       "      <th>ColonnaConcatenata</th>\n",
       "    </tr>\n",
       "  </thead>\n",
       "  <tbody>\n",
       "    <tr>\n",
       "      <th>0</th>\n",
       "      <td>1</td>\n",
       "      <td>Nicoletta</td>\n",
       "      <td>2010-01-01</td>\n",
       "      <td>Francia</td>\n",
       "      <td>Non conosciuta</td>\n",
       "      <td>Francia,Non conosciuta</td>\n",
       "    </tr>\n",
       "    <tr>\n",
       "      <th>1</th>\n",
       "      <td>2</td>\n",
       "      <td>Nicola</td>\n",
       "      <td>1976-03-01</td>\n",
       "      <td>Italia</td>\n",
       "      <td>Lazio</td>\n",
       "      <td>Italia,Lazio</td>\n",
       "    </tr>\n",
       "    <tr>\n",
       "      <th>2</th>\n",
       "      <td>3</td>\n",
       "      <td>Nicola</td>\n",
       "      <td>1980-04-01</td>\n",
       "      <td>Italia</td>\n",
       "      <td>Lazio</td>\n",
       "      <td>Italia,Lazio</td>\n",
       "    </tr>\n",
       "  </tbody>\n",
       "</table>\n",
       "</div>"
      ],
      "text/plain": [
       "   NumeroCliente       Nome DataNascita  Nazione         Regione  \\\n",
       "0              1  Nicoletta  2010-01-01  Francia  Non conosciuta   \n",
       "1              2     Nicola  1976-03-01   Italia           Lazio   \n",
       "2              3     Nicola  1980-04-01   Italia           Lazio   \n",
       "\n",
       "       ColonnaConcatenata  \n",
       "0  Francia,Non conosciuta  \n",
       "1            Italia,Lazio  \n",
       "2            Italia,Lazio  "
      ]
     },
     "execution_count": 75,
     "metadata": {},
     "output_type": "execute_result"
    }
   ],
   "source": [
    "clienti[\"ColonnaConcatenata\"] = clienti[\"Nazione\"].fillna(\"\") + \",\" + clienti[\"Regione\"].fillna(\"\")\n",
    "clienti.head(3)"
   ]
  },
  {
   "cell_type": "markdown",
   "metadata": {},
   "source": [
    "## Splittare una colonna"
   ]
  },
  {
   "cell_type": "markdown",
   "metadata": {},
   "source": [
    "Splittare tramite la virgola la colonna appena creata in due colonne: ColonnaSplit1 e ColonnaSplit2"
   ]
  },
  {
   "cell_type": "code",
   "execution_count": 76,
   "metadata": {},
   "outputs": [
    {
     "data": {
      "text/html": [
       "<div>\n",
       "<style scoped>\n",
       "    .dataframe tbody tr th:only-of-type {\n",
       "        vertical-align: middle;\n",
       "    }\n",
       "\n",
       "    .dataframe tbody tr th {\n",
       "        vertical-align: top;\n",
       "    }\n",
       "\n",
       "    .dataframe thead th {\n",
       "        text-align: right;\n",
       "    }\n",
       "</style>\n",
       "<table border=\"1\" class=\"dataframe\">\n",
       "  <thead>\n",
       "    <tr style=\"text-align: right;\">\n",
       "      <th></th>\n",
       "      <th>NumeroCliente</th>\n",
       "      <th>Nome</th>\n",
       "      <th>DataNascita</th>\n",
       "      <th>Nazione</th>\n",
       "      <th>Regione</th>\n",
       "      <th>ColonnaConcatenata</th>\n",
       "      <th>ColonnaSplit1</th>\n",
       "      <th>ColonnaSplit2</th>\n",
       "    </tr>\n",
       "  </thead>\n",
       "  <tbody>\n",
       "    <tr>\n",
       "      <th>0</th>\n",
       "      <td>1</td>\n",
       "      <td>Nicoletta</td>\n",
       "      <td>2010-01-01</td>\n",
       "      <td>Francia</td>\n",
       "      <td>Non conosciuta</td>\n",
       "      <td>Francia,Non conosciuta</td>\n",
       "      <td>Francia</td>\n",
       "      <td>Non conosciuta</td>\n",
       "    </tr>\n",
       "    <tr>\n",
       "      <th>1</th>\n",
       "      <td>2</td>\n",
       "      <td>Nicola</td>\n",
       "      <td>1976-03-01</td>\n",
       "      <td>Italia</td>\n",
       "      <td>Lazio</td>\n",
       "      <td>Italia,Lazio</td>\n",
       "      <td>Italia</td>\n",
       "      <td>Lazio</td>\n",
       "    </tr>\n",
       "    <tr>\n",
       "      <th>2</th>\n",
       "      <td>3</td>\n",
       "      <td>Nicola</td>\n",
       "      <td>1980-04-01</td>\n",
       "      <td>Italia</td>\n",
       "      <td>Lazio</td>\n",
       "      <td>Italia,Lazio</td>\n",
       "      <td>Italia</td>\n",
       "      <td>Lazio</td>\n",
       "    </tr>\n",
       "  </tbody>\n",
       "</table>\n",
       "</div>"
      ],
      "text/plain": [
       "   NumeroCliente       Nome DataNascita  Nazione         Regione  \\\n",
       "0              1  Nicoletta  2010-01-01  Francia  Non conosciuta   \n",
       "1              2     Nicola  1976-03-01   Italia           Lazio   \n",
       "2              3     Nicola  1980-04-01   Italia           Lazio   \n",
       "\n",
       "       ColonnaConcatenata ColonnaSplit1   ColonnaSplit2  \n",
       "0  Francia,Non conosciuta       Francia  Non conosciuta  \n",
       "1            Italia,Lazio        Italia           Lazio  \n",
       "2            Italia,Lazio        Italia           Lazio  "
      ]
     },
     "execution_count": 76,
     "metadata": {},
     "output_type": "execute_result"
    }
   ],
   "source": [
    "clienti[[\"ColonnaSplit1\",\"ColonnaSplit2\"]] = clienti[\"ColonnaConcatenata\"].str.split(pat = ',', expand=True)\n",
    "clienti.head(3)"
   ]
  },
  {
   "cell_type": "markdown",
   "metadata": {},
   "source": [
    "## Creare una colonna in base ad una condizione"
   ]
  },
  {
   "cell_type": "markdown",
   "metadata": {},
   "source": [
    "Creare nel dataframe Fatture la colonna TipologiaPrezzo contenente \"Prezzo alto\" se il valore della colonna Importo è maggiore di 50, \"Prezzo basso\" altrimenti."
   ]
  },
  {
   "cell_type": "code",
   "execution_count": 77,
   "metadata": {},
   "outputs": [
    {
     "data": {
      "text/html": [
       "<div>\n",
       "<style scoped>\n",
       "    .dataframe tbody tr th:only-of-type {\n",
       "        vertical-align: middle;\n",
       "    }\n",
       "\n",
       "    .dataframe tbody tr th {\n",
       "        vertical-align: top;\n",
       "    }\n",
       "\n",
       "    .dataframe thead th {\n",
       "        text-align: right;\n",
       "    }\n",
       "</style>\n",
       "<table border=\"1\" class=\"dataframe\">\n",
       "  <thead>\n",
       "    <tr style=\"text-align: right;\">\n",
       "      <th></th>\n",
       "      <th>NumeroFattura</th>\n",
       "      <th>Tipologia</th>\n",
       "      <th>Importo</th>\n",
       "      <th>Tax</th>\n",
       "      <th>IdCliente</th>\n",
       "      <th>Regione</th>\n",
       "      <th>DataFattura</th>\n",
       "      <th>TipologiaPrezzo</th>\n",
       "    </tr>\n",
       "  </thead>\n",
       "  <tbody>\n",
       "    <tr>\n",
       "      <th>0</th>\n",
       "      <td>1</td>\n",
       "      <td>A</td>\n",
       "      <td>1120.0</td>\n",
       "      <td>20.0</td>\n",
       "      <td>1</td>\n",
       "      <td>Molise</td>\n",
       "      <td>2018-01-01</td>\n",
       "      <td>Prezzo alto</td>\n",
       "    </tr>\n",
       "    <tr>\n",
       "      <th>1</th>\n",
       "      <td>2</td>\n",
       "      <td>V</td>\n",
       "      <td>32.0</td>\n",
       "      <td>20.0</td>\n",
       "      <td>2</td>\n",
       "      <td>Puglia</td>\n",
       "      <td>2017-03-01</td>\n",
       "      <td>Prezzo basso</td>\n",
       "    </tr>\n",
       "    <tr>\n",
       "      <th>2</th>\n",
       "      <td>3</td>\n",
       "      <td>A</td>\n",
       "      <td>45.0</td>\n",
       "      <td>20.0</td>\n",
       "      <td>3</td>\n",
       "      <td>Lombardia</td>\n",
       "      <td>2017-06-01</td>\n",
       "      <td>Prezzo basso</td>\n",
       "    </tr>\n",
       "    <tr>\n",
       "      <th>3</th>\n",
       "      <td>4</td>\n",
       "      <td>V</td>\n",
       "      <td>64.0</td>\n",
       "      <td>20.0</td>\n",
       "      <td>3</td>\n",
       "      <td>Lombardia</td>\n",
       "      <td>2019-01-30</td>\n",
       "      <td>Prezzo alto</td>\n",
       "    </tr>\n",
       "    <tr>\n",
       "      <th>4</th>\n",
       "      <td>5</td>\n",
       "      <td>A</td>\n",
       "      <td>12.0</td>\n",
       "      <td>20.0</td>\n",
       "      <td>5</td>\n",
       "      <td>Umbria</td>\n",
       "      <td>2018-01-01</td>\n",
       "      <td>Prezzo basso</td>\n",
       "    </tr>\n",
       "  </tbody>\n",
       "</table>\n",
       "</div>"
      ],
      "text/plain": [
       "   NumeroFattura Tipologia  Importo   Tax  IdCliente    Regione DataFattura  \\\n",
       "0              1         A   1120.0  20.0          1     Molise  2018-01-01   \n",
       "1              2         V     32.0  20.0          2     Puglia  2017-03-01   \n",
       "2              3         A     45.0  20.0          3  Lombardia  2017-06-01   \n",
       "3              4         V     64.0  20.0          3  Lombardia  2019-01-30   \n",
       "4              5         A     12.0  20.0          5     Umbria  2018-01-01   \n",
       "\n",
       "  TipologiaPrezzo  \n",
       "0     Prezzo alto  \n",
       "1    Prezzo basso  \n",
       "2    Prezzo basso  \n",
       "3     Prezzo alto  \n",
       "4    Prezzo basso  "
      ]
     },
     "execution_count": 77,
     "metadata": {},
     "output_type": "execute_result"
    }
   ],
   "source": [
    "#SQL\n",
    "#CASE WHEN Importo > 50 \n",
    "#     THEN 'Prezzo alto'\n",
    "#     ELSE 'Prezzo basso'\n",
    "#END\n",
    "\n",
    "fatture[\"TipologiaPrezzo\"] = np.where(fatture[\"Importo\"] > 50, \"Prezzo alto\", \"Prezzo basso\")\n",
    "fatture.head(5)"
   ]
  },
  {
   "cell_type": "markdown",
   "metadata": {},
   "source": [
    "## Creare una colonna in base a più condizioni"
   ]
  },
  {
   "cell_type": "markdown",
   "metadata": {},
   "source": [
    "Creare nel dataframe Fatture la colonna TipologiaPrezzo contenente:\n",
    "\n",
    "- \"Prezzo alto\" se il valore della colonna Importo è maggiore di 50 \n",
    "\n",
    "- \"Prezzo medio\" se è compreso tra 30(escluso) e 50(incluso)\n",
    "\n",
    "- \"Prezzo basso\" se minore o uguale a 30"
   ]
  },
  {
   "cell_type": "code",
   "execution_count": 78,
   "metadata": {},
   "outputs": [
    {
     "data": {
      "text/html": [
       "<div>\n",
       "<style scoped>\n",
       "    .dataframe tbody tr th:only-of-type {\n",
       "        vertical-align: middle;\n",
       "    }\n",
       "\n",
       "    .dataframe tbody tr th {\n",
       "        vertical-align: top;\n",
       "    }\n",
       "\n",
       "    .dataframe thead th {\n",
       "        text-align: right;\n",
       "    }\n",
       "</style>\n",
       "<table border=\"1\" class=\"dataframe\">\n",
       "  <thead>\n",
       "    <tr style=\"text-align: right;\">\n",
       "      <th></th>\n",
       "      <th>NumeroFattura</th>\n",
       "      <th>Tipologia</th>\n",
       "      <th>Importo</th>\n",
       "      <th>Tax</th>\n",
       "      <th>IdCliente</th>\n",
       "      <th>Regione</th>\n",
       "      <th>DataFattura</th>\n",
       "      <th>TipologiaPrezzo</th>\n",
       "      <th>TipologiaPrezzo2</th>\n",
       "    </tr>\n",
       "  </thead>\n",
       "  <tbody>\n",
       "    <tr>\n",
       "      <th>0</th>\n",
       "      <td>1</td>\n",
       "      <td>A</td>\n",
       "      <td>1120.0</td>\n",
       "      <td>20.0</td>\n",
       "      <td>1</td>\n",
       "      <td>Molise</td>\n",
       "      <td>2018-01-01</td>\n",
       "      <td>Prezzo alto</td>\n",
       "      <td>Prezzo alto</td>\n",
       "    </tr>\n",
       "    <tr>\n",
       "      <th>1</th>\n",
       "      <td>2</td>\n",
       "      <td>V</td>\n",
       "      <td>32.0</td>\n",
       "      <td>20.0</td>\n",
       "      <td>2</td>\n",
       "      <td>Puglia</td>\n",
       "      <td>2017-03-01</td>\n",
       "      <td>Prezzo basso</td>\n",
       "      <td>Prezzo medio</td>\n",
       "    </tr>\n",
       "    <tr>\n",
       "      <th>2</th>\n",
       "      <td>3</td>\n",
       "      <td>A</td>\n",
       "      <td>45.0</td>\n",
       "      <td>20.0</td>\n",
       "      <td>3</td>\n",
       "      <td>Lombardia</td>\n",
       "      <td>2017-06-01</td>\n",
       "      <td>Prezzo basso</td>\n",
       "      <td>Prezzo medio</td>\n",
       "    </tr>\n",
       "    <tr>\n",
       "      <th>3</th>\n",
       "      <td>4</td>\n",
       "      <td>V</td>\n",
       "      <td>64.0</td>\n",
       "      <td>20.0</td>\n",
       "      <td>3</td>\n",
       "      <td>Lombardia</td>\n",
       "      <td>2019-01-30</td>\n",
       "      <td>Prezzo alto</td>\n",
       "      <td>Prezzo alto</td>\n",
       "    </tr>\n",
       "    <tr>\n",
       "      <th>4</th>\n",
       "      <td>5</td>\n",
       "      <td>A</td>\n",
       "      <td>12.0</td>\n",
       "      <td>20.0</td>\n",
       "      <td>5</td>\n",
       "      <td>Umbria</td>\n",
       "      <td>2018-01-01</td>\n",
       "      <td>Prezzo basso</td>\n",
       "      <td>Prezzo basso</td>\n",
       "    </tr>\n",
       "  </tbody>\n",
       "</table>\n",
       "</div>"
      ],
      "text/plain": [
       "   NumeroFattura Tipologia  Importo   Tax  IdCliente    Regione DataFattura  \\\n",
       "0              1         A   1120.0  20.0          1     Molise  2018-01-01   \n",
       "1              2         V     32.0  20.0          2     Puglia  2017-03-01   \n",
       "2              3         A     45.0  20.0          3  Lombardia  2017-06-01   \n",
       "3              4         V     64.0  20.0          3  Lombardia  2019-01-30   \n",
       "4              5         A     12.0  20.0          5     Umbria  2018-01-01   \n",
       "\n",
       "  TipologiaPrezzo TipologiaPrezzo2  \n",
       "0     Prezzo alto      Prezzo alto  \n",
       "1    Prezzo basso     Prezzo medio  \n",
       "2    Prezzo basso     Prezzo medio  \n",
       "3     Prezzo alto      Prezzo alto  \n",
       "4    Prezzo basso     Prezzo basso  "
      ]
     },
     "execution_count": 78,
     "metadata": {},
     "output_type": "execute_result"
    }
   ],
   "source": [
    "fatture[\"TipologiaPrezzo2\"] = np.select([fatture[\"Importo\"] > 50, \n",
    "                                         (fatture[\"Importo\"] > 30) & (fatture[\"Importo\"] <=50),\n",
    "                                         fatture[\"Importo\"] <= 30],\n",
    "                                         [\"Prezzo alto\", \n",
    "                                          \"Prezzo medio\",\n",
    "                                          \"Prezzo basso\"],\n",
    "                                          default='Non classificato')\n",
    "fatture.head(5)"
   ]
  },
  {
   "cell_type": "markdown",
   "metadata": {},
   "source": [
    "## Creare colonne con porzioni di stringhe di un'altra colonna"
   ]
  },
  {
   "cell_type": "markdown",
   "metadata": {},
   "source": [
    "Creare una colonna con le iniziali di nome e cognome per ogni cliente"
   ]
  },
  {
   "cell_type": "code",
   "execution_count": 79,
   "metadata": {},
   "outputs": [
    {
     "data": {
      "text/html": [
       "<div>\n",
       "<style scoped>\n",
       "    .dataframe tbody tr th:only-of-type {\n",
       "        vertical-align: middle;\n",
       "    }\n",
       "\n",
       "    .dataframe tbody tr th {\n",
       "        vertical-align: top;\n",
       "    }\n",
       "\n",
       "    .dataframe thead th {\n",
       "        text-align: right;\n",
       "    }\n",
       "</style>\n",
       "<table border=\"1\" class=\"dataframe\">\n",
       "  <thead>\n",
       "    <tr style=\"text-align: right;\">\n",
       "      <th></th>\n",
       "      <th>NumeroCliente</th>\n",
       "      <th>Nome</th>\n",
       "      <th>DataNascita</th>\n",
       "      <th>Nazione</th>\n",
       "      <th>Regione</th>\n",
       "      <th>ColonnaConcatenata</th>\n",
       "      <th>ColonnaSplit1</th>\n",
       "      <th>ColonnaSplit2</th>\n",
       "      <th>Iniziale</th>\n",
       "    </tr>\n",
       "  </thead>\n",
       "  <tbody>\n",
       "    <tr>\n",
       "      <th>0</th>\n",
       "      <td>1</td>\n",
       "      <td>Nicoletta</td>\n",
       "      <td>2010-01-01</td>\n",
       "      <td>Francia</td>\n",
       "      <td>Non conosciuta</td>\n",
       "      <td>Francia,Non conosciuta</td>\n",
       "      <td>Francia</td>\n",
       "      <td>Non conosciuta</td>\n",
       "      <td>N</td>\n",
       "    </tr>\n",
       "    <tr>\n",
       "      <th>1</th>\n",
       "      <td>2</td>\n",
       "      <td>Nicola</td>\n",
       "      <td>1976-03-01</td>\n",
       "      <td>Italia</td>\n",
       "      <td>Lazio</td>\n",
       "      <td>Italia,Lazio</td>\n",
       "      <td>Italia</td>\n",
       "      <td>Lazio</td>\n",
       "      <td>N</td>\n",
       "    </tr>\n",
       "    <tr>\n",
       "      <th>2</th>\n",
       "      <td>3</td>\n",
       "      <td>Nicola</td>\n",
       "      <td>1980-04-01</td>\n",
       "      <td>Italia</td>\n",
       "      <td>Lazio</td>\n",
       "      <td>Italia,Lazio</td>\n",
       "      <td>Italia</td>\n",
       "      <td>Lazio</td>\n",
       "      <td>N</td>\n",
       "    </tr>\n",
       "  </tbody>\n",
       "</table>\n",
       "</div>"
      ],
      "text/plain": [
       "   NumeroCliente       Nome DataNascita  Nazione         Regione  \\\n",
       "0              1  Nicoletta  2010-01-01  Francia  Non conosciuta   \n",
       "1              2     Nicola  1976-03-01   Italia           Lazio   \n",
       "2              3     Nicola  1980-04-01   Italia           Lazio   \n",
       "\n",
       "       ColonnaConcatenata ColonnaSplit1   ColonnaSplit2 Iniziale  \n",
       "0  Francia,Non conosciuta       Francia  Non conosciuta        N  \n",
       "1            Italia,Lazio        Italia           Lazio        N  \n",
       "2            Italia,Lazio        Italia           Lazio        N  "
      ]
     },
     "execution_count": 79,
     "metadata": {},
     "output_type": "execute_result"
    }
   ],
   "source": [
    "#SQL\n",
    "#SUBSTRING(Nome,1,1)\n",
    "\n",
    "clienti[\"Iniziale\"] =  clienti[\"Nome\"].str.slice(start=0, stop =1)\n",
    "clienti.head(3)"
   ]
  },
  {
   "cell_type": "markdown",
   "metadata": {},
   "source": [
    "## Visualizzare i dati senza duplicati"
   ]
  },
  {
   "cell_type": "markdown",
   "metadata": {},
   "source": [
    "Il prossimo codice visualizza le righe del DataFrame clienti senza duplicati (considerando i valori in tutte le colonne). \n",
    "\n",
    "ATTENZIONE! Per DataFrame con molte righe può essere un'operazione molto lunga"
   ]
  },
  {
   "cell_type": "code",
   "execution_count": 80,
   "metadata": {},
   "outputs": [
    {
     "data": {
      "text/html": [
       "<div>\n",
       "<style scoped>\n",
       "    .dataframe tbody tr th:only-of-type {\n",
       "        vertical-align: middle;\n",
       "    }\n",
       "\n",
       "    .dataframe tbody tr th {\n",
       "        vertical-align: top;\n",
       "    }\n",
       "\n",
       "    .dataframe thead th {\n",
       "        text-align: right;\n",
       "    }\n",
       "</style>\n",
       "<table border=\"1\" class=\"dataframe\">\n",
       "  <thead>\n",
       "    <tr style=\"text-align: right;\">\n",
       "      <th></th>\n",
       "      <th>NumeroCliente</th>\n",
       "      <th>Nome</th>\n",
       "      <th>DataNascita</th>\n",
       "      <th>Nazione</th>\n",
       "      <th>Regione</th>\n",
       "      <th>ColonnaConcatenata</th>\n",
       "      <th>ColonnaSplit1</th>\n",
       "      <th>ColonnaSplit2</th>\n",
       "      <th>Iniziale</th>\n",
       "    </tr>\n",
       "  </thead>\n",
       "  <tbody>\n",
       "    <tr>\n",
       "      <th>0</th>\n",
       "      <td>1</td>\n",
       "      <td>Nicoletta</td>\n",
       "      <td>2010-01-01</td>\n",
       "      <td>Francia</td>\n",
       "      <td>Non conosciuta</td>\n",
       "      <td>Francia,Non conosciuta</td>\n",
       "      <td>Francia</td>\n",
       "      <td>Non conosciuta</td>\n",
       "      <td>N</td>\n",
       "    </tr>\n",
       "    <tr>\n",
       "      <th>1</th>\n",
       "      <td>2</td>\n",
       "      <td>Nicola</td>\n",
       "      <td>1976-03-01</td>\n",
       "      <td>Italia</td>\n",
       "      <td>Lazio</td>\n",
       "      <td>Italia,Lazio</td>\n",
       "      <td>Italia</td>\n",
       "      <td>Lazio</td>\n",
       "      <td>N</td>\n",
       "    </tr>\n",
       "    <tr>\n",
       "      <th>2</th>\n",
       "      <td>3</td>\n",
       "      <td>Nicola</td>\n",
       "      <td>1980-04-01</td>\n",
       "      <td>Italia</td>\n",
       "      <td>Lazio</td>\n",
       "      <td>Italia,Lazio</td>\n",
       "      <td>Italia</td>\n",
       "      <td>Lazio</td>\n",
       "      <td>N</td>\n",
       "    </tr>\n",
       "  </tbody>\n",
       "</table>\n",
       "</div>"
      ],
      "text/plain": [
       "   NumeroCliente       Nome DataNascita  Nazione         Regione  \\\n",
       "0              1  Nicoletta  2010-01-01  Francia  Non conosciuta   \n",
       "1              2     Nicola  1976-03-01   Italia           Lazio   \n",
       "2              3     Nicola  1980-04-01   Italia           Lazio   \n",
       "\n",
       "       ColonnaConcatenata ColonnaSplit1   ColonnaSplit2 Iniziale  \n",
       "0  Francia,Non conosciuta       Francia  Non conosciuta        N  \n",
       "1            Italia,Lazio        Italia           Lazio        N  \n",
       "2            Italia,Lazio        Italia           Lazio        N  "
      ]
     },
     "execution_count": 80,
     "metadata": {},
     "output_type": "execute_result"
    }
   ],
   "source": [
    "clienti.drop_duplicates().head(3)"
   ]
  },
  {
   "cell_type": "markdown",
   "metadata": {},
   "source": [
    "Più utile è utilizzare drop_duplicates per ottenere l'elenco di valori distinti in una colonna (o combinazione di colonne)"
   ]
  },
  {
   "cell_type": "code",
   "execution_count": 81,
   "metadata": {},
   "outputs": [
    {
     "data": {
      "text/html": [
       "<div>\n",
       "<style scoped>\n",
       "    .dataframe tbody tr th:only-of-type {\n",
       "        vertical-align: middle;\n",
       "    }\n",
       "\n",
       "    .dataframe tbody tr th {\n",
       "        vertical-align: top;\n",
       "    }\n",
       "\n",
       "    .dataframe thead th {\n",
       "        text-align: right;\n",
       "    }\n",
       "</style>\n",
       "<table border=\"1\" class=\"dataframe\">\n",
       "  <thead>\n",
       "    <tr style=\"text-align: right;\">\n",
       "      <th></th>\n",
       "      <th>Regione</th>\n",
       "    </tr>\n",
       "  </thead>\n",
       "  <tbody>\n",
       "    <tr>\n",
       "      <th>0</th>\n",
       "      <td>Non conosciuta</td>\n",
       "    </tr>\n",
       "    <tr>\n",
       "      <th>1</th>\n",
       "      <td>Lazio</td>\n",
       "    </tr>\n",
       "    <tr>\n",
       "      <th>4</th>\n",
       "      <td>Sicilia</td>\n",
       "    </tr>\n",
       "    <tr>\n",
       "      <th>9</th>\n",
       "      <td>Toscana</td>\n",
       "    </tr>\n",
       "    <tr>\n",
       "      <th>19</th>\n",
       "      <td>Piemonte</td>\n",
       "    </tr>\n",
       "    <tr>\n",
       "      <th>23</th>\n",
       "      <td>Lombardia</td>\n",
       "    </tr>\n",
       "    <tr>\n",
       "      <th>28</th>\n",
       "      <td>Puglia</td>\n",
       "    </tr>\n",
       "    <tr>\n",
       "      <th>33</th>\n",
       "      <td>Molise</td>\n",
       "    </tr>\n",
       "  </tbody>\n",
       "</table>\n",
       "</div>"
      ],
      "text/plain": [
       "           Regione\n",
       "0   Non conosciuta\n",
       "1            Lazio\n",
       "4          Sicilia\n",
       "9          Toscana\n",
       "19        Piemonte\n",
       "23       Lombardia\n",
       "28          Puglia\n",
       "33          Molise"
      ]
     },
     "execution_count": 81,
     "metadata": {},
     "output_type": "execute_result"
    }
   ],
   "source": [
    "#Elenco delle regioni presenti: primo metodo\n",
    "\n",
    "clienti[[\"Regione\"]].drop_duplicates()"
   ]
  },
  {
   "cell_type": "code",
   "execution_count": 82,
   "metadata": {},
   "outputs": [
    {
     "data": {
      "text/html": [
       "<div>\n",
       "<style scoped>\n",
       "    .dataframe tbody tr th:only-of-type {\n",
       "        vertical-align: middle;\n",
       "    }\n",
       "\n",
       "    .dataframe tbody tr th {\n",
       "        vertical-align: top;\n",
       "    }\n",
       "\n",
       "    .dataframe thead th {\n",
       "        text-align: right;\n",
       "    }\n",
       "</style>\n",
       "<table border=\"1\" class=\"dataframe\">\n",
       "  <thead>\n",
       "    <tr style=\"text-align: right;\">\n",
       "      <th></th>\n",
       "      <th>NumeroCliente</th>\n",
       "      <th>Nome</th>\n",
       "      <th>DataNascita</th>\n",
       "      <th>Nazione</th>\n",
       "      <th>Regione</th>\n",
       "      <th>ColonnaConcatenata</th>\n",
       "      <th>ColonnaSplit1</th>\n",
       "      <th>ColonnaSplit2</th>\n",
       "      <th>Iniziale</th>\n",
       "    </tr>\n",
       "  </thead>\n",
       "  <tbody>\n",
       "    <tr>\n",
       "      <th>0</th>\n",
       "      <td>1</td>\n",
       "      <td>Nicoletta</td>\n",
       "      <td>2010-01-01</td>\n",
       "      <td>Francia</td>\n",
       "      <td>Non conosciuta</td>\n",
       "      <td>Francia,Non conosciuta</td>\n",
       "      <td>Francia</td>\n",
       "      <td>Non conosciuta</td>\n",
       "      <td>N</td>\n",
       "    </tr>\n",
       "    <tr>\n",
       "      <th>1</th>\n",
       "      <td>2</td>\n",
       "      <td>Nicola</td>\n",
       "      <td>1976-03-01</td>\n",
       "      <td>Italia</td>\n",
       "      <td>Lazio</td>\n",
       "      <td>Italia,Lazio</td>\n",
       "      <td>Italia</td>\n",
       "      <td>Lazio</td>\n",
       "      <td>N</td>\n",
       "    </tr>\n",
       "    <tr>\n",
       "      <th>4</th>\n",
       "      <td>5</td>\n",
       "      <td>Alice</td>\n",
       "      <td>1969-06-01</td>\n",
       "      <td>Italia</td>\n",
       "      <td>Sicilia</td>\n",
       "      <td>Italia,Sicilia</td>\n",
       "      <td>Italia</td>\n",
       "      <td>Sicilia</td>\n",
       "      <td>A</td>\n",
       "    </tr>\n",
       "    <tr>\n",
       "      <th>9</th>\n",
       "      <td>10</td>\n",
       "      <td>Giovanni</td>\n",
       "      <td>1971-11-01</td>\n",
       "      <td>Italia</td>\n",
       "      <td>Toscana</td>\n",
       "      <td>Italia,Toscana</td>\n",
       "      <td>Italia</td>\n",
       "      <td>Toscana</td>\n",
       "      <td>G</td>\n",
       "    </tr>\n",
       "    <tr>\n",
       "      <th>19</th>\n",
       "      <td>20</td>\n",
       "      <td>Giovanni</td>\n",
       "      <td>1981-09-01</td>\n",
       "      <td>Italia</td>\n",
       "      <td>Piemonte</td>\n",
       "      <td>Italia,Piemonte</td>\n",
       "      <td>Italia</td>\n",
       "      <td>Piemonte</td>\n",
       "      <td>G</td>\n",
       "    </tr>\n",
       "    <tr>\n",
       "      <th>23</th>\n",
       "      <td>25</td>\n",
       "      <td>Cristina</td>\n",
       "      <td>1991-02-01</td>\n",
       "      <td>Italia</td>\n",
       "      <td>Lombardia</td>\n",
       "      <td>Italia,Lombardia</td>\n",
       "      <td>Italia</td>\n",
       "      <td>Lombardia</td>\n",
       "      <td>C</td>\n",
       "    </tr>\n",
       "    <tr>\n",
       "      <th>28</th>\n",
       "      <td>30</td>\n",
       "      <td>Seth</td>\n",
       "      <td>1967-07-01</td>\n",
       "      <td>Italia</td>\n",
       "      <td>Puglia</td>\n",
       "      <td>Italia,Puglia</td>\n",
       "      <td>Italia</td>\n",
       "      <td>Puglia</td>\n",
       "      <td>S</td>\n",
       "    </tr>\n",
       "    <tr>\n",
       "      <th>33</th>\n",
       "      <td>35</td>\n",
       "      <td>Giovanni</td>\n",
       "      <td>1974-12-01</td>\n",
       "      <td>Italia</td>\n",
       "      <td>Molise</td>\n",
       "      <td>Italia,Molise</td>\n",
       "      <td>Italia</td>\n",
       "      <td>Molise</td>\n",
       "      <td>G</td>\n",
       "    </tr>\n",
       "  </tbody>\n",
       "</table>\n",
       "</div>"
      ],
      "text/plain": [
       "    NumeroCliente       Nome DataNascita  Nazione         Regione  \\\n",
       "0               1  Nicoletta  2010-01-01  Francia  Non conosciuta   \n",
       "1               2     Nicola  1976-03-01   Italia           Lazio   \n",
       "4               5      Alice  1969-06-01   Italia         Sicilia   \n",
       "9              10   Giovanni  1971-11-01   Italia         Toscana   \n",
       "19             20   Giovanni  1981-09-01   Italia        Piemonte   \n",
       "23             25   Cristina  1991-02-01   Italia       Lombardia   \n",
       "28             30       Seth  1967-07-01   Italia          Puglia   \n",
       "33             35   Giovanni  1974-12-01   Italia          Molise   \n",
       "\n",
       "        ColonnaConcatenata ColonnaSplit1   ColonnaSplit2 Iniziale  \n",
       "0   Francia,Non conosciuta       Francia  Non conosciuta        N  \n",
       "1             Italia,Lazio        Italia           Lazio        N  \n",
       "4           Italia,Sicilia        Italia         Sicilia        A  \n",
       "9           Italia,Toscana        Italia         Toscana        G  \n",
       "19         Italia,Piemonte        Italia        Piemonte        G  \n",
       "23        Italia,Lombardia        Italia       Lombardia        C  \n",
       "28           Italia,Puglia        Italia          Puglia        S  \n",
       "33           Italia,Molise        Italia          Molise        G  "
      ]
     },
     "execution_count": 82,
     "metadata": {},
     "output_type": "execute_result"
    }
   ],
   "source": [
    "#Elenco delle regioni presenti: secondo metodo\n",
    "\n",
    "clienti.drop_duplicates(subset=[\"Regione\"], keep = \"first\")"
   ]
  },
  {
   "cell_type": "code",
   "execution_count": 83,
   "metadata": {},
   "outputs": [],
   "source": [
    "#Proviamo a ordinare prima il DataFrame"
   ]
  },
  {
   "cell_type": "code",
   "execution_count": 85,
   "metadata": {
    "scrolled": true
   },
   "outputs": [
    {
     "data": {
      "text/html": [
       "<div>\n",
       "<style scoped>\n",
       "    .dataframe tbody tr th:only-of-type {\n",
       "        vertical-align: middle;\n",
       "    }\n",
       "\n",
       "    .dataframe tbody tr th {\n",
       "        vertical-align: top;\n",
       "    }\n",
       "\n",
       "    .dataframe thead th {\n",
       "        text-align: right;\n",
       "    }\n",
       "</style>\n",
       "<table border=\"1\" class=\"dataframe\">\n",
       "  <thead>\n",
       "    <tr style=\"text-align: right;\">\n",
       "      <th></th>\n",
       "      <th>NumeroCliente</th>\n",
       "      <th>Nome</th>\n",
       "      <th>DataNascita</th>\n",
       "      <th>Nazione</th>\n",
       "      <th>Regione</th>\n",
       "      <th>ColonnaConcatenata</th>\n",
       "      <th>ColonnaSplit1</th>\n",
       "      <th>ColonnaSplit2</th>\n",
       "      <th>Iniziale</th>\n",
       "    </tr>\n",
       "  </thead>\n",
       "  <tbody>\n",
       "    <tr>\n",
       "      <th>0</th>\n",
       "      <td>1</td>\n",
       "      <td>Nicoletta</td>\n",
       "      <td>2010-01-01</td>\n",
       "      <td>Francia</td>\n",
       "      <td>Non conosciuta</td>\n",
       "      <td>Francia,Non conosciuta</td>\n",
       "      <td>Francia</td>\n",
       "      <td>Non conosciuta</td>\n",
       "      <td>N</td>\n",
       "    </tr>\n",
       "    <tr>\n",
       "      <th>7</th>\n",
       "      <td>8</td>\n",
       "      <td>Maria</td>\n",
       "      <td>1999-09-01</td>\n",
       "      <td>Italia</td>\n",
       "      <td>Sicilia</td>\n",
       "      <td>Italia,Sicilia</td>\n",
       "      <td>Italia</td>\n",
       "      <td>Sicilia</td>\n",
       "      <td>M</td>\n",
       "    </tr>\n",
       "    <tr>\n",
       "      <th>12</th>\n",
       "      <td>13</td>\n",
       "      <td>Francesco</td>\n",
       "      <td>1999-02-01</td>\n",
       "      <td>Italia</td>\n",
       "      <td>Toscana</td>\n",
       "      <td>Italia,Toscana</td>\n",
       "      <td>Italia</td>\n",
       "      <td>Toscana</td>\n",
       "      <td>F</td>\n",
       "    </tr>\n",
       "    <tr>\n",
       "      <th>36</th>\n",
       "      <td>38</td>\n",
       "      <td>Mario</td>\n",
       "      <td>1994-03-01</td>\n",
       "      <td>Italia</td>\n",
       "      <td>Molise</td>\n",
       "      <td>Italia,Molise</td>\n",
       "      <td>Italia</td>\n",
       "      <td>Molise</td>\n",
       "      <td>M</td>\n",
       "    </tr>\n",
       "    <tr>\n",
       "      <th>23</th>\n",
       "      <td>25</td>\n",
       "      <td>Cristina</td>\n",
       "      <td>1991-02-01</td>\n",
       "      <td>Italia</td>\n",
       "      <td>Lombardia</td>\n",
       "      <td>Italia,Lombardia</td>\n",
       "      <td>Italia</td>\n",
       "      <td>Lombardia</td>\n",
       "      <td>C</td>\n",
       "    </tr>\n",
       "    <tr>\n",
       "      <th>22</th>\n",
       "      <td>24</td>\n",
       "      <td>Marina</td>\n",
       "      <td>1990-01-01</td>\n",
       "      <td>Italia</td>\n",
       "      <td>Piemonte</td>\n",
       "      <td>Italia,Piemonte</td>\n",
       "      <td>Italia</td>\n",
       "      <td>Piemonte</td>\n",
       "      <td>M</td>\n",
       "    </tr>\n",
       "    <tr>\n",
       "      <th>30</th>\n",
       "      <td>32</td>\n",
       "      <td>Maria</td>\n",
       "      <td>1985-09-01</td>\n",
       "      <td>Italia</td>\n",
       "      <td>Puglia</td>\n",
       "      <td>Italia,Puglia</td>\n",
       "      <td>Italia</td>\n",
       "      <td>Puglia</td>\n",
       "      <td>M</td>\n",
       "    </tr>\n",
       "    <tr>\n",
       "      <th>2</th>\n",
       "      <td>3</td>\n",
       "      <td>Nicola</td>\n",
       "      <td>1980-04-01</td>\n",
       "      <td>Italia</td>\n",
       "      <td>Lazio</td>\n",
       "      <td>Italia,Lazio</td>\n",
       "      <td>Italia</td>\n",
       "      <td>Lazio</td>\n",
       "      <td>N</td>\n",
       "    </tr>\n",
       "  </tbody>\n",
       "</table>\n",
       "</div>"
      ],
      "text/plain": [
       "    NumeroCliente       Nome DataNascita  Nazione         Regione  \\\n",
       "0               1  Nicoletta  2010-01-01  Francia  Non conosciuta   \n",
       "7               8      Maria  1999-09-01   Italia         Sicilia   \n",
       "12             13  Francesco  1999-02-01   Italia         Toscana   \n",
       "36             38      Mario  1994-03-01   Italia          Molise   \n",
       "23             25   Cristina  1991-02-01   Italia       Lombardia   \n",
       "22             24     Marina  1990-01-01   Italia        Piemonte   \n",
       "30             32      Maria  1985-09-01   Italia          Puglia   \n",
       "2               3     Nicola  1980-04-01   Italia           Lazio   \n",
       "\n",
       "        ColonnaConcatenata ColonnaSplit1   ColonnaSplit2 Iniziale  \n",
       "0   Francia,Non conosciuta       Francia  Non conosciuta        N  \n",
       "7           Italia,Sicilia        Italia         Sicilia        M  \n",
       "12          Italia,Toscana        Italia         Toscana        F  \n",
       "36           Italia,Molise        Italia          Molise        M  \n",
       "23        Italia,Lombardia        Italia       Lombardia        C  \n",
       "22         Italia,Piemonte        Italia        Piemonte        M  \n",
       "30           Italia,Puglia        Italia          Puglia        M  \n",
       "2             Italia,Lazio        Italia           Lazio        N  "
      ]
     },
     "execution_count": 85,
     "metadata": {},
     "output_type": "execute_result"
    }
   ],
   "source": [
    "clienti.sort_values(by=\"DataNascita\",ascending=False).drop_duplicates(subset=[\"Regione\"], keep = \"first\")"
   ]
  },
  {
   "cell_type": "markdown",
   "metadata": {},
   "source": [
    "## Pivot e unpivot dei dati"
   ]
  },
  {
   "cell_type": "markdown",
   "metadata": {},
   "source": [
    "Raggruppiamo i dati per cliente e tipologia"
   ]
  },
  {
   "cell_type": "code",
   "execution_count": 86,
   "metadata": {},
   "outputs": [
    {
     "data": {
      "text/html": [
       "<div>\n",
       "<style scoped>\n",
       "    .dataframe tbody tr th:only-of-type {\n",
       "        vertical-align: middle;\n",
       "    }\n",
       "\n",
       "    .dataframe tbody tr th {\n",
       "        vertical-align: top;\n",
       "    }\n",
       "\n",
       "    .dataframe thead th {\n",
       "        text-align: right;\n",
       "    }\n",
       "</style>\n",
       "<table border=\"1\" class=\"dataframe\">\n",
       "  <thead>\n",
       "    <tr style=\"text-align: right;\">\n",
       "      <th></th>\n",
       "      <th>IdCliente</th>\n",
       "      <th>Tipologia</th>\n",
       "      <th>Importo</th>\n",
       "    </tr>\n",
       "  </thead>\n",
       "  <tbody>\n",
       "    <tr>\n",
       "      <th>0</th>\n",
       "      <td>1</td>\n",
       "      <td>A</td>\n",
       "      <td>1154.0</td>\n",
       "    </tr>\n",
       "    <tr>\n",
       "      <th>1</th>\n",
       "      <td>1</td>\n",
       "      <td>V</td>\n",
       "      <td>21.0</td>\n",
       "    </tr>\n",
       "    <tr>\n",
       "      <th>2</th>\n",
       "      <td>2</td>\n",
       "      <td>A</td>\n",
       "      <td>21.0</td>\n",
       "    </tr>\n",
       "    <tr>\n",
       "      <th>3</th>\n",
       "      <td>2</td>\n",
       "      <td>V</td>\n",
       "      <td>119.0</td>\n",
       "    </tr>\n",
       "    <tr>\n",
       "      <th>4</th>\n",
       "      <td>3</td>\n",
       "      <td>A</td>\n",
       "      <td>124.0</td>\n",
       "    </tr>\n",
       "    <tr>\n",
       "      <th>5</th>\n",
       "      <td>3</td>\n",
       "      <td>V</td>\n",
       "      <td>64.0</td>\n",
       "    </tr>\n",
       "    <tr>\n",
       "      <th>6</th>\n",
       "      <td>4</td>\n",
       "      <td>V</td>\n",
       "      <td>14.0</td>\n",
       "    </tr>\n",
       "    <tr>\n",
       "      <th>7</th>\n",
       "      <td>5</td>\n",
       "      <td>A</td>\n",
       "      <td>12.0</td>\n",
       "    </tr>\n",
       "    <tr>\n",
       "      <th>8</th>\n",
       "      <td>5</td>\n",
       "      <td>V</td>\n",
       "      <td>1.0</td>\n",
       "    </tr>\n",
       "    <tr>\n",
       "      <th>9</th>\n",
       "      <td>6</td>\n",
       "      <td>V</td>\n",
       "      <td>31.0</td>\n",
       "    </tr>\n",
       "    <tr>\n",
       "      <th>10</th>\n",
       "      <td>7</td>\n",
       "      <td>A</td>\n",
       "      <td>57.0</td>\n",
       "    </tr>\n",
       "    <tr>\n",
       "      <th>11</th>\n",
       "      <td>8</td>\n",
       "      <td>A</td>\n",
       "      <td>51.0</td>\n",
       "    </tr>\n",
       "    <tr>\n",
       "      <th>12</th>\n",
       "      <td>8</td>\n",
       "      <td>V</td>\n",
       "      <td>54.0</td>\n",
       "    </tr>\n",
       "  </tbody>\n",
       "</table>\n",
       "</div>"
      ],
      "text/plain": [
       "    IdCliente Tipologia  Importo\n",
       "0           1         A   1154.0\n",
       "1           1         V     21.0\n",
       "2           2         A     21.0\n",
       "3           2         V    119.0\n",
       "4           3         A    124.0\n",
       "5           3         V     64.0\n",
       "6           4         V     14.0\n",
       "7           5         A     12.0\n",
       "8           5         V      1.0\n",
       "9           6         V     31.0\n",
       "10          7         A     57.0\n",
       "11          8         A     51.0\n",
       "12          8         V     54.0"
      ]
     },
     "execution_count": 86,
     "metadata": {},
     "output_type": "execute_result"
    }
   ],
   "source": [
    "df = fatture.groupby(by=[\"IdCliente\",\"Tipologia\"], as_index=False, dropna=False)[\"Importo\"].sum()\n",
    "\n",
    "df"
   ]
  },
  {
   "cell_type": "markdown",
   "metadata": {},
   "source": [
    "Modifichiamo la forma dell'output, visualizziamo una per ogni cliente due colonne per gli importi in A e V"
   ]
  },
  {
   "cell_type": "code",
   "execution_count": 87,
   "metadata": {},
   "outputs": [
    {
     "data": {
      "text/html": [
       "<div>\n",
       "<style scoped>\n",
       "    .dataframe tbody tr th:only-of-type {\n",
       "        vertical-align: middle;\n",
       "    }\n",
       "\n",
       "    .dataframe tbody tr th {\n",
       "        vertical-align: top;\n",
       "    }\n",
       "\n",
       "    .dataframe thead th {\n",
       "        text-align: right;\n",
       "    }\n",
       "</style>\n",
       "<table border=\"1\" class=\"dataframe\">\n",
       "  <thead>\n",
       "    <tr style=\"text-align: right;\">\n",
       "      <th>Tipologia</th>\n",
       "      <th>A</th>\n",
       "      <th>V</th>\n",
       "    </tr>\n",
       "    <tr>\n",
       "      <th>IdCliente</th>\n",
       "      <th></th>\n",
       "      <th></th>\n",
       "    </tr>\n",
       "  </thead>\n",
       "  <tbody>\n",
       "    <tr>\n",
       "      <th>1</th>\n",
       "      <td>1154.0</td>\n",
       "      <td>21.0</td>\n",
       "    </tr>\n",
       "    <tr>\n",
       "      <th>2</th>\n",
       "      <td>21.0</td>\n",
       "      <td>119.0</td>\n",
       "    </tr>\n",
       "    <tr>\n",
       "      <th>3</th>\n",
       "      <td>124.0</td>\n",
       "      <td>64.0</td>\n",
       "    </tr>\n",
       "    <tr>\n",
       "      <th>4</th>\n",
       "      <td>NaN</td>\n",
       "      <td>14.0</td>\n",
       "    </tr>\n",
       "    <tr>\n",
       "      <th>5</th>\n",
       "      <td>12.0</td>\n",
       "      <td>1.0</td>\n",
       "    </tr>\n",
       "    <tr>\n",
       "      <th>6</th>\n",
       "      <td>NaN</td>\n",
       "      <td>31.0</td>\n",
       "    </tr>\n",
       "    <tr>\n",
       "      <th>7</th>\n",
       "      <td>57.0</td>\n",
       "      <td>NaN</td>\n",
       "    </tr>\n",
       "    <tr>\n",
       "      <th>8</th>\n",
       "      <td>51.0</td>\n",
       "      <td>54.0</td>\n",
       "    </tr>\n",
       "  </tbody>\n",
       "</table>\n",
       "</div>"
      ],
      "text/plain": [
       "Tipologia       A      V\n",
       "IdCliente               \n",
       "1          1154.0   21.0\n",
       "2            21.0  119.0\n",
       "3           124.0   64.0\n",
       "4             NaN   14.0\n",
       "5            12.0    1.0\n",
       "6             NaN   31.0\n",
       "7            57.0    NaN\n",
       "8            51.0   54.0"
      ]
     },
     "execution_count": 87,
     "metadata": {},
     "output_type": "execute_result"
    }
   ],
   "source": [
    "df_pivot = df.pivot(columns = \"Tipologia\",  #da quale colonna dell'input costruire le colonne dell'output\n",
    "                    index = \"IdCliente\",    #quale sarà l'indice del nuovo dataframe\n",
    "                    values = \"Importo\" #cosa riportare nelle righe\n",
    "                    )\n",
    "df_pivot"
   ]
  },
  {
   "cell_type": "markdown",
   "metadata": {},
   "source": [
    "L'IdCliente è l'indice del dataframe"
   ]
  },
  {
   "cell_type": "code",
   "execution_count": 88,
   "metadata": {},
   "outputs": [
    {
     "data": {
      "text/plain": [
       "Index([1, 2, 3, 4, 5, 6, 7, 8], dtype='int64', name='IdCliente')"
      ]
     },
     "execution_count": 88,
     "metadata": {},
     "output_type": "execute_result"
    }
   ],
   "source": [
    "df_pivot.index"
   ]
  },
  {
   "cell_type": "markdown",
   "metadata": {},
   "source": [
    "Rendiamolo una colonna"
   ]
  },
  {
   "cell_type": "code",
   "execution_count": 89,
   "metadata": {},
   "outputs": [
    {
     "data": {
      "text/html": [
       "<div>\n",
       "<style scoped>\n",
       "    .dataframe tbody tr th:only-of-type {\n",
       "        vertical-align: middle;\n",
       "    }\n",
       "\n",
       "    .dataframe tbody tr th {\n",
       "        vertical-align: top;\n",
       "    }\n",
       "\n",
       "    .dataframe thead th {\n",
       "        text-align: right;\n",
       "    }\n",
       "</style>\n",
       "<table border=\"1\" class=\"dataframe\">\n",
       "  <thead>\n",
       "    <tr style=\"text-align: right;\">\n",
       "      <th>Tipologia</th>\n",
       "      <th>IdCliente</th>\n",
       "      <th>A</th>\n",
       "      <th>V</th>\n",
       "    </tr>\n",
       "  </thead>\n",
       "  <tbody>\n",
       "    <tr>\n",
       "      <th>0</th>\n",
       "      <td>1</td>\n",
       "      <td>1154.0</td>\n",
       "      <td>21.0</td>\n",
       "    </tr>\n",
       "    <tr>\n",
       "      <th>1</th>\n",
       "      <td>2</td>\n",
       "      <td>21.0</td>\n",
       "      <td>119.0</td>\n",
       "    </tr>\n",
       "    <tr>\n",
       "      <th>2</th>\n",
       "      <td>3</td>\n",
       "      <td>124.0</td>\n",
       "      <td>64.0</td>\n",
       "    </tr>\n",
       "    <tr>\n",
       "      <th>3</th>\n",
       "      <td>4</td>\n",
       "      <td>NaN</td>\n",
       "      <td>14.0</td>\n",
       "    </tr>\n",
       "    <tr>\n",
       "      <th>4</th>\n",
       "      <td>5</td>\n",
       "      <td>12.0</td>\n",
       "      <td>1.0</td>\n",
       "    </tr>\n",
       "    <tr>\n",
       "      <th>5</th>\n",
       "      <td>6</td>\n",
       "      <td>NaN</td>\n",
       "      <td>31.0</td>\n",
       "    </tr>\n",
       "    <tr>\n",
       "      <th>6</th>\n",
       "      <td>7</td>\n",
       "      <td>57.0</td>\n",
       "      <td>NaN</td>\n",
       "    </tr>\n",
       "    <tr>\n",
       "      <th>7</th>\n",
       "      <td>8</td>\n",
       "      <td>51.0</td>\n",
       "      <td>54.0</td>\n",
       "    </tr>\n",
       "  </tbody>\n",
       "</table>\n",
       "</div>"
      ],
      "text/plain": [
       "Tipologia  IdCliente       A      V\n",
       "0                  1  1154.0   21.0\n",
       "1                  2    21.0  119.0\n",
       "2                  3   124.0   64.0\n",
       "3                  4     NaN   14.0\n",
       "4                  5    12.0    1.0\n",
       "5                  6     NaN   31.0\n",
       "6                  7    57.0    NaN\n",
       "7                  8    51.0   54.0"
      ]
     },
     "execution_count": 89,
     "metadata": {},
     "output_type": "execute_result"
    }
   ],
   "source": [
    "df_pivot.reset_index()"
   ]
  },
  {
   "cell_type": "markdown",
   "metadata": {},
   "source": [
    "eliminiamo il nome dell'indice"
   ]
  },
  {
   "cell_type": "code",
   "execution_count": 90,
   "metadata": {},
   "outputs": [
    {
     "data": {
      "text/html": [
       "<div>\n",
       "<style scoped>\n",
       "    .dataframe tbody tr th:only-of-type {\n",
       "        vertical-align: middle;\n",
       "    }\n",
       "\n",
       "    .dataframe tbody tr th {\n",
       "        vertical-align: top;\n",
       "    }\n",
       "\n",
       "    .dataframe thead th {\n",
       "        text-align: right;\n",
       "    }\n",
       "</style>\n",
       "<table border=\"1\" class=\"dataframe\">\n",
       "  <thead>\n",
       "    <tr style=\"text-align: right;\">\n",
       "      <th></th>\n",
       "      <th>IdCliente</th>\n",
       "      <th>A</th>\n",
       "      <th>V</th>\n",
       "    </tr>\n",
       "  </thead>\n",
       "  <tbody>\n",
       "    <tr>\n",
       "      <th>0</th>\n",
       "      <td>1</td>\n",
       "      <td>1154.0</td>\n",
       "      <td>21.0</td>\n",
       "    </tr>\n",
       "    <tr>\n",
       "      <th>1</th>\n",
       "      <td>2</td>\n",
       "      <td>21.0</td>\n",
       "      <td>119.0</td>\n",
       "    </tr>\n",
       "    <tr>\n",
       "      <th>2</th>\n",
       "      <td>3</td>\n",
       "      <td>124.0</td>\n",
       "      <td>64.0</td>\n",
       "    </tr>\n",
       "    <tr>\n",
       "      <th>3</th>\n",
       "      <td>4</td>\n",
       "      <td>NaN</td>\n",
       "      <td>14.0</td>\n",
       "    </tr>\n",
       "    <tr>\n",
       "      <th>4</th>\n",
       "      <td>5</td>\n",
       "      <td>12.0</td>\n",
       "      <td>1.0</td>\n",
       "    </tr>\n",
       "    <tr>\n",
       "      <th>5</th>\n",
       "      <td>6</td>\n",
       "      <td>NaN</td>\n",
       "      <td>31.0</td>\n",
       "    </tr>\n",
       "    <tr>\n",
       "      <th>6</th>\n",
       "      <td>7</td>\n",
       "      <td>57.0</td>\n",
       "      <td>NaN</td>\n",
       "    </tr>\n",
       "    <tr>\n",
       "      <th>7</th>\n",
       "      <td>8</td>\n",
       "      <td>51.0</td>\n",
       "      <td>54.0</td>\n",
       "    </tr>\n",
       "  </tbody>\n",
       "</table>\n",
       "</div>"
      ],
      "text/plain": [
       "   IdCliente       A      V\n",
       "0          1  1154.0   21.0\n",
       "1          2    21.0  119.0\n",
       "2          3   124.0   64.0\n",
       "3          4     NaN   14.0\n",
       "4          5    12.0    1.0\n",
       "5          6     NaN   31.0\n",
       "6          7    57.0    NaN\n",
       "7          8    51.0   54.0"
      ]
     },
     "execution_count": 90,
     "metadata": {},
     "output_type": "execute_result"
    }
   ],
   "source": [
    "df_pivot = df_pivot.reset_index().rename_axis(None, axis=1)\n",
    "df_pivot"
   ]
  },
  {
   "cell_type": "markdown",
   "metadata": {},
   "source": [
    "Torniamo alla visualizzazione con le colonne IdCliente e Tipologia con unpivot"
   ]
  },
  {
   "cell_type": "code",
   "execution_count": 91,
   "metadata": {},
   "outputs": [
    {
     "data": {
      "text/html": [
       "<div>\n",
       "<style scoped>\n",
       "    .dataframe tbody tr th:only-of-type {\n",
       "        vertical-align: middle;\n",
       "    }\n",
       "\n",
       "    .dataframe tbody tr th {\n",
       "        vertical-align: top;\n",
       "    }\n",
       "\n",
       "    .dataframe thead th {\n",
       "        text-align: right;\n",
       "    }\n",
       "</style>\n",
       "<table border=\"1\" class=\"dataframe\">\n",
       "  <thead>\n",
       "    <tr style=\"text-align: right;\">\n",
       "      <th></th>\n",
       "      <th>IdCliente</th>\n",
       "      <th>Tipologia</th>\n",
       "      <th>Importo</th>\n",
       "    </tr>\n",
       "  </thead>\n",
       "  <tbody>\n",
       "    <tr>\n",
       "      <th>0</th>\n",
       "      <td>1</td>\n",
       "      <td>A</td>\n",
       "      <td>1154.0</td>\n",
       "    </tr>\n",
       "    <tr>\n",
       "      <th>1</th>\n",
       "      <td>2</td>\n",
       "      <td>A</td>\n",
       "      <td>21.0</td>\n",
       "    </tr>\n",
       "    <tr>\n",
       "      <th>2</th>\n",
       "      <td>3</td>\n",
       "      <td>A</td>\n",
       "      <td>124.0</td>\n",
       "    </tr>\n",
       "    <tr>\n",
       "      <th>3</th>\n",
       "      <td>4</td>\n",
       "      <td>A</td>\n",
       "      <td>NaN</td>\n",
       "    </tr>\n",
       "    <tr>\n",
       "      <th>4</th>\n",
       "      <td>5</td>\n",
       "      <td>A</td>\n",
       "      <td>12.0</td>\n",
       "    </tr>\n",
       "    <tr>\n",
       "      <th>5</th>\n",
       "      <td>6</td>\n",
       "      <td>A</td>\n",
       "      <td>NaN</td>\n",
       "    </tr>\n",
       "    <tr>\n",
       "      <th>6</th>\n",
       "      <td>7</td>\n",
       "      <td>A</td>\n",
       "      <td>57.0</td>\n",
       "    </tr>\n",
       "    <tr>\n",
       "      <th>7</th>\n",
       "      <td>8</td>\n",
       "      <td>A</td>\n",
       "      <td>51.0</td>\n",
       "    </tr>\n",
       "    <tr>\n",
       "      <th>8</th>\n",
       "      <td>1</td>\n",
       "      <td>V</td>\n",
       "      <td>21.0</td>\n",
       "    </tr>\n",
       "    <tr>\n",
       "      <th>9</th>\n",
       "      <td>2</td>\n",
       "      <td>V</td>\n",
       "      <td>119.0</td>\n",
       "    </tr>\n",
       "    <tr>\n",
       "      <th>10</th>\n",
       "      <td>3</td>\n",
       "      <td>V</td>\n",
       "      <td>64.0</td>\n",
       "    </tr>\n",
       "    <tr>\n",
       "      <th>11</th>\n",
       "      <td>4</td>\n",
       "      <td>V</td>\n",
       "      <td>14.0</td>\n",
       "    </tr>\n",
       "    <tr>\n",
       "      <th>12</th>\n",
       "      <td>5</td>\n",
       "      <td>V</td>\n",
       "      <td>1.0</td>\n",
       "    </tr>\n",
       "    <tr>\n",
       "      <th>13</th>\n",
       "      <td>6</td>\n",
       "      <td>V</td>\n",
       "      <td>31.0</td>\n",
       "    </tr>\n",
       "    <tr>\n",
       "      <th>14</th>\n",
       "      <td>7</td>\n",
       "      <td>V</td>\n",
       "      <td>NaN</td>\n",
       "    </tr>\n",
       "    <tr>\n",
       "      <th>15</th>\n",
       "      <td>8</td>\n",
       "      <td>V</td>\n",
       "      <td>54.0</td>\n",
       "    </tr>\n",
       "  </tbody>\n",
       "</table>\n",
       "</div>"
      ],
      "text/plain": [
       "    IdCliente Tipologia  Importo\n",
       "0           1         A   1154.0\n",
       "1           2         A     21.0\n",
       "2           3         A    124.0\n",
       "3           4         A      NaN\n",
       "4           5         A     12.0\n",
       "5           6         A      NaN\n",
       "6           7         A     57.0\n",
       "7           8         A     51.0\n",
       "8           1         V     21.0\n",
       "9           2         V    119.0\n",
       "10          3         V     64.0\n",
       "11          4         V     14.0\n",
       "12          5         V      1.0\n",
       "13          6         V     31.0\n",
       "14          7         V      NaN\n",
       "15          8         V     54.0"
      ]
     },
     "execution_count": 91,
     "metadata": {},
     "output_type": "execute_result"
    }
   ],
   "source": [
    "df_unpivot = pd.melt(df_pivot, \n",
    "        id_vars='IdCliente', #colonna da lasciare nell'outoput\n",
    "        value_vars=list(df_pivot.columns).remove(\"IdCliente\"), #colonne da trasformare in righe\n",
    "        var_name='Tipologia', #nome della nuova colonna contenente le vecche colonne \n",
    "        value_name='Importo' #nome della nuova colonna contenente i valori\n",
    "                    )\n",
    "\n",
    "df_unpivot"
   ]
  }
 ],
 "metadata": {
  "kernelspec": {
   "display_name": "Python 3 (ipykernel)",
   "language": "python",
   "name": "python3"
  },
  "language_info": {
   "codemirror_mode": {
    "name": "ipython",
    "version": 3
   },
   "file_extension": ".py",
   "mimetype": "text/x-python",
   "name": "python",
   "nbconvert_exporter": "python",
   "pygments_lexer": "ipython3",
   "version": "3.13.3"
  }
 },
 "nbformat": 4,
 "nbformat_minor": 4
}
