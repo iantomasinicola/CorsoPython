{
 "cells": [
  {
   "cell_type": "markdown",
   "id": "6a2a9857-f4e7-4a97-8f55-4ad577e4a997",
   "metadata": {},
   "source": [
    "# Machine Learning con Python"
   ]
  },
  {
   "cell_type": "markdown",
   "id": "a4f263c3-c497-4785-ae8f-1833cc0b7f79",
   "metadata": {},
   "source": [
    "Carichiamo i dati del famaso dataset iris.\n",
    "\n",
    "Citazione\n",
    "Fisher,R. A.. (1988). Iris. UCI Machine Learning Repository. https://doi.org/10.24432/C56C76. This dataset is licensed under a Creative Commons Attribution 4.0 International (CC BY 4.0) license. https://creativecommons.org/licenses/by/4.0/legalcode"
   ]
  },
  {
   "cell_type": "code",
   "execution_count": null,
   "id": "9a094e5f-76ae-4742-b4a6-58a985c5ec65",
   "metadata": {},
   "outputs": [],
   "source": [
    "import seaborn as sns\n",
    "import pandas as pd\n",
    "import numpy as np"
   ]
  },
  {
   "cell_type": "code",
   "execution_count": null,
   "id": "df797b70-f472-420a-8db2-72c73f2de377",
   "metadata": {},
   "outputs": [],
   "source": [
    "iris=sns.load_dataset(\"iris\")"
   ]
  },
  {
   "cell_type": "code",
   "execution_count": null,
   "id": "3ab1a39c-bf53-4c4d-bf13-5cb170422bac",
   "metadata": {},
   "outputs": [],
   "source": [
    "iris.head(5)"
   ]
  },
  {
   "cell_type": "code",
   "execution_count": null,
   "id": "b5da946d-690a-403f-a10e-a55d8b6d9d3a",
   "metadata": {},
   "outputs": [],
   "source": [
    "#se non hai installato seaborn\n",
    "iris = pd.read_csv(filepath_or_buffer=r\"C:\\Users\\ianto\\Desktop\\Corso Python\\file\\iris.csv\",\n",
    "                  header=1)"
   ]
  },
  {
   "cell_type": "markdown",
   "id": "1eb41082-63d7-4fc4-a220-b5515b49b081",
   "metadata": {},
   "source": [
    "Diamo preliminarmente un'occhiata ai dati"
   ]
  },
  {
   "cell_type": "code",
   "execution_count": null,
   "id": "382dfbc4-c084-449d-a9c1-2804b8af5862",
   "metadata": {},
   "outputs": [],
   "source": [
    "iris.info()"
   ]
  },
  {
   "cell_type": "markdown",
   "id": "f52c5a84-cffa-4659-ab9d-c0c844ef956d",
   "metadata": {},
   "source": [
    "Partiamo con una lista contenente i valori di un nuovo iris"
   ]
  },
  {
   "cell_type": "code",
   "execution_count": null,
   "id": "87d3912f-e4e6-4b72-8ae0-3328759005c6",
   "metadata": {},
   "outputs": [],
   "source": [
    "nuovo_iris = [4.3, 3.2, 1.4, 0.3]"
   ]
  },
  {
   "cell_type": "code",
   "execution_count": null,
   "id": "80726791-9575-4007-80af-091c2494ce03",
   "metadata": {},
   "outputs": [],
   "source": [
    "#Osservazione: su python posso valorizzare più variabili contemporneamente con questa sintassi\n",
    "#x, y, z, w = 4.3, 3.2, 1.4, 0.3"
   ]
  },
  {
   "cell_type": "markdown",
   "id": "8a9cde71-64aa-41ca-886a-b4f246dfe847",
   "metadata": {},
   "source": [
    "Creiamo una colonna distanza"
   ]
  },
  {
   "cell_type": "code",
   "execution_count": null,
   "id": "32d437ab-e37c-4bba-94c3-7d9a0c22deb6",
   "metadata": {},
   "outputs": [],
   "source": [
    "iris[\"distanza\"] = np.sqrt( (iris[\"sepal_length\"]-nuovo_iris[0])**2 + \\\n",
    "                            (iris[\"sepal_width\"]-nuovo_iris[1])**2 + \\\n",
    "                            (iris[\"petal_length\"]-nuovo_iris[2])**2 + \\\n",
    "                            (iris[\"petal_width\"]-nuovo_iris[3])**2) "
   ]
  },
  {
   "cell_type": "markdown",
   "id": "efd46e0b-78a8-4933-af55-0b32ac093f60",
   "metadata": {},
   "source": [
    "Ordiniam i valori dello storico per distanza e prendiamo l'iris più vicino"
   ]
  },
  {
   "cell_type": "code",
   "execution_count": null,
   "id": "3fd4ee3a-2686-4d5e-bd71-f45fb4cb96bc",
   "metadata": {},
   "outputs": [],
   "source": [
    "iris.sort_values(by=\"distanza\", ascending = True).head(1)"
   ]
  },
  {
   "cell_type": "markdown",
   "id": "e782f833-2165-4651-b765-e0b1bb3b29a0",
   "metadata": {},
   "source": [
    "Cerhiamo di generalizzare la procedura per avere dei dati sull'accuratezza aspettata.\n",
    "\n",
    "Divido il dataset in un 70% di training e un 30% di test"
   ]
  },
  {
   "cell_type": "code",
   "execution_count": null,
   "id": "b3d65cbc-9aa2-4fb5-970c-07b5d8943efd",
   "metadata": {},
   "outputs": [],
   "source": [
    "training = iris.sample(frac=0.7, random_state=0)"
   ]
  },
  {
   "cell_type": "code",
   "execution_count": null,
   "id": "6097b2a8-0394-4848-bdd0-704c50d7027e",
   "metadata": {},
   "outputs": [],
   "source": [
    "training.head(5)"
   ]
  },
  {
   "cell_type": "markdown",
   "id": "7c447e3c-3023-41b8-a527-3def7e730a23",
   "metadata": {},
   "source": [
    "Per prendere il 30% restante, cancello da iris le righe con l'indice presente nel training"
   ]
  },
  {
   "cell_type": "code",
   "execution_count": null,
   "id": "b646155f-2f85-4ab6-ba50-0b618bc7b996",
   "metadata": {},
   "outputs": [],
   "source": [
    "test = iris.drop(training.index)"
   ]
  },
  {
   "cell_type": "code",
   "execution_count": null,
   "id": "96b590fb-8f41-4add-aa40-efc30b6cebfd",
   "metadata": {},
   "outputs": [],
   "source": [
    "test.head(5)"
   ]
  },
  {
   "cell_type": "markdown",
   "id": "3a6972d2-84fc-4b5b-9dc5-e6f1448172c9",
   "metadata": {},
   "source": [
    "Implementiamo l'algoritmo di classificazione k-neighbours con k=1. Per prima cosa facciamo diventare l'indice di test una colonna, in modo da usarlo come identificativo."
   ]
  },
  {
   "cell_type": "code",
   "execution_count": null,
   "id": "b286d906-a54b-4324-afdf-96784828145d",
   "metadata": {},
   "outputs": [],
   "source": [
    "test = test.reset_index()"
   ]
  },
  {
   "cell_type": "code",
   "execution_count": null,
   "id": "b1829daf-a2b8-4456-a5a6-834bcc6bb335",
   "metadata": {},
   "outputs": [],
   "source": [
    "test.head(5)"
   ]
  },
  {
   "cell_type": "markdown",
   "id": "6a9c4207-d6af-4b7e-8896-2e8f09ebea27",
   "metadata": {},
   "source": [
    "Eseguiamo una cross merge di test e training"
   ]
  },
  {
   "cell_type": "code",
   "execution_count": null,
   "id": "bd5cf171-eeb9-4fb9-b6e0-f00c050dd1e1",
   "metadata": {},
   "outputs": [],
   "source": [
    "merge = pd.merge(test,\n",
    "         training,\n",
    "         how=\"cross\",\n",
    "         suffixes= (\"_test\",\"_training\")    \n",
    "      )"
   ]
  },
  {
   "cell_type": "markdown",
   "id": "35e12abb-0a6b-4bac-a55a-7aade1025119",
   "metadata": {},
   "source": [
    "Guardiamo il nuovo Dataset"
   ]
  },
  {
   "cell_type": "code",
   "execution_count": null,
   "id": "b79a25fb-4727-459a-8c9b-4bc61ad2e393",
   "metadata": {},
   "outputs": [],
   "source": [
    "merge.head(5)"
   ]
  },
  {
   "cell_type": "code",
   "execution_count": null,
   "id": "a4956821-906a-4066-b9cd-3e7c90a1dcc4",
   "metadata": {},
   "outputs": [],
   "source": [
    "merge.tail(5)"
   ]
  },
  {
   "cell_type": "markdown",
   "id": "9aab69b4-6d32-49e8-bf94-ea4a08d93d6f",
   "metadata": {},
   "source": [
    "Testiamo le dimensioni"
   ]
  },
  {
   "cell_type": "code",
   "execution_count": null,
   "id": "93737d36-66dc-4b25-a594-8b73c1df5d9d",
   "metadata": {},
   "outputs": [],
   "source": [
    "len(training),len(test),len(merge)"
   ]
  },
  {
   "cell_type": "markdown",
   "id": "5de7dd2d-3cb1-4d67-8eaa-ec16b7cd22ce",
   "metadata": {},
   "source": [
    "Creiamo una colonna che calcoli la distanza tra i dati di traning e quelli di test"
   ]
  },
  {
   "cell_type": "code",
   "execution_count": null,
   "id": "595376c5-e8c2-44eb-ad74-995a2c1cff5b",
   "metadata": {},
   "outputs": [],
   "source": [
    "merge[\"distanza\"] = pow( pow(merge[\"sepal_length_training\"]-merge[\"sepal_length_test\"],2)+\n",
    "                         pow(merge[\"sepal_width_training\"]-merge[\"sepal_width_test\"],2)+\n",
    "                         pow(merge[\"petal_length_training\"]-merge[\"petal_length_test\"],2)+\n",
    "                         pow(merge[\"petal_width_training\"]-merge[\"petal_width_test\"],2) ,\n",
    "                        0.5)"
   ]
  },
  {
   "cell_type": "markdown",
   "id": "a302cf34-84d5-4916-8063-4a427bff5a38",
   "metadata": {},
   "source": [
    "Cerchiamo l'iris del training più vicino all'iris di test con index 0"
   ]
  },
  {
   "cell_type": "code",
   "execution_count": null,
   "id": "2a194541-487b-4ea8-8081-314dee56c813",
   "metadata": {},
   "outputs": [],
   "source": [
    "merge.query(\"index == 0\").sort_values(by=\"distanza\",ascending=True).head(1)"
   ]
  },
  {
   "cell_type": "markdown",
   "id": "1a50e51a-4d75-4613-8bad-286d2df3ff35",
   "metadata": {},
   "source": [
    "Ordiniamo i dati per distanza crescente e rimuoviamo i duplicati per la colonna index mantenendo il primo elemento. In questo modo avremo per ogni riga di test la riga di training più vicina"
   ]
  },
  {
   "cell_type": "code",
   "execution_count": null,
   "id": "07cd9263-4ff2-4905-896e-3de0463089bf",
   "metadata": {},
   "outputs": [],
   "source": [
    "predizioni = merge.sort_values(by=\"distanza\",ascending=True).drop_duplicates(subset=[\"index\"], keep = \"first\")\n",
    "predizioni.head(5)"
   ]
  },
  {
   "cell_type": "markdown",
   "id": "41731933-7a6b-4a75-aaa3-c7c8f273c220",
   "metadata": {},
   "source": [
    "Calcoliamo il numero di errori"
   ]
  },
  {
   "cell_type": "code",
   "execution_count": null,
   "id": "bc837f0a-0c22-43b2-ae20-58f30eb730e8",
   "metadata": {},
   "outputs": [],
   "source": [
    "predizioni.query(\"species_test != species_training\")"
   ]
  },
  {
   "cell_type": "markdown",
   "id": "e7cc9959-87a2-48bb-b1e3-7231f5a8a3e0",
   "metadata": {},
   "source": [
    "Calcoliamo l'accuratezza"
   ]
  },
  {
   "cell_type": "code",
   "execution_count": null,
   "id": "be2ba9ea-65df-49e5-977d-ee5a75d3de90",
   "metadata": {},
   "outputs": [],
   "source": [
    "len(predizioni.query(\"species_test == species_training\"))/len(predizioni)"
   ]
  },
  {
   "cell_type": "markdown",
   "id": "797b1825-5e36-4317-97a4-17bfc9cbdbe9",
   "metadata": {},
   "source": [
    "# Ripetiamo il procedimento con scikit-learn"
   ]
  },
  {
   "cell_type": "code",
   "execution_count": null,
   "id": "7c5696d6-1272-4fc1-9abe-f1ae85b35558",
   "metadata": {},
   "outputs": [],
   "source": [
    "from sklearn.model_selection import train_test_split\n",
    "from sklearn.neighbors import KNeighborsClassifier\n",
    "from sklearn.metrics import confusion_matrix\n",
    "from sklearn.metrics import ConfusionMatrixDisplay\n",
    "\n",
    "import pandas as pd\n",
    "import numpy as np\n",
    "import seaborn as sns"
   ]
  },
  {
   "cell_type": "markdown",
   "id": "967fa63f-6d91-40d5-a942-0b4ca209e0ba",
   "metadata": {},
   "source": [
    "Importiamo il dataset iris"
   ]
  },
  {
   "cell_type": "code",
   "execution_count": null,
   "id": "54f7411c-6250-4260-85e5-ce67141cebf4",
   "metadata": {},
   "outputs": [],
   "source": [
    "iris=sns.load_dataset(\"iris\")"
   ]
  },
  {
   "cell_type": "code",
   "execution_count": null,
   "id": "4d1cd160-c28e-4ddb-b80f-43dba54ddb4e",
   "metadata": {},
   "outputs": [],
   "source": [
    "#se non hai installato seaborn\n",
    "iris = pd.read_csv(filepath_or_buffer=r\"C:\\Users\\ianto\\Desktop\\Corso Python\\file\\iris.csv\",\n",
    "                  header=1)"
   ]
  },
  {
   "cell_type": "markdown",
   "id": "caf7f0b7-3630-460c-b25e-86540cb3af8f",
   "metadata": {},
   "source": [
    "Ripassiamo come si \"elimina\" una colonna"
   ]
  },
  {
   "cell_type": "code",
   "execution_count": null,
   "id": "bf413a1e-f8c4-4ea3-909d-104b68fb233d",
   "metadata": {},
   "outputs": [],
   "source": [
    "iris.drop(\"species\", axis=1).head(5)"
   ]
  },
  {
   "cell_type": "markdown",
   "id": "4c5e4d17-059e-47df-88e0-546dd9837d1f",
   "metadata": {},
   "source": [
    "Dividiamo i dati in training e test utilizzando from il metodo train_test_split di scikit-learn"
   ]
  },
  {
   "cell_type": "code",
   "execution_count": null,
   "id": "5c1e3d7f-81c6-4d05-b898-9f5a2bcaf950",
   "metadata": {},
   "outputs": [],
   "source": [
    "features_training,features_test, target_training, target_test = train_test_split(iris.drop(\"species\", axis=1),\n",
    "                                                                   iris[[\"species\"]],\n",
    "                                                                   test_size = 0.3,\n",
    "                                                                   shuffle = True,\n",
    "                                                                   random_state = 1)"
   ]
  },
  {
   "cell_type": "markdown",
   "id": "4e242c5e-19bc-42c8-8a9e-9c733bb9e6e5",
   "metadata": {},
   "source": [
    "Guardiamo i quattro dataset"
   ]
  },
  {
   "cell_type": "code",
   "execution_count": null,
   "id": "a741f3ae-e048-4fc8-939d-e4f29cfa0d88",
   "metadata": {},
   "outputs": [],
   "source": [
    "features_training.head(5)"
   ]
  },
  {
   "cell_type": "code",
   "execution_count": null,
   "id": "f67e0837-47f4-43fd-bba6-1c080e8a6480",
   "metadata": {},
   "outputs": [],
   "source": [
    "target_training.head(5)"
   ]
  },
  {
   "cell_type": "code",
   "execution_count": null,
   "id": "43ff5b0d-bd08-4f89-ae6c-c4e5a8b85083",
   "metadata": {},
   "outputs": [],
   "source": [
    "features_test.head(5)"
   ]
  },
  {
   "cell_type": "code",
   "execution_count": null,
   "id": "9e26eb4d-d5a9-4cdd-8244-9d5792e8a4f6",
   "metadata": {},
   "outputs": [],
   "source": [
    "target_test.head(5)"
   ]
  },
  {
   "cell_type": "markdown",
   "id": "079fbdfb-b29c-47f0-9da1-cafe1a4e143c",
   "metadata": {},
   "source": [
    "Istanziamo l'algoritmo K-Neighbours tramite scikit-learn"
   ]
  },
  {
   "cell_type": "code",
   "execution_count": null,
   "id": "dd7425df-064c-49f8-bf71-65dccd755702",
   "metadata": {},
   "outputs": [],
   "source": [
    "knc = KNeighborsClassifier(n_neighbors=1)"
   ]
  },
  {
   "cell_type": "markdown",
   "id": "620d0d9b-7ecf-4a3a-a6ea-043a3315859a",
   "metadata": {},
   "source": [
    "Alleniamolo soltanto sui dati di training tramite il metodo fit"
   ]
  },
  {
   "cell_type": "code",
   "execution_count": null,
   "id": "40704060-8848-478f-b45d-4d08be61c91a",
   "metadata": {},
   "outputs": [],
   "source": [
    "#per eliminare il warning usare target_training.values.ravel()\n",
    "knc.fit(features_training,target_training)"
   ]
  },
  {
   "cell_type": "markdown",
   "id": "354a5fac-01a3-4a48-beba-d9bddbf1da23",
   "metadata": {},
   "source": [
    "Utilizziamo il metodo allenato per calcolare le predizioni sui dati di test tramite il metodo predict"
   ]
  },
  {
   "cell_type": "code",
   "execution_count": null,
   "id": "d88710e9-78d4-42fa-9458-d7807de81f84",
   "metadata": {},
   "outputs": [],
   "source": [
    "predizioni = knc.predict(features_test)\n",
    "predizioni"
   ]
  },
  {
   "cell_type": "markdown",
   "id": "c1a811b3-162f-463c-bdd4-f8b0e25608e7",
   "metadata": {},
   "source": [
    "Con il metodo score posso calcolare quante di queste predizioni sono corrette"
   ]
  },
  {
   "cell_type": "code",
   "execution_count": null,
   "id": "8447b70e-6b93-4822-8e6a-b37de05ccf98",
   "metadata": {},
   "outputs": [],
   "source": [
    "score = knc.score(features_test,target_test)\n",
    "score"
   ]
  },
  {
   "cell_type": "markdown",
   "id": "1814fdf8-1cd9-4ead-be77-272f2ee58cbb",
   "metadata": {},
   "source": [
    "Ricreiamo il dataset features_test aggiungendo i valori delle classi reali e predette"
   ]
  },
  {
   "cell_type": "code",
   "execution_count": null,
   "id": "b7dfd3ef-b300-44dc-bfd1-7320649b3d95",
   "metadata": {},
   "outputs": [],
   "source": [
    "iris_completo = features_test.copy()\n",
    "iris_completo[\"species_originale\"]=target_test[\"species\"]\n",
    "iris_completo[\"species_predetta\"]=predizioni\n",
    "iris_completo.head(5)"
   ]
  },
  {
   "cell_type": "markdown",
   "id": "561d1790-384d-416e-b569-62c466746b85",
   "metadata": {},
   "source": [
    "Vediamo gli errori"
   ]
  },
  {
   "cell_type": "code",
   "execution_count": null,
   "id": "37286b77-e384-4aa3-a512-90afd2dfd002",
   "metadata": {},
   "outputs": [],
   "source": [
    "iris_completo.query(\"species_originale != species_predetta\")"
   ]
  },
  {
   "cell_type": "markdown",
   "id": "2dce39b3-7e4b-43cb-91f7-093051a4259e",
   "metadata": {},
   "source": [
    "Calcoliamo di nuovo l'accuratezza \"manualmente\""
   ]
  },
  {
   "cell_type": "code",
   "execution_count": null,
   "id": "ca1cdba4-3747-41f8-9451-b34ad594162c",
   "metadata": {},
   "outputs": [],
   "source": [
    "len(iris_completo.query(\"species_originale == species_predetta\"))/len(iris_completo)"
   ]
  },
  {
   "cell_type": "markdown",
   "id": "9588b117-ff5e-44f8-b921-b0fa7285e5b8",
   "metadata": {},
   "source": [
    "Calcoliamo la matrice di confusione"
   ]
  },
  {
   "cell_type": "code",
   "execution_count": null,
   "id": "a9e7199c-3a3a-4fd7-8f3e-cd3ff15781a3",
   "metadata": {},
   "outputs": [],
   "source": [
    "confusion_matrix(target_test, predizioni)"
   ]
  },
  {
   "cell_type": "markdown",
   "id": "b5d65f16-a48b-41ce-a1e9-02c973c3d9ac",
   "metadata": {},
   "source": [
    "Graficamente"
   ]
  },
  {
   "cell_type": "code",
   "execution_count": null,
   "id": "c222da16-4e4e-4c82-9d63-d492f8a69f9e",
   "metadata": {},
   "outputs": [],
   "source": [
    "ConfusionMatrixDisplay.from_predictions(target_test, predizioni)"
   ]
  },
  {
   "cell_type": "markdown",
   "id": "4c684d97-0b8d-4153-a9f2-602cf0328fd3",
   "metadata": {},
   "source": [
    "## Utilizziamo altri algoritmi di Machine Learning ed estendiamo il processo di lavorazione dei dati"
   ]
  },
  {
   "cell_type": "code",
   "execution_count": null,
   "id": "ff449de4-f997-4b9b-975e-110025839bc2",
   "metadata": {},
   "outputs": [],
   "source": [
    "from sklearn.impute import SimpleImputer\n",
    "\n",
    "from sklearn.preprocessing import StandardScaler\n",
    "from sklearn.preprocessing import MinMaxScaler\n",
    "\n",
    "from sklearn.linear_model import Perceptron\n",
    "from sklearn.linear_model import SGDClassifier\n",
    "from sklearn.linear_model import LogisticRegression\n",
    "from sklearn.ensemble import RandomForestClassifier\n",
    "from sklearn.tree import DecisionTreeClassifier\n",
    "\n",
    "from sklearn.metrics import confusion_matrix\n",
    "from sklearn.metrics import ConfusionMatrixDisplay\n",
    "\n",
    "import pandas as pd\n",
    "import numpy as np\n",
    "import seaborn as sns"
   ]
  },
  {
   "cell_type": "markdown",
   "id": "f3e3b20f-cf96-4bfa-a5cc-d93a816e8280",
   "metadata": {},
   "source": [
    "Reimportiamo il dataset e dividiamo i dati in training e test (random_state = 0 ci garantisce di avere gli stessi dati di prima)"
   ]
  },
  {
   "cell_type": "code",
   "execution_count": null,
   "id": "f2cc98b7-412a-472a-a14d-d4bf21cd7aae",
   "metadata": {},
   "outputs": [],
   "source": [
    "iris=sns.load_dataset(\"iris\")"
   ]
  },
  {
   "cell_type": "code",
   "execution_count": null,
   "id": "f5267bc2-5ce4-4199-ada1-be82e3b18399",
   "metadata": {},
   "outputs": [],
   "source": [
    "features_training,features_test, target_training, target_test = train_test_split(iris.drop(\"species\", axis=1),\n",
    "                                                                   iris[[\"species\"]],\n",
    "                                                                   test_size = 0.3,\n",
    "                                                                   shuffle = True,\n",
    "                                                                   random_state = 1)"
   ]
  },
  {
   "cell_type": "markdown",
   "id": "2c6edc52-29a3-4c0f-8ce6-7dc0b901f33a",
   "metadata": {},
   "source": [
    "Valorizziamo i valori mancanti. Partiamo istanziando la classe SimpleImputer di Scikit-learn"
   ]
  },
  {
   "cell_type": "code",
   "execution_count": null,
   "id": "81a3a1ae-607c-44a2-97db-fbfd81a73914",
   "metadata": {},
   "outputs": [],
   "source": [
    "imputer = SimpleImputer(strategy='mean')"
   ]
  },
  {
   "cell_type": "markdown",
   "id": "090f2605-adbf-4f02-857f-ff2017dad77a",
   "metadata": {},
   "source": [
    "Alleniamo l'oggetto imputer sui dati di training"
   ]
  },
  {
   "cell_type": "code",
   "execution_count": null,
   "id": "de3903bf-14dc-487b-bd7b-b65ea25f9b0d",
   "metadata": {},
   "outputs": [],
   "source": [
    "imputer.fit(features_training)"
   ]
  },
  {
   "cell_type": "markdown",
   "id": "c92f0167-003c-46dd-baa2-7bbd1ed28c54",
   "metadata": {},
   "source": [
    "Utilizziamo il metodo allenato per trasformare i dati di training e di test"
   ]
  },
  {
   "cell_type": "code",
   "execution_count": null,
   "id": "7a1af9ab-bb80-4057-9ab3-f1e520f294dc",
   "metadata": {},
   "outputs": [],
   "source": [
    "features_training_imputed = pd.DataFrame(\n",
    "    imputer.transform(features_training),\n",
    "    columns=features_training.columns,\n",
    "    index=features_training.index\n",
    ")"
   ]
  },
  {
   "cell_type": "code",
   "execution_count": null,
   "id": "75a9f321-d302-46a3-84dd-41191a3456d0",
   "metadata": {},
   "outputs": [],
   "source": [
    "features_training_imputed.head(5)"
   ]
  },
  {
   "cell_type": "code",
   "execution_count": null,
   "id": "beb5043e-a95a-4ba0-9d76-0ea75dfb090e",
   "metadata": {},
   "outputs": [],
   "source": [
    "features_test_imputed = pd.DataFrame(\n",
    "    imputer.transform(features_test),\n",
    "    columns=features_test.columns,\n",
    "    index=features_test.index\n",
    ")"
   ]
  },
  {
   "cell_type": "code",
   "execution_count": null,
   "id": "2aef8616-433b-490d-a6c9-3e857612f801",
   "metadata": {},
   "outputs": [],
   "source": [
    "features_test_imputed.head(5)"
   ]
  },
  {
   "cell_type": "markdown",
   "id": "9b49891e-ba0e-4955-a4cb-2a9eacebfab1",
   "metadata": {},
   "source": [
    "Applichiamo la normalizzazione dei dati. Partiamo istanziando la classe StandardScaler di Scikit-learn"
   ]
  },
  {
   "cell_type": "code",
   "execution_count": null,
   "id": "811e29b2-4f98-42e3-89c1-5e58399f32de",
   "metadata": {},
   "outputs": [],
   "source": [
    "scaler = StandardScaler() "
   ]
  },
  {
   "cell_type": "markdown",
   "id": "cc9e8ebe-628c-4a11-b114-85eba4391ed9",
   "metadata": {},
   "source": [
    "Alleniamo l'oggetto sui dati di training"
   ]
  },
  {
   "cell_type": "code",
   "execution_count": null,
   "id": "56eca16a-bd76-412e-af46-e612e5ea1833",
   "metadata": {},
   "outputs": [],
   "source": [
    "scaler.fit(features_training_imputed)"
   ]
  },
  {
   "cell_type": "markdown",
   "id": "5af80233-58f3-4a3f-a0ac-d114660a689d",
   "metadata": {},
   "source": [
    "Utilizziamo il metodo allenato per trasformare i dati di training e di test"
   ]
  },
  {
   "cell_type": "code",
   "execution_count": null,
   "id": "cd69612f-71d8-40e6-a182-e7c2b51c33d6",
   "metadata": {},
   "outputs": [],
   "source": [
    "features_training_standard = pd.DataFrame(\n",
    "    scaler.transform(features_training_imputed),\n",
    "    columns=features_training_imputed.columns,\n",
    "    index=features_training_imputed.index\n",
    ")"
   ]
  },
  {
   "cell_type": "code",
   "execution_count": null,
   "id": "43f20dc8-d9f0-417f-a455-273b13d45a5e",
   "metadata": {},
   "outputs": [],
   "source": [
    "features_training_standard.head(5)"
   ]
  },
  {
   "cell_type": "code",
   "execution_count": null,
   "id": "a70bdfb2-c32b-4d16-a6ef-83edff8e2a40",
   "metadata": {},
   "outputs": [],
   "source": [
    "features_test_standard = pd.DataFrame(\n",
    "    scaler.transform(features_test_imputed),\n",
    "    columns=features_test_imputed.columns,\n",
    "    index=features_test_imputed.index\n",
    ")"
   ]
  },
  {
   "cell_type": "code",
   "execution_count": null,
   "id": "c59c8e20-8cde-408b-8787-dc7520cd7a93",
   "metadata": {},
   "outputs": [],
   "source": [
    "features_test_standard.head(5)"
   ]
  },
  {
   "cell_type": "markdown",
   "id": "a50131d8-02a7-484d-a1bc-05536e673c89",
   "metadata": {},
   "source": [
    "Applichiamo un altro algoritmo di Machine Learning: il Perceptron. Istanziamo la classe relativa da scikit-learn"
   ]
  },
  {
   "cell_type": "code",
   "execution_count": null,
   "id": "5892358d-f75d-4941-81d9-2a26b11aeaf4",
   "metadata": {},
   "outputs": [],
   "source": [
    "pcp = Perceptron(random_state = 0, alpha=0.001)"
   ]
  },
  {
   "cell_type": "markdown",
   "id": "2b441f22-ef48-4928-9b0b-ec4fee5f2a5d",
   "metadata": {},
   "source": [
    "Alleniamola soltanto sui dati di training"
   ]
  },
  {
   "cell_type": "code",
   "execution_count": null,
   "id": "cde5770f-3fd8-4f29-a389-fd78002d94da",
   "metadata": {},
   "outputs": [],
   "source": [
    "#per eliminare il warning usare target_training.values.ravel()\n",
    "pcp.fit(features_training_standard,target_training )"
   ]
  },
  {
   "cell_type": "markdown",
   "id": "0f6a1b46-306c-4555-8e2e-3c5c8ea78e16",
   "metadata": {},
   "source": [
    "Utilizziamo il metodo allenato per calcolare le predizioni sui dati di test"
   ]
  },
  {
   "cell_type": "code",
   "execution_count": null,
   "id": "8632b43e-0e9a-4b50-96ea-e30730d52b04",
   "metadata": {},
   "outputs": [],
   "source": [
    "predizioni = pcp.predict(features_test_standard)\n",
    "predizioni"
   ]
  },
  {
   "cell_type": "markdown",
   "id": "d34ce543-1769-4d23-b89a-745d70170d1e",
   "metadata": {},
   "source": [
    "Con il metodo score posso calcolare quante di queste predizioni sono corrette"
   ]
  },
  {
   "cell_type": "code",
   "execution_count": null,
   "id": "f120bde9-0beb-44d7-b408-fdfb7ab9ac8e",
   "metadata": {},
   "outputs": [],
   "source": [
    "score = pcp.score(features_test_standard,target_test)\n",
    "score"
   ]
  },
  {
   "cell_type": "markdown",
   "id": "f1fc2729-67db-4f9b-b7a2-d7cde53e11c3",
   "metadata": {},
   "source": [
    "Ricreiamo il dataset features_test aggiungendo i valori delle classi reali e predette"
   ]
  },
  {
   "cell_type": "code",
   "execution_count": null,
   "id": "dcbc6401-f4a3-41b1-9875-df9401771efb",
   "metadata": {},
   "outputs": [],
   "source": [
    "iris_completo = features_test.copy()\n",
    "iris_completo[\"species_originale\"]=target_test[\"species\"]\n",
    "iris_completo[\"species_predetta\"]=predizioni\n",
    "iris_completo.head(5)"
   ]
  },
  {
   "cell_type": "code",
   "execution_count": null,
   "id": "dca5a923-c1dc-40cf-aea1-ecf1bcd3ae9e",
   "metadata": {},
   "outputs": [],
   "source": [
    "iris_completo.query(\"species_originale != species_predetta\")"
   ]
  },
  {
   "cell_type": "markdown",
   "id": "dfbdc432-1c46-480d-8742-0a9f37612dd6",
   "metadata": {},
   "source": [
    "Calcoliamo di nuovo l'accuratezza \"manualmente\""
   ]
  },
  {
   "cell_type": "code",
   "execution_count": null,
   "id": "b3b86955-6266-4e0a-995b-ea65e6956853",
   "metadata": {},
   "outputs": [],
   "source": [
    "len(iris_completo.query(\"species_originale == species_predetta\"))/len(iris_completo)"
   ]
  },
  {
   "cell_type": "markdown",
   "id": "fbe02e1e-a03f-40f8-aa55-fa9e5415314a",
   "metadata": {},
   "source": [
    "Calcoliamo la matrice di confusione"
   ]
  },
  {
   "cell_type": "code",
   "execution_count": null,
   "id": "26f420d0-7cc6-4244-a2e3-50bf2466b848",
   "metadata": {},
   "outputs": [],
   "source": [
    "confusion_matrix(target_test, predizioni)"
   ]
  },
  {
   "cell_type": "markdown",
   "id": "4677fb47-fd38-4979-9544-ef6daadef66c",
   "metadata": {},
   "source": [
    "Graficamente"
   ]
  },
  {
   "cell_type": "code",
   "execution_count": null,
   "id": "d6ad1762-fe1b-47d9-b9a0-def1d614a586",
   "metadata": {},
   "outputs": [],
   "source": [
    "ConfusionMatrixDisplay.from_predictions(target_test, predizioni)"
   ]
  },
  {
   "cell_type": "markdown",
   "id": "af154c28-aa0b-452d-b3dc-1a22a7f08d8d",
   "metadata": {},
   "source": [
    "## Pipeline con scikit-learn"
   ]
  },
  {
   "cell_type": "markdown",
   "id": "831a396d-0bde-4cac-ab04-6f06ca79edfc",
   "metadata": {},
   "source": [
    "Invece di eseguire manualmente i singoli passi dell'algoritmo di Machine Learning, possiamo inglobarli all'interno di una pipeline di scikit-learn"
   ]
  },
  {
   "cell_type": "code",
   "execution_count": null,
   "id": "ec0be2f6-ea98-4882-927a-b97b8f133c7e",
   "metadata": {},
   "outputs": [],
   "source": [
    "from sklearn.pipeline import Pipeline"
   ]
  },
  {
   "cell_type": "markdown",
   "id": "b03669ba-e6b7-4563-a663-3956b2ff3117",
   "metadata": {},
   "source": [
    "Reimportiamo i dati e applichiamo la divisione in training e test"
   ]
  },
  {
   "cell_type": "code",
   "execution_count": null,
   "id": "455425dd-4e28-4b6d-8487-ba5100df9e81",
   "metadata": {},
   "outputs": [],
   "source": [
    "iris=sns.load_dataset(\"iris\")"
   ]
  },
  {
   "cell_type": "code",
   "execution_count": null,
   "id": "e24c7079-dbd2-429f-8702-ac0738bf4f84",
   "metadata": {},
   "outputs": [],
   "source": [
    "features_training,features_test, target_training, target_test = train_test_split(iris.drop(\"species\", axis=1),\n",
    "                                                                   iris[[\"species\"]],\n",
    "                                                                   test_size = 0.3,\n",
    "                                                                   random_state = 1)"
   ]
  },
  {
   "cell_type": "markdown",
   "id": "ee158dda-193c-4962-a144-7e4cb4e217b6",
   "metadata": {},
   "source": [
    "Creiamo la pipeline"
   ]
  },
  {
   "cell_type": "code",
   "execution_count": null,
   "id": "3cdebc37-9d19-4d0f-afdb-ba69cb9e314a",
   "metadata": {},
   "outputs": [],
   "source": [
    "my_first_pipeline = Pipeline([('si',SimpleImputer(strategy='mean')),\n",
    "                              ('st',StandardScaler()),\n",
    "                              ('ml', Perceptron(random_state = 0))\n",
    "                               ])"
   ]
  },
  {
   "cell_type": "markdown",
   "id": "0c36dcfd-9d06-48a4-8c9f-9e4f0b4f7327",
   "metadata": {},
   "source": [
    "Alleniamo la pipeline sui dati di training"
   ]
  },
  {
   "cell_type": "code",
   "execution_count": null,
   "id": "0285b38d-e7ee-4d75-abd2-41b4ccbf426e",
   "metadata": {},
   "outputs": [],
   "source": [
    "#per eliminare il warning usare target_training.values.ravel()\n",
    "my_first_pipeline.fit(features_training,target_training)"
   ]
  },
  {
   "cell_type": "markdown",
   "id": "44640456-d057-4e05-aafc-1bfd54d5943e",
   "metadata": {},
   "source": [
    "Calcoliamo le predizioni sui dati di test"
   ]
  },
  {
   "cell_type": "code",
   "execution_count": null,
   "id": "e6965f42-1932-455a-bb05-f489947b9199",
   "metadata": {},
   "outputs": [],
   "source": [
    "predizioni = my_first_pipeline.predict(features_test)\n",
    "predizioni"
   ]
  },
  {
   "cell_type": "markdown",
   "id": "e138d492-abb7-4d0c-9688-0301d4107e44",
   "metadata": {},
   "source": [
    "Valutiamo lo score"
   ]
  },
  {
   "cell_type": "code",
   "execution_count": null,
   "id": "b36d9b60-2968-46a7-ba87-238be604bcda",
   "metadata": {},
   "outputs": [],
   "source": [
    "my_first_pipeline.score(features_test,target_test)"
   ]
  },
  {
   "cell_type": "markdown",
   "id": "db432458-2b93-42dc-b634-e3aaaa7b3d93",
   "metadata": {},
   "source": [
    "Creo il dataset completo di dati reali e predizioni"
   ]
  },
  {
   "cell_type": "code",
   "execution_count": null,
   "id": "ed3f16ad-1d20-4043-99df-33381ea7862f",
   "metadata": {},
   "outputs": [],
   "source": [
    "iris_completo = features_test.copy()\n",
    "iris_completo[\"species_originale\"]=target_test[\"species\"]\n",
    "iris_completo[\"species_predetta\"]=predizioni\n",
    "iris_completo.head(5)"
   ]
  },
  {
   "cell_type": "markdown",
   "id": "32d172c9-dff3-4e39-b7d1-283576a503fa",
   "metadata": {},
   "source": [
    "calcoliamo di nuovo manualmente lo score"
   ]
  },
  {
   "cell_type": "code",
   "execution_count": null,
   "id": "e4025c18-8b18-4ec0-859b-3aa34b30d1b0",
   "metadata": {},
   "outputs": [],
   "source": [
    "len(iris_completo.query(\"species_originale == species_predetta\"))/len(iris_completo)"
   ]
  },
  {
   "cell_type": "markdown",
   "id": "c1baa31e-49f4-4348-bc61-79d73498f11a",
   "metadata": {},
   "source": [
    "Creiamo una nuova pipeline con un algoritmo diverso di Machine Learning, l'albero di decisione"
   ]
  },
  {
   "cell_type": "code",
   "execution_count": null,
   "id": "b75ff763-090d-4afb-89c0-7aa04425fe90",
   "metadata": {},
   "outputs": [],
   "source": [
    "my_second_pipeline = Pipeline([('si',SimpleImputer(strategy='mean')),\n",
    "                              ('st',StandardScaler()),\n",
    "                              ('ml', DecisionTreeClassifier(random_state = 0))\n",
    "                               ])"
   ]
  },
  {
   "cell_type": "markdown",
   "id": "54dfc6e1-d8ad-46e8-9275-b215e24079bc",
   "metadata": {},
   "source": [
    "Alleno la pipeline e calcolo le accuratezze"
   ]
  },
  {
   "cell_type": "code",
   "execution_count": null,
   "id": "a84c43b6-6b94-4187-b299-a736fae29c1c",
   "metadata": {},
   "outputs": [],
   "source": [
    "my_second_pipeline.fit(features_training,target_training)"
   ]
  },
  {
   "cell_type": "code",
   "execution_count": null,
   "id": "7d7302b1-e8eb-4084-9720-7898666408ae",
   "metadata": {},
   "outputs": [],
   "source": [
    "predizioni = my_second_pipeline.predict(features_test)"
   ]
  },
  {
   "cell_type": "code",
   "execution_count": null,
   "id": "29dac978-56be-4483-ba43-2a5d8f646503",
   "metadata": {},
   "outputs": [],
   "source": [
    "confusion_matrix(target_test, predizioni)"
   ]
  },
  {
   "cell_type": "code",
   "execution_count": null,
   "id": "7c3d0b83-22c3-4647-a34d-fa583c1f6ed0",
   "metadata": {
    "scrolled": true
   },
   "outputs": [],
   "source": [
    "ConfusionMatrixDisplay.from_predictions(target_test, predizioni)"
   ]
  },
  {
   "cell_type": "code",
   "execution_count": null,
   "id": "6d375ee5-fd50-4014-b454-38a66df0afcd",
   "metadata": {},
   "outputs": [],
   "source": [
    "my_second_pipeline.score(features_test,target_test)"
   ]
  },
  {
   "cell_type": "markdown",
   "id": "07ae6d00-9fa1-458a-9b23-4a73c89a5ef1",
   "metadata": {},
   "source": [
    "Posso concludere che questo secondo algoritmo performa meglio del primo? \n",
    "\n",
    "No, perché potrebbe dalla particolare suddivisione dei dati in training e test. Ho bisogno di un metodo di confronto più robusto"
   ]
  },
  {
   "cell_type": "markdown",
   "id": "9731d9ff-8dce-4eef-968f-dd33a9d8c316",
   "metadata": {},
   "source": [
    "Prima un piccolo approfondimento sui decision tree"
   ]
  },
  {
   "cell_type": "code",
   "execution_count": null,
   "id": "5c3ba127-394c-42f7-b812-100f0a235ab4",
   "metadata": {},
   "outputs": [],
   "source": [
    "from sklearn.tree import plot_tree"
   ]
  },
  {
   "cell_type": "code",
   "execution_count": null,
   "id": "51270e50-b0c8-45a2-88cf-05a9c881a233",
   "metadata": {},
   "outputs": [],
   "source": [
    "plot_tree(decision_tree = my_second_pipeline.steps[2][1],          \n",
    "          feature_names = [\"sepal_length\",\"sepal_width\",\"petal_length\",\"petal_width\"],\n",
    "          class_names = ['iris setosa', 'iris versicolor', 'iris virginica'],\n",
    "          filled = True\n",
    "         );"
   ]
  },
  {
   "cell_type": "markdown",
   "id": "2114c58c-94fb-4dba-8ec0-a198b7065019",
   "metadata": {},
   "source": [
    "## Convalida incrociata"
   ]
  },
  {
   "cell_type": "code",
   "execution_count": null,
   "id": "c06f26ce-da3f-489e-90eb-d86c0bd7654d",
   "metadata": {},
   "outputs": [],
   "source": [
    "from sklearn.model_selection import cross_val_score\n",
    "from sklearn.model_selection import GridSearchCV"
   ]
  },
  {
   "cell_type": "markdown",
   "id": "8a8a5c30-5de9-41a1-80d3-37acd2b820a3",
   "metadata": {},
   "source": [
    "Guardiamo i \"parametri\" della pipeline"
   ]
  },
  {
   "cell_type": "code",
   "execution_count": null,
   "id": "10c3ba10-efe0-4cf7-9d46-90b967aabccd",
   "metadata": {},
   "outputs": [],
   "source": [
    "my_second_pipeline.get_params()"
   ]
  },
  {
   "cell_type": "markdown",
   "id": "792a5c4d-e032-4dad-980d-ea3a13d81f01",
   "metadata": {},
   "source": [
    "Possiamo assegnare ad alcuni di questi parametri più valori differenti."
   ]
  },
  {
   "cell_type": "code",
   "execution_count": null,
   "id": "267535e1-6f0c-415a-b2f7-e179dacb5d49",
   "metadata": {},
   "outputs": [],
   "source": [
    "parametri_griglia = [{\"st\":[StandardScaler(),MinMaxScaler()],\n",
    "                      \"ml\":[DecisionTreeClassifier(random_state=0),LogisticRegression(random_state=0),RandomForestClassifier(random_state=0)]\n",
    "                        }]"
   ]
  },
  {
   "cell_type": "markdown",
   "id": "cef2cb93-8bea-4577-afa9-3f7fe2f2192a",
   "metadata": {},
   "source": [
    "Creiamo la griglia per eseguire la convalida incrociata tramite il metodo GridSearchCV di scikit-learn"
   ]
  },
  {
   "cell_type": "code",
   "execution_count": null,
   "id": "718b1b27-1992-46b3-90e9-a25c3848231b",
   "metadata": {},
   "outputs": [],
   "source": [
    "my_grid = GridSearchCV(estimator = my_second_pipeline,\n",
    "                      param_grid = parametri_griglia,\n",
    "                      cv = 5)"
   ]
  },
  {
   "cell_type": "markdown",
   "id": "093dc8d7-bc6f-4d52-a9cb-5ea1c9f340c9",
   "metadata": {},
   "source": [
    "Alleno la griglia sui dataset di training. Eseguirò 2x2x5=20 esecuzioni, per 4 combinazioni diverse di parametri.\n",
    "\n",
    "Fissata una combinazione di valori della griglia (ad esempio StandardScaler e DecisionTreeClassifier), eseguirò la pipeline su 5 diverse suddivisioni del dataset di training. \n",
    "\n",
    "Per ognuna delle 5, eseguiro il training sul 80% dei dati e valuterò l'accuratezza sul restante 20% di convalida."
   ]
  },
  {
   "cell_type": "code",
   "execution_count": null,
   "id": "8b65c682-15ee-48b3-a31b-166195a67277",
   "metadata": {},
   "outputs": [],
   "source": [
    "#per eliminare il warning usare target_training.values.ravel()\n",
    "my_grid.fit(features_training,target_training.values.ravel())"
   ]
  },
  {
   "cell_type": "markdown",
   "id": "36a267a5-57e1-49f6-a688-13f6c20e8192",
   "metadata": {},
   "source": [
    "Visualizziamo lo score più alto raggiunto tra le 4 combinazioni"
   ]
  },
  {
   "cell_type": "code",
   "execution_count": null,
   "id": "d34a3798-47f5-4aa0-9170-c5fe76b679ad",
   "metadata": {},
   "outputs": [],
   "source": [
    "my_grid.best_score_"
   ]
  },
  {
   "cell_type": "markdown",
   "id": "3bfae400-f615-40d0-bba7-84e0ca74e056",
   "metadata": {},
   "source": [
    "Vediamo la combinazione per la quale ho ottenuto i valori migliori"
   ]
  },
  {
   "cell_type": "code",
   "execution_count": null,
   "id": "33ae0eb0-df04-4ae3-bba4-bec7872bb7eb",
   "metadata": {},
   "outputs": [],
   "source": [
    "my_grid.best_params_"
   ]
  },
  {
   "cell_type": "markdown",
   "id": "ca986cb6-5cb2-4858-8ccd-00c48f15281d",
   "metadata": {},
   "source": [
    "Creo la pipeline associata alla migliore combinazione"
   ]
  },
  {
   "cell_type": "code",
   "execution_count": null,
   "id": "b5c734d2-05a3-4d2c-b155-8fdd4a637571",
   "metadata": {},
   "outputs": [],
   "source": [
    "best_pipeline = my_grid.best_estimator_\n",
    "best_pipeline"
   ]
  },
  {
   "cell_type": "markdown",
   "id": "4ca374ee-4201-45bf-829f-72499e0d1859",
   "metadata": {},
   "source": [
    "A questo punto ho selezionato il modello migliore.\n",
    "\n",
    "Per valutare l'accuratezza, rialleno la pipeline su tutti i dati di training e poi calcolo l'accuratezza sui dati di test"
   ]
  },
  {
   "cell_type": "code",
   "execution_count": null,
   "id": "5f41251b-7065-4ed0-85ea-e0688b15323c",
   "metadata": {},
   "outputs": [],
   "source": [
    "best_pipeline.fit(features_training,target_training)"
   ]
  },
  {
   "cell_type": "code",
   "execution_count": null,
   "id": "f53e1df3-f096-40f6-b77a-644e6073da93",
   "metadata": {},
   "outputs": [],
   "source": [
    "best_pipeline.score(features_test,target_test)"
   ]
  },
  {
   "cell_type": "markdown",
   "id": "9b881e38-e0d5-4e17-a00a-32d0394e1de1",
   "metadata": {},
   "source": [
    "Gli alberi decisionali possono essere rappresentati graficamente!"
   ]
  },
  {
   "cell_type": "code",
   "execution_count": null,
   "id": "7796f9d3-3690-4827-9788-2e4a6af71ea1",
   "metadata": {},
   "outputs": [],
   "source": [
    "plot_tree(decision_tree = best_pipeline.steps[2][1],          \n",
    "          feature_names = [\"sepal_length\",\"sepal_width\",\"petal_length\",\"petal_width\"],\n",
    "          class_names = ['iris setosa', 'iris versicolor', 'iris virginica'],\n",
    "          filled = True\n",
    "         );"
   ]
  },
  {
   "cell_type": "code",
   "execution_count": null,
   "id": "97b2e31d-5e94-47da-af83-3fc7f8b36e48",
   "metadata": {},
   "outputs": [],
   "source": [
    "best_pipeline.steps[2][1]"
   ]
  },
  {
   "cell_type": "markdown",
   "id": "137cdca7-55c9-4434-bd46-dedc5ab19b49",
   "metadata": {},
   "source": [
    "## Regressione"
   ]
  },
  {
   "cell_type": "code",
   "execution_count": null,
   "id": "8ab0fe64-54e9-42eb-b3fc-2c7d2d93bb32",
   "metadata": {},
   "outputs": [],
   "source": [
    "from sklearn.linear_model import LinearRegression\n",
    "from sklearn.linear_model import Lasso"
   ]
  },
  {
   "cell_type": "markdown",
   "id": "3d60f132-fd9f-411a-b152-aca2f7cbcdea",
   "metadata": {},
   "source": [
    "Importiamo il dataset diamonds"
   ]
  },
  {
   "cell_type": "code",
   "execution_count": null,
   "id": "31ed74b1-4b62-41e0-8577-2715b80d64e5",
   "metadata": {},
   "outputs": [],
   "source": [
    "diamonds=sns.load_dataset(\"diamonds\")"
   ]
  },
  {
   "cell_type": "code",
   "execution_count": null,
   "id": "f54ce518-f6d2-48fa-b8fd-544eadca4dc1",
   "metadata": {},
   "outputs": [],
   "source": [
    "diamonds.head(5)"
   ]
  },
  {
   "cell_type": "markdown",
   "id": "8a6a1bd6-4229-4198-b87b-8f123127cf97",
   "metadata": {},
   "source": [
    "features:\n",
    "- carat peso del diamante\n",
    "- cut è la qualità del taglio secondo questa scala Fair, Good, Very Good, Premium, Ideal\n",
    "- color riguarda il colore secondo questa scala J, I, H, G, F, E, D \n",
    "- clarity la chiarezza secondo questa scala I3, I2, I1, SI2, SI1, VS2, VS1, VVS2, VVS1, IF, FL\n",
    "- depth altezza in percentuale\n",
    "- table larghezza in percentuale\n",
    "- x lunghezza in millimetri\n",
    "- y largheza in millimetri\n",
    "- z prodonfita in millimetri\n",
    "\n",
    "target:\n",
    "- price"
   ]
  },
  {
   "cell_type": "markdown",
   "id": "24700ce5-4647-4b32-91cd-38f1e410fb59",
   "metadata": {},
   "source": [
    "Codifichiamo le variabili non quantitative (sono comunque tutte ordinali)."
   ]
  },
  {
   "cell_type": "code",
   "execution_count": null,
   "id": "a1479ba9-5411-4d4a-bb84-de425e2101f6",
   "metadata": {},
   "outputs": [],
   "source": [
    "codifica_cut = {\"Fair\":1, \"Good\":2, \"Very Good\":3, \"Premium\":4, \"Ideal\":5}\n",
    "codifica_color = {\"J\":1, \"I\":2, \"H\":3, \"G\":4, \"F\":5, \"E\":6, \"D\":7}\n",
    "codifica_clarity = {\"I3\":1, \"I2\": 2, \"I1\":3, \"SI2\":4, \"SI1\":5, \"VS2\":6, \"VS1\":7, \"VVS2\":8, \"VVS1\":9, \"IF\":10, \"FL\":11}"
   ]
  },
  {
   "cell_type": "code",
   "execution_count": null,
   "id": "cc4edcd1-bb79-448c-b730-b0b1735f0077",
   "metadata": {},
   "outputs": [],
   "source": [
    "diamonds[\"cut\"] = diamonds[\"cut\"].map(codifica_cut).astype(\"int64\")\n",
    "diamonds[\"color\"] = diamonds[\"color\"].map(codifica_color).astype(\"int64\")\n",
    "diamonds[\"clarity\"] = diamonds[\"clarity\"].map(codifica_clarity).astype(\"int64\")"
   ]
  },
  {
   "cell_type": "markdown",
   "id": "e28f33a5-e7bc-44c2-b058-a17ea6b70117",
   "metadata": {},
   "source": [
    "Vediamo il nuovo dataset"
   ]
  },
  {
   "cell_type": "code",
   "execution_count": null,
   "id": "f0a173cd-ca1b-4df6-8384-2eafd4c5a680",
   "metadata": {},
   "outputs": [],
   "source": [
    "diamonds.head(5)"
   ]
  },
  {
   "cell_type": "markdown",
   "id": "5bdd2554-925d-4cd4-8e8e-baf9a400a197",
   "metadata": {},
   "source": [
    "Se ci fossero variabili non quantitative e non ordinali, potrei usare il metodo di pandas get_dummies()"
   ]
  },
  {
   "cell_type": "code",
   "execution_count": null,
   "id": "43c51500-2a7c-4def-9623-315aafd985c5",
   "metadata": {},
   "outputs": [],
   "source": [
    "diamonds2=sns.load_dataset(\"diamonds\")"
   ]
  },
  {
   "cell_type": "code",
   "execution_count": null,
   "id": "d978ac1f-6d86-427d-b931-70ea5c99a47c",
   "metadata": {},
   "outputs": [],
   "source": [
    "pd.get_dummies(data = diamonds2[\"color\"], dtype=int).head(5)"
   ]
  },
  {
   "cell_type": "code",
   "execution_count": null,
   "id": "a2ee3263-4fd8-4508-b5a0-1195c0aa1a3c",
   "metadata": {},
   "outputs": [],
   "source": [
    "diamonds.info()"
   ]
  },
  {
   "cell_type": "markdown",
   "id": "97f3ddb3-30d4-47e1-a75e-d48ae60916c8",
   "metadata": {},
   "source": [
    "Eseguiamo il metodo describe"
   ]
  },
  {
   "cell_type": "code",
   "execution_count": null,
   "id": "e9879ac3-68cf-447d-ba98-b91f4ce2022c",
   "metadata": {},
   "outputs": [],
   "source": [
    "diamonds.describe(include='all')"
   ]
  },
  {
   "cell_type": "code",
   "execution_count": null,
   "id": "4c415392-b0ec-462e-b34a-9bd088c28c6f",
   "metadata": {},
   "outputs": [],
   "source": [
    "diamonds[[\"x\"]].boxplot()"
   ]
  },
  {
   "cell_type": "code",
   "execution_count": null,
   "id": "8d7d7901-984b-4d3c-b30d-ff3b8127145c",
   "metadata": {},
   "outputs": [],
   "source": [
    "len(diamonds.query(\"x==0\"))"
   ]
  },
  {
   "cell_type": "markdown",
   "id": "b131b49e-59fa-46aa-a6c9-70ab6bf744fc",
   "metadata": {},
   "source": [
    "sostituiamo gli zero nelle colonne x, y e z con dei null"
   ]
  },
  {
   "cell_type": "code",
   "execution_count": null,
   "id": "b200142f-d1ea-4c82-9b4b-9df04ff585a8",
   "metadata": {},
   "outputs": [],
   "source": [
    "diamonds = diamonds.replace(to_replace={'x':{0:np.nan}, \n",
    "                                        'y':{0:np.nan},\n",
    "                                        'z':{0:np.nan}\n",
    "                             })"
   ]
  },
  {
   "cell_type": "markdown",
   "id": "717303ac-af98-4088-8958-ef0f741b0b5d",
   "metadata": {},
   "source": [
    "ora sono presenti dei null"
   ]
  },
  {
   "cell_type": "code",
   "execution_count": null,
   "id": "737be070-4f8d-40e9-8d6d-a34c2ad526cf",
   "metadata": {},
   "outputs": [],
   "source": [
    "diamonds.info()"
   ]
  },
  {
   "cell_type": "code",
   "execution_count": null,
   "id": "787e25f0-0734-4aa8-8057-9eb5781c8c92",
   "metadata": {},
   "outputs": [],
   "source": [
    "features_training,features_test, target_training, target_test  = train_test_split(diamonds.drop(\"price\",axis=1),\n",
    "                                                                                   diamonds[[\"price\"]],\n",
    "                                                                                   test_size = 0.3,\n",
    "                                                                                   shuffle = True,\n",
    "                                                                                   random_state = 1)"
   ]
  },
  {
   "cell_type": "markdown",
   "id": "c4760657-c03e-4c8d-9694-bcc86950b6ef",
   "metadata": {},
   "source": [
    "Creiamo una pipeline standard con i passi\n",
    "- simple imputer\n",
    "- standard scaler\n",
    "- regressione lineare"
   ]
  },
  {
   "cell_type": "code",
   "execution_count": null,
   "id": "837b84a7-96e1-446f-9873-1f5d412efa77",
   "metadata": {},
   "outputs": [],
   "source": [
    "basic_pipeline = Pipeline([('si', SimpleImputer()),\n",
    "                           ('st', StandardScaler()),\n",
    "                           ('rg', LinearRegression())\n",
    "                          ])"
   ]
  },
  {
   "cell_type": "markdown",
   "id": "2343f2ba-decf-4ae5-8b27-d34efc55e302",
   "metadata": {},
   "source": [
    "Alleniamo la pipeline"
   ]
  },
  {
   "cell_type": "code",
   "execution_count": null,
   "id": "b1635f60-9a46-49f0-9f7f-a552b46e34bd",
   "metadata": {},
   "outputs": [],
   "source": [
    "basic_pipeline.fit(features_training,target_training)"
   ]
  },
  {
   "cell_type": "markdown",
   "id": "fdb280e2-103a-4de6-a596-7a23d41c3c49",
   "metadata": {},
   "source": [
    "Vediamo le predizioni"
   ]
  },
  {
   "cell_type": "code",
   "execution_count": null,
   "id": "dbb9c917-aba4-41c9-aa86-67fadf5cdf59",
   "metadata": {},
   "outputs": [],
   "source": [
    "predizioni = basic_pipeline.predict(features_test)\n",
    "predizioni"
   ]
  },
  {
   "cell_type": "markdown",
   "id": "1ca740b7-928b-48ca-b4cf-b238ccdcd020",
   "metadata": {},
   "source": [
    "Analizziamo lo score"
   ]
  },
  {
   "cell_type": "code",
   "execution_count": null,
   "id": "9ced6b93-abe2-4262-b513-fdbcbc090070",
   "metadata": {},
   "outputs": [],
   "source": [
    "basic_pipeline.score(features_test,target_test)"
   ]
  },
  {
   "cell_type": "markdown",
   "id": "0261288d-0e76-4e83-91f8-423cc4d339d6",
   "metadata": {},
   "source": [
    "Ricomponiamo il Dataset completo"
   ]
  },
  {
   "cell_type": "code",
   "execution_count": null,
   "id": "a0a83951-49f3-4478-90a3-752b3972037b",
   "metadata": {},
   "outputs": [],
   "source": [
    "diamonds_completo = features_test.copy()\n",
    "diamonds_completo[\"prezzo_originale\"]=target_test[\"price\"]\n",
    "diamonds_completo[\"prezzo_predetto\"]=predizioni\n",
    "diamonds_completo.head(10)"
   ]
  },
  {
   "cell_type": "markdown",
   "id": "4cacb3fa-3963-4970-940e-02d96ddb5bba",
   "metadata": {},
   "source": [
    "## Clustering"
   ]
  },
  {
   "cell_type": "code",
   "execution_count": null,
   "id": "9586096b-016c-41bc-934f-998a690688ba",
   "metadata": {},
   "outputs": [],
   "source": [
    "from sklearn.cluster import KMeans"
   ]
  },
  {
   "cell_type": "code",
   "execution_count": null,
   "id": "5c6598e5-e638-494c-b671-95c0e17589ec",
   "metadata": {},
   "outputs": [],
   "source": [
    "titanic=sns.load_dataset(\"titanic\")"
   ]
  },
  {
   "cell_type": "markdown",
   "id": "7ba0a58a-10f6-4f8d-8258-41d9443b7d36",
   "metadata": {},
   "source": [
    "eliminiamo feature ridondanti e correlate"
   ]
  },
  {
   "cell_type": "code",
   "execution_count": null,
   "id": "c16ebae9-3edd-4a1f-912d-c9328d682984",
   "metadata": {},
   "outputs": [],
   "source": [
    "titanic = titanic.drop([\"alive\",\"pclass\",\"embarked\",\"deck\",\"adult_male\",\"sex\",\"alone\"],axis=1)"
   ]
  },
  {
   "cell_type": "code",
   "execution_count": null,
   "id": "9f9a3a3b-d2e0-4484-9801-9f5a82bce0cf",
   "metadata": {},
   "outputs": [],
   "source": [
    "titanic.head()"
   ]
  },
  {
   "cell_type": "markdown",
   "id": "1091bc58-1598-41c7-9971-ec2d31981faf",
   "metadata": {},
   "source": [
    "Decodifichiamo le variabili non quantitative"
   ]
  },
  {
   "cell_type": "code",
   "execution_count": null,
   "id": "01497b5c-1be3-4bcc-89a8-d3067d417c1a",
   "metadata": {},
   "outputs": [],
   "source": [
    "codifica_class = {\"First\":1, \"Second\":2, \"Third\":3}\n",
    "titanic[\"class\"] = titanic[\"class\"].map(codifica_class).astype(\"int64\")"
   ]
  },
  {
   "cell_type": "code",
   "execution_count": null,
   "id": "f11e7bf7-6a43-419a-ac1b-660f5619cefb",
   "metadata": {},
   "outputs": [],
   "source": [
    "titanic_2 = pd.get_dummies(data=titanic, dtype=int)\n",
    "titanic_2.head(5)"
   ]
  },
  {
   "cell_type": "markdown",
   "id": "4c55d8f8-4442-4b84-ba3a-5c64ca15c914",
   "metadata": {},
   "source": [
    "Valorizziamo i null"
   ]
  },
  {
   "cell_type": "code",
   "execution_count": null,
   "id": "e2c43cb1-ee30-435c-b612-18043afbea38",
   "metadata": {},
   "outputs": [],
   "source": [
    "imputer = SimpleImputer(strategy='mean')"
   ]
  },
  {
   "cell_type": "code",
   "execution_count": null,
   "id": "358778e7-2289-4b14-b9ce-382e80e139e1",
   "metadata": {},
   "outputs": [],
   "source": [
    "imputer.fit(titanic_2)"
   ]
  },
  {
   "cell_type": "code",
   "execution_count": null,
   "id": "cc5387bb-0216-401c-9564-5f28842245d2",
   "metadata": {},
   "outputs": [],
   "source": [
    "titanic_2_imputed = pd.DataFrame(\n",
    "    imputer.transform(titanic_2),\n",
    "    columns=titanic_2.columns,\n",
    "    index=titanic_2.index\n",
    ")"
   ]
  },
  {
   "cell_type": "markdown",
   "id": "44cee938-3bb6-473e-8d80-0a46ad1b9aeb",
   "metadata": {},
   "source": [
    "Istanziamo l'algoritmo Kmeans di Scikit-learn"
   ]
  },
  {
   "cell_type": "code",
   "execution_count": null,
   "id": "36df68ca-2a8c-4543-9262-f7d222be41dc",
   "metadata": {},
   "outputs": [],
   "source": [
    "km = KMeans (n_clusters = 2,\n",
    "             n_init = 5,\n",
    "             random_state = 0)"
   ]
  },
  {
   "cell_type": "markdown",
   "id": "710d7cac-c90e-4145-ad9a-1fec5d33234f",
   "metadata": {},
   "source": [
    "Eseguiamo il fit e predict su tutti i dati tranne survived"
   ]
  },
  {
   "cell_type": "code",
   "execution_count": null,
   "id": "09e8b792-4f22-4b06-be44-701eebe404cd",
   "metadata": {},
   "outputs": [],
   "source": [
    "cluster = km.fit_predict(titanic_2_imputed.drop(\"survived\",axis=1))\n",
    "cluster[:5]"
   ]
  },
  {
   "cell_type": "markdown",
   "id": "2cf48f28-1e5e-4159-a2f2-c50dab6f93fb",
   "metadata": {},
   "source": [
    "Creiamo la colonna \"cluster\""
   ]
  },
  {
   "cell_type": "code",
   "execution_count": null,
   "id": "4cee82d7-bd33-491e-9a3f-b8f34da61d2b",
   "metadata": {},
   "outputs": [],
   "source": [
    "titanic[\"cluster\"] = cluster"
   ]
  },
  {
   "cell_type": "code",
   "execution_count": null,
   "id": "747ad765-aaf4-4c75-bc85-49029a115417",
   "metadata": {},
   "outputs": [],
   "source": [
    "titanic.head(10)"
   ]
  },
  {
   "cell_type": "markdown",
   "id": "8d41fa16-ed0e-4170-97cf-1b00bd663281",
   "metadata": {},
   "source": [
    "In questo caso i due cluster non sembrano corrispondere con la suddivisione tra survived e non survived.\n",
    "\n",
    "Tuttavia la suddivisione in clustered ha senso compiuto anche se non applicata ad un problema di classificazione"
   ]
  },
  {
   "cell_type": "code",
   "execution_count": null,
   "id": "86ceefd9-db0a-4aa9-93f3-8925def27e29",
   "metadata": {},
   "outputs": [],
   "source": []
  }
 ],
 "metadata": {
  "kernelspec": {
   "display_name": "Python 3 (ipykernel)",
   "language": "python",
   "name": "python3"
  },
  "language_info": {
   "codemirror_mode": {
    "name": "ipython",
    "version": 3
   },
   "file_extension": ".py",
   "mimetype": "text/x-python",
   "name": "python",
   "nbconvert_exporter": "python",
   "pygments_lexer": "ipython3",
   "version": "3.13.3"
  }
 },
 "nbformat": 4,
 "nbformat_minor": 5
}
