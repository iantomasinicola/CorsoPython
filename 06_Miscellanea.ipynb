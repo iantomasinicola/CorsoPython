{
 "cells": [
  {
   "cell_type": "markdown",
   "id": "bcf37ea6-2490-4cd8-a80f-5b1517f2a1d0",
   "metadata": {},
   "source": [
    "## 1-Neighbours manuale"
   ]
  },
  {
   "cell_type": "code",
   "execution_count": null,
   "id": "5137f95d-b3ab-448f-8cbd-2526be41671d",
   "metadata": {},
   "outputs": [],
   "source": [
    "import pandas as pd"
   ]
  },
  {
   "cell_type": "code",
   "execution_count": null,
   "id": "118c594c-a41b-4170-8db1-eb6a4a0ca6d8",
   "metadata": {},
   "outputs": [],
   "source": [
    "iris = pd.read_csv(filepath_or_buffer = r\"C:\\Users\\ianto\\Desktop\\Corso Python\\Lezione 5\\iris.csv\",\n",
    "            sep = \",\",\n",
    "            header = 1)"
   ]
  },
  {
   "cell_type": "code",
   "execution_count": null,
   "id": "277ceef6-39f2-4a3f-bfbd-57ec91541afc",
   "metadata": {},
   "outputs": [],
   "source": [
    "nuovo_iris = [5.9,3.0,5.1,1.8]"
   ]
  },
  {
   "cell_type": "code",
   "execution_count": null,
   "id": "74b6d328-5e83-416e-9d6a-6d7b1801ce6b",
   "metadata": {},
   "outputs": [],
   "source": [
    "iris.head(5)"
   ]
  },
  {
   "cell_type": "code",
   "execution_count": null,
   "id": "e4c22111-2347-4ccd-9410-2116d351c097",
   "metadata": {},
   "outputs": [],
   "source": [
    "iris[\"distanza\"] = ((iris[\"sepal_length\"]-nuovo_iris[0])**2 +\n",
    "(iris[\"sepal_width\"]-nuovo_iris[1])**2 + \n",
    "(iris[\"petal_length\"]-nuovo_iris[2])**2 +\n",
    "(iris[\"petal_width\"]-nuovo_iris[3])**2)**0.5"
   ]
  },
  {
   "cell_type": "code",
   "execution_count": null,
   "id": "a32d8fa3-dceb-45ac-bba8-2521b2842a03",
   "metadata": {},
   "outputs": [],
   "source": [
    "iris.head(5)"
   ]
  },
  {
   "cell_type": "code",
   "execution_count": null,
   "id": "4ca380b3-2b85-48a2-b62d-585ea8617d18",
   "metadata": {},
   "outputs": [],
   "source": [
    "x = iris.sort_values(by = \"distanza\", ascending=True).head(1)"
   ]
  },
  {
   "cell_type": "code",
   "execution_count": null,
   "id": "676b61e5-926f-4d9d-bd0d-d5c0810fffd2",
   "metadata": {},
   "outputs": [],
   "source": [
    "print(x)"
   ]
  },
  {
   "cell_type": "code",
   "execution_count": null,
   "id": "cf0a2923-8394-4961-ae58-a823191ed536",
   "metadata": {},
   "outputs": [],
   "source": [
    "#oppure\n",
    "minima_distanza = iris[\"distanza\"].min()\n",
    "x = iris.query(\"distanza == @minima_distanza\")\n",
    "print(x)"
   ]
  },
  {
   "cell_type": "markdown",
   "id": "59fa1704-1c09-490c-aa96-685972d76ed3",
   "metadata": {},
   "source": [
    "## Usiamo una nostra libreria"
   ]
  },
  {
   "cell_type": "code",
   "execution_count": null,
   "id": "f31c2810-94eb-4aef-a536-17de9612f68d",
   "metadata": {},
   "outputs": [],
   "source": [
    "import libreria_prevedi_iris as lp"
   ]
  },
  {
   "cell_type": "code",
   "execution_count": null,
   "id": "818ae72c-d6ae-483d-9e95-8e6685a41789",
   "metadata": {},
   "outputs": [],
   "source": [
    "nuovo_iris = [5.9,3.0,5.1,1.8]"
   ]
  },
  {
   "cell_type": "code",
   "execution_count": null,
   "id": "24560150-6749-486b-8ab3-dfa646053486",
   "metadata": {},
   "outputs": [],
   "source": [
    "lp.prevedi_iris(nuovo_iris)"
   ]
  },
  {
   "cell_type": "markdown",
   "id": "fa21298c-cf0d-4fb9-9b4c-0715f3e8babc",
   "metadata": {},
   "source": [
    "## Usiamo scikit-learn"
   ]
  },
  {
   "cell_type": "code",
   "execution_count": null,
   "id": "d48dfa1f-7b77-417d-933a-f93a0f8a491f",
   "metadata": {},
   "outputs": [],
   "source": [
    "from sklearn.neighbors import KNeighborsClassifier\n",
    "from sklearn.metrics import confusion_matrix\n",
    "from sklearn.metrics import ConfusionMatrixDisplay"
   ]
  },
  {
   "cell_type": "code",
   "execution_count": null,
   "id": "af2b41db-7d88-4888-8cbe-af1e29f65b4b",
   "metadata": {},
   "outputs": [],
   "source": [
    "knc = KNeighborsClassifier(n_neighbors=1)"
   ]
  },
  {
   "cell_type": "code",
   "execution_count": null,
   "id": "64186fd3-27f8-40e1-bc34-99990323ef83",
   "metadata": {},
   "outputs": [],
   "source": [
    "#per eliminare il warning usare target_training.values.ravel()\n",
    "knc.fit(X = iris[[\"sepal_length\",\"sepal_width\",\"petal_length\",\"petal_width\"]],\n",
    "        y = iris[[\"species\"]])"
   ]
  },
  {
   "cell_type": "code",
   "execution_count": null,
   "id": "1cd3ceba-341d-4c26-91ff-01553eec39de",
   "metadata": {},
   "outputs": [],
   "source": [
    "nuovo_iris = pd.DataFrame(data = [nuovo_iris],\n",
    "                          columns = [\"sepal_length\",\"sepal_width\",\"petal_length\",\"petal_width\"] )"
   ]
  },
  {
   "cell_type": "code",
   "execution_count": null,
   "id": "48be1bf5-a207-445f-a1ab-bfde230d3b6e",
   "metadata": {},
   "outputs": [],
   "source": [
    "nuovo_iris"
   ]
  },
  {
   "cell_type": "code",
   "execution_count": null,
   "id": "ec0a2176-dc81-4d15-a701-2fc848e68ee3",
   "metadata": {},
   "outputs": [],
   "source": [
    "knc.predict(X = pd.DataFrame(nuovo_iris))"
   ]
  },
  {
   "cell_type": "code",
   "execution_count": null,
   "id": "a3ef6d7e-3cbf-4ade-b961-431836cfe754",
   "metadata": {},
   "outputs": [],
   "source": [
    "knc.kneighbors(nuovo_iris)"
   ]
  },
  {
   "cell_type": "markdown",
   "id": "20723ae4-53ee-4ad5-9a2f-89f3be60b678",
   "metadata": {},
   "source": [
    "## LLM con Open AI"
   ]
  },
  {
   "cell_type": "code",
   "execution_count": null,
   "id": "3032ca89-22c3-4253-bd08-bda445a77bc4",
   "metadata": {},
   "outputs": [],
   "source": [
    "import pandas as pd\n",
    "from openai import OpenAI\n",
    "import os\n",
    "import getpass"
   ]
  },
  {
   "cell_type": "code",
   "execution_count": null,
   "id": "d2f11f78-8dbe-4aba-b774-5fb383b6f097",
   "metadata": {},
   "outputs": [],
   "source": [
    "secret_key = getpass.getpass(prompt='Inserisci la chiave: ')"
   ]
  },
  {
   "cell_type": "code",
   "execution_count": null,
   "id": "987fda22-4f71-4701-83c5-3f2a8e63ae2a",
   "metadata": {},
   "outputs": [],
   "source": [
    "os.environ['OPENAI_API_KEY']=secret_key"
   ]
  },
  {
   "cell_type": "markdown",
   "id": "3f78eae9-ebf0-44f5-8565-40f7fccbac2e",
   "metadata": {},
   "source": [
    "Inizializziamo le api"
   ]
  },
  {
   "cell_type": "code",
   "execution_count": null,
   "id": "fa558774-ec69-403b-905b-dd803aeafa59",
   "metadata": {},
   "outputs": [],
   "source": [
    "client = OpenAI()"
   ]
  },
  {
   "cell_type": "markdown",
   "id": "a4e66582-251e-4109-ae12-eb59220f82eb",
   "metadata": {},
   "source": [
    "Proviamo a fare una chiamata"
   ]
  },
  {
   "cell_type": "code",
   "execution_count": null,
   "id": "df457ba7-78fb-40e7-8b5c-be2c4d6c89e0",
   "metadata": {},
   "outputs": [],
   "source": [
    "completition = client.chat.completions.create(\n",
    "  model=\"gpt-4o\",\n",
    "  messages=[\n",
    "    {\"role\": \"system\", \"content\": \"Sei un'assistente AI\"},\n",
    "    {\"role\": \"user\", \"content\": \"Come puoi aiutarmi con pandas?\"}\n",
    "  ]\n",
    ")"
   ]
  },
  {
   "cell_type": "code",
   "execution_count": null,
   "id": "ae22d91f-88e9-4f42-8223-cabc02765074",
   "metadata": {},
   "outputs": [],
   "source": [
    "print(completition.choices[0].message.content)"
   ]
  },
  {
   "cell_type": "markdown",
   "id": "a06ba518-abdc-41ac-bdc3-6d079b44c022",
   "metadata": {},
   "source": [
    "## Applicazione pratica con LLM"
   ]
  },
  {
   "cell_type": "markdown",
   "id": "1ff0c77c-d60c-4da9-9810-350f04e03438",
   "metadata": {},
   "source": [
    "Acquisiamo il dataframe fatture"
   ]
  },
  {
   "cell_type": "code",
   "execution_count": null,
   "id": "bed223ab-8674-44a6-b57c-a1138727f810",
   "metadata": {},
   "outputs": [],
   "source": [
    "fatture = pd.read_csv(filepath_or_buffer = r\"C:\\Users\\ianto\\Desktop\\Corso python\\file\\Fatture.csv\",\n",
    "        sep = \";\",  #separtore del file\n",
    "        header = None,\n",
    "        names = [\"NumeroFattura\",\"Tipologia\",\"Importo\",\"Iva\",\"IdCliente\",\"Regione\",\"DataFattura\",\"NumeroFornitore\"],\n",
    "        decimal = \",\",\n",
    "        )\n",
    "\n",
    "fatture['DataFattura'] =  pd.to_datetime(fatture['DataFattura'],\n",
    "                                         format=\"%d/%m/%Y\"\n",
    "                                        )  \n",
    "\n",
    "fatture['NumeroFornitore'] = fatture['NumeroFornitore'].astype('Int64')"
   ]
  },
  {
   "cell_type": "markdown",
   "id": "cffeedb2-9cb4-40a4-8705-2667b45a148c",
   "metadata": {},
   "source": [
    "Proviamo a chiedere all'LLM di generare un codice pandas"
   ]
  },
  {
   "cell_type": "code",
   "execution_count": null,
   "id": "448b44a3-4d31-4209-9cbf-dc9d75086daf",
   "metadata": {},
   "outputs": [],
   "source": [
    "risposta = client.chat.completions.create(\n",
    "  model=\"gpt-4o\",\n",
    "  messages=[\n",
    "            {\"role\": \"system\",\n",
    "             \"content\": \"Supporti l'utente scrivendo solo codice Python eseguibile con la libreria pandas per rispondere alla sua richiesta\" },\n",
    "            {\"role\": \"user\",\n",
    "             \"content\": f\"\"\"\n",
    "            Stai lavorando con un dataframe Pandas in Python.\n",
    "            Il nome del dataframe è df.\n",
    "            \n",
    "            Questo è l'elenco delle colonne di df:\n",
    "            {str(fatture.columns.values)}\n",
    "\n",
    "            Considera questa richiesta: qual è la fattura più recente?\n",
    "            \n",
    "            Segui queste istruzioni:\n",
    "            1. Converti la richiesta precedente in codice Python eseguibile usando Pandas.\n",
    "            2. L'ultima riga di codice dovrebbe essere un'espressione Python che può essere chiamata con la funzione `eval()`.\n",
    "            3. Il codice dovrebbe rappresentare una soluzione alla query.\n",
    "            4. Restituisci come risposta soltanto il codice Python, non aggiungere altre considerazioni o preamboli\n",
    "            5. La risposta non deve iniziare con ```python\n",
    "            6. Non creare dataframe d'esempio\n",
    "            7. Non fare nessun commento\n",
    "            8. Rispondi esclusivamente con codice Python\n",
    "            9. Non usare eval nella risposta\n",
    "            10. Non creare esempi di dati, usa direttamente nella risposta il nome del dataframe è df \n",
    "             \"\"\"}],\n",
    "            temperature=0.2)"
   ]
  },
  {
   "cell_type": "code",
   "execution_count": null,
   "id": "18aabc4a-b4e2-42d1-9260-e6bb5a6fb07a",
   "metadata": {},
   "outputs": [],
   "source": [
    "print(risposta.choices[0].message.content)"
   ]
  },
  {
   "cell_type": "markdown",
   "id": "372d6195-e4db-43c9-a231-a1fda5be33c3",
   "metadata": {},
   "source": [
    "Creiamo una funzione che richiede in input un dataframe e un'interrogazione in linguaggio naturale"
   ]
  },
  {
   "cell_type": "code",
   "execution_count": null,
   "id": "6b35f435-1705-4693-9e51-f2f739d360eb",
   "metadata": {},
   "outputs": [],
   "source": [
    "def generete_pandas_code(df, query):\n",
    "    user_content = f\"\"\"\n",
    "            Stai lavorando con un dataframe Pandas in Python.\n",
    "            Il nome del dataframe è df.\n",
    "            \n",
    "            Questo è l'elenco delle colonne di df:\n",
    "            {str(df.columns.values)}\n",
    "\n",
    "            Considera questa richiesta: {query}?\n",
    "            \n",
    "            Segui queste istruzioni:\n",
    "            1. Converti la richiesta precedente in codice Python eseguibile usando Pandas.\n",
    "            2. L'ultima riga di codice dovrebbe essere un'espressione Python che può essere chiamata con la funzione `eval()`.\n",
    "            3. Il codice dovrebbe rappresentare una soluzione alla query.\n",
    "            4. Restituisci come risposta soltanto il codice Python, non aggiungere altre considerazioni o preamboli\n",
    "            5. La risposta non deve iniziare con ```python\n",
    "            6. Non creare dataframe d'esempio\n",
    "            7. Non fare nessun commento\n",
    "            8. Rispondi esclusivamente con codice Python\n",
    "            9. Non usare eval nella risposta\n",
    "            10. Non creare esempi di dati, usa direttamente nella risposta il nome del dataframe è df \n",
    "            \"\"\"\n",
    "    domanda = client.chat.completions.create(\n",
    "          model=\"gpt-4o\",\n",
    "          messages=[\n",
    "                    {\"role\": \"system\",\n",
    "                    \"content\": \"Supporti l'utente scrivendo solo codice Python eseguibile con la libreria pandas per rispondere alla sua richiesta\" },\n",
    "                    {\"role\": \"user\",\n",
    "                     \"content\":user_content }\n",
    "                   ])\n",
    "\n",
    "    risposta = domanda.choices[0].message.content\n",
    "    return risposta"
   ]
  },
  {
   "cell_type": "code",
   "execution_count": null,
   "id": "9be3ad47-0d28-4f9d-b321-bb44f9401388",
   "metadata": {},
   "outputs": [],
   "source": [
    "df_input = fatture"
   ]
  },
  {
   "cell_type": "code",
   "execution_count": null,
   "id": "f5e19b76-add3-41d5-a3d6-7e376732b5cc",
   "metadata": {},
   "outputs": [],
   "source": [
    "query_input = input(\"Chiedi la generazione di un codice Pandas. Scrivi x per uscire\")\n",
    "\n",
    "while query_input!=\"x\":\n",
    "    risposta = generete_pandas_code(df=df_input, query=query_input)\n",
    "    print(risposta)\n",
    "    query_input = input(\"Chiedi la generazione di un codice Pandas. O scrivi x per uscire\")"
   ]
  },
  {
   "cell_type": "markdown",
   "id": "81cdce14-4b9e-4a6f-be8f-9178c1ae9bd5",
   "metadata": {},
   "source": [
    "# LLM in locale"
   ]
  },
  {
   "cell_type": "code",
   "execution_count": null,
   "id": "e1a31f1b-f1ce-4820-97a9-d4b8bdc73119",
   "metadata": {},
   "outputs": [],
   "source": [
    "import ollama"
   ]
  },
  {
   "cell_type": "markdown",
   "id": "fdbb0d7d-7a86-4861-b7ee-9b8ec300a1e5",
   "metadata": {},
   "source": [
    "Elenco modelli installati in locale"
   ]
  },
  {
   "cell_type": "code",
   "execution_count": null,
   "id": "1e72b2a1-c78e-4ea8-8008-09880123b093",
   "metadata": {},
   "outputs": [],
   "source": [
    "ollama.list()"
   ]
  },
  {
   "cell_type": "markdown",
   "id": "051f38d5-b0f9-4d4e-ab14-61e6d1cf7582",
   "metadata": {},
   "source": [
    "Chiamata in locale, può essere molto lenta"
   ]
  },
  {
   "cell_type": "code",
   "execution_count": null,
   "id": "47c7d9bf-f5d1-4704-9f4e-5c7114eab89f",
   "metadata": {},
   "outputs": [],
   "source": [
    "response =  ollama.chat(model=\"gemma3:1b\",\n",
    "                         messages=[\n",
    "                                    {\"role\": \"system\", \"content\": \"Sei un'assistente AI\"},\n",
    "                                    {\"role\": \"user\", \"content\": \"Qual è la capitale dell'italia\"}\n",
    "                                  ]\n",
    "                       )"
   ]
  },
  {
   "cell_type": "code",
   "execution_count": null,
   "id": "8207e6d5-59b1-4950-ad0a-5822e0ae5418",
   "metadata": {},
   "outputs": [],
   "source": [
    "print(response[\"message\"][\"content\"])"
   ]
  },
  {
   "cell_type": "markdown",
   "id": "3fd55efc-6371-46f9-b071-d156d2ad6a10",
   "metadata": {},
   "source": [
    "# Python e Database"
   ]
  },
  {
   "cell_type": "code",
   "execution_count": null,
   "id": "ba79f023-b52d-42e9-a473-19724de2487c",
   "metadata": {},
   "outputs": [],
   "source": [
    "import getpass\n",
    "import pandas as pd\n",
    "from sqlalchemy import create_engine"
   ]
  },
  {
   "cell_type": "code",
   "execution_count": null,
   "id": "ae340742-bc60-4ad2-be96-e86100ddfa55",
   "metadata": {},
   "outputs": [],
   "source": [
    "import json\n",
    "with open(r\"C:\\Users\\ianto\\Desktop\\Corso Python\\config.json\", 'r') as config_file:\n",
    "    config_data = json.load(config_file)\n",
    "\n",
    "server_name = config_data['server_name']\n",
    "database_name = config_data['database_name']\n",
    "utente = config_data['utente']\n",
    "password = config_data['password']\n",
    "\n",
    "#utente = getpass.getpass(prompt='Inserisci nome utente: ')\n",
    "#password = getpass.getpass(prompt='Inserisci la password: ')"
   ]
  },
  {
   "cell_type": "code",
   "execution_count": null,
   "id": "ad2dd2ea-acdd-481e-9f8c-d4840fae7ed9",
   "metadata": {},
   "outputs": [],
   "source": [
    "conn_str = f'mssql+pyodbc://{utente}:{password}@{server_name}/{database_name}?driver=ODBC+Driver+17+for+SQL+Server&encrypt=yes'"
   ]
  },
  {
   "cell_type": "code",
   "execution_count": null,
   "id": "81c29260-dad0-437b-abe7-3ba9529fc6a7",
   "metadata": {},
   "outputs": [],
   "source": [
    "engine = create_engine(conn_str)"
   ]
  },
  {
   "cell_type": "code",
   "execution_count": null,
   "id": "00d08e37-95a9-408b-b440-bf112a32e0b7",
   "metadata": {},
   "outputs": [],
   "source": [
    "df = pd.read_sql( sql = \"SELECT TOP 10 * FROM Clienti WHERE Regione = 'Lombardia'\", \n",
    "             con = engine,\n",
    "             parse_dates = \"DataNascita\")\n",
    "df"
   ]
  },
  {
   "cell_type": "markdown",
   "id": "469e8ce3-7a51-4a71-9029-729bb18c4872",
   "metadata": {},
   "source": [
    "Scriviamo ora da Python al Database!"
   ]
  },
  {
   "cell_type": "code",
   "execution_count": null,
   "id": "af1eea0d-f26c-407d-93bf-69b053c791d1",
   "metadata": {},
   "outputs": [],
   "source": [
    "df.to_sql(name = \"ClientiPython\", \n",
    "          con = engine, \n",
    "          if_exists=\"append\",\n",
    "          index=False)"
   ]
  },
  {
   "cell_type": "markdown",
   "id": "462e6221-6576-486b-bdbd-546b0e57577e",
   "metadata": {},
   "source": [
    "Chiudiamo la connessione"
   ]
  },
  {
   "cell_type": "code",
   "execution_count": null,
   "id": "26419aba-5005-4322-afab-c2eb8f3ac88c",
   "metadata": {},
   "outputs": [],
   "source": [
    "engine.dispose()"
   ]
  },
  {
   "cell_type": "markdown",
   "id": "ff9d5fa1-79f3-4ebf-a93a-d5cddcfac8cf",
   "metadata": {},
   "source": [
    "Attenzione, per stabilire una connessione crittografata occorre un certificato sul DB. Spesso le stringhe di connessione non hanno questa opzione abilitata di default"
   ]
  },
  {
   "cell_type": "code",
   "execution_count": null,
   "id": "2597a1f0-d9d9-4afc-8064-92d6a7116c0e",
   "metadata": {},
   "outputs": [],
   "source": [
    "import json\n",
    "with open(r\"C:\\Users\\ianto\\Desktop\\Corso Python\\config_2.json\", 'r') as config_file:\n",
    "    config_data = json.load(config_file)\n",
    "\n",
    "server_name = config_data['server_name']\n",
    "database_name = config_data['database_name']\n",
    "utente = config_data['utente']\n",
    "password = config_data['password']\n",
    "\n",
    "#utente = getpass.getpass(prompt='Inserisci nome utente: ')\n",
    "#password = getpass.getpass(prompt='Inserisci la password: ')"
   ]
  },
  {
   "cell_type": "code",
   "execution_count": null,
   "id": "cd5bb807-1b8c-4a82-a257-000a090cd7b3",
   "metadata": {},
   "outputs": [],
   "source": [
    "conn_str = f'mssql+pyodbc://{utente}:{password}@{server_name}/{database_name}?driver=ODBC+Driver+17+for+SQL+Server&encrypt=yes'"
   ]
  },
  {
   "cell_type": "code",
   "execution_count": null,
   "id": "6c99ba8a-8888-462b-a8a4-3f42cb0333d3",
   "metadata": {},
   "outputs": [],
   "source": [
    "engine = create_engine(conn_str)"
   ]
  },
  {
   "cell_type": "markdown",
   "id": "9f1666aa-d01f-4959-a7b5-c234b5fce0ae",
   "metadata": {},
   "source": [
    "La prossima istruzione restituisce l'errore\n",
    "\n",
    "\n",
    "Restituisce errore\n",
    "OperationalError: (pyodbc.OperationalError) ('08001', \"[08001] [Microsoft][ODBC Driver 17 for SQL Server]Provider SSL: Catena di certificati emessa da una Autorità di certificazione non disponibile nell'elenco locale.\\r\\n (-2146893019) (SQLDriverConnect); [08001] [Microsoft][ODBC Driver 17 for SQL Server]Il client non è in grado di effettuare la connessione. (-2146893019)\")\n",
    "(Background on this error at: https://sqlalche.me/e/20/e3q8)"
   ]
  },
  {
   "cell_type": "code",
   "execution_count": null,
   "id": "dfd177b2-f9e1-4b4a-933d-fb71fae84175",
   "metadata": {},
   "outputs": [],
   "source": [
    "df = pd.read_sql( sql = \"SELECT TOP 10 * FROM Clienti WHERE Regione = 'Lombardia'\", \n",
    "             con = engine,\n",
    "             parse_dates = \"DataNascita\")\n",
    "df"
   ]
  },
  {
   "cell_type": "code",
   "execution_count": null,
   "id": "59ccfbd6-8715-48f3-abe3-15b8fc269932",
   "metadata": {},
   "outputs": [],
   "source": [
    "engine.dispose()"
   ]
  },
  {
   "cell_type": "code",
   "execution_count": null,
   "id": "b8761d86-eaf1-4a00-b7ad-ef2fc3963318",
   "metadata": {},
   "outputs": [],
   "source": []
  }
 ],
 "metadata": {
  "kernelspec": {
   "display_name": "Python 3 (ipykernel)",
   "language": "python",
   "name": "python3"
  },
  "language_info": {
   "codemirror_mode": {
    "name": "ipython",
    "version": 3
   },
   "file_extension": ".py",
   "mimetype": "text/x-python",
   "name": "python",
   "nbconvert_exporter": "python",
   "pygments_lexer": "ipython3",
   "version": "3.13.3"
  }
 },
 "nbformat": 4,
 "nbformat_minor": 5
}
