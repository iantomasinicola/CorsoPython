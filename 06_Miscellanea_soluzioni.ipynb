{
 "cells": [
  {
   "cell_type": "markdown",
   "id": "bcf37ea6-2490-4cd8-a80f-5b1517f2a1d0",
   "metadata": {},
   "source": [
    "## 1-Neighbours manuale"
   ]
  },
  {
   "cell_type": "code",
   "execution_count": 1,
   "id": "5137f95d-b3ab-448f-8cbd-2526be41671d",
   "metadata": {},
   "outputs": [],
   "source": [
    "import pandas as pd"
   ]
  },
  {
   "cell_type": "code",
   "execution_count": 2,
   "id": "118c594c-a41b-4170-8db1-eb6a4a0ca6d8",
   "metadata": {},
   "outputs": [],
   "source": [
    "iris = pd.read_csv(filepath_or_buffer = r\"C:\\Users\\ianto\\Desktop\\Corso Python\\Lezione 5\\iris.csv\",\n",
    "            sep = \",\",\n",
    "            header = 1)"
   ]
  },
  {
   "cell_type": "code",
   "execution_count": 3,
   "id": "277ceef6-39f2-4a3f-bfbd-57ec91541afc",
   "metadata": {},
   "outputs": [],
   "source": [
    "nuovo_iris = [5.9,3.0,5.1,1.8]"
   ]
  },
  {
   "cell_type": "code",
   "execution_count": 4,
   "id": "74b6d328-5e83-416e-9d6a-6d7b1801ce6b",
   "metadata": {},
   "outputs": [
    {
     "data": {
      "text/html": [
       "<div>\n",
       "<style scoped>\n",
       "    .dataframe tbody tr th:only-of-type {\n",
       "        vertical-align: middle;\n",
       "    }\n",
       "\n",
       "    .dataframe tbody tr th {\n",
       "        vertical-align: top;\n",
       "    }\n",
       "\n",
       "    .dataframe thead th {\n",
       "        text-align: right;\n",
       "    }\n",
       "</style>\n",
       "<table border=\"1\" class=\"dataframe\">\n",
       "  <thead>\n",
       "    <tr style=\"text-align: right;\">\n",
       "      <th></th>\n",
       "      <th>sepal_length</th>\n",
       "      <th>sepal_width</th>\n",
       "      <th>petal_length</th>\n",
       "      <th>petal_width</th>\n",
       "      <th>species</th>\n",
       "    </tr>\n",
       "  </thead>\n",
       "  <tbody>\n",
       "    <tr>\n",
       "      <th>0</th>\n",
       "      <td>5.1</td>\n",
       "      <td>3.5</td>\n",
       "      <td>1.4</td>\n",
       "      <td>0.2</td>\n",
       "      <td>setosa</td>\n",
       "    </tr>\n",
       "    <tr>\n",
       "      <th>1</th>\n",
       "      <td>4.9</td>\n",
       "      <td>3.0</td>\n",
       "      <td>1.4</td>\n",
       "      <td>0.2</td>\n",
       "      <td>setosa</td>\n",
       "    </tr>\n",
       "    <tr>\n",
       "      <th>2</th>\n",
       "      <td>4.7</td>\n",
       "      <td>3.2</td>\n",
       "      <td>1.3</td>\n",
       "      <td>0.2</td>\n",
       "      <td>setosa</td>\n",
       "    </tr>\n",
       "    <tr>\n",
       "      <th>3</th>\n",
       "      <td>4.6</td>\n",
       "      <td>3.1</td>\n",
       "      <td>1.5</td>\n",
       "      <td>0.2</td>\n",
       "      <td>setosa</td>\n",
       "    </tr>\n",
       "    <tr>\n",
       "      <th>4</th>\n",
       "      <td>5.0</td>\n",
       "      <td>3.6</td>\n",
       "      <td>1.4</td>\n",
       "      <td>0.2</td>\n",
       "      <td>setosa</td>\n",
       "    </tr>\n",
       "  </tbody>\n",
       "</table>\n",
       "</div>"
      ],
      "text/plain": [
       "   sepal_length  sepal_width  petal_length  petal_width species\n",
       "0           5.1          3.5           1.4          0.2  setosa\n",
       "1           4.9          3.0           1.4          0.2  setosa\n",
       "2           4.7          3.2           1.3          0.2  setosa\n",
       "3           4.6          3.1           1.5          0.2  setosa\n",
       "4           5.0          3.6           1.4          0.2  setosa"
      ]
     },
     "execution_count": 4,
     "metadata": {},
     "output_type": "execute_result"
    }
   ],
   "source": [
    "iris.head(5)"
   ]
  },
  {
   "cell_type": "code",
   "execution_count": 5,
   "id": "e4c22111-2347-4ccd-9410-2116d351c097",
   "metadata": {},
   "outputs": [],
   "source": [
    "iris[\"distanza\"] = ((iris[\"sepal_length\"]-nuovo_iris[0])**2 +\n",
    "(iris[\"sepal_width\"]-nuovo_iris[1])**2 + \n",
    "(iris[\"petal_length\"]-nuovo_iris[2])**2 +\n",
    "(iris[\"petal_width\"]-nuovo_iris[3])**2)**0.5"
   ]
  },
  {
   "cell_type": "code",
   "execution_count": 6,
   "id": "a32d8fa3-dceb-45ac-bba8-2521b2842a03",
   "metadata": {},
   "outputs": [
    {
     "data": {
      "text/html": [
       "<div>\n",
       "<style scoped>\n",
       "    .dataframe tbody tr th:only-of-type {\n",
       "        vertical-align: middle;\n",
       "    }\n",
       "\n",
       "    .dataframe tbody tr th {\n",
       "        vertical-align: top;\n",
       "    }\n",
       "\n",
       "    .dataframe thead th {\n",
       "        text-align: right;\n",
       "    }\n",
       "</style>\n",
       "<table border=\"1\" class=\"dataframe\">\n",
       "  <thead>\n",
       "    <tr style=\"text-align: right;\">\n",
       "      <th></th>\n",
       "      <th>sepal_length</th>\n",
       "      <th>sepal_width</th>\n",
       "      <th>petal_length</th>\n",
       "      <th>petal_width</th>\n",
       "      <th>species</th>\n",
       "      <th>distanza</th>\n",
       "    </tr>\n",
       "  </thead>\n",
       "  <tbody>\n",
       "    <tr>\n",
       "      <th>0</th>\n",
       "      <td>5.1</td>\n",
       "      <td>3.5</td>\n",
       "      <td>1.4</td>\n",
       "      <td>0.2</td>\n",
       "      <td>setosa</td>\n",
       "      <td>4.140048</td>\n",
       "    </tr>\n",
       "    <tr>\n",
       "      <th>1</th>\n",
       "      <td>4.9</td>\n",
       "      <td>3.0</td>\n",
       "      <td>1.4</td>\n",
       "      <td>0.2</td>\n",
       "      <td>setosa</td>\n",
       "      <td>4.153312</td>\n",
       "    </tr>\n",
       "    <tr>\n",
       "      <th>2</th>\n",
       "      <td>4.7</td>\n",
       "      <td>3.2</td>\n",
       "      <td>1.3</td>\n",
       "      <td>0.2</td>\n",
       "      <td>setosa</td>\n",
       "      <td>4.298837</td>\n",
       "    </tr>\n",
       "    <tr>\n",
       "      <th>3</th>\n",
       "      <td>4.6</td>\n",
       "      <td>3.1</td>\n",
       "      <td>1.5</td>\n",
       "      <td>0.2</td>\n",
       "      <td>setosa</td>\n",
       "      <td>4.149699</td>\n",
       "    </tr>\n",
       "    <tr>\n",
       "      <th>4</th>\n",
       "      <td>5.0</td>\n",
       "      <td>3.6</td>\n",
       "      <td>1.4</td>\n",
       "      <td>0.2</td>\n",
       "      <td>setosa</td>\n",
       "      <td>4.173727</td>\n",
       "    </tr>\n",
       "  </tbody>\n",
       "</table>\n",
       "</div>"
      ],
      "text/plain": [
       "   sepal_length  sepal_width  petal_length  petal_width species  distanza\n",
       "0           5.1          3.5           1.4          0.2  setosa  4.140048\n",
       "1           4.9          3.0           1.4          0.2  setosa  4.153312\n",
       "2           4.7          3.2           1.3          0.2  setosa  4.298837\n",
       "3           4.6          3.1           1.5          0.2  setosa  4.149699\n",
       "4           5.0          3.6           1.4          0.2  setosa  4.173727"
      ]
     },
     "execution_count": 6,
     "metadata": {},
     "output_type": "execute_result"
    }
   ],
   "source": [
    "iris.head(5)"
   ]
  },
  {
   "cell_type": "code",
   "execution_count": 7,
   "id": "4ca380b3-2b85-48a2-b62d-585ea8617d18",
   "metadata": {},
   "outputs": [],
   "source": [
    "x = iris.sort_values(by = \"distanza\", ascending=True).head(1)"
   ]
  },
  {
   "cell_type": "code",
   "execution_count": 8,
   "id": "676b61e5-926f-4d9d-bd0d-d5c0810fffd2",
   "metadata": {},
   "outputs": [
    {
     "name": "stdout",
     "output_type": "stream",
     "text": [
      "     sepal_length  sepal_width  petal_length  petal_width    species  distanza\n",
      "127           6.1          3.0           4.9          1.8  virginica  0.282843\n"
     ]
    }
   ],
   "source": [
    "print(x)"
   ]
  },
  {
   "cell_type": "code",
   "execution_count": 9,
   "id": "cf0a2923-8394-4961-ae58-a823191ed536",
   "metadata": {},
   "outputs": [
    {
     "name": "stdout",
     "output_type": "stream",
     "text": [
      "     sepal_length  sepal_width  petal_length  petal_width    species  distanza\n",
      "127           6.1          3.0           4.9          1.8  virginica  0.282843\n"
     ]
    }
   ],
   "source": [
    "#oppure\n",
    "minima_distanza = iris[\"distanza\"].min()\n",
    "x = iris.query(\"distanza == @minima_distanza\")\n",
    "print(x)"
   ]
  },
  {
   "cell_type": "markdown",
   "id": "59fa1704-1c09-490c-aa96-685972d76ed3",
   "metadata": {},
   "source": [
    "## Usiamo una nostra libreria"
   ]
  },
  {
   "cell_type": "code",
   "execution_count": 10,
   "id": "f31c2810-94eb-4aef-a536-17de9612f68d",
   "metadata": {},
   "outputs": [],
   "source": [
    "import libreria_prevedi_iris as lp"
   ]
  },
  {
   "cell_type": "code",
   "execution_count": 11,
   "id": "818ae72c-d6ae-483d-9e95-8e6685a41789",
   "metadata": {},
   "outputs": [],
   "source": [
    "nuovo_iris = [5.9,3.0,5.1,1.8]"
   ]
  },
  {
   "cell_type": "code",
   "execution_count": 12,
   "id": "24560150-6749-486b-8ab3-dfa646053486",
   "metadata": {},
   "outputs": [
    {
     "data": {
      "text/html": [
       "<div>\n",
       "<style scoped>\n",
       "    .dataframe tbody tr th:only-of-type {\n",
       "        vertical-align: middle;\n",
       "    }\n",
       "\n",
       "    .dataframe tbody tr th {\n",
       "        vertical-align: top;\n",
       "    }\n",
       "\n",
       "    .dataframe thead th {\n",
       "        text-align: right;\n",
       "    }\n",
       "</style>\n",
       "<table border=\"1\" class=\"dataframe\">\n",
       "  <thead>\n",
       "    <tr style=\"text-align: right;\">\n",
       "      <th></th>\n",
       "      <th>sepal_length</th>\n",
       "      <th>sepal_width</th>\n",
       "      <th>petal_length</th>\n",
       "      <th>petal_width</th>\n",
       "      <th>species</th>\n",
       "      <th>distanza</th>\n",
       "    </tr>\n",
       "  </thead>\n",
       "  <tbody>\n",
       "    <tr>\n",
       "      <th>127</th>\n",
       "      <td>6.1</td>\n",
       "      <td>3.0</td>\n",
       "      <td>4.9</td>\n",
       "      <td>1.8</td>\n",
       "      <td>virginica</td>\n",
       "      <td>0.282843</td>\n",
       "    </tr>\n",
       "  </tbody>\n",
       "</table>\n",
       "</div>"
      ],
      "text/plain": [
       "     sepal_length  sepal_width  petal_length  petal_width    species  distanza\n",
       "127           6.1          3.0           4.9          1.8  virginica  0.282843"
      ]
     },
     "execution_count": 12,
     "metadata": {},
     "output_type": "execute_result"
    }
   ],
   "source": [
    "lp.prevedi_iris(nuovo_iris)"
   ]
  },
  {
   "cell_type": "markdown",
   "id": "fa21298c-cf0d-4fb9-9b4c-0715f3e8babc",
   "metadata": {},
   "source": [
    "## Usiamo scikit-learn"
   ]
  },
  {
   "cell_type": "code",
   "execution_count": 13,
   "id": "d48dfa1f-7b77-417d-933a-f93a0f8a491f",
   "metadata": {},
   "outputs": [],
   "source": [
    "from sklearn.neighbors import KNeighborsClassifier\n",
    "from sklearn.metrics import confusion_matrix\n",
    "from sklearn.metrics import ConfusionMatrixDisplay"
   ]
  },
  {
   "cell_type": "code",
   "execution_count": 14,
   "id": "af2b41db-7d88-4888-8cbe-af1e29f65b4b",
   "metadata": {},
   "outputs": [],
   "source": [
    "knc = KNeighborsClassifier(n_neighbors=1)"
   ]
  },
  {
   "cell_type": "code",
   "execution_count": 15,
   "id": "64186fd3-27f8-40e1-bc34-99990323ef83",
   "metadata": {},
   "outputs": [
    {
     "name": "stderr",
     "output_type": "stream",
     "text": [
      "C:\\Users\\ianto\\Desktop\\ambiente_python\\Lib\\site-packages\\sklearn\\neighbors\\_classification.py:239: DataConversionWarning: A column-vector y was passed when a 1d array was expected. Please change the shape of y to (n_samples,), for example using ravel().\n",
      "  return self._fit(X, y)\n"
     ]
    },
    {
     "data": {
      "text/html": [
       "<style>#sk-container-id-1 {\n",
       "  /* Definition of color scheme common for light and dark mode */\n",
       "  --sklearn-color-text: #000;\n",
       "  --sklearn-color-text-muted: #666;\n",
       "  --sklearn-color-line: gray;\n",
       "  /* Definition of color scheme for unfitted estimators */\n",
       "  --sklearn-color-unfitted-level-0: #fff5e6;\n",
       "  --sklearn-color-unfitted-level-1: #f6e4d2;\n",
       "  --sklearn-color-unfitted-level-2: #ffe0b3;\n",
       "  --sklearn-color-unfitted-level-3: chocolate;\n",
       "  /* Definition of color scheme for fitted estimators */\n",
       "  --sklearn-color-fitted-level-0: #f0f8ff;\n",
       "  --sklearn-color-fitted-level-1: #d4ebff;\n",
       "  --sklearn-color-fitted-level-2: #b3dbfd;\n",
       "  --sklearn-color-fitted-level-3: cornflowerblue;\n",
       "\n",
       "  /* Specific color for light theme */\n",
       "  --sklearn-color-text-on-default-background: var(--sg-text-color, var(--theme-code-foreground, var(--jp-content-font-color1, black)));\n",
       "  --sklearn-color-background: var(--sg-background-color, var(--theme-background, var(--jp-layout-color0, white)));\n",
       "  --sklearn-color-border-box: var(--sg-text-color, var(--theme-code-foreground, var(--jp-content-font-color1, black)));\n",
       "  --sklearn-color-icon: #696969;\n",
       "\n",
       "  @media (prefers-color-scheme: dark) {\n",
       "    /* Redefinition of color scheme for dark theme */\n",
       "    --sklearn-color-text-on-default-background: var(--sg-text-color, var(--theme-code-foreground, var(--jp-content-font-color1, white)));\n",
       "    --sklearn-color-background: var(--sg-background-color, var(--theme-background, var(--jp-layout-color0, #111)));\n",
       "    --sklearn-color-border-box: var(--sg-text-color, var(--theme-code-foreground, var(--jp-content-font-color1, white)));\n",
       "    --sklearn-color-icon: #878787;\n",
       "  }\n",
       "}\n",
       "\n",
       "#sk-container-id-1 {\n",
       "  color: var(--sklearn-color-text);\n",
       "}\n",
       "\n",
       "#sk-container-id-1 pre {\n",
       "  padding: 0;\n",
       "}\n",
       "\n",
       "#sk-container-id-1 input.sk-hidden--visually {\n",
       "  border: 0;\n",
       "  clip: rect(1px 1px 1px 1px);\n",
       "  clip: rect(1px, 1px, 1px, 1px);\n",
       "  height: 1px;\n",
       "  margin: -1px;\n",
       "  overflow: hidden;\n",
       "  padding: 0;\n",
       "  position: absolute;\n",
       "  width: 1px;\n",
       "}\n",
       "\n",
       "#sk-container-id-1 div.sk-dashed-wrapped {\n",
       "  border: 1px dashed var(--sklearn-color-line);\n",
       "  margin: 0 0.4em 0.5em 0.4em;\n",
       "  box-sizing: border-box;\n",
       "  padding-bottom: 0.4em;\n",
       "  background-color: var(--sklearn-color-background);\n",
       "}\n",
       "\n",
       "#sk-container-id-1 div.sk-container {\n",
       "  /* jupyter's `normalize.less` sets `[hidden] { display: none; }`\n",
       "     but bootstrap.min.css set `[hidden] { display: none !important; }`\n",
       "     so we also need the `!important` here to be able to override the\n",
       "     default hidden behavior on the sphinx rendered scikit-learn.org.\n",
       "     See: https://github.com/scikit-learn/scikit-learn/issues/21755 */\n",
       "  display: inline-block !important;\n",
       "  position: relative;\n",
       "}\n",
       "\n",
       "#sk-container-id-1 div.sk-text-repr-fallback {\n",
       "  display: none;\n",
       "}\n",
       "\n",
       "div.sk-parallel-item,\n",
       "div.sk-serial,\n",
       "div.sk-item {\n",
       "  /* draw centered vertical line to link estimators */\n",
       "  background-image: linear-gradient(var(--sklearn-color-text-on-default-background), var(--sklearn-color-text-on-default-background));\n",
       "  background-size: 2px 100%;\n",
       "  background-repeat: no-repeat;\n",
       "  background-position: center center;\n",
       "}\n",
       "\n",
       "/* Parallel-specific style estimator block */\n",
       "\n",
       "#sk-container-id-1 div.sk-parallel-item::after {\n",
       "  content: \"\";\n",
       "  width: 100%;\n",
       "  border-bottom: 2px solid var(--sklearn-color-text-on-default-background);\n",
       "  flex-grow: 1;\n",
       "}\n",
       "\n",
       "#sk-container-id-1 div.sk-parallel {\n",
       "  display: flex;\n",
       "  align-items: stretch;\n",
       "  justify-content: center;\n",
       "  background-color: var(--sklearn-color-background);\n",
       "  position: relative;\n",
       "}\n",
       "\n",
       "#sk-container-id-1 div.sk-parallel-item {\n",
       "  display: flex;\n",
       "  flex-direction: column;\n",
       "}\n",
       "\n",
       "#sk-container-id-1 div.sk-parallel-item:first-child::after {\n",
       "  align-self: flex-end;\n",
       "  width: 50%;\n",
       "}\n",
       "\n",
       "#sk-container-id-1 div.sk-parallel-item:last-child::after {\n",
       "  align-self: flex-start;\n",
       "  width: 50%;\n",
       "}\n",
       "\n",
       "#sk-container-id-1 div.sk-parallel-item:only-child::after {\n",
       "  width: 0;\n",
       "}\n",
       "\n",
       "/* Serial-specific style estimator block */\n",
       "\n",
       "#sk-container-id-1 div.sk-serial {\n",
       "  display: flex;\n",
       "  flex-direction: column;\n",
       "  align-items: center;\n",
       "  background-color: var(--sklearn-color-background);\n",
       "  padding-right: 1em;\n",
       "  padding-left: 1em;\n",
       "}\n",
       "\n",
       "\n",
       "/* Toggleable style: style used for estimator/Pipeline/ColumnTransformer box that is\n",
       "clickable and can be expanded/collapsed.\n",
       "- Pipeline and ColumnTransformer use this feature and define the default style\n",
       "- Estimators will overwrite some part of the style using the `sk-estimator` class\n",
       "*/\n",
       "\n",
       "/* Pipeline and ColumnTransformer style (default) */\n",
       "\n",
       "#sk-container-id-1 div.sk-toggleable {\n",
       "  /* Default theme specific background. It is overwritten whether we have a\n",
       "  specific estimator or a Pipeline/ColumnTransformer */\n",
       "  background-color: var(--sklearn-color-background);\n",
       "}\n",
       "\n",
       "/* Toggleable label */\n",
       "#sk-container-id-1 label.sk-toggleable__label {\n",
       "  cursor: pointer;\n",
       "  display: flex;\n",
       "  width: 100%;\n",
       "  margin-bottom: 0;\n",
       "  padding: 0.5em;\n",
       "  box-sizing: border-box;\n",
       "  text-align: center;\n",
       "  align-items: start;\n",
       "  justify-content: space-between;\n",
       "  gap: 0.5em;\n",
       "}\n",
       "\n",
       "#sk-container-id-1 label.sk-toggleable__label .caption {\n",
       "  font-size: 0.6rem;\n",
       "  font-weight: lighter;\n",
       "  color: var(--sklearn-color-text-muted);\n",
       "}\n",
       "\n",
       "#sk-container-id-1 label.sk-toggleable__label-arrow:before {\n",
       "  /* Arrow on the left of the label */\n",
       "  content: \"▸\";\n",
       "  float: left;\n",
       "  margin-right: 0.25em;\n",
       "  color: var(--sklearn-color-icon);\n",
       "}\n",
       "\n",
       "#sk-container-id-1 label.sk-toggleable__label-arrow:hover:before {\n",
       "  color: var(--sklearn-color-text);\n",
       "}\n",
       "\n",
       "/* Toggleable content - dropdown */\n",
       "\n",
       "#sk-container-id-1 div.sk-toggleable__content {\n",
       "  max-height: 0;\n",
       "  max-width: 0;\n",
       "  overflow: hidden;\n",
       "  text-align: left;\n",
       "  /* unfitted */\n",
       "  background-color: var(--sklearn-color-unfitted-level-0);\n",
       "}\n",
       "\n",
       "#sk-container-id-1 div.sk-toggleable__content.fitted {\n",
       "  /* fitted */\n",
       "  background-color: var(--sklearn-color-fitted-level-0);\n",
       "}\n",
       "\n",
       "#sk-container-id-1 div.sk-toggleable__content pre {\n",
       "  margin: 0.2em;\n",
       "  border-radius: 0.25em;\n",
       "  color: var(--sklearn-color-text);\n",
       "  /* unfitted */\n",
       "  background-color: var(--sklearn-color-unfitted-level-0);\n",
       "}\n",
       "\n",
       "#sk-container-id-1 div.sk-toggleable__content.fitted pre {\n",
       "  /* unfitted */\n",
       "  background-color: var(--sklearn-color-fitted-level-0);\n",
       "}\n",
       "\n",
       "#sk-container-id-1 input.sk-toggleable__control:checked~div.sk-toggleable__content {\n",
       "  /* Expand drop-down */\n",
       "  max-height: 200px;\n",
       "  max-width: 100%;\n",
       "  overflow: auto;\n",
       "}\n",
       "\n",
       "#sk-container-id-1 input.sk-toggleable__control:checked~label.sk-toggleable__label-arrow:before {\n",
       "  content: \"▾\";\n",
       "}\n",
       "\n",
       "/* Pipeline/ColumnTransformer-specific style */\n",
       "\n",
       "#sk-container-id-1 div.sk-label input.sk-toggleable__control:checked~label.sk-toggleable__label {\n",
       "  color: var(--sklearn-color-text);\n",
       "  background-color: var(--sklearn-color-unfitted-level-2);\n",
       "}\n",
       "\n",
       "#sk-container-id-1 div.sk-label.fitted input.sk-toggleable__control:checked~label.sk-toggleable__label {\n",
       "  background-color: var(--sklearn-color-fitted-level-2);\n",
       "}\n",
       "\n",
       "/* Estimator-specific style */\n",
       "\n",
       "/* Colorize estimator box */\n",
       "#sk-container-id-1 div.sk-estimator input.sk-toggleable__control:checked~label.sk-toggleable__label {\n",
       "  /* unfitted */\n",
       "  background-color: var(--sklearn-color-unfitted-level-2);\n",
       "}\n",
       "\n",
       "#sk-container-id-1 div.sk-estimator.fitted input.sk-toggleable__control:checked~label.sk-toggleable__label {\n",
       "  /* fitted */\n",
       "  background-color: var(--sklearn-color-fitted-level-2);\n",
       "}\n",
       "\n",
       "#sk-container-id-1 div.sk-label label.sk-toggleable__label,\n",
       "#sk-container-id-1 div.sk-label label {\n",
       "  /* The background is the default theme color */\n",
       "  color: var(--sklearn-color-text-on-default-background);\n",
       "}\n",
       "\n",
       "/* On hover, darken the color of the background */\n",
       "#sk-container-id-1 div.sk-label:hover label.sk-toggleable__label {\n",
       "  color: var(--sklearn-color-text);\n",
       "  background-color: var(--sklearn-color-unfitted-level-2);\n",
       "}\n",
       "\n",
       "/* Label box, darken color on hover, fitted */\n",
       "#sk-container-id-1 div.sk-label.fitted:hover label.sk-toggleable__label.fitted {\n",
       "  color: var(--sklearn-color-text);\n",
       "  background-color: var(--sklearn-color-fitted-level-2);\n",
       "}\n",
       "\n",
       "/* Estimator label */\n",
       "\n",
       "#sk-container-id-1 div.sk-label label {\n",
       "  font-family: monospace;\n",
       "  font-weight: bold;\n",
       "  display: inline-block;\n",
       "  line-height: 1.2em;\n",
       "}\n",
       "\n",
       "#sk-container-id-1 div.sk-label-container {\n",
       "  text-align: center;\n",
       "}\n",
       "\n",
       "/* Estimator-specific */\n",
       "#sk-container-id-1 div.sk-estimator {\n",
       "  font-family: monospace;\n",
       "  border: 1px dotted var(--sklearn-color-border-box);\n",
       "  border-radius: 0.25em;\n",
       "  box-sizing: border-box;\n",
       "  margin-bottom: 0.5em;\n",
       "  /* unfitted */\n",
       "  background-color: var(--sklearn-color-unfitted-level-0);\n",
       "}\n",
       "\n",
       "#sk-container-id-1 div.sk-estimator.fitted {\n",
       "  /* fitted */\n",
       "  background-color: var(--sklearn-color-fitted-level-0);\n",
       "}\n",
       "\n",
       "/* on hover */\n",
       "#sk-container-id-1 div.sk-estimator:hover {\n",
       "  /* unfitted */\n",
       "  background-color: var(--sklearn-color-unfitted-level-2);\n",
       "}\n",
       "\n",
       "#sk-container-id-1 div.sk-estimator.fitted:hover {\n",
       "  /* fitted */\n",
       "  background-color: var(--sklearn-color-fitted-level-2);\n",
       "}\n",
       "\n",
       "/* Specification for estimator info (e.g. \"i\" and \"?\") */\n",
       "\n",
       "/* Common style for \"i\" and \"?\" */\n",
       "\n",
       ".sk-estimator-doc-link,\n",
       "a:link.sk-estimator-doc-link,\n",
       "a:visited.sk-estimator-doc-link {\n",
       "  float: right;\n",
       "  font-size: smaller;\n",
       "  line-height: 1em;\n",
       "  font-family: monospace;\n",
       "  background-color: var(--sklearn-color-background);\n",
       "  border-radius: 1em;\n",
       "  height: 1em;\n",
       "  width: 1em;\n",
       "  text-decoration: none !important;\n",
       "  margin-left: 0.5em;\n",
       "  text-align: center;\n",
       "  /* unfitted */\n",
       "  border: var(--sklearn-color-unfitted-level-1) 1pt solid;\n",
       "  color: var(--sklearn-color-unfitted-level-1);\n",
       "}\n",
       "\n",
       ".sk-estimator-doc-link.fitted,\n",
       "a:link.sk-estimator-doc-link.fitted,\n",
       "a:visited.sk-estimator-doc-link.fitted {\n",
       "  /* fitted */\n",
       "  border: var(--sklearn-color-fitted-level-1) 1pt solid;\n",
       "  color: var(--sklearn-color-fitted-level-1);\n",
       "}\n",
       "\n",
       "/* On hover */\n",
       "div.sk-estimator:hover .sk-estimator-doc-link:hover,\n",
       ".sk-estimator-doc-link:hover,\n",
       "div.sk-label-container:hover .sk-estimator-doc-link:hover,\n",
       ".sk-estimator-doc-link:hover {\n",
       "  /* unfitted */\n",
       "  background-color: var(--sklearn-color-unfitted-level-3);\n",
       "  color: var(--sklearn-color-background);\n",
       "  text-decoration: none;\n",
       "}\n",
       "\n",
       "div.sk-estimator.fitted:hover .sk-estimator-doc-link.fitted:hover,\n",
       ".sk-estimator-doc-link.fitted:hover,\n",
       "div.sk-label-container:hover .sk-estimator-doc-link.fitted:hover,\n",
       ".sk-estimator-doc-link.fitted:hover {\n",
       "  /* fitted */\n",
       "  background-color: var(--sklearn-color-fitted-level-3);\n",
       "  color: var(--sklearn-color-background);\n",
       "  text-decoration: none;\n",
       "}\n",
       "\n",
       "/* Span, style for the box shown on hovering the info icon */\n",
       ".sk-estimator-doc-link span {\n",
       "  display: none;\n",
       "  z-index: 9999;\n",
       "  position: relative;\n",
       "  font-weight: normal;\n",
       "  right: .2ex;\n",
       "  padding: .5ex;\n",
       "  margin: .5ex;\n",
       "  width: min-content;\n",
       "  min-width: 20ex;\n",
       "  max-width: 50ex;\n",
       "  color: var(--sklearn-color-text);\n",
       "  box-shadow: 2pt 2pt 4pt #999;\n",
       "  /* unfitted */\n",
       "  background: var(--sklearn-color-unfitted-level-0);\n",
       "  border: .5pt solid var(--sklearn-color-unfitted-level-3);\n",
       "}\n",
       "\n",
       ".sk-estimator-doc-link.fitted span {\n",
       "  /* fitted */\n",
       "  background: var(--sklearn-color-fitted-level-0);\n",
       "  border: var(--sklearn-color-fitted-level-3);\n",
       "}\n",
       "\n",
       ".sk-estimator-doc-link:hover span {\n",
       "  display: block;\n",
       "}\n",
       "\n",
       "/* \"?\"-specific style due to the `<a>` HTML tag */\n",
       "\n",
       "#sk-container-id-1 a.estimator_doc_link {\n",
       "  float: right;\n",
       "  font-size: 1rem;\n",
       "  line-height: 1em;\n",
       "  font-family: monospace;\n",
       "  background-color: var(--sklearn-color-background);\n",
       "  border-radius: 1rem;\n",
       "  height: 1rem;\n",
       "  width: 1rem;\n",
       "  text-decoration: none;\n",
       "  /* unfitted */\n",
       "  color: var(--sklearn-color-unfitted-level-1);\n",
       "  border: var(--sklearn-color-unfitted-level-1) 1pt solid;\n",
       "}\n",
       "\n",
       "#sk-container-id-1 a.estimator_doc_link.fitted {\n",
       "  /* fitted */\n",
       "  border: var(--sklearn-color-fitted-level-1) 1pt solid;\n",
       "  color: var(--sklearn-color-fitted-level-1);\n",
       "}\n",
       "\n",
       "/* On hover */\n",
       "#sk-container-id-1 a.estimator_doc_link:hover {\n",
       "  /* unfitted */\n",
       "  background-color: var(--sklearn-color-unfitted-level-3);\n",
       "  color: var(--sklearn-color-background);\n",
       "  text-decoration: none;\n",
       "}\n",
       "\n",
       "#sk-container-id-1 a.estimator_doc_link.fitted:hover {\n",
       "  /* fitted */\n",
       "  background-color: var(--sklearn-color-fitted-level-3);\n",
       "}\n",
       "</style><div id=\"sk-container-id-1\" class=\"sk-top-container\"><div class=\"sk-text-repr-fallback\"><pre>KNeighborsClassifier(n_neighbors=1)</pre><b>In a Jupyter environment, please rerun this cell to show the HTML representation or trust the notebook. <br />On GitHub, the HTML representation is unable to render, please try loading this page with nbviewer.org.</b></div><div class=\"sk-container\" hidden><div class=\"sk-item\"><div class=\"sk-estimator fitted sk-toggleable\"><input class=\"sk-toggleable__control sk-hidden--visually\" id=\"sk-estimator-id-1\" type=\"checkbox\" checked><label for=\"sk-estimator-id-1\" class=\"sk-toggleable__label fitted sk-toggleable__label-arrow\"><div><div>KNeighborsClassifier</div></div><div><a class=\"sk-estimator-doc-link fitted\" rel=\"noreferrer\" target=\"_blank\" href=\"https://scikit-learn.org/1.6/modules/generated/sklearn.neighbors.KNeighborsClassifier.html\">?<span>Documentation for KNeighborsClassifier</span></a><span class=\"sk-estimator-doc-link fitted\">i<span>Fitted</span></span></div></label><div class=\"sk-toggleable__content fitted\"><pre>KNeighborsClassifier(n_neighbors=1)</pre></div> </div></div></div></div>"
      ],
      "text/plain": [
       "KNeighborsClassifier(n_neighbors=1)"
      ]
     },
     "execution_count": 15,
     "metadata": {},
     "output_type": "execute_result"
    }
   ],
   "source": [
    "#per eliminare il warning usare target_training.values.ravel()\n",
    "knc.fit(X = iris[[\"sepal_length\",\"sepal_width\",\"petal_length\",\"petal_width\"]],\n",
    "        y = iris[[\"species\"]])"
   ]
  },
  {
   "cell_type": "code",
   "execution_count": 16,
   "id": "1cd3ceba-341d-4c26-91ff-01553eec39de",
   "metadata": {},
   "outputs": [],
   "source": [
    "nuovo_iris = pd.DataFrame(data = [nuovo_iris],\n",
    "                          columns = [\"sepal_length\",\"sepal_width\",\"petal_length\",\"petal_width\"] )"
   ]
  },
  {
   "cell_type": "code",
   "execution_count": 17,
   "id": "48be1bf5-a207-445f-a1ab-bfde230d3b6e",
   "metadata": {},
   "outputs": [
    {
     "data": {
      "text/html": [
       "<div>\n",
       "<style scoped>\n",
       "    .dataframe tbody tr th:only-of-type {\n",
       "        vertical-align: middle;\n",
       "    }\n",
       "\n",
       "    .dataframe tbody tr th {\n",
       "        vertical-align: top;\n",
       "    }\n",
       "\n",
       "    .dataframe thead th {\n",
       "        text-align: right;\n",
       "    }\n",
       "</style>\n",
       "<table border=\"1\" class=\"dataframe\">\n",
       "  <thead>\n",
       "    <tr style=\"text-align: right;\">\n",
       "      <th></th>\n",
       "      <th>sepal_length</th>\n",
       "      <th>sepal_width</th>\n",
       "      <th>petal_length</th>\n",
       "      <th>petal_width</th>\n",
       "    </tr>\n",
       "  </thead>\n",
       "  <tbody>\n",
       "    <tr>\n",
       "      <th>0</th>\n",
       "      <td>5.9</td>\n",
       "      <td>3.0</td>\n",
       "      <td>5.1</td>\n",
       "      <td>1.8</td>\n",
       "    </tr>\n",
       "  </tbody>\n",
       "</table>\n",
       "</div>"
      ],
      "text/plain": [
       "   sepal_length  sepal_width  petal_length  petal_width\n",
       "0           5.9          3.0           5.1          1.8"
      ]
     },
     "execution_count": 17,
     "metadata": {},
     "output_type": "execute_result"
    }
   ],
   "source": [
    "nuovo_iris"
   ]
  },
  {
   "cell_type": "code",
   "execution_count": 18,
   "id": "ec0a2176-dc81-4d15-a701-2fc848e68ee3",
   "metadata": {},
   "outputs": [
    {
     "data": {
      "text/plain": [
       "array(['virginica'], dtype=object)"
      ]
     },
     "execution_count": 18,
     "metadata": {},
     "output_type": "execute_result"
    }
   ],
   "source": [
    "knc.predict(X = pd.DataFrame(nuovo_iris))"
   ]
  },
  {
   "cell_type": "code",
   "execution_count": 19,
   "id": "a3ef6d7e-3cbf-4ade-b961-431836cfe754",
   "metadata": {},
   "outputs": [
    {
     "data": {
      "text/plain": [
       "(array([[0.28284271]]), array([[127]]))"
      ]
     },
     "execution_count": 19,
     "metadata": {},
     "output_type": "execute_result"
    }
   ],
   "source": [
    "knc.kneighbors(nuovo_iris)"
   ]
  },
  {
   "cell_type": "markdown",
   "id": "20723ae4-53ee-4ad5-9a2f-89f3be60b678",
   "metadata": {},
   "source": [
    "## LLM con Open AI"
   ]
  },
  {
   "cell_type": "code",
   "execution_count": 20,
   "id": "3032ca89-22c3-4253-bd08-bda445a77bc4",
   "metadata": {},
   "outputs": [],
   "source": [
    "import pandas as pd\n",
    "from openai import OpenAI\n",
    "import os\n",
    "import getpass"
   ]
  },
  {
   "cell_type": "code",
   "execution_count": 21,
   "id": "d2f11f78-8dbe-4aba-b774-5fb383b6f097",
   "metadata": {},
   "outputs": [
    {
     "name": "stdin",
     "output_type": "stream",
     "text": [
      "Inserisci la chiave:  ········\n"
     ]
    }
   ],
   "source": [
    "secret_key = getpass.getpass(prompt='Inserisci la chiave: ')"
   ]
  },
  {
   "cell_type": "code",
   "execution_count": 22,
   "id": "987fda22-4f71-4701-83c5-3f2a8e63ae2a",
   "metadata": {},
   "outputs": [],
   "source": [
    "os.environ['OPENAI_API_KEY']=secret_key"
   ]
  },
  {
   "cell_type": "markdown",
   "id": "3f78eae9-ebf0-44f5-8565-40f7fccbac2e",
   "metadata": {},
   "source": [
    "Inizializziamo le api"
   ]
  },
  {
   "cell_type": "code",
   "execution_count": 23,
   "id": "fa558774-ec69-403b-905b-dd803aeafa59",
   "metadata": {},
   "outputs": [],
   "source": [
    "client = OpenAI()"
   ]
  },
  {
   "cell_type": "markdown",
   "id": "a4e66582-251e-4109-ae12-eb59220f82eb",
   "metadata": {},
   "source": [
    "Proviamo a fare una chiamata"
   ]
  },
  {
   "cell_type": "code",
   "execution_count": 24,
   "id": "df457ba7-78fb-40e7-8b5c-be2c4d6c89e0",
   "metadata": {},
   "outputs": [],
   "source": [
    "completition = client.chat.completions.create(\n",
    "  model=\"gpt-4o\",\n",
    "  messages=[\n",
    "    {\"role\": \"system\", \"content\": \"Sei un'assistente AI\"},\n",
    "    {\"role\": \"user\", \"content\": \"Come puoi aiutarmi con pandas?\"}\n",
    "  ]\n",
    ")"
   ]
  },
  {
   "cell_type": "code",
   "execution_count": 25,
   "id": "ae22d91f-88e9-4f42-8223-cabc02765074",
   "metadata": {},
   "outputs": [
    {
     "name": "stdout",
     "output_type": "stream",
     "text": [
      "Posso aiutarti con diversi aspetti dell'utilizzo di pandas, una libreria potente ed estremamente utile per la manipolazione e l'analisi dei dati in Python. Ecco alcune delle cose con cui posso assisterti:\n",
      "\n",
      "1. **Installazione**: Ti posso guidare su come installare pandas utilizzando pip o conda.\n",
      "\n",
      "2. **Importazione dei dati**: Posso spiegarti come leggere diversi tipi di file in un DataFrame pandas, come file CSV, Excel, SQL, JSON, ecc.\n",
      "\n",
      "3. **Esplorazione dei dati**: Ti posso mostrare come visualizzare le prime righe del DataFrame, ottenere statistiche descrittive e verificare i tipi di dato di ogni colonna.\n",
      "\n",
      "4. **Manipolazione dei dati**: Posso aiutarti con operazioni di filtraggio, selezione, aggiunta e rimozione di colonne, e riordinamento dei dati.\n",
      "\n",
      "5. **Pulizia dei dati**: Posso spiegarti come gestire i valori mancanti, rimuovere i duplicati e fare trasformazioni sui dati.\n",
      "\n",
      "6. **Aggregazione e raggruppamento**: Ti posso guidare su come raggruppare i dati e calcolare aggregati utilizzando metodi come `groupby`.\n",
      "\n",
      "7. **Merge e join di DataFrame**: Posso assisterti nel combinare più DataFrame utilizzando operazioni di merge e join.\n",
      "\n",
      "8. **Visualizzazione**: Anche se pandas non è una libreria di visualizzazione di dati completa come Matplotlib o Seaborn, ti posso mostrare come creare grafici di base direttamente da un DataFrame.\n",
      "\n",
      "9. **Ottimizzazione delle performance**: Posso darti consigli su come migliorare l'efficienza delle tue operazioni con pandas, come ad esempio utilizzando tipi di dato appropriati e altre tecniche.\n",
      "\n",
      "10. **Domande specifiche**: Se hai domande specifiche o errori che stai cercando di risolvere, ti posso aiutare a contestualizzare la tua situazione e trovare una soluzione.\n",
      "\n",
      "Se hai una domanda specifica o un caso d'uso particolare su cui desideri aiuto, fammi sapere e sarò felice di assisterti!\n"
     ]
    }
   ],
   "source": [
    "print(completition.choices[0].message.content)"
   ]
  },
  {
   "cell_type": "markdown",
   "id": "a06ba518-abdc-41ac-bdc3-6d079b44c022",
   "metadata": {},
   "source": [
    "## Applicazione pratica con LLM"
   ]
  },
  {
   "cell_type": "markdown",
   "id": "1ff0c77c-d60c-4da9-9810-350f04e03438",
   "metadata": {},
   "source": [
    "Acquisiamo il dataframe fatture"
   ]
  },
  {
   "cell_type": "code",
   "execution_count": 26,
   "id": "bed223ab-8674-44a6-b57c-a1138727f810",
   "metadata": {},
   "outputs": [],
   "source": [
    "fatture = pd.read_csv(filepath_or_buffer = r\"C:\\Users\\ianto\\Desktop\\Corso python\\file\\Fatture.csv\",\n",
    "        sep = \";\",  #separtore del file\n",
    "        header = None,\n",
    "        names = [\"NumeroFattura\",\"Tipologia\",\"Importo\",\"Iva\",\"IdCliente\",\"Regione\",\"DataFattura\",\"NumeroFornitore\"],\n",
    "        decimal = \",\",\n",
    "        )\n",
    "\n",
    "fatture['DataFattura'] =  pd.to_datetime(fatture['DataFattura'],\n",
    "                                         format=\"%d/%m/%Y\"\n",
    "                                        )  \n",
    "\n",
    "fatture['NumeroFornitore'] = fatture['NumeroFornitore'].astype('Int64')"
   ]
  },
  {
   "cell_type": "markdown",
   "id": "cffeedb2-9cb4-40a4-8705-2667b45a148c",
   "metadata": {},
   "source": [
    "Proviamo a chiedere all'LLM di generare un codice pandas"
   ]
  },
  {
   "cell_type": "code",
   "execution_count": 27,
   "id": "448b44a3-4d31-4209-9cbf-dc9d75086daf",
   "metadata": {},
   "outputs": [],
   "source": [
    "risposta = client.chat.completions.create(\n",
    "  model=\"gpt-4o\",\n",
    "  messages=[\n",
    "            {\"role\": \"system\",\n",
    "             \"content\": \"Supporti l'utente scrivendo solo codice Python eseguibile con la libreria pandas per rispondere alla sua richiesta\" },\n",
    "            {\"role\": \"user\",\n",
    "             \"content\": f\"\"\"\n",
    "            Stai lavorando con un dataframe Pandas in Python.\n",
    "            Il nome del dataframe è df.\n",
    "            \n",
    "            Questo è l'elenco delle colonne di df:\n",
    "            {str(fatture.columns.values)}\n",
    "\n",
    "            Considera questa richiesta: qual è la fattura più recente?\n",
    "            \n",
    "            Segui queste istruzioni:\n",
    "            1. Converti la richiesta precedente in codice Python eseguibile usando Pandas.\n",
    "            2. L'ultima riga di codice dovrebbe essere un'espressione Python che può essere chiamata con la funzione `eval()`.\n",
    "            3. Il codice dovrebbe rappresentare una soluzione alla query.\n",
    "            4. Restituisci come risposta soltanto il codice Python, non aggiungere altre considerazioni o preamboli\n",
    "            5. La risposta non deve iniziare con ```python\n",
    "            6. Non creare dataframe d'esempio\n",
    "            7. Non fare nessun commento\n",
    "            8. Rispondi esclusivamente con codice Python\n",
    "            9. Non usare eval nella risposta\n",
    "            10. Non creare esempi di dati, usa direttamente nella risposta il nome del dataframe è df \n",
    "             \"\"\"}],\n",
    "            temperature=0.2)"
   ]
  },
  {
   "cell_type": "code",
   "execution_count": 28,
   "id": "18aabc4a-b4e2-42d1-9260-e6bb5a6fb07a",
   "metadata": {},
   "outputs": [
    {
     "name": "stdout",
     "output_type": "stream",
     "text": [
      "import pandas as pd\n",
      "\n",
      "df['DataFattura'] = pd.to_datetime(df['DataFattura'])\n",
      "df.loc[df['DataFattura'].idxmax()]\n"
     ]
    }
   ],
   "source": [
    "print(risposta.choices[0].message.content)"
   ]
  },
  {
   "cell_type": "markdown",
   "id": "372d6195-e4db-43c9-a231-a1fda5be33c3",
   "metadata": {},
   "source": [
    "Creiamo una funzione che richiede in input un dataframe e un'interrogazione in linguaggio naturale"
   ]
  },
  {
   "cell_type": "code",
   "execution_count": 29,
   "id": "6b35f435-1705-4693-9e51-f2f739d360eb",
   "metadata": {},
   "outputs": [],
   "source": [
    "def generete_pandas_code(df, query):\n",
    "    user_content = f\"\"\"\n",
    "            Stai lavorando con un dataframe Pandas in Python.\n",
    "            Il nome del dataframe è df.\n",
    "            \n",
    "            Questo è l'elenco delle colonne di df:\n",
    "            {str(df.columns.values)}\n",
    "\n",
    "            Considera questa richiesta: {query}?\n",
    "            \n",
    "            Segui queste istruzioni:\n",
    "            1. Converti la richiesta precedente in codice Python eseguibile usando Pandas.\n",
    "            2. L'ultima riga di codice dovrebbe essere un'espressione Python che può essere chiamata con la funzione `eval()`.\n",
    "            3. Il codice dovrebbe rappresentare una soluzione alla query.\n",
    "            4. Restituisci come risposta soltanto il codice Python, non aggiungere altre considerazioni o preamboli\n",
    "            5. La risposta non deve iniziare con ```python\n",
    "            6. Non creare dataframe d'esempio\n",
    "            7. Non fare nessun commento\n",
    "            8. Rispondi esclusivamente con codice Python\n",
    "            9. Non usare eval nella risposta\n",
    "            10. Non creare esempi di dati, usa direttamente nella risposta il nome del dataframe è df \n",
    "            \"\"\"\n",
    "    domanda = client.chat.completions.create(\n",
    "          model=\"gpt-4o\",\n",
    "          messages=[\n",
    "                    {\"role\": \"system\",\n",
    "                    \"content\": \"Supporti l'utente scrivendo solo codice Python eseguibile con la libreria pandas per rispondere alla sua richiesta\" },\n",
    "                    {\"role\": \"user\",\n",
    "                     \"content\":user_content }\n",
    "                   ])\n",
    "\n",
    "    risposta = domanda.choices[0].message.content\n",
    "    return risposta"
   ]
  },
  {
   "cell_type": "code",
   "execution_count": 30,
   "id": "9be3ad47-0d28-4f9d-b321-bb44f9401388",
   "metadata": {},
   "outputs": [],
   "source": [
    "df_input = fatture"
   ]
  },
  {
   "cell_type": "code",
   "execution_count": 31,
   "id": "f5e19b76-add3-41d5-a3d6-7e376732b5cc",
   "metadata": {},
   "outputs": [
    {
     "name": "stdin",
     "output_type": "stream",
     "text": [
      "Chiedi la generazione di un codice Pandas. Scrivi x per uscire numero totali di righe\n"
     ]
    },
    {
     "name": "stdout",
     "output_type": "stream",
     "text": [
      "```python\n",
      "df.shape[0]\n",
      "```\n"
     ]
    },
    {
     "name": "stdin",
     "output_type": "stream",
     "text": [
      "Chiedi la generazione di un codice Pandas. O scrivi x per uscire x\n"
     ]
    }
   ],
   "source": [
    "query_input = input(\"Chiedi la generazione di un codice Pandas. Scrivi x per uscire\")\n",
    "\n",
    "while query_input!=\"x\":\n",
    "    risposta = generete_pandas_code(df=df_input, query=query_input)\n",
    "    print(risposta)\n",
    "    query_input = input(\"Chiedi la generazione di un codice Pandas. O scrivi x per uscire\")"
   ]
  },
  {
   "cell_type": "markdown",
   "id": "81cdce14-4b9e-4a6f-be8f-9178c1ae9bd5",
   "metadata": {},
   "source": [
    "# LLM in locale"
   ]
  },
  {
   "cell_type": "code",
   "execution_count": 32,
   "id": "e1a31f1b-f1ce-4820-97a9-d4b8bdc73119",
   "metadata": {},
   "outputs": [],
   "source": [
    "import ollama"
   ]
  },
  {
   "cell_type": "markdown",
   "id": "fdbb0d7d-7a86-4861-b7ee-9b8ec300a1e5",
   "metadata": {},
   "source": [
    "Elenco modelli installati in locale"
   ]
  },
  {
   "cell_type": "code",
   "execution_count": 33,
   "id": "1e72b2a1-c78e-4ea8-8008-09880123b093",
   "metadata": {},
   "outputs": [
    {
     "data": {
      "text/plain": [
       "ListResponse(models=[Model(model='gemma3:1b', modified_at=datetime.datetime(2025, 5, 27, 8, 24, 42, 667464, tzinfo=TzInfo(+02:00)), digest='8648f39daa8fbf5b18c7b4e6a8fb4990c692751d49917417b8842ca5758e7ffc', size=815319791, details=ModelDetails(parent_model='', format='gguf', family='gemma3', families=['gemma3'], parameter_size='999.89M', quantization_level='Q4_K_M')), Model(model='mistral:latest', modified_at=datetime.datetime(2024, 6, 24, 10, 39, 37, 87989, tzinfo=TzInfo(+02:00)), digest='2ae6f6dd7a3dd734790bbbf58b8909a606e0e7e97e94b7604e0aa7ae4490e6d8', size=4113301090, details=ModelDetails(parent_model='', format='gguf', family='llama', families=['llama'], parameter_size='7.2B', quantization_level='Q4_0'))])"
      ]
     },
     "execution_count": 33,
     "metadata": {},
     "output_type": "execute_result"
    }
   ],
   "source": [
    "ollama.list()"
   ]
  },
  {
   "cell_type": "markdown",
   "id": "051f38d5-b0f9-4d4e-ab14-61e6d1cf7582",
   "metadata": {},
   "source": [
    "Chiamata in locale, può essere molto lenta"
   ]
  },
  {
   "cell_type": "code",
   "execution_count": null,
   "id": "47c7d9bf-f5d1-4704-9f4e-5c7114eab89f",
   "metadata": {},
   "outputs": [],
   "source": [
    "response =  ollama.chat(model=\"gemma3:1b\",\n",
    "                         messages=[\n",
    "                                    {\"role\": \"system\", \"content\": \"Sei un'assistente AI\"},\n",
    "                                    {\"role\": \"user\", \"content\": \"Qual è la capitale dell'italia\"}\n",
    "                                  ]\n",
    "                       )"
   ]
  },
  {
   "cell_type": "code",
   "execution_count": null,
   "id": "8207e6d5-59b1-4950-ad0a-5822e0ae5418",
   "metadata": {},
   "outputs": [],
   "source": [
    "print(response[\"message\"][\"content\"])"
   ]
  },
  {
   "cell_type": "markdown",
   "id": "3fd55efc-6371-46f9-b071-d156d2ad6a10",
   "metadata": {},
   "source": [
    "# Python e Database"
   ]
  },
  {
   "cell_type": "code",
   "execution_count": 34,
   "id": "ba79f023-b52d-42e9-a473-19724de2487c",
   "metadata": {},
   "outputs": [],
   "source": [
    "import getpass\n",
    "import pandas as pd\n",
    "from sqlalchemy import create_engine"
   ]
  },
  {
   "cell_type": "code",
   "execution_count": 35,
   "id": "ae340742-bc60-4ad2-be96-e86100ddfa55",
   "metadata": {},
   "outputs": [],
   "source": [
    "import json\n",
    "with open(r\"C:\\Users\\ianto\\Desktop\\Corso Python\\config.json\", 'r') as config_file:\n",
    "    config_data = json.load(config_file)\n",
    "\n",
    "server_name = config_data['server_name']\n",
    "database_name = config_data['database_name']\n",
    "utente = config_data['utente']\n",
    "password = config_data['password']\n",
    "\n",
    "#utente = getpass.getpass(prompt='Inserisci nome utente: ')\n",
    "#password = getpass.getpass(prompt='Inserisci la password: ')"
   ]
  },
  {
   "cell_type": "code",
   "execution_count": 36,
   "id": "ad2dd2ea-acdd-481e-9f8c-d4840fae7ed9",
   "metadata": {},
   "outputs": [],
   "source": [
    "conn_str = f'mssql+pyodbc://{utente}:{password}@{server_name}/{database_name}?driver=ODBC+Driver+17+for+SQL+Server&encrypt=yes'"
   ]
  },
  {
   "cell_type": "code",
   "execution_count": 37,
   "id": "81c29260-dad0-437b-abe7-3ba9529fc6a7",
   "metadata": {},
   "outputs": [],
   "source": [
    "engine = create_engine(conn_str)"
   ]
  },
  {
   "cell_type": "code",
   "execution_count": 38,
   "id": "00d08e37-95a9-408b-b440-bf112a32e0b7",
   "metadata": {},
   "outputs": [
    {
     "data": {
      "text/html": [
       "<div>\n",
       "<style scoped>\n",
       "    .dataframe tbody tr th:only-of-type {\n",
       "        vertical-align: middle;\n",
       "    }\n",
       "\n",
       "    .dataframe tbody tr th {\n",
       "        vertical-align: top;\n",
       "    }\n",
       "\n",
       "    .dataframe thead th {\n",
       "        text-align: right;\n",
       "    }\n",
       "</style>\n",
       "<table border=\"1\" class=\"dataframe\">\n",
       "  <thead>\n",
       "    <tr style=\"text-align: right;\">\n",
       "      <th></th>\n",
       "      <th>IdCliente</th>\n",
       "      <th>IsActive</th>\n",
       "      <th>Nome</th>\n",
       "      <th>Cognome</th>\n",
       "      <th>DataNascita</th>\n",
       "      <th>Nazione</th>\n",
       "      <th>Regione</th>\n",
       "      <th>Cap</th>\n",
       "      <th>Telefono</th>\n",
       "      <th>Fax</th>\n",
       "      <th>Email</th>\n",
       "      <th>Iniziale2</th>\n",
       "    </tr>\n",
       "  </thead>\n",
       "  <tbody>\n",
       "    <tr>\n",
       "      <th>0</th>\n",
       "      <td>25</td>\n",
       "      <td>True</td>\n",
       "      <td>Cristina</td>\n",
       "      <td>480D8</td>\n",
       "      <td>1991-02-01</td>\n",
       "      <td>Italia</td>\n",
       "      <td>Lombardia</td>\n",
       "      <td>97474</td>\n",
       "      <td>39 320 3143</td>\n",
       "      <td>None</td>\n",
       "      <td>Cristina.480D8@gmail.com</td>\n",
       "      <td>C</td>\n",
       "    </tr>\n",
       "    <tr>\n",
       "      <th>1</th>\n",
       "      <td>26</td>\n",
       "      <td>True</td>\n",
       "      <td>Pino</td>\n",
       "      <td>5D47A</td>\n",
       "      <td>1974-03-01</td>\n",
       "      <td>Italia</td>\n",
       "      <td>Lombardia</td>\n",
       "      <td>86929</td>\n",
       "      <td>320 3143</td>\n",
       "      <td>320 3143</td>\n",
       "      <td>Pino.5D47A@gmail.com</td>\n",
       "      <td>P</td>\n",
       "    </tr>\n",
       "    <tr>\n",
       "      <th>2</th>\n",
       "      <td>27</td>\n",
       "      <td>True</td>\n",
       "      <td>Vera</td>\n",
       "      <td>4AD27</td>\n",
       "      <td>1973-04-01</td>\n",
       "      <td>Italia</td>\n",
       "      <td>Lombardia</td>\n",
       "      <td>83623</td>\n",
       "      <td>+(39) 320 32312</td>\n",
       "      <td>+(39) 320 32312</td>\n",
       "      <td>Vera.4AD27@gmail.com</td>\n",
       "      <td>V</td>\n",
       "    </tr>\n",
       "    <tr>\n",
       "      <th>3</th>\n",
       "      <td>28</td>\n",
       "      <td>True</td>\n",
       "      <td>Milo</td>\n",
       "      <td>55EDA</td>\n",
       "      <td>1973-05-01</td>\n",
       "      <td>Italia</td>\n",
       "      <td>Lombardia</td>\n",
       "      <td>34261</td>\n",
       "      <td>39 320 3143</td>\n",
       "      <td>None</td>\n",
       "      <td>Milo.55EDA@gmail.com</td>\n",
       "      <td>M</td>\n",
       "    </tr>\n",
       "    <tr>\n",
       "      <th>4</th>\n",
       "      <td>29</td>\n",
       "      <td>True</td>\n",
       "      <td>Frank</td>\n",
       "      <td>3D18C</td>\n",
       "      <td>1988-06-01</td>\n",
       "      <td>Italia</td>\n",
       "      <td>Lombardia</td>\n",
       "      <td>13596</td>\n",
       "      <td>320 3143</td>\n",
       "      <td>320 3143</td>\n",
       "      <td>Frank.3D18C@gmail.com</td>\n",
       "      <td>F</td>\n",
       "    </tr>\n",
       "  </tbody>\n",
       "</table>\n",
       "</div>"
      ],
      "text/plain": [
       "   IdCliente  IsActive      Nome Cognome DataNascita Nazione    Regione  \\\n",
       "0         25      True  Cristina   480D8  1991-02-01  Italia  Lombardia   \n",
       "1         26      True      Pino   5D47A  1974-03-01  Italia  Lombardia   \n",
       "2         27      True      Vera   4AD27  1973-04-01  Italia  Lombardia   \n",
       "3         28      True      Milo   55EDA  1973-05-01  Italia  Lombardia   \n",
       "4         29      True     Frank   3D18C  1988-06-01  Italia  Lombardia   \n",
       "\n",
       "     Cap         Telefono              Fax                     Email Iniziale2  \n",
       "0  97474      39 320 3143             None  Cristina.480D8@gmail.com         C  \n",
       "1  86929         320 3143         320 3143      Pino.5D47A@gmail.com         P  \n",
       "2  83623  +(39) 320 32312  +(39) 320 32312      Vera.4AD27@gmail.com         V  \n",
       "3  34261      39 320 3143             None      Milo.55EDA@gmail.com         M  \n",
       "4  13596         320 3143         320 3143     Frank.3D18C@gmail.com         F  "
      ]
     },
     "execution_count": 38,
     "metadata": {},
     "output_type": "execute_result"
    }
   ],
   "source": [
    "df = pd.read_sql( sql = \"SELECT TOP 10 * FROM Clienti WHERE Regione = 'Lombardia'\", \n",
    "             con = engine,\n",
    "             parse_dates = \"DataNascita\")\n",
    "df"
   ]
  },
  {
   "cell_type": "markdown",
   "id": "469e8ce3-7a51-4a71-9029-729bb18c4872",
   "metadata": {},
   "source": [
    "Scriviamo ora da Python al Database!"
   ]
  },
  {
   "cell_type": "code",
   "execution_count": null,
   "id": "6344eafd-25db-4b41-a93b-8f4a348d6654",
   "metadata": {},
   "outputs": [],
   "source": [
    "df.to_sql(name = \"ClientiPython\", \n",
    "          con = engine, \n",
    "          if_exists=\"append\",\n",
    "          index=False)"
   ]
  },
  {
   "cell_type": "markdown",
   "id": "462e6221-6576-486b-bdbd-546b0e57577e",
   "metadata": {},
   "source": [
    "Chiudiamo la connessione"
   ]
  },
  {
   "cell_type": "code",
   "execution_count": 40,
   "id": "26419aba-5005-4322-afab-c2eb8f3ac88c",
   "metadata": {},
   "outputs": [],
   "source": [
    "engine.dispose()"
   ]
  },
  {
   "cell_type": "markdown",
   "id": "ff9d5fa1-79f3-4ebf-a93a-d5cddcfac8cf",
   "metadata": {},
   "source": [
    "Attenzione, per stabilire una connessione crittografata occorre un certificato sul DB. Spesso le stringhe di connessione non hanno questa opzione abilitata di default"
   ]
  },
  {
   "cell_type": "code",
   "execution_count": 41,
   "id": "2597a1f0-d9d9-4afc-8064-92d6a7116c0e",
   "metadata": {},
   "outputs": [],
   "source": [
    "import json\n",
    "with open(r\"C:\\Users\\ianto\\Desktop\\Corso Python\\config_2.json\", 'r') as config_file:\n",
    "    config_data = json.load(config_file)\n",
    "\n",
    "server_name = config_data['server_name']\n",
    "database_name = config_data['database_name']\n",
    "utente = config_data['utente']\n",
    "password = config_data['password']\n",
    "\n",
    "#utente = getpass.getpass(prompt='Inserisci nome utente: ')\n",
    "#password = getpass.getpass(prompt='Inserisci la password: ')"
   ]
  },
  {
   "cell_type": "code",
   "execution_count": 42,
   "id": "cd5bb807-1b8c-4a82-a257-000a090cd7b3",
   "metadata": {},
   "outputs": [],
   "source": [
    "conn_str = f'mssql+pyodbc://{utente}:{password}@{server_name}/{database_name}?driver=ODBC+Driver+17+for+SQL+Server&encrypt=yes'"
   ]
  },
  {
   "cell_type": "code",
   "execution_count": 43,
   "id": "6c99ba8a-8888-462b-a8a4-3f42cb0333d3",
   "metadata": {},
   "outputs": [],
   "source": [
    "engine = create_engine(conn_str)"
   ]
  },
  {
   "cell_type": "markdown",
   "id": "9f1666aa-d01f-4959-a7b5-c234b5fce0ae",
   "metadata": {},
   "source": [
    "La prossima istruzione restituisce l'errore\n",
    "\n",
    "\n",
    "Restituisce errore\n",
    "OperationalError: (pyodbc.OperationalError) ('08001', \"[08001] [Microsoft][ODBC Driver 17 for SQL Server]Provider SSL: Catena di certificati emessa da una Autorità di certificazione non disponibile nell'elenco locale.\\r\\n (-2146893019) (SQLDriverConnect); [08001] [Microsoft][ODBC Driver 17 for SQL Server]Il client non è in grado di effettuare la connessione. (-2146893019)\")\n",
    "(Background on this error at: https://sqlalche.me/e/20/e3q8)"
   ]
  },
  {
   "cell_type": "code",
   "execution_count": null,
   "id": "dfd177b2-f9e1-4b4a-933d-fb71fae84175",
   "metadata": {},
   "outputs": [],
   "source": [
    "df = pd.read_sql( sql = \"SELECT TOP 10 * FROM Clienti WHERE Regione = 'Lombardia'\", \n",
    "             con = engine,\n",
    "             parse_dates = \"DataNascita\")\n",
    "df"
   ]
  },
  {
   "cell_type": "code",
   "execution_count": 44,
   "id": "59ccfbd6-8715-48f3-abe3-15b8fc269932",
   "metadata": {},
   "outputs": [],
   "source": [
    "engine.dispose()"
   ]
  },
  {
   "cell_type": "code",
   "execution_count": null,
   "id": "b8761d86-eaf1-4a00-b7ad-ef2fc3963318",
   "metadata": {},
   "outputs": [],
   "source": []
  }
 ],
 "metadata": {
  "kernelspec": {
   "display_name": "Python 3 (ipykernel)",
   "language": "python",
   "name": "python3"
  },
  "language_info": {
   "codemirror_mode": {
    "name": "ipython",
    "version": 3
   },
   "file_extension": ".py",
   "mimetype": "text/x-python",
   "name": "python",
   "nbconvert_exporter": "python",
   "pygments_lexer": "ipython3",
   "version": "3.13.3"
  }
 },
 "nbformat": 4,
 "nbformat_minor": 5
}
